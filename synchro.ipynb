{
 "cells": [
  {
   "cell_type": "markdown",
   "metadata": {},
   "source": [
    "# Predicting sport specific performance from field testing in synchronized swimming\n",
    "Romain Martinez ([GitHub](https://github.com/romainmartinez))"
   ]
  },
  {
   "cell_type": "code",
   "execution_count": 1,
   "metadata": {},
   "outputs": [],
   "source": [
    "from pathlib import Path\n",
    "\n",
    "import numpy as np\n",
    "import pandas as pd\n",
    "import altair as alt"
   ]
  },
  {
   "cell_type": "code",
   "execution_count": 2,
   "metadata": {},
   "outputs": [],
   "source": [
    "NORMALIZE = 'False'"
   ]
  },
  {
   "cell_type": "markdown",
   "metadata": {},
   "source": [
    "## Get the data"
   ]
  },
  {
   "cell_type": "code",
   "execution_count": 3,
   "metadata": {},
   "outputs": [
    {
     "data": {
      "text/html": [
       "<div>\n",
       "<style scoped>\n",
       "    .dataframe tbody tr th:only-of-type {\n",
       "        vertical-align: middle;\n",
       "    }\n",
       "\n",
       "    .dataframe tbody tr th {\n",
       "        vertical-align: top;\n",
       "    }\n",
       "\n",
       "    .dataframe thead th {\n",
       "        text-align: right;\n",
       "    }\n",
       "</style>\n",
       "<table border=\"1\" class=\"dataframe\">\n",
       "  <thead>\n",
       "    <tr style=\"text-align: right;\">\n",
       "      <th></th>\n",
       "      <th>Name</th>\n",
       "      <th>Height</th>\n",
       "      <th>Weight</th>\n",
       "      <th>ADD/G</th>\n",
       "      <th>ADD/D</th>\n",
       "      <th>ABD/G</th>\n",
       "      <th>ABD/D</th>\n",
       "      <th>ER/G</th>\n",
       "      <th>ER/D</th>\n",
       "      <th>IR/G</th>\n",
       "      <th>...</th>\n",
       "      <th>FLEX/D</th>\n",
       "      <th>EB max force</th>\n",
       "      <th>EB mean force</th>\n",
       "      <th>EB sd force</th>\n",
       "      <th>EB max height</th>\n",
       "      <th>EB min height</th>\n",
       "      <th>EB mean height</th>\n",
       "      <th>EB sd height</th>\n",
       "      <th>EB max-min height</th>\n",
       "      <th>BB</th>\n",
       "    </tr>\n",
       "  </thead>\n",
       "  <tbody>\n",
       "    <tr>\n",
       "      <th>0</th>\n",
       "      <td>'aissatou_sougou'</td>\n",
       "      <td>1.69</td>\n",
       "      <td>48.52</td>\n",
       "      <td>287.05</td>\n",
       "      <td>285.00</td>\n",
       "      <td>206.85</td>\n",
       "      <td>179.90</td>\n",
       "      <td>92.85</td>\n",
       "      <td>94.95</td>\n",
       "      <td>52.3</td>\n",
       "      <td>...</td>\n",
       "      <td>146.00</td>\n",
       "      <td>8.33</td>\n",
       "      <td>6.770000</td>\n",
       "      <td>0.439447</td>\n",
       "      <td>8.5</td>\n",
       "      <td>7.5</td>\n",
       "      <td>8.083333</td>\n",
       "      <td>0.376386</td>\n",
       "      <td>1.0</td>\n",
       "      <td>9.5</td>\n",
       "    </tr>\n",
       "    <tr>\n",
       "      <th>1</th>\n",
       "      <td>'anais_charland'</td>\n",
       "      <td>1.63</td>\n",
       "      <td>62.13</td>\n",
       "      <td>292.75</td>\n",
       "      <td>302.75</td>\n",
       "      <td>239.85</td>\n",
       "      <td>207.85</td>\n",
       "      <td>109.25</td>\n",
       "      <td>103.25</td>\n",
       "      <td>98.4</td>\n",
       "      <td>...</td>\n",
       "      <td>123.35</td>\n",
       "      <td>9.43</td>\n",
       "      <td>7.762753</td>\n",
       "      <td>0.584721</td>\n",
       "      <td>7.5</td>\n",
       "      <td>7.0</td>\n",
       "      <td>7.083333</td>\n",
       "      <td>0.204124</td>\n",
       "      <td>0.5</td>\n",
       "      <td>8.5</td>\n",
       "    </tr>\n",
       "    <tr>\n",
       "      <th>2</th>\n",
       "      <td>'anne sophie_moreau'</td>\n",
       "      <td>1.71</td>\n",
       "      <td>54.90</td>\n",
       "      <td>252.40</td>\n",
       "      <td>258.55</td>\n",
       "      <td>233.45</td>\n",
       "      <td>233.65</td>\n",
       "      <td>69.30</td>\n",
       "      <td>68.80</td>\n",
       "      <td>120.0</td>\n",
       "      <td>...</td>\n",
       "      <td>204.80</td>\n",
       "      <td>8.76</td>\n",
       "      <td>6.725683</td>\n",
       "      <td>0.767079</td>\n",
       "      <td>8.0</td>\n",
       "      <td>7.5</td>\n",
       "      <td>7.833333</td>\n",
       "      <td>0.258199</td>\n",
       "      <td>0.5</td>\n",
       "      <td>8.5</td>\n",
       "    </tr>\n",
       "    <tr>\n",
       "      <th>3</th>\n",
       "      <td>'audrey_lamothe'</td>\n",
       "      <td>1.50</td>\n",
       "      <td>43.44</td>\n",
       "      <td>213.45</td>\n",
       "      <td>227.40</td>\n",
       "      <td>174.00</td>\n",
       "      <td>132.10</td>\n",
       "      <td>54.20</td>\n",
       "      <td>56.40</td>\n",
       "      <td>39.9</td>\n",
       "      <td>...</td>\n",
       "      <td>112.25</td>\n",
       "      <td>9.86</td>\n",
       "      <td>7.315823</td>\n",
       "      <td>0.815853</td>\n",
       "      <td>8.0</td>\n",
       "      <td>7.0</td>\n",
       "      <td>7.416667</td>\n",
       "      <td>0.376386</td>\n",
       "      <td>1.0</td>\n",
       "      <td>8.5</td>\n",
       "    </tr>\n",
       "    <tr>\n",
       "      <th>4</th>\n",
       "      <td>'billie_francis'</td>\n",
       "      <td>1.78</td>\n",
       "      <td>62.04</td>\n",
       "      <td>281.75</td>\n",
       "      <td>296.20</td>\n",
       "      <td>258.65</td>\n",
       "      <td>227.25</td>\n",
       "      <td>97.25</td>\n",
       "      <td>99.05</td>\n",
       "      <td>77.2</td>\n",
       "      <td>...</td>\n",
       "      <td>152.85</td>\n",
       "      <td>10.77</td>\n",
       "      <td>8.995158</td>\n",
       "      <td>0.570680</td>\n",
       "      <td>7.5</td>\n",
       "      <td>7.0</td>\n",
       "      <td>7.333333</td>\n",
       "      <td>0.258199</td>\n",
       "      <td>0.5</td>\n",
       "      <td>9.0</td>\n",
       "    </tr>\n",
       "  </tbody>\n",
       "</table>\n",
       "<p>5 rows × 24 columns</p>\n",
       "</div>"
      ],
      "text/plain": [
       "                   Name  Height  Weight   ADD/G   ADD/D   ABD/G   ABD/D  \\\n",
       "0     'aissatou_sougou'    1.69   48.52  287.05  285.00  206.85  179.90   \n",
       "1      'anais_charland'    1.63   62.13  292.75  302.75  239.85  207.85   \n",
       "2  'anne sophie_moreau'    1.71   54.90  252.40  258.55  233.45  233.65   \n",
       "3      'audrey_lamothe'    1.50   43.44  213.45  227.40  174.00  132.10   \n",
       "4      'billie_francis'    1.78   62.04  281.75  296.20  258.65  227.25   \n",
       "\n",
       "     ER/G    ER/D   IR/G ...   FLEX/D  EB max force  EB mean force  \\\n",
       "0   92.85   94.95   52.3 ...   146.00          8.33       6.770000   \n",
       "1  109.25  103.25   98.4 ...   123.35          9.43       7.762753   \n",
       "2   69.30   68.80  120.0 ...   204.80          8.76       6.725683   \n",
       "3   54.20   56.40   39.9 ...   112.25          9.86       7.315823   \n",
       "4   97.25   99.05   77.2 ...   152.85         10.77       8.995158   \n",
       "\n",
       "   EB sd force  EB max height  EB min height  EB mean height  EB sd height  \\\n",
       "0     0.439447            8.5            7.5        8.083333      0.376386   \n",
       "1     0.584721            7.5            7.0        7.083333      0.204124   \n",
       "2     0.767079            8.0            7.5        7.833333      0.258199   \n",
       "3     0.815853            8.0            7.0        7.416667      0.376386   \n",
       "4     0.570680            7.5            7.0        7.333333      0.258199   \n",
       "\n",
       "   EB max-min height   BB  \n",
       "0                1.0  9.5  \n",
       "1                0.5  8.5  \n",
       "2                0.5  8.5  \n",
       "3                1.0  8.5  \n",
       "4                0.5  9.0  \n",
       "\n",
       "[5 rows x 24 columns]"
      ]
     },
     "execution_count": 3,
     "metadata": {},
     "output_type": "execute_result"
    }
   ],
   "source": [
    "DATA_PATH = Path(\"./data/zTable.xlsx\")\n",
    "df = pd.read_excel(DATA_PATH)\n",
    "\n",
    "df.head()"
   ]
  },
  {
   "cell_type": "code",
   "execution_count": 4,
   "metadata": {},
   "outputs": [
    {
     "data": {
      "text/html": [
       "<div>\n",
       "<style scoped>\n",
       "    .dataframe tbody tr th:only-of-type {\n",
       "        vertical-align: middle;\n",
       "    }\n",
       "\n",
       "    .dataframe tbody tr th {\n",
       "        vertical-align: top;\n",
       "    }\n",
       "\n",
       "    .dataframe thead th {\n",
       "        text-align: right;\n",
       "    }\n",
       "</style>\n",
       "<table border=\"1\" class=\"dataframe\">\n",
       "  <thead>\n",
       "    <tr style=\"text-align: right;\">\n",
       "      <th></th>\n",
       "      <th>ADD/G</th>\n",
       "      <th>ADD/D</th>\n",
       "      <th>ABD/G</th>\n",
       "      <th>ABD/D</th>\n",
       "      <th>ER/G</th>\n",
       "      <th>ER/D</th>\n",
       "      <th>IR/G</th>\n",
       "      <th>IR/D</th>\n",
       "      <th>EXT/G</th>\n",
       "      <th>EXT/D</th>\n",
       "      <th>FLEX/G</th>\n",
       "      <th>FLEX/D</th>\n",
       "    </tr>\n",
       "  </thead>\n",
       "  <tbody>\n",
       "    <tr>\n",
       "      <th>0</th>\n",
       "      <td>29.260958</td>\n",
       "      <td>29.051988</td>\n",
       "      <td>21.085627</td>\n",
       "      <td>18.338430</td>\n",
       "      <td>9.464832</td>\n",
       "      <td>9.678899</td>\n",
       "      <td>5.331295</td>\n",
       "      <td>5.295617</td>\n",
       "      <td>16.987768</td>\n",
       "      <td>20.050968</td>\n",
       "      <td>18.654434</td>\n",
       "      <td>14.882773</td>\n",
       "    </tr>\n",
       "    <tr>\n",
       "      <th>1</th>\n",
       "      <td>29.841998</td>\n",
       "      <td>30.861366</td>\n",
       "      <td>24.449541</td>\n",
       "      <td>21.187564</td>\n",
       "      <td>11.136595</td>\n",
       "      <td>10.524975</td>\n",
       "      <td>10.030581</td>\n",
       "      <td>8.567788</td>\n",
       "      <td>31.396534</td>\n",
       "      <td>26.243629</td>\n",
       "      <td>15.963303</td>\n",
       "      <td>12.573904</td>\n",
       "    </tr>\n",
       "    <tr>\n",
       "      <th>2</th>\n",
       "      <td>25.728848</td>\n",
       "      <td>26.355759</td>\n",
       "      <td>23.797146</td>\n",
       "      <td>23.817533</td>\n",
       "      <td>7.064220</td>\n",
       "      <td>7.013252</td>\n",
       "      <td>12.232416</td>\n",
       "      <td>12.212029</td>\n",
       "      <td>14.383282</td>\n",
       "      <td>11.539246</td>\n",
       "      <td>20.341488</td>\n",
       "      <td>20.876656</td>\n",
       "    </tr>\n",
       "    <tr>\n",
       "      <th>3</th>\n",
       "      <td>21.758410</td>\n",
       "      <td>23.180428</td>\n",
       "      <td>17.737003</td>\n",
       "      <td>13.465851</td>\n",
       "      <td>5.524975</td>\n",
       "      <td>5.749235</td>\n",
       "      <td>4.067278</td>\n",
       "      <td>3.792049</td>\n",
       "      <td>14.123344</td>\n",
       "      <td>0.203874</td>\n",
       "      <td>12.003058</td>\n",
       "      <td>11.442406</td>\n",
       "    </tr>\n",
       "    <tr>\n",
       "      <th>4</th>\n",
       "      <td>28.720693</td>\n",
       "      <td>30.193680</td>\n",
       "      <td>26.365953</td>\n",
       "      <td>23.165138</td>\n",
       "      <td>9.913354</td>\n",
       "      <td>10.096840</td>\n",
       "      <td>7.869521</td>\n",
       "      <td>6.365953</td>\n",
       "      <td>21.116208</td>\n",
       "      <td>17.018349</td>\n",
       "      <td>16.156983</td>\n",
       "      <td>15.581040</td>\n",
       "    </tr>\n",
       "  </tbody>\n",
       "</table>\n",
       "</div>"
      ],
      "text/plain": [
       "       ADD/G      ADD/D      ABD/G      ABD/D       ER/G       ER/D  \\\n",
       "0  29.260958  29.051988  21.085627  18.338430   9.464832   9.678899   \n",
       "1  29.841998  30.861366  24.449541  21.187564  11.136595  10.524975   \n",
       "2  25.728848  26.355759  23.797146  23.817533   7.064220   7.013252   \n",
       "3  21.758410  23.180428  17.737003  13.465851   5.524975   5.749235   \n",
       "4  28.720693  30.193680  26.365953  23.165138   9.913354  10.096840   \n",
       "\n",
       "        IR/G       IR/D      EXT/G      EXT/D     FLEX/G     FLEX/D  \n",
       "0   5.331295   5.295617  16.987768  20.050968  18.654434  14.882773  \n",
       "1  10.030581   8.567788  31.396534  26.243629  15.963303  12.573904  \n",
       "2  12.232416  12.212029  14.383282  11.539246  20.341488  20.876656  \n",
       "3   4.067278   3.792049  14.123344   0.203874  12.003058  11.442406  \n",
       "4   7.869521   6.365953  21.116208  17.018349  16.156983  15.581040  "
      ]
     },
     "execution_count": 4,
     "metadata": {},
     "output_type": "execute_result"
    }
   ],
   "source": [
    "# variables\n",
    "variables = [\n",
    "    \"ADD/G\",\n",
    "    \"ADD/D\",\n",
    "    \"ABD/G\",\n",
    "    \"ABD/D\",\n",
    "    \"ER/G\",\n",
    "    \"ER/D\",\n",
    "    \"IR/G\",\n",
    "    \"IR/D\",\n",
    "    \"EXT/G\",\n",
    "    \"EXT/D\",\n",
    "    \"FLEX/G\",\n",
    "    \"FLEX/D\",\n",
    "]\n",
    "X = df[variables] / 9.81\n",
    "X.head()"
   ]
  },
  {
   "cell_type": "code",
   "execution_count": 5,
   "metadata": {},
   "outputs": [
    {
     "data": {
      "text/html": [
       "<div>\n",
       "<style scoped>\n",
       "    .dataframe tbody tr th:only-of-type {\n",
       "        vertical-align: middle;\n",
       "    }\n",
       "\n",
       "    .dataframe tbody tr th {\n",
       "        vertical-align: top;\n",
       "    }\n",
       "\n",
       "    .dataframe thead th {\n",
       "        text-align: right;\n",
       "    }\n",
       "</style>\n",
       "<table border=\"1\" class=\"dataframe\">\n",
       "  <thead>\n",
       "    <tr style=\"text-align: right;\">\n",
       "      <th></th>\n",
       "      <th>BB-H</th>\n",
       "      <th>EB-H</th>\n",
       "      <th>EB-F</th>\n",
       "    </tr>\n",
       "  </thead>\n",
       "  <tbody>\n",
       "    <tr>\n",
       "      <th>0</th>\n",
       "      <td>9.5</td>\n",
       "      <td>8.083333</td>\n",
       "      <td>6.770000</td>\n",
       "    </tr>\n",
       "    <tr>\n",
       "      <th>1</th>\n",
       "      <td>8.5</td>\n",
       "      <td>7.083333</td>\n",
       "      <td>7.762753</td>\n",
       "    </tr>\n",
       "    <tr>\n",
       "      <th>2</th>\n",
       "      <td>8.5</td>\n",
       "      <td>7.833333</td>\n",
       "      <td>6.725683</td>\n",
       "    </tr>\n",
       "    <tr>\n",
       "      <th>3</th>\n",
       "      <td>8.5</td>\n",
       "      <td>7.416667</td>\n",
       "      <td>7.315823</td>\n",
       "    </tr>\n",
       "    <tr>\n",
       "      <th>4</th>\n",
       "      <td>9.0</td>\n",
       "      <td>7.333333</td>\n",
       "      <td>8.995158</td>\n",
       "    </tr>\n",
       "  </tbody>\n",
       "</table>\n",
       "</div>"
      ],
      "text/plain": [
       "   BB-H      EB-H      EB-F\n",
       "0   9.5  8.083333  6.770000\n",
       "1   8.5  7.083333  7.762753\n",
       "2   8.5  7.833333  6.725683\n",
       "3   8.5  7.416667  7.315823\n",
       "4   9.0  7.333333  8.995158"
      ]
     },
     "execution_count": 5,
     "metadata": {},
     "output_type": "execute_result"
    }
   ],
   "source": [
    "# target\n",
    "targets = [\"BB\", \"EB mean height\", \"EB mean force\"]\n",
    "y = df[targets].rename(\n",
    "    columns={\"BB\": \"BB-H\", \"EB mean height\": \"EB-H\", \"EB mean force\": \"EB-F\"}\n",
    ")\n",
    "y.head()"
   ]
  },
  {
   "cell_type": "markdown",
   "metadata": {},
   "source": [
    "## Normalize data\n",
    "We should normalize the field tests (`X`) by anthropometric measurements."
   ]
  },
  {
   "cell_type": "code",
   "execution_count": 6,
   "metadata": {},
   "outputs": [
    {
     "name": "stdout",
     "output_type": "stream",
     "text": [
      "data not normalized\n"
     ]
    }
   ],
   "source": [
    "if NORMALIZE == \"weight\":\n",
    "    normalizer = df[\"Weight\"]\n",
    "elif NORMALIZE == \"IMC\":\n",
    "    normalizer = df[\"Weight\"] / df[\"Height\"] ** 2\n",
    "elif NORMALIZE == \"weight-height\":\n",
    "    normalizer = df[\"Weight\"] * df[\"Height\"]\n",
    "else:\n",
    "    normalizer = 1\n",
    "    print(\"data not normalized\")\n",
    "X = X.divide(normalizer, axis=0)"
   ]
  },
  {
   "cell_type": "markdown",
   "metadata": {
    "toc-hr-collapsed": true
   },
   "source": [
    "## NaN remover"
   ]
  },
  {
   "cell_type": "code",
   "execution_count": 7,
   "metadata": {},
   "outputs": [
    {
     "name": "stdout",
     "output_type": "stream",
     "text": [
      "participant no.: 5\n",
      "\ttest: ADD/D\n",
      "\t\t\"nan\" replace by \"32.95107033639144\"\n",
      "participant no.: 41\n",
      "\ttest: IR/G\n",
      "\t\t\"nan\" replace by \"12.125382262996942\"\n",
      "participant no.: 90\n",
      "\ttest: IR/G\n",
      "\t\t\"nan\" replace by \"9.403669724770642\"\n"
     ]
    }
   ],
   "source": [
    "nan_id = np.argwhere(np.isnan(X.values))\n",
    "for i in nan_id:\n",
    "    print(f'participant no.: {i[0]}')\n",
    "    print(f'\\ttest: {X.columns[i[1]]}')\n",
    "    # if left take right, left otherwise\n",
    "    if X.columns[i[1]][-1] == 'G':\n",
    "        replacer = i[1] + 1\n",
    "    else:\n",
    "        replacer = i[1] - 1\n",
    "    print(f'\\t\\t\"{X.iloc[i[0], i[1]]}\" replace by \"{X.iloc[i[0], replacer]}\"')\n",
    "    X.at[i[0], X.columns[i[1]]] = X.at[i[0], X.columns[replacer]]"
   ]
  },
  {
   "cell_type": "markdown",
   "metadata": {},
   "source": [
    "## Data description"
   ]
  },
  {
   "cell_type": "code",
   "execution_count": 8,
   "metadata": {},
   "outputs": [],
   "source": [
    "def hboxplot(data, x, y, color=None):\n",
    "    \"\"\"Horizontal box plot in Atlair\"\"\"\n",
    "    alt_color = alt.value(\"grey\") if not color else alt.Color(color, legend=None)\n",
    "\n",
    "    base = alt.Chart(data).encode(alt.Y(y, title=None), color=alt_color)\n",
    "\n",
    "    lower_plot = base.mark_rule().encode(\n",
    "        alt.X(f\"min({x})\", scale=alt.Scale(zero=False), title=None), alt.X2(f\"q1({x})\")\n",
    "    )\n",
    "    middle_plot = base.mark_bar().encode(alt.X(f\"q1({x})\"), alt.X2(f\"q3({x})\"))\n",
    "    upper_plot = base.mark_rule().encode(alt.X(f\"q3({x})\"), alt.X2(f\"max({x})\"))\n",
    "\n",
    "    middle_tick = base.mark_tick(size=17).encode(\n",
    "        alt.X(f\"median({x})\"), color=alt.value(\"black\")\n",
    "    )\n",
    "    return lower_plot + middle_plot + upper_plot + middle_tick"
   ]
  },
  {
   "cell_type": "code",
   "execution_count": 9,
   "metadata": {},
   "outputs": [],
   "source": [
    "def plot_bars(data, x=alt.X(), y=None, color=alt.Color(), column=None, row=None):\n",
    "    base = alt.Chart().encode(x=x)\n",
    "    bar = base.mark_bar(color=\"grey\").encode(\n",
    "        alt.Y(f\"mean({y})\", title=None), color=color\n",
    "    )\n",
    "    ci = base.mark_rule().encode(alt.Y(f\"ci0({y})\"), alt.Y2(f\"ci1({y})\"))\n",
    "    if column:\n",
    "        return (bar + ci).facet(data=data, column=column)\n",
    "    elif column and row:\n",
    "        return (bar + ci).facet(data=data, column=column, row=row)\n",
    "    else:\n",
    "        return (bar + ci).facet(data=data)"
   ]
  },
  {
   "cell_type": "markdown",
   "metadata": {},
   "source": [
    "### Variables $X$\n",
    "Hip strength tests (field testing):\n",
    "- `ADD`: adduction test\n",
    "- `ABD`: abduction test\n",
    "- `ER`: external rotation test\n",
    "- `IR`: internal rotation test\n",
    "- `EXT`: extension test\n",
    "- `FLEX`: flexion test"
   ]
  },
  {
   "cell_type": "code",
   "execution_count": 10,
   "metadata": {},
   "outputs": [
    {
     "data": {
      "application/vnd.vegalite.v2+json": {
       "$schema": "https://vega.github.io/schema/vega-lite/v2.6.0.json",
       "config": {
        "axisX": {
         "labels": false,
         "ticks": false
        },
        "view": {
         "height": 300,
         "width": 400
        }
       },
       "data": {
        "name": "data-2b002c77532507c82f1a8415ecc63b07"
       },
       "datasets": {
        "data-2b002c77532507c82f1a8415ecc63b07": [
         {
          "Laterality": "Left",
          "test": "ADD",
          "value": 29.260958205912335,
          "variable": "ADD/G"
         },
         {
          "Laterality": "Left",
          "test": "ADD",
          "value": 29.841997961264013,
          "variable": "ADD/G"
         },
         {
          "Laterality": "Left",
          "test": "ADD",
          "value": 25.728848114169214,
          "variable": "ADD/G"
         },
         {
          "Laterality": "Left",
          "test": "ADD",
          "value": 21.75840978593272,
          "variable": "ADD/G"
         },
         {
          "Laterality": "Left",
          "test": "ADD",
          "value": 28.720693170234455,
          "variable": "ADD/G"
         },
         {
          "Laterality": "Left",
          "test": "ADD",
          "value": 32.95107033639144,
          "variable": "ADD/G"
         },
         {
          "Laterality": "Left",
          "test": "ADD",
          "value": 18.36901121304791,
          "variable": "ADD/G"
         },
         {
          "Laterality": "Left",
          "test": "ADD",
          "value": 27.048929663608565,
          "variable": "ADD/G"
         },
         {
          "Laterality": "Left",
          "test": "ADD",
          "value": 27.30377166156983,
          "variable": "ADD/G"
         },
         {
          "Laterality": "Left",
          "test": "ADD",
          "value": 33.04281345565749,
          "variable": "ADD/G"
         },
         {
          "Laterality": "Left",
          "test": "ADD",
          "value": 20.973496432212027,
          "variable": "ADD/G"
         },
         {
          "Laterality": "Left",
          "test": "ADD",
          "value": 23.037716615698265,
          "variable": "ADD/G"
         },
         {
          "Laterality": "Left",
          "test": "ADD",
          "value": 19.69418960244648,
          "variable": "ADD/G"
         },
         {
          "Laterality": "Left",
          "test": "ADD",
          "value": 18.027522935779814,
          "variable": "ADD/G"
         },
         {
          "Laterality": "Left",
          "test": "ADD",
          "value": 29.28644240570846,
          "variable": "ADD/G"
         },
         {
          "Laterality": "Left",
          "test": "ADD",
          "value": 23.00203873598369,
          "variable": "ADD/G"
         },
         {
          "Laterality": "Left",
          "test": "ADD",
          "value": 27.487257900101934,
          "variable": "ADD/G"
         },
         {
          "Laterality": "Left",
          "test": "ADD",
          "value": 26.483180428134556,
          "variable": "ADD/G"
         },
         {
          "Laterality": "Left",
          "test": "ADD",
          "value": 24.485219164118245,
          "variable": "ADD/G"
         },
         {
          "Laterality": "Left",
          "test": "ADD",
          "value": 26.529051987767584,
          "variable": "ADD/G"
         },
         {
          "Laterality": "Left",
          "test": "ADD",
          "value": 23.022426095820588,
          "variable": "ADD/G"
         },
         {
          "Laterality": "Left",
          "test": "ADD",
          "value": 30.647298674821606,
          "variable": "ADD/G"
         },
         {
          "Laterality": "Left",
          "test": "ADD",
          "value": 21.58511722731906,
          "variable": "ADD/G"
         },
         {
          "Laterality": "Left",
          "test": "ADD",
          "value": 15.407747196738022,
          "variable": "ADD/G"
         },
         {
          "Laterality": "Left",
          "test": "ADD",
          "value": 20.98369011213048,
          "variable": "ADD/G"
         },
         {
          "Laterality": "Left",
          "test": "ADD",
          "value": 26.207951070336392,
          "variable": "ADD/G"
         },
         {
          "Laterality": "Left",
          "test": "ADD",
          "value": 24.658511722731905,
          "variable": "ADD/G"
         },
         {
          "Laterality": "Left",
          "test": "ADD",
          "value": 20.942915392456676,
          "variable": "ADD/G"
         },
         {
          "Laterality": "Left",
          "test": "ADD",
          "value": 16.559633027522935,
          "variable": "ADD/G"
         },
         {
          "Laterality": "Left",
          "test": "ADD",
          "value": 23.022426095820588,
          "variable": "ADD/G"
         },
         {
          "Laterality": "Left",
          "test": "ADD",
          "value": 26.432212028542303,
          "variable": "ADD/G"
         },
         {
          "Laterality": "Left",
          "test": "ADD",
          "value": 36.69724770642202,
          "variable": "ADD/G"
         },
         {
          "Laterality": "Left",
          "test": "ADD",
          "value": 32.008154943934755,
          "variable": "ADD/G"
         },
         {
          "Laterality": "Left",
          "test": "ADD",
          "value": 41.59021406727828,
          "variable": "ADD/G"
         },
         {
          "Laterality": "Left",
          "test": "ADD",
          "value": 25.07645259938838,
          "variable": "ADD/G"
         },
         {
          "Laterality": "Left",
          "test": "ADD",
          "value": 28.644240570846073,
          "variable": "ADD/G"
         },
         {
          "Laterality": "Left",
          "test": "ADD",
          "value": 29.25586136595311,
          "variable": "ADD/G"
         },
         {
          "Laterality": "Left",
          "test": "ADD",
          "value": 26.299694189602445,
          "variable": "ADD/G"
         },
         {
          "Laterality": "Left",
          "test": "ADD",
          "value": 24.260958205912335,
          "variable": "ADD/G"
         },
         {
          "Laterality": "Left",
          "test": "ADD",
          "value": 25.99388379204893,
          "variable": "ADD/G"
         },
         {
          "Laterality": "Left",
          "test": "ADD",
          "value": 21.53414882772681,
          "variable": "ADD/G"
         },
         {
          "Laterality": "Left",
          "test": "ADD",
          "value": 30.70846075433231,
          "variable": "ADD/G"
         },
         {
          "Laterality": "Left",
          "test": "ADD",
          "value": 20.59633027522936,
          "variable": "ADD/G"
         },
         {
          "Laterality": "Left",
          "test": "ADD",
          "value": 27.09480122324159,
          "variable": "ADD/G"
         },
         {
          "Laterality": "Left",
          "test": "ADD",
          "value": 19.69418960244648,
          "variable": "ADD/G"
         },
         {
          "Laterality": "Left",
          "test": "ADD",
          "value": 30.67787971457696,
          "variable": "ADD/G"
         },
         {
          "Laterality": "Left",
          "test": "ADD",
          "value": 26.661569826707442,
          "variable": "ADD/G"
         },
         {
          "Laterality": "Left",
          "test": "ADD",
          "value": 26.76860346585117,
          "variable": "ADD/G"
         },
         {
          "Laterality": "Left",
          "test": "ADD",
          "value": 23.470948012232416,
          "variable": "ADD/G"
         },
         {
          "Laterality": "Left",
          "test": "ADD",
          "value": 12.003058103975535,
          "variable": "ADD/G"
         },
         {
          "Laterality": "Left",
          "test": "ADD",
          "value": 32.584097859327215,
          "variable": "ADD/G"
         },
         {
          "Laterality": "Left",
          "test": "ADD",
          "value": 20.637104994903158,
          "variable": "ADD/G"
         },
         {
          "Laterality": "Left",
          "test": "ADD",
          "value": 30.74413863404689,
          "variable": "ADD/G"
         },
         {
          "Laterality": "Left",
          "test": "ADD",
          "value": 30.19367991845056,
          "variable": "ADD/G"
         },
         {
          "Laterality": "Left",
          "test": "ADD",
          "value": 30.749235474006113,
          "variable": "ADD/G"
         },
         {
          "Laterality": "Left",
          "test": "ADD",
          "value": 26.21814475025484,
          "variable": "ADD/G"
         },
         {
          "Laterality": "Left",
          "test": "ADD",
          "value": 26.416921508664625,
          "variable": "ADD/G"
         },
         {
          "Laterality": "Left",
          "test": "ADD",
          "value": 24.617737003058103,
          "variable": "ADD/G"
         },
         {
          "Laterality": "Left",
          "test": "ADD",
          "value": 21.50866462793068,
          "variable": "ADD/G"
         },
         {
          "Laterality": "Left",
          "test": "ADD",
          "value": 34.08766564729867,
          "variable": "ADD/G"
         },
         {
          "Laterality": "Left",
          "test": "ADD",
          "value": 29.240570846075435,
          "variable": "ADD/G"
         },
         {
          "Laterality": "Left",
          "test": "ADD",
          "value": 20.372069317023445,
          "variable": "ADD/G"
         },
         {
          "Laterality": "Left",
          "test": "ADD",
          "value": 33.79714576962283,
          "variable": "ADD/G"
         },
         {
          "Laterality": "Left",
          "test": "ADD",
          "value": 23.2262996941896,
          "variable": "ADD/G"
         },
         {
          "Laterality": "Left",
          "test": "ADD",
          "value": 27.63506625891947,
          "variable": "ADD/G"
         },
         {
          "Laterality": "Left",
          "test": "ADD",
          "value": 28.99082568807339,
          "variable": "ADD/G"
         },
         {
          "Laterality": "Left",
          "test": "ADD",
          "value": 28.888888888888886,
          "variable": "ADD/G"
         },
         {
          "Laterality": "Left",
          "test": "ADD",
          "value": 23.57288481141692,
          "variable": "ADD/G"
         },
         {
          "Laterality": "Left",
          "test": "ADD",
          "value": 30.830784913353718,
          "variable": "ADD/G"
         },
         {
          "Laterality": "Left",
          "test": "ADD",
          "value": 27.767584097859324,
          "variable": "ADD/G"
         },
         {
          "Laterality": "Left",
          "test": "ADD",
          "value": 24.79612640163099,
          "variable": "ADD/G"
         },
         {
          "Laterality": "Left",
          "test": "ADD",
          "value": 22.52293577981651,
          "variable": "ADD/G"
         },
         {
          "Laterality": "Left",
          "test": "ADD",
          "value": 26.74821610601427,
          "variable": "ADD/G"
         },
         {
          "Laterality": "Left",
          "test": "ADD",
          "value": 26.111111111111107,
          "variable": "ADD/G"
         },
         {
          "Laterality": "Left",
          "test": "ADD",
          "value": 28.598369011213048,
          "variable": "ADD/G"
         },
         {
          "Laterality": "Left",
          "test": "ADD",
          "value": 24.03669724770642,
          "variable": "ADD/G"
         },
         {
          "Laterality": "Left",
          "test": "ADD",
          "value": 24.06218144750255,
          "variable": "ADD/G"
         },
         {
          "Laterality": "Left",
          "test": "ADD",
          "value": 30.377166156982668,
          "variable": "ADD/G"
         },
         {
          "Laterality": "Left",
          "test": "ADD",
          "value": 23.73598369011213,
          "variable": "ADD/G"
         },
         {
          "Laterality": "Left",
          "test": "ADD",
          "value": 20.346585117227317,
          "variable": "ADD/G"
         },
         {
          "Laterality": "Left",
          "test": "ADD",
          "value": 23.14984709480122,
          "variable": "ADD/G"
         },
         {
          "Laterality": "Left",
          "test": "ADD",
          "value": 21.885830784913352,
          "variable": "ADD/G"
         },
         {
          "Laterality": "Left",
          "test": "ADD",
          "value": 27.52803261977574,
          "variable": "ADD/G"
         },
         {
          "Laterality": "Left",
          "test": "ADD",
          "value": 32.25280326197757,
          "variable": "ADD/G"
         },
         {
          "Laterality": "Left",
          "test": "ADD",
          "value": 18.52701325178389,
          "variable": "ADD/G"
         },
         {
          "Laterality": "Left",
          "test": "ADD",
          "value": 26.712538226299696,
          "variable": "ADD/G"
         },
         {
          "Laterality": "Left",
          "test": "ADD",
          "value": 19.999999999999996,
          "variable": "ADD/G"
         },
         {
          "Laterality": "Left",
          "test": "ADD",
          "value": 28.751274209989806,
          "variable": "ADD/G"
         },
         {
          "Laterality": "Left",
          "test": "ADD",
          "value": 24.40366972477064,
          "variable": "ADD/G"
         },
         {
          "Laterality": "Left",
          "test": "ADD",
          "value": 19.291539245667686,
          "variable": "ADD/G"
         },
         {
          "Laterality": "Left",
          "test": "ADD",
          "value": 31.432212028542306,
          "variable": "ADD/G"
         },
         {
          "Laterality": "Left",
          "test": "ADD",
          "value": 26.850152905198772,
          "variable": "ADD/G"
         },
         {
          "Laterality": "right",
          "test": "ADD",
          "value": 29.051987767584098,
          "variable": "ADD/D"
         },
         {
          "Laterality": "right",
          "test": "ADD",
          "value": 30.861365953109072,
          "variable": "ADD/D"
         },
         {
          "Laterality": "right",
          "test": "ADD",
          "value": 26.355759429153924,
          "variable": "ADD/D"
         },
         {
          "Laterality": "right",
          "test": "ADD",
          "value": 23.180428134556575,
          "variable": "ADD/D"
         },
         {
          "Laterality": "right",
          "test": "ADD",
          "value": 30.19367991845056,
          "variable": "ADD/D"
         },
         {
          "Laterality": "right",
          "test": "ADD",
          "value": 32.95107033639144,
          "variable": "ADD/D"
         },
         {
          "Laterality": "right",
          "test": "ADD",
          "value": 18.761467889908257,
          "variable": "ADD/D"
         },
         {
          "Laterality": "right",
          "test": "ADD",
          "value": 28.379204892966357,
          "variable": "ADD/D"
         },
         {
          "Laterality": "right",
          "test": "ADD",
          "value": 26.992864424057085,
          "variable": "ADD/D"
         },
         {
          "Laterality": "right",
          "test": "ADD",
          "value": 32.90010193679918,
          "variable": "ADD/D"
         },
         {
          "Laterality": "right",
          "test": "ADD",
          "value": 21.809378185524974,
          "variable": "ADD/D"
         },
         {
          "Laterality": "right",
          "test": "ADD",
          "value": 21.702344546381244,
          "variable": "ADD/D"
         },
         {
          "Laterality": "right",
          "test": "ADD",
          "value": 17.28848114169215,
          "variable": "ADD/D"
         },
         {
          "Laterality": "right",
          "test": "ADD",
          "value": 20.382262996941893,
          "variable": "ADD/D"
         },
         {
          "Laterality": "right",
          "test": "ADD",
          "value": 31.075433231396534,
          "variable": "ADD/D"
         },
         {
          "Laterality": "right",
          "test": "ADD",
          "value": 20.519877675840977,
          "variable": "ADD/D"
         },
         {
          "Laterality": "right",
          "test": "ADD",
          "value": 30.30071355759429,
          "variable": "ADD/D"
         },
         {
          "Laterality": "right",
          "test": "ADD",
          "value": 25.662589194699287,
          "variable": "ADD/D"
         },
         {
          "Laterality": "right",
          "test": "ADD",
          "value": 25.081549439347604,
          "variable": "ADD/D"
         },
         {
          "Laterality": "right",
          "test": "ADD",
          "value": 26.320081549439344,
          "variable": "ADD/D"
         },
         {
          "Laterality": "right",
          "test": "ADD",
          "value": 24.383282364933738,
          "variable": "ADD/D"
         },
         {
          "Laterality": "right",
          "test": "ADD",
          "value": 30.035677879714573,
          "variable": "ADD/D"
         },
         {
          "Laterality": "right",
          "test": "ADD",
          "value": 20.815494393476044,
          "variable": "ADD/D"
         },
         {
          "Laterality": "right",
          "test": "ADD",
          "value": 17.910295616717633,
          "variable": "ADD/D"
         },
         {
          "Laterality": "right",
          "test": "ADD",
          "value": 21.630988786952088,
          "variable": "ADD/D"
         },
         {
          "Laterality": "right",
          "test": "ADD",
          "value": 25.11722731906218,
          "variable": "ADD/D"
         },
         {
          "Laterality": "right",
          "test": "ADD",
          "value": 25.290519877675838,
          "variable": "ADD/D"
         },
         {
          "Laterality": "right",
          "test": "ADD",
          "value": 22.04892966360856,
          "variable": "ADD/D"
         },
         {
          "Laterality": "right",
          "test": "ADD",
          "value": 18.735983690112132,
          "variable": "ADD/D"
         },
         {
          "Laterality": "right",
          "test": "ADD",
          "value": 25.219164118246685,
          "variable": "ADD/D"
         },
         {
          "Laterality": "right",
          "test": "ADD",
          "value": 25.912334352701322,
          "variable": "ADD/D"
         },
         {
          "Laterality": "right",
          "test": "ADD",
          "value": 39.24566768603466,
          "variable": "ADD/D"
         },
         {
          "Laterality": "right",
          "test": "ADD",
          "value": 29.357798165137613,
          "variable": "ADD/D"
         },
         {
          "Laterality": "right",
          "test": "ADD",
          "value": 40.366972477064216,
          "variable": "ADD/D"
         },
         {
          "Laterality": "right",
          "test": "ADD",
          "value": 25.586136595310904,
          "variable": "ADD/D"
         },
         {
          "Laterality": "right",
          "test": "ADD",
          "value": 29.765545361875635,
          "variable": "ADD/D"
         },
         {
          "Laterality": "right",
          "test": "ADD",
          "value": 32.008154943934755,
          "variable": "ADD/D"
         },
         {
          "Laterality": "right",
          "test": "ADD",
          "value": 24.668705402650357,
          "variable": "ADD/D"
         },
         {
          "Laterality": "right",
          "test": "ADD",
          "value": 25.68807339449541,
          "variable": "ADD/D"
         },
         {
          "Laterality": "right",
          "test": "ADD",
          "value": 24.464831804281346,
          "variable": "ADD/D"
         },
         {
          "Laterality": "right",
          "test": "ADD",
          "value": 21.946992864424058,
          "variable": "ADD/D"
         },
         {
          "Laterality": "right",
          "test": "ADD",
          "value": 30.382262996941897,
          "variable": "ADD/D"
         },
         {
          "Laterality": "right",
          "test": "ADD",
          "value": 22.324159021406725,
          "variable": "ADD/D"
         },
         {
          "Laterality": "right",
          "test": "ADD",
          "value": 27.573904179408764,
          "variable": "ADD/D"
         },
         {
          "Laterality": "right",
          "test": "ADD",
          "value": 21.27420998980632,
          "variable": "ADD/D"
         },
         {
          "Laterality": "right",
          "test": "ADD",
          "value": 32.915392456676855,
          "variable": "ADD/D"
         },
         {
          "Laterality": "right",
          "test": "ADD",
          "value": 26.090723751274208,
          "variable": "ADD/D"
         },
         {
          "Laterality": "right",
          "test": "ADD",
          "value": 28.2262996941896,
          "variable": "ADD/D"
         },
         {
          "Laterality": "right",
          "test": "ADD",
          "value": 25.229357798165136,
          "variable": "ADD/D"
         },
         {
          "Laterality": "right",
          "test": "ADD",
          "value": 12.859327217125383,
          "variable": "ADD/D"
         },
         {
          "Laterality": "right",
          "test": "ADD",
          "value": 34.04179408766564,
          "variable": "ADD/D"
         },
         {
          "Laterality": "right",
          "test": "ADD",
          "value": 21.462793068297657,
          "variable": "ADD/D"
         },
         {
          "Laterality": "right",
          "test": "ADD",
          "value": 31.73802242609582,
          "variable": "ADD/D"
         },
         {
          "Laterality": "right",
          "test": "ADD",
          "value": 30.53007135575943,
          "variable": "ADD/D"
         },
         {
          "Laterality": "right",
          "test": "ADD",
          "value": 30.173292558613657,
          "variable": "ADD/D"
         },
         {
          "Laterality": "right",
          "test": "ADD",
          "value": 27.196738022426096,
          "variable": "ADD/D"
         },
         {
          "Laterality": "right",
          "test": "ADD",
          "value": 26.22833843017329,
          "variable": "ADD/D"
         },
         {
          "Laterality": "right",
          "test": "ADD",
          "value": 26.25382262996942,
          "variable": "ADD/D"
         },
         {
          "Laterality": "right",
          "test": "ADD",
          "value": 22.059123343527013,
          "variable": "ADD/D"
         },
         {
          "Laterality": "right",
          "test": "ADD",
          "value": 36.98267074413863,
          "variable": "ADD/D"
         },
         {
          "Laterality": "right",
          "test": "ADD",
          "value": 30.897043832823652,
          "variable": "ADD/D"
         },
         {
          "Laterality": "right",
          "test": "ADD",
          "value": 22.747196738022424,
          "variable": "ADD/D"
         },
         {
          "Laterality": "right",
          "test": "ADD",
          "value": 32.83893985728848,
          "variable": "ADD/D"
         },
         {
          "Laterality": "right",
          "test": "ADD",
          "value": 23.27217125382263,
          "variable": "ADD/D"
         },
         {
          "Laterality": "right",
          "test": "ADD",
          "value": 28.57288481141692,
          "variable": "ADD/D"
         },
         {
          "Laterality": "right",
          "test": "ADD",
          "value": 25.728848114169214,
          "variable": "ADD/D"
         },
         {
          "Laterality": "right",
          "test": "ADD",
          "value": 29.54638124362895,
          "variable": "ADD/D"
         },
         {
          "Laterality": "right",
          "test": "ADD",
          "value": 25.825688073394492,
          "variable": "ADD/D"
         },
         {
          "Laterality": "right",
          "test": "ADD",
          "value": 31.325178389398573,
          "variable": "ADD/D"
         },
         {
          "Laterality": "right",
          "test": "ADD",
          "value": 27.925586136595307,
          "variable": "ADD/D"
         },
         {
          "Laterality": "right",
          "test": "ADD",
          "value": 25.62691131498471,
          "variable": "ADD/D"
         },
         {
          "Laterality": "right",
          "test": "ADD",
          "value": 23.144750254842,
          "variable": "ADD/D"
         },
         {
          "Laterality": "right",
          "test": "ADD",
          "value": 26.146788990825687,
          "variable": "ADD/D"
         },
         {
          "Laterality": "right",
          "test": "ADD",
          "value": 28.037716615698265,
          "variable": "ADD/D"
         },
         {
          "Laterality": "right",
          "test": "ADD",
          "value": 27.910295616717633,
          "variable": "ADD/D"
         },
         {
          "Laterality": "right",
          "test": "ADD",
          "value": 26.396534148827726,
          "variable": "ADD/D"
         },
         {
          "Laterality": "right",
          "test": "ADD",
          "value": 25.239551478083587,
          "variable": "ADD/D"
         },
         {
          "Laterality": "right",
          "test": "ADD",
          "value": 31.539245667686032,
          "variable": "ADD/D"
         },
         {
          "Laterality": "right",
          "test": "ADD",
          "value": 25.14780835881753,
          "variable": "ADD/D"
         },
         {
          "Laterality": "right",
          "test": "ADD",
          "value": 20.36697247706422,
          "variable": "ADD/D"
         },
         {
          "Laterality": "right",
          "test": "ADD",
          "value": 23.848114169215084,
          "variable": "ADD/D"
         },
         {
          "Laterality": "right",
          "test": "ADD",
          "value": 23.868501529051986,
          "variable": "ADD/D"
         },
         {
          "Laterality": "right",
          "test": "ADD",
          "value": 27.747196738022424,
          "variable": "ADD/D"
         },
         {
          "Laterality": "right",
          "test": "ADD",
          "value": 32.405708460754326,
          "variable": "ADD/D"
         },
         {
          "Laterality": "right",
          "test": "ADD",
          "value": 19.52089704383282,
          "variable": "ADD/D"
         },
         {
          "Laterality": "right",
          "test": "ADD",
          "value": 27.420998980632007,
          "variable": "ADD/D"
         },
         {
          "Laterality": "right",
          "test": "ADD",
          "value": 21.59021406727829,
          "variable": "ADD/D"
         },
         {
          "Laterality": "right",
          "test": "ADD",
          "value": 25.728848114169214,
          "variable": "ADD/D"
         },
         {
          "Laterality": "right",
          "test": "ADD",
          "value": 27.767584097859324,
          "variable": "ADD/D"
         },
         {
          "Laterality": "right",
          "test": "ADD",
          "value": 19.74006116207951,
          "variable": "ADD/D"
         },
         {
          "Laterality": "right",
          "test": "ADD",
          "value": 31.8144750254842,
          "variable": "ADD/D"
         },
         {
          "Laterality": "right",
          "test": "ADD",
          "value": 27.930682976554536,
          "variable": "ADD/D"
         },
         {
          "Laterality": "Left",
          "test": "ABD",
          "value": 21.085626911314982,
          "variable": "ABD/G"
         },
         {
          "Laterality": "Left",
          "test": "ABD",
          "value": 24.44954128440367,
          "variable": "ABD/G"
         },
         {
          "Laterality": "Left",
          "test": "ABD",
          "value": 23.79714576962283,
          "variable": "ABD/G"
         },
         {
          "Laterality": "Left",
          "test": "ABD",
          "value": 17.737003058103976,
          "variable": "ABD/G"
         },
         {
          "Laterality": "Left",
          "test": "ABD",
          "value": 26.36595310907237,
          "variable": "ABD/G"
         },
         {
          "Laterality": "Left",
          "test": "ABD",
          "value": 33.74108053007135,
          "variable": "ABD/G"
         },
         {
          "Laterality": "Left",
          "test": "ABD",
          "value": 16.29459734964322,
          "variable": "ABD/G"
         },
         {
          "Laterality": "Left",
          "test": "ABD",
          "value": 20.912334352701325,
          "variable": "ABD/G"
         },
         {
          "Laterality": "Left",
          "test": "ABD",
          "value": 23.761467889908253,
          "variable": "ABD/G"
         },
         {
          "Laterality": "Left",
          "test": "ABD",
          "value": 31.982670744138634,
          "variable": "ABD/G"
         },
         {
          "Laterality": "Left",
          "test": "ABD",
          "value": 23.10907237512742,
          "variable": "ABD/G"
         },
         {
          "Laterality": "Left",
          "test": "ABD",
          "value": 17.145769622833843,
          "variable": "ABD/G"
         },
         {
          "Laterality": "Left",
          "test": "ABD",
          "value": 14.831804281345565,
          "variable": "ABD/G"
         },
         {
          "Laterality": "Left",
          "test": "ABD",
          "value": 22.757390417940876,
          "variable": "ABD/G"
         },
         {
          "Laterality": "Left",
          "test": "ABD",
          "value": 29.189602446483182,
          "variable": "ABD/G"
         },
         {
          "Laterality": "Left",
          "test": "ABD",
          "value": 20.815494393476044,
          "variable": "ABD/G"
         },
         {
          "Laterality": "Left",
          "test": "ABD",
          "value": 26.67176350662589,
          "variable": "ABD/G"
         },
         {
          "Laterality": "Left",
          "test": "ABD",
          "value": 22.30886850152905,
          "variable": "ABD/G"
         },
         {
          "Laterality": "Left",
          "test": "ABD",
          "value": 21.829765545361877,
          "variable": "ABD/G"
         },
         {
          "Laterality": "Left",
          "test": "ABD",
          "value": 22.538226299694188,
          "variable": "ABD/G"
         },
         {
          "Laterality": "Left",
          "test": "ABD",
          "value": 20.4434250764526,
          "variable": "ABD/G"
         },
         {
          "Laterality": "Left",
          "test": "ABD",
          "value": 19.39857288481142,
          "variable": "ABD/G"
         },
         {
          "Laterality": "Left",
          "test": "ABD",
          "value": 20.667686034658512,
          "variable": "ABD/G"
         },
         {
          "Laterality": "Left",
          "test": "ABD",
          "value": 23.91946992864424,
          "variable": "ABD/G"
         },
         {
          "Laterality": "Left",
          "test": "ABD",
          "value": 16.62079510703364,
          "variable": "ABD/G"
         },
         {
          "Laterality": "Left",
          "test": "ABD",
          "value": 27.140672782874617,
          "variable": "ABD/G"
         },
         {
          "Laterality": "Left",
          "test": "ABD",
          "value": 26.651376146788987,
          "variable": "ABD/G"
         },
         {
          "Laterality": "Left",
          "test": "ABD",
          "value": 20.382262996941893,
          "variable": "ABD/G"
         },
         {
          "Laterality": "Left",
          "test": "ABD",
          "value": 11.605504587155963,
          "variable": "ABD/G"
         },
         {
          "Laterality": "Left",
          "test": "ABD",
          "value": 17.53822629969419,
          "variable": "ABD/G"
         },
         {
          "Laterality": "Left",
          "test": "ABD",
          "value": 21.967380224260957,
          "variable": "ABD/G"
         },
         {
          "Laterality": "Left",
          "test": "ABD",
          "value": 29.25586136595311,
          "variable": "ABD/G"
         },
         {
          "Laterality": "Left",
          "test": "ABD",
          "value": 28.848114169215084,
          "variable": "ABD/G"
         },
         {
          "Laterality": "Left",
          "test": "ABD",
          "value": 31.804281345565748,
          "variable": "ABD/G"
         },
         {
          "Laterality": "Left",
          "test": "ABD",
          "value": 24.872579001019368,
          "variable": "ABD/G"
         },
         {
          "Laterality": "Left",
          "test": "ABD",
          "value": 24.77064220183486,
          "variable": "ABD/G"
         },
         {
          "Laterality": "Left",
          "test": "ABD",
          "value": 24.668705402650357,
          "variable": "ABD/G"
         },
         {
          "Laterality": "Left",
          "test": "ABD",
          "value": 24.36289500509684,
          "variable": "ABD/G"
         },
         {
          "Laterality": "Left",
          "test": "ABD",
          "value": 25.28032619775739,
          "variable": "ABD/G"
         },
         {
          "Laterality": "Left",
          "test": "ABD",
          "value": 27.726809378185525,
          "variable": "ABD/G"
         },
         {
          "Laterality": "Left",
          "test": "ABD",
          "value": 19.633027522935777,
          "variable": "ABD/G"
         },
         {
          "Laterality": "Left",
          "test": "ABD",
          "value": 27.782874617737004,
          "variable": "ABD/G"
         },
         {
          "Laterality": "Left",
          "test": "ABD",
          "value": 16.371049949031597,
          "variable": "ABD/G"
         },
         {
          "Laterality": "Left",
          "test": "ABD",
          "value": 25.0611620795107,
          "variable": "ABD/G"
         },
         {
          "Laterality": "Left",
          "test": "ABD",
          "value": 19.418960244648318,
          "variable": "ABD/G"
         },
         {
          "Laterality": "Left",
          "test": "ABD",
          "value": 28.26197757390418,
          "variable": "ABD/G"
         },
         {
          "Laterality": "Left",
          "test": "ABD",
          "value": 21.778797145769623,
          "variable": "ABD/G"
         },
         {
          "Laterality": "Left",
          "test": "ABD",
          "value": 25.800203873598367,
          "variable": "ABD/G"
         },
         {
          "Laterality": "Left",
          "test": "ABD",
          "value": 27.497451580020385,
          "variable": "ABD/G"
         },
         {
          "Laterality": "Left",
          "test": "ABD",
          "value": 13.853211009174311,
          "variable": "ABD/G"
         },
         {
          "Laterality": "Left",
          "test": "ABD",
          "value": 26.57492354740061,
          "variable": "ABD/G"
         },
         {
          "Laterality": "Left",
          "test": "ABD",
          "value": 23.623853211009173,
          "variable": "ABD/G"
         },
         {
          "Laterality": "Left",
          "test": "ABD",
          "value": 32.15596330275229,
          "variable": "ABD/G"
         },
         {
          "Laterality": "Left",
          "test": "ABD",
          "value": 26.580020387359834,
          "variable": "ABD/G"
         },
         {
          "Laterality": "Left",
          "test": "ABD",
          "value": 29.25586136595311,
          "variable": "ABD/G"
         },
         {
          "Laterality": "Left",
          "test": "ABD",
          "value": 27.538226299694188,
          "variable": "ABD/G"
         },
         {
          "Laterality": "Left",
          "test": "ABD",
          "value": 22.543323139653413,
          "variable": "ABD/G"
         },
         {
          "Laterality": "Left",
          "test": "ABD",
          "value": 24.71457696228338,
          "variable": "ABD/G"
         },
         {
          "Laterality": "Left",
          "test": "ABD",
          "value": 17.487257900101937,
          "variable": "ABD/G"
         },
         {
          "Laterality": "Left",
          "test": "ABD",
          "value": 28.277268093781853,
          "variable": "ABD/G"
         },
         {
          "Laterality": "Left",
          "test": "ABD",
          "value": 27.624872579001018,
          "variable": "ABD/G"
         },
         {
          "Laterality": "Left",
          "test": "ABD",
          "value": 23.037716615698265,
          "variable": "ABD/G"
         },
         {
          "Laterality": "Left",
          "test": "ABD",
          "value": 21.513761467889907,
          "variable": "ABD/G"
         },
         {
          "Laterality": "Left",
          "test": "ABD",
          "value": 18.226299694189603,
          "variable": "ABD/G"
         },
         {
          "Laterality": "Left",
          "test": "ABD",
          "value": 19.82670744138634,
          "variable": "ABD/G"
         },
         {
          "Laterality": "Left",
          "test": "ABD",
          "value": 24.505606523955148,
          "variable": "ABD/G"
         },
         {
          "Laterality": "Left",
          "test": "ABD",
          "value": 25.672782874617734,
          "variable": "ABD/G"
         },
         {
          "Laterality": "Left",
          "test": "ABD",
          "value": 28.139653414882773,
          "variable": "ABD/G"
         },
         {
          "Laterality": "Left",
          "test": "ABD",
          "value": 27.00815494393476,
          "variable": "ABD/G"
         },
         {
          "Laterality": "Left",
          "test": "ABD",
          "value": 22.83893985728848,
          "variable": "ABD/G"
         },
         {
          "Laterality": "Left",
          "test": "ABD",
          "value": 24.81651376146789,
          "variable": "ABD/G"
         },
         {
          "Laterality": "Left",
          "test": "ABD",
          "value": 18.873598369011212,
          "variable": "ABD/G"
         },
         {
          "Laterality": "Left",
          "test": "ABD",
          "value": 19.510703363914374,
          "variable": "ABD/G"
         },
         {
          "Laterality": "Left",
          "test": "ABD",
          "value": 24.27624872579001,
          "variable": "ABD/G"
         },
         {
          "Laterality": "Left",
          "test": "ABD",
          "value": 21.646279306829765,
          "variable": "ABD/G"
         },
         {
          "Laterality": "Left",
          "test": "ABD",
          "value": 16.870540265035675,
          "variable": "ABD/G"
         },
         {
          "Laterality": "Left",
          "test": "ABD",
          "value": 25.545361875637102,
          "variable": "ABD/G"
         },
         {
          "Laterality": "Left",
          "test": "ABD",
          "value": 30.24974515800204,
          "variable": "ABD/G"
         },
         {
          "Laterality": "Left",
          "test": "ABD",
          "value": 19.704383282364933,
          "variable": "ABD/G"
         },
         {
          "Laterality": "Left",
          "test": "ABD",
          "value": 23.598369011213048,
          "variable": "ABD/G"
         },
         {
          "Laterality": "Left",
          "test": "ABD",
          "value": 23.71559633027523,
          "variable": "ABD/G"
         },
         {
          "Laterality": "Left",
          "test": "ABD",
          "value": 22.716615698267073,
          "variable": "ABD/G"
         },
         {
          "Laterality": "Left",
          "test": "ABD",
          "value": 21.493374108053004,
          "variable": "ABD/G"
         },
         {
          "Laterality": "Left",
          "test": "ABD",
          "value": 22.65545361875637,
          "variable": "ABD/G"
         },
         {
          "Laterality": "Left",
          "test": "ABD",
          "value": 20.80020387359837,
          "variable": "ABD/G"
         },
         {
          "Laterality": "Left",
          "test": "ABD",
          "value": 21.93170234454638,
          "variable": "ABD/G"
         },
         {
          "Laterality": "Left",
          "test": "ABD",
          "value": 17.48216106014271,
          "variable": "ABD/G"
         },
         {
          "Laterality": "Left",
          "test": "ABD",
          "value": 24.388379204892964,
          "variable": "ABD/G"
         },
         {
          "Laterality": "Left",
          "test": "ABD",
          "value": 24.444444444444443,
          "variable": "ABD/G"
         },
         {
          "Laterality": "Left",
          "test": "ABD",
          "value": 20.948012232415902,
          "variable": "ABD/G"
         },
         {
          "Laterality": "Left",
          "test": "ABD",
          "value": 25.20387359836901,
          "variable": "ABD/G"
         },
         {
          "Laterality": "Left",
          "test": "ABD",
          "value": 24.215086646279307,
          "variable": "ABD/G"
         },
         {
          "Laterality": "right",
          "test": "ABD",
          "value": 18.338430173292558,
          "variable": "ABD/D"
         },
         {
          "Laterality": "right",
          "test": "ABD",
          "value": 21.18756371049949,
          "variable": "ABD/D"
         },
         {
          "Laterality": "right",
          "test": "ABD",
          "value": 23.817533129459733,
          "variable": "ABD/D"
         },
         {
          "Laterality": "right",
          "test": "ABD",
          "value": 13.46585117227319,
          "variable": "ABD/D"
         },
         {
          "Laterality": "right",
          "test": "ABD",
          "value": 23.165137614678898,
          "variable": "ABD/D"
         },
         {
          "Laterality": "right",
          "test": "ABD",
          "value": 36.47298674821611,
          "variable": "ABD/D"
         },
         {
          "Laterality": "right",
          "test": "ABD",
          "value": 14.311926605504587,
          "variable": "ABD/D"
         },
         {
          "Laterality": "right",
          "test": "ABD",
          "value": 16.82466870540265,
          "variable": "ABD/D"
         },
         {
          "Laterality": "right",
          "test": "ABD",
          "value": 24.582059123343527,
          "variable": "ABD/D"
         },
         {
          "Laterality": "right",
          "test": "ABD",
          "value": 32.04892966360856,
          "variable": "ABD/D"
         },
         {
          "Laterality": "right",
          "test": "ABD",
          "value": 23.91946992864424,
          "variable": "ABD/D"
         },
         {
          "Laterality": "right",
          "test": "ABD",
          "value": 13.720693170234453,
          "variable": "ABD/D"
         },
         {
          "Laterality": "right",
          "test": "ABD",
          "value": 12.961264016309888,
          "variable": "ABD/D"
         },
         {
          "Laterality": "right",
          "test": "ABD",
          "value": 19.65341488277268,
          "variable": "ABD/D"
         },
         {
          "Laterality": "right",
          "test": "ABD",
          "value": 30.723751274209985,
          "variable": "ABD/D"
         },
         {
          "Laterality": "right",
          "test": "ABD",
          "value": 20.70336391437309,
          "variable": "ABD/D"
         },
         {
          "Laterality": "right",
          "test": "ABD",
          "value": 26.029561671763506,
          "variable": "ABD/D"
         },
         {
          "Laterality": "right",
          "test": "ABD",
          "value": 20.524974515800203,
          "variable": "ABD/D"
         },
         {
          "Laterality": "right",
          "test": "ABD",
          "value": 19.714576962283385,
          "variable": "ABD/D"
         },
         {
          "Laterality": "right",
          "test": "ABD",
          "value": 23.058103975535165,
          "variable": "ABD/D"
         },
         {
          "Laterality": "right",
          "test": "ABD",
          "value": 20.10703363914373,
          "variable": "ABD/D"
         },
         {
          "Laterality": "right",
          "test": "ABD",
          "value": 20.142711518858306,
          "variable": "ABD/D"
         },
         {
          "Laterality": "right",
          "test": "ABD",
          "value": 19.592252803261974,
          "variable": "ABD/D"
         },
         {
          "Laterality": "right",
          "test": "ABD",
          "value": 22.533129459734965,
          "variable": "ABD/D"
         },
         {
          "Laterality": "right",
          "test": "ABD",
          "value": 14.5973496432212,
          "variable": "ABD/D"
         },
         {
          "Laterality": "right",
          "test": "ABD",
          "value": 27.92048929663608,
          "variable": "ABD/D"
         },
         {
          "Laterality": "right",
          "test": "ABD",
          "value": 25.98369011213048,
          "variable": "ABD/D"
         },
         {
          "Laterality": "right",
          "test": "ABD",
          "value": 21.52905198776758,
          "variable": "ABD/D"
         },
         {
          "Laterality": "right",
          "test": "ABD",
          "value": 11.218144750254842,
          "variable": "ABD/D"
         },
         {
          "Laterality": "right",
          "test": "ABD",
          "value": 15.36697247706422,
          "variable": "ABD/D"
         },
         {
          "Laterality": "right",
          "test": "ABD",
          "value": 20.973496432212027,
          "variable": "ABD/D"
         },
         {
          "Laterality": "right",
          "test": "ABD",
          "value": 31.804281345565748,
          "variable": "ABD/D"
         },
         {
          "Laterality": "right",
          "test": "ABD",
          "value": 28.74617737003058,
          "variable": "ABD/D"
         },
         {
          "Laterality": "right",
          "test": "ABD",
          "value": 30.988786952089704,
          "variable": "ABD/D"
         },
         {
          "Laterality": "right",
          "test": "ABD",
          "value": 27.522935779816514,
          "variable": "ABD/D"
         },
         {
          "Laterality": "right",
          "test": "ABD",
          "value": 25.68807339449541,
          "variable": "ABD/D"
         },
         {
          "Laterality": "right",
          "test": "ABD",
          "value": 25.4841997961264,
          "variable": "ABD/D"
         },
         {
          "Laterality": "right",
          "test": "ABD",
          "value": 26.809378185524974,
          "variable": "ABD/D"
         },
         {
          "Laterality": "right",
          "test": "ABD",
          "value": 24.464831804281346,
          "variable": "ABD/D"
         },
         {
          "Laterality": "right",
          "test": "ABD",
          "value": 24.668705402650357,
          "variable": "ABD/D"
         },
         {
          "Laterality": "right",
          "test": "ABD",
          "value": 18.74617737003058,
          "variable": "ABD/D"
         },
         {
          "Laterality": "right",
          "test": "ABD",
          "value": 29.78083588175331,
          "variable": "ABD/D"
         },
         {
          "Laterality": "right",
          "test": "ABD",
          "value": 16.615698267074414,
          "variable": "ABD/D"
         },
         {
          "Laterality": "right",
          "test": "ABD",
          "value": 23.873598369011212,
          "variable": "ABD/D"
         },
         {
          "Laterality": "right",
          "test": "ABD",
          "value": 16.54434250764526,
          "variable": "ABD/D"
         },
         {
          "Laterality": "right",
          "test": "ABD",
          "value": 27.45158002038736,
          "variable": "ABD/D"
         },
         {
          "Laterality": "right",
          "test": "ABD",
          "value": 21.16207951070336,
          "variable": "ABD/D"
         },
         {
          "Laterality": "right",
          "test": "ABD",
          "value": 25.39755351681957,
          "variable": "ABD/D"
         },
         {
          "Laterality": "right",
          "test": "ABD",
          "value": 26.712538226299696,
          "variable": "ABD/D"
         },
         {
          "Laterality": "right",
          "test": "ABD",
          "value": 13.216106014271151,
          "variable": "ABD/D"
         },
         {
          "Laterality": "right",
          "test": "ABD",
          "value": 26.630988786952088,
          "variable": "ABD/D"
         },
         {
          "Laterality": "right",
          "test": "ABD",
          "value": 24.29663608562691,
          "variable": "ABD/D"
         },
         {
          "Laterality": "right",
          "test": "ABD",
          "value": 31.845056065239547,
          "variable": "ABD/D"
         },
         {
          "Laterality": "right",
          "test": "ABD",
          "value": 27.706422018348622,
          "variable": "ABD/D"
         },
         {
          "Laterality": "right",
          "test": "ABD",
          "value": 31.78389398572885,
          "variable": "ABD/D"
         },
         {
          "Laterality": "right",
          "test": "ABD",
          "value": 26.42201834862385,
          "variable": "ABD/D"
         },
         {
          "Laterality": "right",
          "test": "ABD",
          "value": 21.483180428134556,
          "variable": "ABD/D"
         },
         {
          "Laterality": "right",
          "test": "ABD",
          "value": 24.14373088685015,
          "variable": "ABD/D"
         },
         {
          "Laterality": "right",
          "test": "ABD",
          "value": 16.38124362895005,
          "variable": "ABD/D"
         },
         {
          "Laterality": "right",
          "test": "ABD",
          "value": 27.619775739041792,
          "variable": "ABD/D"
         },
         {
          "Laterality": "right",
          "test": "ABD",
          "value": 26.095820591233434,
          "variable": "ABD/D"
         },
         {
          "Laterality": "right",
          "test": "ABD",
          "value": 22.140672782874617,
          "variable": "ABD/D"
         },
         {
          "Laterality": "right",
          "test": "ABD",
          "value": 23.99592252803262,
          "variable": "ABD/D"
         },
         {
          "Laterality": "right",
          "test": "ABD",
          "value": 16.69724770642202,
          "variable": "ABD/D"
         },
         {
          "Laterality": "right",
          "test": "ABD",
          "value": 20.316004077471966,
          "variable": "ABD/D"
         },
         {
          "Laterality": "right",
          "test": "ABD",
          "value": 22.252803261977572,
          "variable": "ABD/D"
         },
         {
          "Laterality": "right",
          "test": "ABD",
          "value": 26.855249745157998,
          "variable": "ABD/D"
         },
         {
          "Laterality": "right",
          "test": "ABD",
          "value": 25.886850152905197,
          "variable": "ABD/D"
         },
         {
          "Laterality": "right",
          "test": "ABD",
          "value": 27.181447502548416,
          "variable": "ABD/D"
         },
         {
          "Laterality": "right",
          "test": "ABD",
          "value": 23.419979612640162,
          "variable": "ABD/D"
         },
         {
          "Laterality": "right",
          "test": "ABD",
          "value": 25.13761467889908,
          "variable": "ABD/D"
         },
         {
          "Laterality": "right",
          "test": "ABD",
          "value": 19.867482161060142,
          "variable": "ABD/D"
         },
         {
          "Laterality": "right",
          "test": "ABD",
          "value": 19.556574923547398,
          "variable": "ABD/D"
         },
         {
          "Laterality": "right",
          "test": "ABD",
          "value": 24.06727828746177,
          "variable": "ABD/D"
         },
         {
          "Laterality": "right",
          "test": "ABD",
          "value": 19.831804281345565,
          "variable": "ABD/D"
         },
         {
          "Laterality": "right",
          "test": "ABD",
          "value": 17.48216106014271,
          "variable": "ABD/D"
         },
         {
          "Laterality": "right",
          "test": "ABD",
          "value": 26.977573904179405,
          "variable": "ABD/D"
         },
         {
          "Laterality": "right",
          "test": "ABD",
          "value": 28.924566768603466,
          "variable": "ABD/D"
         },
         {
          "Laterality": "right",
          "test": "ABD",
          "value": 19.1335372069317,
          "variable": "ABD/D"
         },
         {
          "Laterality": "right",
          "test": "ABD",
          "value": 22.268093781855246,
          "variable": "ABD/D"
         },
         {
          "Laterality": "right",
          "test": "ABD",
          "value": 21.630988786952088,
          "variable": "ABD/D"
         },
         {
          "Laterality": "right",
          "test": "ABD",
          "value": 21.396534148827726,
          "variable": "ABD/D"
         },
         {
          "Laterality": "right",
          "test": "ABD",
          "value": 21.340468909276247,
          "variable": "ABD/D"
         },
         {
          "Laterality": "right",
          "test": "ABD",
          "value": 23.119266055045873,
          "variable": "ABD/D"
         },
         {
          "Laterality": "right",
          "test": "ABD",
          "value": 21.40163098878695,
          "variable": "ABD/D"
         },
         {
          "Laterality": "right",
          "test": "ABD",
          "value": 19.0927624872579,
          "variable": "ABD/D"
         },
         {
          "Laterality": "right",
          "test": "ABD",
          "value": 17.252803261977572,
          "variable": "ABD/D"
         },
         {
          "Laterality": "right",
          "test": "ABD",
          "value": 22.966360856269112,
          "variable": "ABD/D"
         },
         {
          "Laterality": "right",
          "test": "ABD",
          "value": 24.69418960244648,
          "variable": "ABD/D"
         },
         {
          "Laterality": "right",
          "test": "ABD",
          "value": 23.45565749235474,
          "variable": "ABD/D"
         },
         {
          "Laterality": "right",
          "test": "ABD",
          "value": 26.116207951070333,
          "variable": "ABD/D"
         },
         {
          "Laterality": "right",
          "test": "ABD",
          "value": 21.40163098878695,
          "variable": "ABD/D"
         },
         {
          "Laterality": "Left",
          "test": "ER",
          "value": 9.464831804281344,
          "variable": "ER/G"
         },
         {
          "Laterality": "Left",
          "test": "ER",
          "value": 11.136595310907238,
          "variable": "ER/G"
         },
         {
          "Laterality": "Left",
          "test": "ER",
          "value": 7.0642201834862375,
          "variable": "ER/G"
         },
         {
          "Laterality": "Left",
          "test": "ER",
          "value": 5.524974515800204,
          "variable": "ER/G"
         },
         {
          "Laterality": "Left",
          "test": "ER",
          "value": 9.91335372069317,
          "variable": "ER/G"
         },
         {
          "Laterality": "Left",
          "test": "ER",
          "value": 9.44954128440367,
          "variable": "ER/G"
         },
         {
          "Laterality": "Left",
          "test": "ER",
          "value": 4.949031600407746,
          "variable": "ER/G"
         },
         {
          "Laterality": "Left",
          "test": "ER",
          "value": 9.49031600407747,
          "variable": "ER/G"
         },
         {
          "Laterality": "Left",
          "test": "ER",
          "value": 8.792048929663608,
          "variable": "ER/G"
         },
         {
          "Laterality": "Left",
          "test": "ER",
          "value": 9.0927624872579,
          "variable": "ER/G"
         },
         {
          "Laterality": "Left",
          "test": "ER",
          "value": 6.850152905198777,
          "variable": "ER/G"
         },
         {
          "Laterality": "Left",
          "test": "ER",
          "value": 7.3088685015290515,
          "variable": "ER/G"
         },
         {
          "Laterality": "Left",
          "test": "ER",
          "value": 4.949031600407746,
          "variable": "ER/G"
         },
         {
          "Laterality": "Left",
          "test": "ER",
          "value": 6.085626911314985,
          "variable": "ER/G"
         },
         {
          "Laterality": "Left",
          "test": "ER",
          "value": 10.01019367991845,
          "variable": "ER/G"
         },
         {
          "Laterality": "Left",
          "test": "ER",
          "value": 4.576962283384302,
          "variable": "ER/G"
         },
         {
          "Laterality": "Left",
          "test": "ER",
          "value": 8.328236493374108,
          "variable": "ER/G"
         },
         {
          "Laterality": "Left",
          "test": "ER",
          "value": 9.148827726809378,
          "variable": "ER/G"
         },
         {
          "Laterality": "Left",
          "test": "ER",
          "value": 5.948012232415902,
          "variable": "ER/G"
         },
         {
          "Laterality": "Left",
          "test": "ER",
          "value": 7.889908256880734,
          "variable": "ER/G"
         },
         {
          "Laterality": "Left",
          "test": "ER",
          "value": 7.701325178389398,
          "variable": "ER/G"
         },
         {
          "Laterality": "Left",
          "test": "ER",
          "value": 8.690112130479102,
          "variable": "ER/G"
         },
         {
          "Laterality": "Left",
          "test": "ER",
          "value": 7.033639143730887,
          "variable": "ER/G"
         },
         {
          "Laterality": "Left",
          "test": "ER",
          "value": 5.458715596330275,
          "variable": "ER/G"
         },
         {
          "Laterality": "Left",
          "test": "ER",
          "value": 7.115188583078491,
          "variable": "ER/G"
         },
         {
          "Laterality": "Left",
          "test": "ER",
          "value": 8.893985728848113,
          "variable": "ER/G"
         },
         {
          "Laterality": "Left",
          "test": "ER",
          "value": 7.395514780835881,
          "variable": "ER/G"
         },
         {
          "Laterality": "Left",
          "test": "ER",
          "value": 6.896024464831805,
          "variable": "ER/G"
         },
         {
          "Laterality": "Left",
          "test": "ER",
          "value": 4.45973496432212,
          "variable": "ER/G"
         },
         {
          "Laterality": "Left",
          "test": "ER",
          "value": 5.5963302752293576,
          "variable": "ER/G"
         },
         {
          "Laterality": "Left",
          "test": "ER",
          "value": 7.436289500509684,
          "variable": "ER/G"
         },
         {
          "Laterality": "Left",
          "test": "ER",
          "value": 10.601427115188583,
          "variable": "ER/G"
         },
         {
          "Laterality": "Left",
          "test": "ER",
          "value": 9.378185524974516,
          "variable": "ER/G"
         },
         {
          "Laterality": "Left",
          "test": "ER",
          "value": 10.19367991845056,
          "variable": "ER/G"
         },
         {
          "Laterality": "Left",
          "test": "ER",
          "value": 7.747196738022426,
          "variable": "ER/G"
         },
         {
          "Laterality": "Left",
          "test": "ER",
          "value": 8.56269113149847,
          "variable": "ER/G"
         },
         {
          "Laterality": "Left",
          "test": "ER",
          "value": 8.766564729867481,
          "variable": "ER/G"
         },
         {
          "Laterality": "Left",
          "test": "ER",
          "value": 6.727828746177369,
          "variable": "ER/G"
         },
         {
          "Laterality": "Left",
          "test": "ER",
          "value": 8.154943934760448,
          "variable": "ER/G"
         },
         {
          "Laterality": "Left",
          "test": "ER",
          "value": 7.237512742099898,
          "variable": "ER/G"
         },
         {
          "Laterality": "Left",
          "test": "ER",
          "value": 7.838939857288481,
          "variable": "ER/G"
         },
         {
          "Laterality": "Left",
          "test": "ER",
          "value": 9.867482161060142,
          "variable": "ER/G"
         },
         {
          "Laterality": "Left",
          "test": "ER",
          "value": 6.3710499490316,
          "variable": "ER/G"
         },
         {
          "Laterality": "Left",
          "test": "ER",
          "value": 10.545361875637104,
          "variable": "ER/G"
         },
         {
          "Laterality": "Left",
          "test": "ER",
          "value": 8.323139653414882,
          "variable": "ER/G"
         },
         {
          "Laterality": "Left",
          "test": "ER",
          "value": 8.435270132517838,
          "variable": "ER/G"
         },
         {
          "Laterality": "Left",
          "test": "ER",
          "value": 7.716615698267074,
          "variable": "ER/G"
         },
         {
          "Laterality": "Left",
          "test": "ER",
          "value": 8.226299694189603,
          "variable": "ER/G"
         },
         {
          "Laterality": "Left",
          "test": "ER",
          "value": 9.852191641182467,
          "variable": "ER/G"
         },
         {
          "Laterality": "Left",
          "test": "ER",
          "value": 4.770642201834862,
          "variable": "ER/G"
         },
         {
          "Laterality": "Left",
          "test": "ER",
          "value": 7.609582059123344,
          "variable": "ER/G"
         },
         {
          "Laterality": "Left",
          "test": "ER",
          "value": 8.577981651376147,
          "variable": "ER/G"
         },
         {
          "Laterality": "Left",
          "test": "ER",
          "value": 11.422018348623853,
          "variable": "ER/G"
         },
         {
          "Laterality": "Left",
          "test": "ER",
          "value": 8.812436289500509,
          "variable": "ER/G"
         },
         {
          "Laterality": "Left",
          "test": "ER",
          "value": 8.914373088685014,
          "variable": "ER/G"
         },
         {
          "Laterality": "Left",
          "test": "ER",
          "value": 11.248725790010193,
          "variable": "ER/G"
         },
         {
          "Laterality": "Left",
          "test": "ER",
          "value": 5.652395514780836,
          "variable": "ER/G"
         },
         {
          "Laterality": "Left",
          "test": "ER",
          "value": 6.121304791029561,
          "variable": "ER/G"
         },
         {
          "Laterality": "Left",
          "test": "ER",
          "value": 6.921508664627931,
          "variable": "ER/G"
         },
         {
          "Laterality": "Left",
          "test": "ER",
          "value": 11.289500509683995,
          "variable": "ER/G"
         },
         {
          "Laterality": "Left",
          "test": "ER",
          "value": 9.56676860346585,
          "variable": "ER/G"
         },
         {
          "Laterality": "Left",
          "test": "ER",
          "value": 8.501529051987768,
          "variable": "ER/G"
         },
         {
          "Laterality": "Left",
          "test": "ER",
          "value": 8.430173292558614,
          "variable": "ER/G"
         },
         {
          "Laterality": "Left",
          "test": "ER",
          "value": 7.859327217125381,
          "variable": "ER/G"
         },
         {
          "Laterality": "Left",
          "test": "ER",
          "value": 9.918450560652396,
          "variable": "ER/G"
         },
         {
          "Laterality": "Left",
          "test": "ER",
          "value": 8.91946992864424,
          "variable": "ER/G"
         },
         {
          "Laterality": "Left",
          "test": "ER",
          "value": 9.062181447502548,
          "variable": "ER/G"
         },
         {
          "Laterality": "Left",
          "test": "ER",
          "value": 7.293577981651375,
          "variable": "ER/G"
         },
         {
          "Laterality": "Left",
          "test": "ER",
          "value": 8.730886850152906,
          "variable": "ER/G"
         },
         {
          "Laterality": "Left",
          "test": "ER",
          "value": 8.934760448521917,
          "variable": "ER/G"
         },
         {
          "Laterality": "Left",
          "test": "ER",
          "value": 7.456676860346585,
          "variable": "ER/G"
         },
         {
          "Laterality": "Left",
          "test": "ER",
          "value": 4.597349643221203,
          "variable": "ER/G"
         },
         {
          "Laterality": "Left",
          "test": "ER",
          "value": 10.137614678899082,
          "variable": "ER/G"
         },
         {
          "Laterality": "Left",
          "test": "ER",
          "value": 6.269113149847095,
          "variable": "ER/G"
         },
         {
          "Laterality": "Left",
          "test": "ER",
          "value": 7.889908256880734,
          "variable": "ER/G"
         },
         {
          "Laterality": "Left",
          "test": "ER",
          "value": 7.844036697247707,
          "variable": "ER/G"
         },
         {
          "Laterality": "Left",
          "test": "ER",
          "value": 7.492354740061161,
          "variable": "ER/G"
         },
         {
          "Laterality": "Left",
          "test": "ER",
          "value": 8.221202854230377,
          "variable": "ER/G"
         },
         {
          "Laterality": "Left",
          "test": "ER",
          "value": 8.338430173292558,
          "variable": "ER/G"
         },
         {
          "Laterality": "Left",
          "test": "ER",
          "value": 6.258919469928644,
          "variable": "ER/G"
         },
         {
          "Laterality": "Left",
          "test": "ER",
          "value": 7.584097859327217,
          "variable": "ER/G"
         },
         {
          "Laterality": "Left",
          "test": "ER",
          "value": 9.097859327217124,
          "variable": "ER/G"
         },
         {
          "Laterality": "Left",
          "test": "ER",
          "value": 9.357798165137615,
          "variable": "ER/G"
         },
         {
          "Laterality": "Left",
          "test": "ER",
          "value": 10.168195718654435,
          "variable": "ER/G"
         },
         {
          "Laterality": "Left",
          "test": "ER",
          "value": 6.921508664627931,
          "variable": "ER/G"
         },
         {
          "Laterality": "Left",
          "test": "ER",
          "value": 8.404689092762487,
          "variable": "ER/G"
         },
         {
          "Laterality": "Left",
          "test": "ER",
          "value": 5.672782874617736,
          "variable": "ER/G"
         },
         {
          "Laterality": "Left",
          "test": "ER",
          "value": 8.37920489296636,
          "variable": "ER/G"
         },
         {
          "Laterality": "Left",
          "test": "ER",
          "value": 8.149847094801222,
          "variable": "ER/G"
         },
         {
          "Laterality": "Left",
          "test": "ER",
          "value": 6.4525993883792045,
          "variable": "ER/G"
         },
         {
          "Laterality": "Left",
          "test": "ER",
          "value": 8.328236493374108,
          "variable": "ER/G"
         },
         {
          "Laterality": "Left",
          "test": "ER",
          "value": 6.493374108053007,
          "variable": "ER/G"
         },
         {
          "Laterality": "right",
          "test": "ER",
          "value": 9.678899082568806,
          "variable": "ER/D"
         },
         {
          "Laterality": "right",
          "test": "ER",
          "value": 10.524974515800203,
          "variable": "ER/D"
         },
         {
          "Laterality": "right",
          "test": "ER",
          "value": 7.013251783893985,
          "variable": "ER/D"
         },
         {
          "Laterality": "right",
          "test": "ER",
          "value": 5.749235474006116,
          "variable": "ER/D"
         },
         {
          "Laterality": "right",
          "test": "ER",
          "value": 10.09683995922528,
          "variable": "ER/D"
         },
         {
          "Laterality": "right",
          "test": "ER",
          "value": 9.90316004077472,
          "variable": "ER/D"
         },
         {
          "Laterality": "right",
          "test": "ER",
          "value": 4.892966360856269,
          "variable": "ER/D"
         },
         {
          "Laterality": "right",
          "test": "ER",
          "value": 9.627930682976555,
          "variable": "ER/D"
         },
         {
          "Laterality": "right",
          "test": "ER",
          "value": 8.501529051987768,
          "variable": "ER/D"
         },
         {
          "Laterality": "right",
          "test": "ER",
          "value": 10.448521916411824,
          "variable": "ER/D"
         },
         {
          "Laterality": "right",
          "test": "ER",
          "value": 7.36493374108053,
          "variable": "ER/D"
         },
         {
          "Laterality": "right",
          "test": "ER",
          "value": 6.523955147808358,
          "variable": "ER/D"
         },
         {
          "Laterality": "right",
          "test": "ER",
          "value": 4.892966360856269,
          "variable": "ER/D"
         },
         {
          "Laterality": "right",
          "test": "ER",
          "value": 6.36085626911315,
          "variable": "ER/D"
         },
         {
          "Laterality": "right",
          "test": "ER",
          "value": 10.565749235474007,
          "variable": "ER/D"
         },
         {
          "Laterality": "right",
          "test": "ER",
          "value": 5.071355759429154,
          "variable": "ER/D"
         },
         {
          "Laterality": "right",
          "test": "ER",
          "value": 9.765545361875636,
          "variable": "ER/D"
         },
         {
          "Laterality": "right",
          "test": "ER",
          "value": 9.00611620795107,
          "variable": "ER/D"
         },
         {
          "Laterality": "right",
          "test": "ER",
          "value": 6.131498470948012,
          "variable": "ER/D"
         },
         {
          "Laterality": "right",
          "test": "ER",
          "value": 7.833843017329255,
          "variable": "ER/D"
         },
         {
          "Laterality": "right",
          "test": "ER",
          "value": 7.482161060142712,
          "variable": "ER/D"
         },
         {
          "Laterality": "right",
          "test": "ER",
          "value": 9.352701325178389,
          "variable": "ER/D"
         },
         {
          "Laterality": "right",
          "test": "ER",
          "value": 7.099898063200816,
          "variable": "ER/D"
         },
         {
          "Laterality": "right",
          "test": "ER",
          "value": 5.835881753312946,
          "variable": "ER/D"
         },
         {
          "Laterality": "right",
          "test": "ER",
          "value": 7.18144750254842,
          "variable": "ER/D"
         },
         {
          "Laterality": "right",
          "test": "ER",
          "value": 8.848114169215085,
          "variable": "ER/D"
         },
         {
          "Laterality": "right",
          "test": "ER",
          "value": 7.838939857288481,
          "variable": "ER/D"
         },
         {
          "Laterality": "right",
          "test": "ER",
          "value": 7.227319062181448,
          "variable": "ER/D"
         },
         {
          "Laterality": "right",
          "test": "ER",
          "value": 4.668705402650356,
          "variable": "ER/D"
         },
         {
          "Laterality": "right",
          "test": "ER",
          "value": 6.467889908256881,
          "variable": "ER/D"
         },
         {
          "Laterality": "right",
          "test": "ER",
          "value": 8.129459734964321,
          "variable": "ER/D"
         },
         {
          "Laterality": "right",
          "test": "ER",
          "value": 11.213047910295616,
          "variable": "ER/D"
         },
         {
          "Laterality": "right",
          "test": "ER",
          "value": 9.378185524974516,
          "variable": "ER/D"
         },
         {
          "Laterality": "right",
          "test": "ER",
          "value": 10.9072375127421,
          "variable": "ER/D"
         },
         {
          "Laterality": "right",
          "test": "ER",
          "value": 7.237512742099898,
          "variable": "ER/D"
         },
         {
          "Laterality": "right",
          "test": "ER",
          "value": 8.56269113149847,
          "variable": "ER/D"
         },
         {
          "Laterality": "right",
          "test": "ER",
          "value": 7.543323139653414,
          "variable": "ER/D"
         },
         {
          "Laterality": "right",
          "test": "ER",
          "value": 8.358817533129459,
          "variable": "ER/D"
         },
         {
          "Laterality": "right",
          "test": "ER",
          "value": 7.339449541284403,
          "variable": "ER/D"
         },
         {
          "Laterality": "right",
          "test": "ER",
          "value": 7.135575942915392,
          "variable": "ER/D"
         },
         {
          "Laterality": "right",
          "test": "ER",
          "value": 8.506625891946992,
          "variable": "ER/D"
         },
         {
          "Laterality": "right",
          "test": "ER",
          "value": 10.234454638124364,
          "variable": "ER/D"
         },
         {
          "Laterality": "right",
          "test": "ER",
          "value": 8.01223241590214,
          "variable": "ER/D"
         },
         {
          "Laterality": "right",
          "test": "ER",
          "value": 11.529051987767582,
          "variable": "ER/D"
         },
         {
          "Laterality": "right",
          "test": "ER",
          "value": 8.603465851172274,
          "variable": "ER/D"
         },
         {
          "Laterality": "right",
          "test": "ER",
          "value": 9.179408766564729,
          "variable": "ER/D"
         },
         {
          "Laterality": "right",
          "test": "ER",
          "value": 8.226299694189603,
          "variable": "ER/D"
         },
         {
          "Laterality": "right",
          "test": "ER",
          "value": 8.25178389398573,
          "variable": "ER/D"
         },
         {
          "Laterality": "right",
          "test": "ER",
          "value": 10.55045871559633,
          "variable": "ER/D"
         },
         {
          "Laterality": "right",
          "test": "ER",
          "value": 5.840978593272171,
          "variable": "ER/D"
         },
         {
          "Laterality": "right",
          "test": "ER",
          "value": 9.367991845056066,
          "variable": "ER/D"
         },
         {
          "Laterality": "right",
          "test": "ER",
          "value": 7.869520897043833,
          "variable": "ER/D"
         },
         {
          "Laterality": "right",
          "test": "ER",
          "value": 10.856269113149846,
          "variable": "ER/D"
         },
         {
          "Laterality": "right",
          "test": "ER",
          "value": 10.09683995922528,
          "variable": "ER/D"
         },
         {
          "Laterality": "right",
          "test": "ER",
          "value": 9.775739041794088,
          "variable": "ER/D"
         },
         {
          "Laterality": "right",
          "test": "ER",
          "value": 11.009174311926605,
          "variable": "ER/D"
         },
         {
          "Laterality": "right",
          "test": "ER",
          "value": 5.5300713557594285,
          "variable": "ER/D"
         },
         {
          "Laterality": "right",
          "test": "ER",
          "value": 6.8807339449541285,
          "variable": "ER/D"
         },
         {
          "Laterality": "right",
          "test": "ER",
          "value": 7.395514780835881,
          "variable": "ER/D"
         },
         {
          "Laterality": "right",
          "test": "ER",
          "value": 12.47196738022426,
          "variable": "ER/D"
         },
         {
          "Laterality": "right",
          "test": "ER",
          "value": 10.458715596330274,
          "variable": "ER/D"
         },
         {
          "Laterality": "right",
          "test": "ER",
          "value": 9.072375127421,
          "variable": "ER/D"
         },
         {
          "Laterality": "right",
          "test": "ER",
          "value": 9.531090723751273,
          "variable": "ER/D"
         },
         {
          "Laterality": "right",
          "test": "ER",
          "value": 7.558613659531091,
          "variable": "ER/D"
         },
         {
          "Laterality": "right",
          "test": "ER",
          "value": 10.203873598369011,
          "variable": "ER/D"
         },
         {
          "Laterality": "right",
          "test": "ER",
          "value": 8.618756371049948,
          "variable": "ER/D"
         },
         {
          "Laterality": "right",
          "test": "ER",
          "value": 8.873598369011212,
          "variable": "ER/D"
         },
         {
          "Laterality": "right",
          "test": "ER",
          "value": 8.129459734964321,
          "variable": "ER/D"
         },
         {
          "Laterality": "right",
          "test": "ER",
          "value": 9.633027522935778,
          "variable": "ER/D"
         },
         {
          "Laterality": "right",
          "test": "ER",
          "value": 9.271151885830784,
          "variable": "ER/D"
         },
         {
          "Laterality": "right",
          "test": "ER",
          "value": 8.165137614678898,
          "variable": "ER/D"
         },
         {
          "Laterality": "right",
          "test": "ER",
          "value": 5.988786952089704,
          "variable": "ER/D"
         },
         {
          "Laterality": "right",
          "test": "ER",
          "value": 11.350662589194698,
          "variable": "ER/D"
         },
         {
          "Laterality": "right",
          "test": "ER",
          "value": 7.456676860346585,
          "variable": "ER/D"
         },
         {
          "Laterality": "right",
          "test": "ER",
          "value": 7.99184505606524,
          "variable": "ER/D"
         },
         {
          "Laterality": "right",
          "test": "ER",
          "value": 8.669724770642201,
          "variable": "ER/D"
         },
         {
          "Laterality": "right",
          "test": "ER",
          "value": 8.149847094801222,
          "variable": "ER/D"
         },
         {
          "Laterality": "right",
          "test": "ER",
          "value": 8.654434250764526,
          "variable": "ER/D"
         },
         {
          "Laterality": "right",
          "test": "ER",
          "value": 8.868501529051988,
          "variable": "ER/D"
         },
         {
          "Laterality": "right",
          "test": "ER",
          "value": 7.497451580020386,
          "variable": "ER/D"
         },
         {
          "Laterality": "right",
          "test": "ER",
          "value": 8.246687054026504,
          "variable": "ER/D"
         },
         {
          "Laterality": "right",
          "test": "ER",
          "value": 8.501529051987768,
          "variable": "ER/D"
         },
         {
          "Laterality": "right",
          "test": "ER",
          "value": 8.980632008154943,
          "variable": "ER/D"
         },
         {
          "Laterality": "right",
          "test": "ER",
          "value": 11.982670744138634,
          "variable": "ER/D"
         },
         {
          "Laterality": "right",
          "test": "ER",
          "value": 8.669724770642201,
          "variable": "ER/D"
         },
         {
          "Laterality": "right",
          "test": "ER",
          "value": 8.832823649337412,
          "variable": "ER/D"
         },
         {
          "Laterality": "right",
          "test": "ER",
          "value": 6.411824668705402,
          "variable": "ER/D"
         },
         {
          "Laterality": "right",
          "test": "ER",
          "value": 9.347604485219163,
          "variable": "ER/D"
         },
         {
          "Laterality": "right",
          "test": "ER",
          "value": 9.745158002038735,
          "variable": "ER/D"
         },
         {
          "Laterality": "right",
          "test": "ER",
          "value": 7.089704383282364,
          "variable": "ER/D"
         },
         {
          "Laterality": "right",
          "test": "ER",
          "value": 8.623853211009173,
          "variable": "ER/D"
         },
         {
          "Laterality": "right",
          "test": "ER",
          "value": 6.732925586136595,
          "variable": "ER/D"
         },
         {
          "Laterality": "Left",
          "test": "IR",
          "value": 5.331294597349642,
          "variable": "IR/G"
         },
         {
          "Laterality": "Left",
          "test": "IR",
          "value": 10.030581039755353,
          "variable": "IR/G"
         },
         {
          "Laterality": "Left",
          "test": "IR",
          "value": 12.232415902140673,
          "variable": "IR/G"
         },
         {
          "Laterality": "Left",
          "test": "IR",
          "value": 4.0672782874617734,
          "variable": "IR/G"
         },
         {
          "Laterality": "Left",
          "test": "IR",
          "value": 7.869520897043833,
          "variable": "IR/G"
         },
         {
          "Laterality": "Left",
          "test": "IR",
          "value": 14.923547400611621,
          "variable": "IR/G"
         },
         {
          "Laterality": "Left",
          "test": "IR",
          "value": 5.953109072375127,
          "variable": "IR/G"
         },
         {
          "Laterality": "Left",
          "test": "IR",
          "value": 4.9898063200815495,
          "variable": "IR/G"
         },
         {
          "Laterality": "Left",
          "test": "IR",
          "value": 9.00611620795107,
          "variable": "IR/G"
         },
         {
          "Laterality": "Left",
          "test": "IR",
          "value": 13.160040774719672,
          "variable": "IR/G"
         },
         {
          "Laterality": "Left",
          "test": "IR",
          "value": 5.7543323139653415,
          "variable": "IR/G"
         },
         {
          "Laterality": "Left",
          "test": "IR",
          "value": 8.119266055045872,
          "variable": "IR/G"
         },
         {
          "Laterality": "Left",
          "test": "IR",
          "value": 5.953109072375127,
          "variable": "IR/G"
         },
         {
          "Laterality": "Left",
          "test": "IR",
          "value": 6.646279306829766,
          "variable": "IR/G"
         },
         {
          "Laterality": "Left",
          "test": "IR",
          "value": 11.085626911314984,
          "variable": "IR/G"
         },
         {
          "Laterality": "Left",
          "test": "IR",
          "value": 8.527013251783893,
          "variable": "IR/G"
         },
         {
          "Laterality": "Left",
          "test": "IR",
          "value": 14.143730886850152,
          "variable": "IR/G"
         },
         {
          "Laterality": "Left",
          "test": "IR",
          "value": 10.316004077471968,
          "variable": "IR/G"
         },
         {
          "Laterality": "Left",
          "test": "IR",
          "value": 7.869520897043833,
          "variable": "IR/G"
         },
         {
          "Laterality": "Left",
          "test": "IR",
          "value": 13.093781855249743,
          "variable": "IR/G"
         },
         {
          "Laterality": "Left",
          "test": "IR",
          "value": 8.073394495412844,
          "variable": "IR/G"
         },
         {
          "Laterality": "Left",
          "test": "IR",
          "value": 10.361875637104996,
          "variable": "IR/G"
         },
         {
          "Laterality": "Left",
          "test": "IR",
          "value": 10.341488277268093,
          "variable": "IR/G"
         },
         {
          "Laterality": "Left",
          "test": "IR",
          "value": 11.314984709480122,
          "variable": "IR/G"
         },
         {
          "Laterality": "Left",
          "test": "IR",
          "value": 6.4525993883792045,
          "variable": "IR/G"
         },
         {
          "Laterality": "Left",
          "test": "IR",
          "value": 9.255861365953109,
          "variable": "IR/G"
         },
         {
          "Laterality": "Left",
          "test": "IR",
          "value": 11.906218144750254,
          "variable": "IR/G"
         },
         {
          "Laterality": "Left",
          "test": "IR",
          "value": 14.612640163098877,
          "variable": "IR/G"
         },
         {
          "Laterality": "Left",
          "test": "IR",
          "value": 5.657492354740061,
          "variable": "IR/G"
         },
         {
          "Laterality": "Left",
          "test": "IR",
          "value": 5.703363914373089,
          "variable": "IR/G"
         },
         {
          "Laterality": "Left",
          "test": "IR",
          "value": 12.39551478083588,
          "variable": "IR/G"
         },
         {
          "Laterality": "Left",
          "test": "IR",
          "value": 11.416921508664627,
          "variable": "IR/G"
         },
         {
          "Laterality": "Left",
          "test": "IR",
          "value": 10.091743119266054,
          "variable": "IR/G"
         },
         {
          "Laterality": "Left",
          "test": "IR",
          "value": 12.945973496432211,
          "variable": "IR/G"
         },
         {
          "Laterality": "Left",
          "test": "IR",
          "value": 10.499490316004078,
          "variable": "IR/G"
         },
         {
          "Laterality": "Left",
          "test": "IR",
          "value": 6.320081549439347,
          "variable": "IR/G"
         },
         {
          "Laterality": "Left",
          "test": "IR",
          "value": 7.339449541284403,
          "variable": "IR/G"
         },
         {
          "Laterality": "Left",
          "test": "IR",
          "value": 8.256880733944953,
          "variable": "IR/G"
         },
         {
          "Laterality": "Left",
          "test": "IR",
          "value": 11.620795107033638,
          "variable": "IR/G"
         },
         {
          "Laterality": "Left",
          "test": "IR",
          "value": 10.19367991845056,
          "variable": "IR/G"
         },
         {
          "Laterality": "Left",
          "test": "IR",
          "value": 5.581039755351681,
          "variable": "IR/G"
         },
         {
          "Laterality": "Left",
          "test": "IR",
          "value": 12.125382262996942,
          "variable": "IR/G"
         },
         {
          "Laterality": "Left",
          "test": "IR",
          "value": 9.64322120285423,
          "variable": "IR/G"
         },
         {
          "Laterality": "Left",
          "test": "IR",
          "value": 12.497451580020385,
          "variable": "IR/G"
         },
         {
          "Laterality": "Left",
          "test": "IR",
          "value": 9.505606523955148,
          "variable": "IR/G"
         },
         {
          "Laterality": "Left",
          "test": "IR",
          "value": 9.255861365953109,
          "variable": "IR/G"
         },
         {
          "Laterality": "Left",
          "test": "IR",
          "value": 10.672782874617736,
          "variable": "IR/G"
         },
         {
          "Laterality": "Left",
          "test": "IR",
          "value": 9.69928644240571,
          "variable": "IR/G"
         },
         {
          "Laterality": "Left",
          "test": "IR",
          "value": 12.737003058103975,
          "variable": "IR/G"
         },
         {
          "Laterality": "Left",
          "test": "IR",
          "value": 9.704383282364933,
          "variable": "IR/G"
         },
         {
          "Laterality": "Left",
          "test": "IR",
          "value": 11.365953109072375,
          "variable": "IR/G"
         },
         {
          "Laterality": "Left",
          "test": "IR",
          "value": 9.796126401630987,
          "variable": "IR/G"
         },
         {
          "Laterality": "Left",
          "test": "IR",
          "value": 12.772680937818551,
          "variable": "IR/G"
         },
         {
          "Laterality": "Left",
          "test": "IR",
          "value": 10.356778797145768,
          "variable": "IR/G"
         },
         {
          "Laterality": "Left",
          "test": "IR",
          "value": 11.284403669724771,
          "variable": "IR/G"
         },
         {
          "Laterality": "Left",
          "test": "IR",
          "value": 12.446483180428134,
          "variable": "IR/G"
         },
         {
          "Laterality": "Left",
          "test": "IR",
          "value": 6.258919469928644,
          "variable": "IR/G"
         },
         {
          "Laterality": "Left",
          "test": "IR",
          "value": 8.547400611620795,
          "variable": "IR/G"
         },
         {
          "Laterality": "Left",
          "test": "IR",
          "value": 7.971457696228338,
          "variable": "IR/G"
         },
         {
          "Laterality": "Left",
          "test": "IR",
          "value": 9.724770642201834,
          "variable": "IR/G"
         },
         {
          "Laterality": "Left",
          "test": "IR",
          "value": 8.55249745158002,
          "variable": "IR/G"
         },
         {
          "Laterality": "Left",
          "test": "IR",
          "value": 11.47808358817533,
          "variable": "IR/G"
         },
         {
          "Laterality": "Left",
          "test": "IR",
          "value": 16.50866462793068,
          "variable": "IR/G"
         },
         {
          "Laterality": "Left",
          "test": "IR",
          "value": 10.851172273190622,
          "variable": "IR/G"
         },
         {
          "Laterality": "Left",
          "test": "IR",
          "value": 14.546381243628948,
          "variable": "IR/G"
         },
         {
          "Laterality": "Left",
          "test": "IR",
          "value": 9.424057084607544,
          "variable": "IR/G"
         },
         {
          "Laterality": "Left",
          "test": "IR",
          "value": 10.275229357798164,
          "variable": "IR/G"
         },
         {
          "Laterality": "Left",
          "test": "IR",
          "value": 8.863404689092762,
          "variable": "IR/G"
         },
         {
          "Laterality": "Left",
          "test": "IR",
          "value": 12.38532110091743,
          "variable": "IR/G"
         },
         {
          "Laterality": "Left",
          "test": "IR",
          "value": 8.990825688073395,
          "variable": "IR/G"
         },
         {
          "Laterality": "Left",
          "test": "IR",
          "value": 11.483180428134556,
          "variable": "IR/G"
         },
         {
          "Laterality": "Left",
          "test": "IR",
          "value": 10.524974515800203,
          "variable": "IR/G"
         },
         {
          "Laterality": "Left",
          "test": "IR",
          "value": 17.813455657492355,
          "variable": "IR/G"
         },
         {
          "Laterality": "Left",
          "test": "IR",
          "value": 10.759429153924566,
          "variable": "IR/G"
         },
         {
          "Laterality": "Left",
          "test": "IR",
          "value": 9.429153924566767,
          "variable": "IR/G"
         },
         {
          "Laterality": "Left",
          "test": "IR",
          "value": 9.413863404689092,
          "variable": "IR/G"
         },
         {
          "Laterality": "Left",
          "test": "IR",
          "value": 10.361875637104996,
          "variable": "IR/G"
         },
         {
          "Laterality": "Left",
          "test": "IR",
          "value": 14.097859327217126,
          "variable": "IR/G"
         },
         {
          "Laterality": "Left",
          "test": "IR",
          "value": 10.535168195718652,
          "variable": "IR/G"
         },
         {
          "Laterality": "Left",
          "test": "IR",
          "value": 8.883792048929664,
          "variable": "IR/G"
         },
         {
          "Laterality": "Left",
          "test": "IR",
          "value": 9.37308868501529,
          "variable": "IR/G"
         },
         {
          "Laterality": "Left",
          "test": "IR",
          "value": 12.716615698267073,
          "variable": "IR/G"
         },
         {
          "Laterality": "Left",
          "test": "IR",
          "value": 10.73394495412844,
          "variable": "IR/G"
         },
         {
          "Laterality": "Left",
          "test": "IR",
          "value": 13.73598369011213,
          "variable": "IR/G"
         },
         {
          "Laterality": "Left",
          "test": "IR",
          "value": 7.701325178389398,
          "variable": "IR/G"
         },
         {
          "Laterality": "Left",
          "test": "IR",
          "value": 13.063200815494394,
          "variable": "IR/G"
         },
         {
          "Laterality": "Left",
          "test": "IR",
          "value": 6.64118246687054,
          "variable": "IR/G"
         },
         {
          "Laterality": "Left",
          "test": "IR",
          "value": 8.124362895005097,
          "variable": "IR/G"
         },
         {
          "Laterality": "Left",
          "test": "IR",
          "value": 12.329255861365953,
          "variable": "IR/G"
         },
         {
          "Laterality": "Left",
          "test": "IR",
          "value": 11.630988786952088,
          "variable": "IR/G"
         },
         {
          "Laterality": "Left",
          "test": "IR",
          "value": 9.403669724770642,
          "variable": "IR/G"
         },
         {
          "Laterality": "Left",
          "test": "IR",
          "value": 8.73598369011213,
          "variable": "IR/G"
         },
         {
          "Laterality": "right",
          "test": "IR",
          "value": 5.295616717635066,
          "variable": "IR/D"
         },
         {
          "Laterality": "right",
          "test": "IR",
          "value": 8.567787971457696,
          "variable": "IR/D"
         },
         {
          "Laterality": "right",
          "test": "IR",
          "value": 12.21202854230377,
          "variable": "IR/D"
         },
         {
          "Laterality": "right",
          "test": "IR",
          "value": 3.7920489296636086,
          "variable": "IR/D"
         },
         {
          "Laterality": "right",
          "test": "IR",
          "value": 6.365953109072375,
          "variable": "IR/D"
         },
         {
          "Laterality": "right",
          "test": "IR",
          "value": 14.500509683995922,
          "variable": "IR/D"
         },
         {
          "Laterality": "right",
          "test": "IR",
          "value": 5.36697247706422,
          "variable": "IR/D"
         },
         {
          "Laterality": "right",
          "test": "IR",
          "value": 3.9296636085626906,
          "variable": "IR/D"
         },
         {
          "Laterality": "right",
          "test": "IR",
          "value": 8.486238532110091,
          "variable": "IR/D"
         },
         {
          "Laterality": "right",
          "test": "IR",
          "value": 11.12130479102956,
          "variable": "IR/D"
         },
         {
          "Laterality": "right",
          "test": "IR",
          "value": 5.968399592252803,
          "variable": "IR/D"
         },
         {
          "Laterality": "right",
          "test": "IR",
          "value": 7.777777777777777,
          "variable": "IR/D"
         },
         {
          "Laterality": "right",
          "test": "IR",
          "value": 5.36697247706422,
          "variable": "IR/D"
         },
         {
          "Laterality": "right",
          "test": "IR",
          "value": 5.988786952089704,
          "variable": "IR/D"
         },
         {
          "Laterality": "right",
          "test": "IR",
          "value": 10.249745158002037,
          "variable": "IR/D"
         },
         {
          "Laterality": "right",
          "test": "IR",
          "value": 6.727828746177369,
          "variable": "IR/D"
         },
         {
          "Laterality": "right",
          "test": "IR",
          "value": 14.189602446483178,
          "variable": "IR/D"
         },
         {
          "Laterality": "right",
          "test": "IR",
          "value": 9.755351681957187,
          "variable": "IR/D"
         },
         {
          "Laterality": "right",
          "test": "IR",
          "value": 6.4525993883792045,
          "variable": "IR/D"
         },
         {
          "Laterality": "right",
          "test": "IR",
          "value": 10.815494393476044,
          "variable": "IR/D"
         },
         {
          "Laterality": "right",
          "test": "IR",
          "value": 6.82466870540265,
          "variable": "IR/D"
         },
         {
          "Laterality": "right",
          "test": "IR",
          "value": 10.356778797145768,
          "variable": "IR/D"
         },
         {
          "Laterality": "right",
          "test": "IR",
          "value": 10.886850152905199,
          "variable": "IR/D"
         },
         {
          "Laterality": "right",
          "test": "IR",
          "value": 8.853211009174311,
          "variable": "IR/D"
         },
         {
          "Laterality": "right",
          "test": "IR",
          "value": 5.723751274209989,
          "variable": "IR/D"
         },
         {
          "Laterality": "right",
          "test": "IR",
          "value": 9.994903160040774,
          "variable": "IR/D"
         },
         {
          "Laterality": "right",
          "test": "IR",
          "value": 11.987767584097858,
          "variable": "IR/D"
         },
         {
          "Laterality": "right",
          "test": "IR",
          "value": 11.799184505606524,
          "variable": "IR/D"
         },
         {
          "Laterality": "right",
          "test": "IR",
          "value": 5.198776758409785,
          "variable": "IR/D"
         },
         {
          "Laterality": "right",
          "test": "IR",
          "value": 5.682976554536188,
          "variable": "IR/D"
         },
         {
          "Laterality": "right",
          "test": "IR",
          "value": 12.334352701325178,
          "variable": "IR/D"
         },
         {
          "Laterality": "right",
          "test": "IR",
          "value": 12.02854230377166,
          "variable": "IR/D"
         },
         {
          "Laterality": "right",
          "test": "IR",
          "value": 8.358817533129459,
          "variable": "IR/D"
         },
         {
          "Laterality": "right",
          "test": "IR",
          "value": 11.11111111111111,
          "variable": "IR/D"
         },
         {
          "Laterality": "right",
          "test": "IR",
          "value": 10.19367991845056,
          "variable": "IR/D"
         },
         {
          "Laterality": "right",
          "test": "IR",
          "value": 5.912334352701325,
          "variable": "IR/D"
         },
         {
          "Laterality": "right",
          "test": "IR",
          "value": 5.198776758409785,
          "variable": "IR/D"
         },
         {
          "Laterality": "right",
          "test": "IR",
          "value": 7.135575942915392,
          "variable": "IR/D"
         },
         {
          "Laterality": "right",
          "test": "IR",
          "value": 8.868501529051988,
          "variable": "IR/D"
         },
         {
          "Laterality": "right",
          "test": "IR",
          "value": 9.785932721712538,
          "variable": "IR/D"
         },
         {
          "Laterality": "right",
          "test": "IR",
          "value": 6.911314984709479,
          "variable": "IR/D"
         },
         {
          "Laterality": "right",
          "test": "IR",
          "value": 12.125382262996942,
          "variable": "IR/D"
         },
         {
          "Laterality": "right",
          "test": "IR",
          "value": 9.255861365953109,
          "variable": "IR/D"
         },
         {
          "Laterality": "right",
          "test": "IR",
          "value": 10.591233435270132,
          "variable": "IR/D"
         },
         {
          "Laterality": "right",
          "test": "IR",
          "value": 8.053007135575942,
          "variable": "IR/D"
         },
         {
          "Laterality": "right",
          "test": "IR",
          "value": 8.593272171253822,
          "variable": "IR/D"
         },
         {
          "Laterality": "right",
          "test": "IR",
          "value": 8.211009174311926,
          "variable": "IR/D"
         },
         {
          "Laterality": "right",
          "test": "IR",
          "value": 10.718654434250764,
          "variable": "IR/D"
         },
         {
          "Laterality": "right",
          "test": "IR",
          "value": 12.426095820591234,
          "variable": "IR/D"
         },
         {
          "Laterality": "right",
          "test": "IR",
          "value": 6.814475025484199,
          "variable": "IR/D"
         },
         {
          "Laterality": "right",
          "test": "IR",
          "value": 10.621814475025484,
          "variable": "IR/D"
         },
         {
          "Laterality": "right",
          "test": "IR",
          "value": 9.18960244648318,
          "variable": "IR/D"
         },
         {
          "Laterality": "right",
          "test": "IR",
          "value": 12.737003058103975,
          "variable": "IR/D"
         },
         {
          "Laterality": "right",
          "test": "IR",
          "value": 9.796126401630987,
          "variable": "IR/D"
         },
         {
          "Laterality": "right",
          "test": "IR",
          "value": 10.331294597349642,
          "variable": "IR/D"
         },
         {
          "Laterality": "right",
          "test": "IR",
          "value": 12.099898063200815,
          "variable": "IR/D"
         },
         {
          "Laterality": "right",
          "test": "IR",
          "value": 6.121304791029561,
          "variable": "IR/D"
         },
         {
          "Laterality": "right",
          "test": "IR",
          "value": 8.669724770642201,
          "variable": "IR/D"
         },
         {
          "Laterality": "right",
          "test": "IR",
          "value": 7.048929663608563,
          "variable": "IR/D"
         },
         {
          "Laterality": "right",
          "test": "IR",
          "value": 8.363914373088685,
          "variable": "IR/D"
         },
         {
          "Laterality": "right",
          "test": "IR",
          "value": 8.55249745158002,
          "variable": "IR/D"
         },
         {
          "Laterality": "right",
          "test": "IR",
          "value": 9.500509683995922,
          "variable": "IR/D"
         },
         {
          "Laterality": "right",
          "test": "IR",
          "value": 14.877675840978592,
          "variable": "IR/D"
         },
         {
          "Laterality": "right",
          "test": "IR",
          "value": 10.407747196738022,
          "variable": "IR/D"
         },
         {
          "Laterality": "right",
          "test": "IR",
          "value": 13.15494393476045,
          "variable": "IR/D"
         },
         {
          "Laterality": "right",
          "test": "IR",
          "value": 10.815494393476044,
          "variable": "IR/D"
         },
         {
          "Laterality": "right",
          "test": "IR",
          "value": 9.051987767584096,
          "variable": "IR/D"
         },
         {
          "Laterality": "right",
          "test": "IR",
          "value": 9.19979612640163,
          "variable": "IR/D"
         },
         {
          "Laterality": "right",
          "test": "IR",
          "value": 9.587155963302752,
          "variable": "IR/D"
         },
         {
          "Laterality": "right",
          "test": "IR",
          "value": 10.015290519877675,
          "variable": "IR/D"
         },
         {
          "Laterality": "right",
          "test": "IR",
          "value": 11.223241590214066,
          "variable": "IR/D"
         },
         {
          "Laterality": "right",
          "test": "IR",
          "value": 11.982670744138634,
          "variable": "IR/D"
         },
         {
          "Laterality": "right",
          "test": "IR",
          "value": 15.886850152905197,
          "variable": "IR/D"
         },
         {
          "Laterality": "right",
          "test": "IR",
          "value": 8.960244648318042,
          "variable": "IR/D"
         },
         {
          "Laterality": "right",
          "test": "IR",
          "value": 7.961264016309887,
          "variable": "IR/D"
         },
         {
          "Laterality": "right",
          "test": "IR",
          "value": 10.652395514780835,
          "variable": "IR/D"
         },
         {
          "Laterality": "right",
          "test": "IR",
          "value": 11.11111111111111,
          "variable": "IR/D"
         },
         {
          "Laterality": "right",
          "test": "IR",
          "value": 12.594291539245667,
          "variable": "IR/D"
         },
         {
          "Laterality": "right",
          "test": "IR",
          "value": 9.806320081549439,
          "variable": "IR/D"
         },
         {
          "Laterality": "right",
          "test": "IR",
          "value": 9.260958205912333,
          "variable": "IR/D"
         },
         {
          "Laterality": "right",
          "test": "IR",
          "value": 9.969418960244647,
          "variable": "IR/D"
         },
         {
          "Laterality": "right",
          "test": "IR",
          "value": 12.079510703363914,
          "variable": "IR/D"
         },
         {
          "Laterality": "right",
          "test": "IR",
          "value": 10.346585117227319,
          "variable": "IR/D"
         },
         {
          "Laterality": "right",
          "test": "IR",
          "value": 13.741080530071356,
          "variable": "IR/D"
         },
         {
          "Laterality": "right",
          "test": "IR",
          "value": 7.517838939857288,
          "variable": "IR/D"
         },
         {
          "Laterality": "right",
          "test": "IR",
          "value": 11.885830784913352,
          "variable": "IR/D"
         },
         {
          "Laterality": "right",
          "test": "IR",
          "value": 7.558613659531091,
          "variable": "IR/D"
         },
         {
          "Laterality": "right",
          "test": "IR",
          "value": 8.91946992864424,
          "variable": "IR/D"
         },
         {
          "Laterality": "right",
          "test": "IR",
          "value": 11.106014271151885,
          "variable": "IR/D"
         },
         {
          "Laterality": "right",
          "test": "IR",
          "value": 11.314984709480122,
          "variable": "IR/D"
         },
         {
          "Laterality": "right",
          "test": "IR",
          "value": 9.403669724770642,
          "variable": "IR/D"
         },
         {
          "Laterality": "right",
          "test": "IR",
          "value": 9.408766564729866,
          "variable": "IR/D"
         },
         {
          "Laterality": "Left",
          "test": "EXT",
          "value": 16.98776758409786,
          "variable": "EXT/G"
         },
         {
          "Laterality": "Left",
          "test": "EXT",
          "value": 31.396534148827726,
          "variable": "EXT/G"
         },
         {
          "Laterality": "Left",
          "test": "EXT",
          "value": 14.38328236493374,
          "variable": "EXT/G"
         },
         {
          "Laterality": "Left",
          "test": "EXT",
          "value": 14.123343527013253,
          "variable": "EXT/G"
         },
         {
          "Laterality": "Left",
          "test": "EXT",
          "value": 21.116207951070336,
          "variable": "EXT/G"
         },
         {
          "Laterality": "Left",
          "test": "EXT",
          "value": 23.470948012232416,
          "variable": "EXT/G"
         },
         {
          "Laterality": "Left",
          "test": "EXT",
          "value": 9.673802242609582,
          "variable": "EXT/G"
         },
         {
          "Laterality": "Left",
          "test": "EXT",
          "value": 23.103975535168196,
          "variable": "EXT/G"
         },
         {
          "Laterality": "Left",
          "test": "EXT",
          "value": 10.611620795107033,
          "variable": "EXT/G"
         },
         {
          "Laterality": "Left",
          "test": "EXT",
          "value": 28.144750254842,
          "variable": "EXT/G"
         },
         {
          "Laterality": "Left",
          "test": "EXT",
          "value": 16.70234454638124,
          "variable": "EXT/G"
         },
         {
          "Laterality": "Left",
          "test": "EXT",
          "value": 21.697247706422015,
          "variable": "EXT/G"
         },
         {
          "Laterality": "Left",
          "test": "EXT",
          "value": 9.69928644240571,
          "variable": "EXT/G"
         },
         {
          "Laterality": "Left",
          "test": "EXT",
          "value": 9.994903160040774,
          "variable": "EXT/G"
         },
         {
          "Laterality": "Left",
          "test": "EXT",
          "value": 10.790010193679917,
          "variable": "EXT/G"
         },
         {
          "Laterality": "Left",
          "test": "EXT",
          "value": 14.811416921508664,
          "variable": "EXT/G"
         },
         {
          "Laterality": "Left",
          "test": "EXT",
          "value": 19.204892966360855,
          "variable": "EXT/G"
         },
         {
          "Laterality": "Left",
          "test": "EXT",
          "value": 13.093781855249743,
          "variable": "EXT/G"
         },
         {
          "Laterality": "Left",
          "test": "EXT",
          "value": 15.458715596330276,
          "variable": "EXT/G"
         },
         {
          "Laterality": "Left",
          "test": "EXT",
          "value": 12.966360856269112,
          "variable": "EXT/G"
         },
         {
          "Laterality": "Left",
          "test": "EXT",
          "value": 17.90010193679918,
          "variable": "EXT/G"
         },
         {
          "Laterality": "Left",
          "test": "EXT",
          "value": 15.468909276248725,
          "variable": "EXT/G"
         },
         {
          "Laterality": "Left",
          "test": "EXT",
          "value": 15.978593272171253,
          "variable": "EXT/G"
         },
         {
          "Laterality": "Left",
          "test": "EXT",
          "value": 7.895005096839959,
          "variable": "EXT/G"
         },
         {
          "Laterality": "Left",
          "test": "EXT",
          "value": 6.5647298674821615,
          "variable": "EXT/G"
         },
         {
          "Laterality": "Left",
          "test": "EXT",
          "value": 16.21814475025484,
          "variable": "EXT/G"
         },
         {
          "Laterality": "Left",
          "test": "EXT",
          "value": 13.761467889908257,
          "variable": "EXT/G"
         },
         {
          "Laterality": "Left",
          "test": "EXT",
          "value": 16.325178389398573,
          "variable": "EXT/G"
         },
         {
          "Laterality": "Left",
          "test": "EXT",
          "value": 3.7614678899082565,
          "variable": "EXT/G"
         },
         {
          "Laterality": "Left",
          "test": "EXT",
          "value": 9.45973496432212,
          "variable": "EXT/G"
         },
         {
          "Laterality": "Left",
          "test": "EXT",
          "value": 15.891946992864424,
          "variable": "EXT/G"
         },
         {
          "Laterality": "Left",
          "test": "EXT",
          "value": 38.430173292558614,
          "variable": "EXT/G"
         },
         {
          "Laterality": "Left",
          "test": "EXT",
          "value": 17.737003058103976,
          "variable": "EXT/G"
         },
         {
          "Laterality": "Left",
          "test": "EXT",
          "value": 30.784913353720693,
          "variable": "EXT/G"
         },
         {
          "Laterality": "Left",
          "test": "EXT",
          "value": 23.139653414882773,
          "variable": "EXT/G"
         },
         {
          "Laterality": "Left",
          "test": "EXT",
          "value": 10.703363914373089,
          "variable": "EXT/G"
         },
         {
          "Laterality": "Left",
          "test": "EXT",
          "value": 13.863404689092762,
          "variable": "EXT/G"
         },
         {
          "Laterality": "Left",
          "test": "EXT",
          "value": 10.39755351681957,
          "variable": "EXT/G"
         },
         {
          "Laterality": "Left",
          "test": "EXT",
          "value": 26.809378185524974,
          "variable": "EXT/G"
         },
         {
          "Laterality": "Left",
          "test": "EXT",
          "value": 25.4841997961264,
          "variable": "EXT/G"
         },
         {
          "Laterality": "Left",
          "test": "EXT",
          "value": 13.47604485219164,
          "variable": "EXT/G"
         },
         {
          "Laterality": "Left",
          "test": "EXT",
          "value": 16.82466870540265,
          "variable": "EXT/G"
         },
         {
          "Laterality": "Left",
          "test": "EXT",
          "value": 20.066258919469927,
          "variable": "EXT/G"
         },
         {
          "Laterality": "Left",
          "test": "EXT",
          "value": 21.52905198776758,
          "variable": "EXT/G"
         },
         {
          "Laterality": "Left",
          "test": "EXT",
          "value": 12.227319062181447,
          "variable": "EXT/G"
         },
         {
          "Laterality": "Left",
          "test": "EXT",
          "value": 12.003058103975535,
          "variable": "EXT/G"
         },
         {
          "Laterality": "Left",
          "test": "EXT",
          "value": 12.094801223241591,
          "variable": "EXT/G"
         },
         {
          "Laterality": "Left",
          "test": "EXT",
          "value": 17.054026503567787,
          "variable": "EXT/G"
         },
         {
          "Laterality": "Left",
          "test": "EXT",
          "value": 21.763506625891946,
          "variable": "EXT/G"
         },
         {
          "Laterality": "Left",
          "test": "EXT",
          "value": 7.502548419979612,
          "variable": "EXT/G"
         },
         {
          "Laterality": "Left",
          "test": "EXT",
          "value": 24.56676860346585,
          "variable": "EXT/G"
         },
         {
          "Laterality": "Left",
          "test": "EXT",
          "value": 14.918450560652394,
          "variable": "EXT/G"
         },
         {
          "Laterality": "Left",
          "test": "EXT",
          "value": 29.831804281345562,
          "variable": "EXT/G"
         },
         {
          "Laterality": "Left",
          "test": "EXT",
          "value": 19.26095820591233,
          "variable": "EXT/G"
         },
         {
          "Laterality": "Left",
          "test": "EXT",
          "value": 18.700305810397552,
          "variable": "EXT/G"
         },
         {
          "Laterality": "Left",
          "test": "EXT",
          "value": 23.333333333333332,
          "variable": "EXT/G"
         },
         {
          "Laterality": "Left",
          "test": "EXT",
          "value": 14.663608562691131,
          "variable": "EXT/G"
         },
         {
          "Laterality": "Left",
          "test": "EXT",
          "value": 18.058103975535168,
          "variable": "EXT/G"
         },
         {
          "Laterality": "Left",
          "test": "EXT",
          "value": 11.253822629969418,
          "variable": "EXT/G"
         },
         {
          "Laterality": "Left",
          "test": "EXT",
          "value": 14.959225280326198,
          "variable": "EXT/G"
         },
         {
          "Laterality": "Left",
          "test": "EXT",
          "value": 26.065239551478083,
          "variable": "EXT/G"
         },
         {
          "Laterality": "Left",
          "test": "EXT",
          "value": 21.84505606523955,
          "variable": "EXT/G"
         },
         {
          "Laterality": "Left",
          "test": "EXT",
          "value": 18.593272171253822,
          "variable": "EXT/G"
         },
         {
          "Laterality": "Left",
          "test": "EXT",
          "value": 26.569826707441383,
          "variable": "EXT/G"
         },
         {
          "Laterality": "Left",
          "test": "EXT",
          "value": 13.129459734964323,
          "variable": "EXT/G"
         },
         {
          "Laterality": "Left",
          "test": "EXT",
          "value": 16.320081549439347,
          "variable": "EXT/G"
         },
         {
          "Laterality": "Left",
          "test": "EXT",
          "value": 22.900101936799185,
          "variable": "EXT/G"
         },
         {
          "Laterality": "Left",
          "test": "EXT",
          "value": 20.39755351681957,
          "variable": "EXT/G"
         },
         {
          "Laterality": "Left",
          "test": "EXT",
          "value": 16.972477064220183,
          "variable": "EXT/G"
         },
         {
          "Laterality": "Left",
          "test": "EXT",
          "value": 19.128440366972477,
          "variable": "EXT/G"
         },
         {
          "Laterality": "Left",
          "test": "EXT",
          "value": 10.881753312945973,
          "variable": "EXT/G"
         },
         {
          "Laterality": "Left",
          "test": "EXT",
          "value": 12.650356778797144,
          "variable": "EXT/G"
         },
         {
          "Laterality": "Left",
          "test": "EXT",
          "value": 11.610601427115188,
          "variable": "EXT/G"
         },
         {
          "Laterality": "Left",
          "test": "EXT",
          "value": 17.69113149847095,
          "variable": "EXT/G"
         },
         {
          "Laterality": "Left",
          "test": "EXT",
          "value": 21.72782874617737,
          "variable": "EXT/G"
         },
         {
          "Laterality": "Left",
          "test": "EXT",
          "value": 10.881753312945973,
          "variable": "EXT/G"
         },
         {
          "Laterality": "Left",
          "test": "EXT",
          "value": 26.243628950050965,
          "variable": "EXT/G"
         },
         {
          "Laterality": "Left",
          "test": "EXT",
          "value": 25.739041794087665,
          "variable": "EXT/G"
         },
         {
          "Laterality": "Left",
          "test": "EXT",
          "value": 13.893985728848115,
          "variable": "EXT/G"
         },
         {
          "Laterality": "Left",
          "test": "EXT",
          "value": 14.1131498470948,
          "variable": "EXT/G"
         },
         {
          "Laterality": "Left",
          "test": "EXT",
          "value": 15.397553516819572,
          "variable": "EXT/G"
         },
         {
          "Laterality": "Left",
          "test": "EXT",
          "value": 21.59531090723751,
          "variable": "EXT/G"
         },
         {
          "Laterality": "Left",
          "test": "EXT",
          "value": 21.42201834862385,
          "variable": "EXT/G"
         },
         {
          "Laterality": "Left",
          "test": "EXT",
          "value": 12.370030581039755,
          "variable": "EXT/G"
         },
         {
          "Laterality": "Left",
          "test": "EXT",
          "value": 9.362895005096838,
          "variable": "EXT/G"
         },
         {
          "Laterality": "Left",
          "test": "EXT",
          "value": 18.007135575942915,
          "variable": "EXT/G"
         },
         {
          "Laterality": "Left",
          "test": "EXT",
          "value": 4.148827726809378,
          "variable": "EXT/G"
         },
         {
          "Laterality": "Left",
          "test": "EXT",
          "value": 10.861365953109072,
          "variable": "EXT/G"
         },
         {
          "Laterality": "Left",
          "test": "EXT",
          "value": 15.316004077471966,
          "variable": "EXT/G"
         },
         {
          "Laterality": "Left",
          "test": "EXT",
          "value": 16.8144750254842,
          "variable": "EXT/G"
         },
         {
          "Laterality": "Left",
          "test": "EXT",
          "value": 23.705402650356778,
          "variable": "EXT/G"
         },
         {
          "Laterality": "Left",
          "test": "EXT",
          "value": 30.60142711518858,
          "variable": "EXT/G"
         },
         {
          "Laterality": "right",
          "test": "EXT",
          "value": 20.05096839959225,
          "variable": "EXT/D"
         },
         {
          "Laterality": "right",
          "test": "EXT",
          "value": 26.243628950050965,
          "variable": "EXT/D"
         },
         {
          "Laterality": "right",
          "test": "EXT",
          "value": 11.539245667686034,
          "variable": "EXT/D"
         },
         {
          "Laterality": "right",
          "test": "EXT",
          "value": 0.2038735983690112,
          "variable": "EXT/D"
         },
         {
          "Laterality": "right",
          "test": "EXT",
          "value": 17.01834862385321,
          "variable": "EXT/D"
         },
         {
          "Laterality": "right",
          "test": "EXT",
          "value": 14.556574923547402,
          "variable": "EXT/D"
         },
         {
          "Laterality": "right",
          "test": "EXT",
          "value": 7.7370030581039755,
          "variable": "EXT/D"
         },
         {
          "Laterality": "right",
          "test": "EXT",
          "value": 17.171253822629968,
          "variable": "EXT/D"
         },
         {
          "Laterality": "right",
          "test": "EXT",
          "value": 12.37512742099898,
          "variable": "EXT/D"
         },
         {
          "Laterality": "right",
          "test": "EXT",
          "value": 33.38939857288481,
          "variable": "EXT/D"
         },
         {
          "Laterality": "right",
          "test": "EXT",
          "value": 14.561671763506624,
          "variable": "EXT/D"
         },
         {
          "Laterality": "right",
          "test": "EXT",
          "value": 19.775739041794086,
          "variable": "EXT/D"
         },
         {
          "Laterality": "right",
          "test": "EXT",
          "value": 6.99796126401631,
          "variable": "EXT/D"
         },
         {
          "Laterality": "right",
          "test": "EXT",
          "value": 7.166156982670744,
          "variable": "EXT/D"
         },
         {
          "Laterality": "right",
          "test": "EXT",
          "value": 14.775739041794086,
          "variable": "EXT/D"
         },
         {
          "Laterality": "right",
          "test": "EXT",
          "value": 16.57492354740061,
          "variable": "EXT/D"
         },
         {
          "Laterality": "right",
          "test": "EXT",
          "value": 21.22833843017329,
          "variable": "EXT/D"
         },
         {
          "Laterality": "right",
          "test": "EXT",
          "value": 17.75229357798165,
          "variable": "EXT/D"
         },
         {
          "Laterality": "right",
          "test": "EXT",
          "value": 11.320081549439347,
          "variable": "EXT/D"
         },
         {
          "Laterality": "right",
          "test": "EXT",
          "value": 11.411824668705403,
          "variable": "EXT/D"
         },
         {
          "Laterality": "right",
          "test": "EXT",
          "value": 11.53414882772681,
          "variable": "EXT/D"
         },
         {
          "Laterality": "right",
          "test": "EXT",
          "value": 16.753312945973494,
          "variable": "EXT/D"
         },
         {
          "Laterality": "right",
          "test": "EXT",
          "value": 14.984709480122323,
          "variable": "EXT/D"
         },
         {
          "Laterality": "right",
          "test": "EXT",
          "value": 13.28236493374108,
          "variable": "EXT/D"
         },
         {
          "Laterality": "right",
          "test": "EXT",
          "value": 10.178389398572884,
          "variable": "EXT/D"
         },
         {
          "Laterality": "right",
          "test": "EXT",
          "value": 9.37308868501529,
          "variable": "EXT/D"
         },
         {
          "Laterality": "right",
          "test": "EXT",
          "value": 13.430173292558614,
          "variable": "EXT/D"
         },
         {
          "Laterality": "right",
          "test": "EXT",
          "value": 11.875637104994903,
          "variable": "EXT/D"
         },
         {
          "Laterality": "right",
          "test": "EXT",
          "value": 3.6850152905198774,
          "variable": "EXT/D"
         },
         {
          "Laterality": "right",
          "test": "EXT",
          "value": 7.762487257900102,
          "variable": "EXT/D"
         },
         {
          "Laterality": "right",
          "test": "EXT",
          "value": 12.334352701325178,
          "variable": "EXT/D"
         },
         {
          "Laterality": "right",
          "test": "EXT",
          "value": 31.804281345565748,
          "variable": "EXT/D"
         },
         {
          "Laterality": "right",
          "test": "EXT",
          "value": 19.877675840978593,
          "variable": "EXT/D"
         },
         {
          "Laterality": "right",
          "test": "EXT",
          "value": 32.11009174311926,
          "variable": "EXT/D"
         },
         {
          "Laterality": "right",
          "test": "EXT",
          "value": 18.960244648318042,
          "variable": "EXT/D"
         },
         {
          "Laterality": "right",
          "test": "EXT",
          "value": 14.475025484199795,
          "variable": "EXT/D"
         },
         {
          "Laterality": "right",
          "test": "EXT",
          "value": 27.624872579001018,
          "variable": "EXT/D"
         },
         {
          "Laterality": "right",
          "test": "EXT",
          "value": 8.154943934760448,
          "variable": "EXT/D"
         },
         {
          "Laterality": "right",
          "test": "EXT",
          "value": 19.877675840978593,
          "variable": "EXT/D"
         },
         {
          "Laterality": "right",
          "test": "EXT",
          "value": 29.969418960244646,
          "variable": "EXT/D"
         },
         {
          "Laterality": "right",
          "test": "EXT",
          "value": 18.725790010193677,
          "variable": "EXT/D"
         },
         {
          "Laterality": "right",
          "test": "EXT",
          "value": 16.238532110091743,
          "variable": "EXT/D"
         },
         {
          "Laterality": "right",
          "test": "EXT",
          "value": 17.456676860346583,
          "variable": "EXT/D"
         },
         {
          "Laterality": "right",
          "test": "EXT",
          "value": 24.27624872579001,
          "variable": "EXT/D"
         },
         {
          "Laterality": "right",
          "test": "EXT",
          "value": 10.963302752293577,
          "variable": "EXT/D"
         },
         {
          "Laterality": "right",
          "test": "EXT",
          "value": 12.706422018348624,
          "variable": "EXT/D"
         },
         {
          "Laterality": "right",
          "test": "EXT",
          "value": 9.979612640163099,
          "variable": "EXT/D"
         },
         {
          "Laterality": "right",
          "test": "EXT",
          "value": 15.428134556574923,
          "variable": "EXT/D"
         },
         {
          "Laterality": "right",
          "test": "EXT",
          "value": 17.90519877675841,
          "variable": "EXT/D"
         },
         {
          "Laterality": "right",
          "test": "EXT",
          "value": 9.306829765545361,
          "variable": "EXT/D"
         },
         {
          "Laterality": "right",
          "test": "EXT",
          "value": 24.174311926605505,
          "variable": "EXT/D"
         },
         {
          "Laterality": "right",
          "test": "EXT",
          "value": 18.017329255861366,
          "variable": "EXT/D"
         },
         {
          "Laterality": "right",
          "test": "EXT",
          "value": 20.805300713557592,
          "variable": "EXT/D"
         },
         {
          "Laterality": "right",
          "test": "EXT",
          "value": 20.36697247706422,
          "variable": "EXT/D"
         },
         {
          "Laterality": "right",
          "test": "EXT",
          "value": 24.06727828746177,
          "variable": "EXT/D"
         },
         {
          "Laterality": "right",
          "test": "EXT",
          "value": 26.636085626911314,
          "variable": "EXT/D"
         },
         {
          "Laterality": "right",
          "test": "EXT",
          "value": 9.097859327217124,
          "variable": "EXT/D"
         },
         {
          "Laterality": "right",
          "test": "EXT",
          "value": 9.806320081549439,
          "variable": "EXT/D"
         },
         {
          "Laterality": "right",
          "test": "EXT",
          "value": 9.184505606523954,
          "variable": "EXT/D"
         },
         {
          "Laterality": "right",
          "test": "EXT",
          "value": 13.939857288481141,
          "variable": "EXT/D"
         },
         {
          "Laterality": "right",
          "test": "EXT",
          "value": 22.767584097859327,
          "variable": "EXT/D"
         },
         {
          "Laterality": "right",
          "test": "EXT",
          "value": 17.09480122324159,
          "variable": "EXT/D"
         },
         {
          "Laterality": "right",
          "test": "EXT",
          "value": 20.891946992864423,
          "variable": "EXT/D"
         },
         {
          "Laterality": "right",
          "test": "EXT",
          "value": 20.606523955147807,
          "variable": "EXT/D"
         },
         {
          "Laterality": "right",
          "test": "EXT",
          "value": 14.00611620795107,
          "variable": "EXT/D"
         },
         {
          "Laterality": "right",
          "test": "EXT",
          "value": 18.06320081549439,
          "variable": "EXT/D"
         },
         {
          "Laterality": "right",
          "test": "EXT",
          "value": 28.022426095820588,
          "variable": "EXT/D"
         },
         {
          "Laterality": "right",
          "test": "EXT",
          "value": 14.78593272171254,
          "variable": "EXT/D"
         },
         {
          "Laterality": "right",
          "test": "EXT",
          "value": 18.751274209989806,
          "variable": "EXT/D"
         },
         {
          "Laterality": "right",
          "test": "EXT",
          "value": 13.440366972477063,
          "variable": "EXT/D"
         },
         {
          "Laterality": "right",
          "test": "EXT",
          "value": 13.781855249745156,
          "variable": "EXT/D"
         },
         {
          "Laterality": "right",
          "test": "EXT",
          "value": 17.81855249745158,
          "variable": "EXT/D"
         },
         {
          "Laterality": "right",
          "test": "EXT",
          "value": 15.463812436289498,
          "variable": "EXT/D"
         },
         {
          "Laterality": "right",
          "test": "EXT",
          "value": 19.413863404689092,
          "variable": "EXT/D"
         },
         {
          "Laterality": "right",
          "test": "EXT",
          "value": 20.16819571865443,
          "variable": "EXT/D"
         },
         {
          "Laterality": "right",
          "test": "EXT",
          "value": 11.870540265035677,
          "variable": "EXT/D"
         },
         {
          "Laterality": "right",
          "test": "EXT",
          "value": 25.519877675840977,
          "variable": "EXT/D"
         },
         {
          "Laterality": "right",
          "test": "EXT",
          "value": 22.670744138634046,
          "variable": "EXT/D"
         },
         {
          "Laterality": "right",
          "test": "EXT",
          "value": 12.003058103975535,
          "variable": "EXT/D"
         },
         {
          "Laterality": "right",
          "test": "EXT",
          "value": 18.21610601427115,
          "variable": "EXT/D"
         },
         {
          "Laterality": "right",
          "test": "EXT",
          "value": 12.584097859327217,
          "variable": "EXT/D"
         },
         {
          "Laterality": "right",
          "test": "EXT",
          "value": 18.425076452599388,
          "variable": "EXT/D"
         },
         {
          "Laterality": "right",
          "test": "EXT",
          "value": 12.706422018348624,
          "variable": "EXT/D"
         },
         {
          "Laterality": "right",
          "test": "EXT",
          "value": 22.701325178389396,
          "variable": "EXT/D"
         },
         {
          "Laterality": "right",
          "test": "EXT",
          "value": 7.074413863404689,
          "variable": "EXT/D"
         },
         {
          "Laterality": "right",
          "test": "EXT",
          "value": 17.171253822629968,
          "variable": "EXT/D"
         },
         {
          "Laterality": "right",
          "test": "EXT",
          "value": 8.302752293577981,
          "variable": "EXT/D"
         },
         {
          "Laterality": "right",
          "test": "EXT",
          "value": 7.5331294597349645,
          "variable": "EXT/D"
         },
         {
          "Laterality": "right",
          "test": "EXT",
          "value": 15.779816513761467,
          "variable": "EXT/D"
         },
         {
          "Laterality": "right",
          "test": "EXT",
          "value": 13.088685015290519,
          "variable": "EXT/D"
         },
         {
          "Laterality": "right",
          "test": "EXT",
          "value": 22.22222222222222,
          "variable": "EXT/D"
         },
         {
          "Laterality": "right",
          "test": "EXT",
          "value": 27.67584097859327,
          "variable": "EXT/D"
         },
         {
          "Laterality": "Left",
          "test": "FLEX",
          "value": 18.654434250764524,
          "variable": "FLEX/G"
         },
         {
          "Laterality": "Left",
          "test": "FLEX",
          "value": 15.963302752293577,
          "variable": "FLEX/G"
         },
         {
          "Laterality": "Left",
          "test": "FLEX",
          "value": 20.341488277268095,
          "variable": "FLEX/G"
         },
         {
          "Laterality": "Left",
          "test": "FLEX",
          "value": 12.003058103975535,
          "variable": "FLEX/G"
         },
         {
          "Laterality": "Left",
          "test": "FLEX",
          "value": 16.15698267074414,
          "variable": "FLEX/G"
         },
         {
          "Laterality": "Left",
          "test": "FLEX",
          "value": 20.489296636085626,
          "variable": "FLEX/G"
         },
         {
          "Laterality": "Left",
          "test": "FLEX",
          "value": 12.910295616717635,
          "variable": "FLEX/G"
         },
         {
          "Laterality": "Left",
          "test": "FLEX",
          "value": 17.487257900101937,
          "variable": "FLEX/G"
         },
         {
          "Laterality": "Left",
          "test": "FLEX",
          "value": 18.236493374108054,
          "variable": "FLEX/G"
         },
         {
          "Laterality": "Left",
          "test": "FLEX",
          "value": 22.737003058103976,
          "variable": "FLEX/G"
         },
         {
          "Laterality": "Left",
          "test": "FLEX",
          "value": 16.870540265035675,
          "variable": "FLEX/G"
         },
         {
          "Laterality": "Left",
          "test": "FLEX",
          "value": 15.295616717635067,
          "variable": "FLEX/G"
         },
         {
          "Laterality": "Left",
          "test": "FLEX",
          "value": 8.669724770642201,
          "variable": "FLEX/G"
         },
         {
          "Laterality": "Left",
          "test": "FLEX",
          "value": 14.266055045871557,
          "variable": "FLEX/G"
         },
         {
          "Laterality": "Left",
          "test": "FLEX",
          "value": 14.791029561671762,
          "variable": "FLEX/G"
         },
         {
          "Laterality": "Left",
          "test": "FLEX",
          "value": 15.468909276248725,
          "variable": "FLEX/G"
         },
         {
          "Laterality": "Left",
          "test": "FLEX",
          "value": 17.043832823649335,
          "variable": "FLEX/G"
         },
         {
          "Laterality": "Left",
          "test": "FLEX",
          "value": 18.89398572884811,
          "variable": "FLEX/G"
         },
         {
          "Laterality": "Left",
          "test": "FLEX",
          "value": 16.875637104994905,
          "variable": "FLEX/G"
         },
         {
          "Laterality": "Left",
          "test": "FLEX",
          "value": 18.97553516819572,
          "variable": "FLEX/G"
         },
         {
          "Laterality": "Left",
          "test": "FLEX",
          "value": 22.83893985728848,
          "variable": "FLEX/G"
         },
         {
          "Laterality": "Left",
          "test": "FLEX",
          "value": 15.514780835881751,
          "variable": "FLEX/G"
         },
         {
          "Laterality": "Left",
          "test": "FLEX",
          "value": 14.011213047910294,
          "variable": "FLEX/G"
         },
         {
          "Laterality": "Left",
          "test": "FLEX",
          "value": 17.604485219164115,
          "variable": "FLEX/G"
         },
         {
          "Laterality": "Left",
          "test": "FLEX",
          "value": 12.996941896024465,
          "variable": "FLEX/G"
         },
         {
          "Laterality": "Left",
          "test": "FLEX",
          "value": 15.871559633027521,
          "variable": "FLEX/G"
         },
         {
          "Laterality": "Left",
          "test": "FLEX",
          "value": 16.309887869520896,
          "variable": "FLEX/G"
         },
         {
          "Laterality": "Left",
          "test": "FLEX",
          "value": 18.567787971457697,
          "variable": "FLEX/G"
         },
         {
          "Laterality": "Left",
          "test": "FLEX",
          "value": 9.979612640163099,
          "variable": "FLEX/G"
         },
         {
          "Laterality": "Left",
          "test": "FLEX",
          "value": 16.238532110091743,
          "variable": "FLEX/G"
         },
         {
          "Laterality": "Left",
          "test": "FLEX",
          "value": 17.584097859327215,
          "variable": "FLEX/G"
         },
         {
          "Laterality": "Left",
          "test": "FLEX",
          "value": 21.712538226299692,
          "variable": "FLEX/G"
         },
         {
          "Laterality": "Left",
          "test": "FLEX",
          "value": 16.207951070336392,
          "variable": "FLEX/G"
         },
         {
          "Laterality": "Left",
          "test": "FLEX",
          "value": 29.153924566768602,
          "variable": "FLEX/G"
         },
         {
          "Laterality": "Left",
          "test": "FLEX",
          "value": 21.712538226299692,
          "variable": "FLEX/G"
         },
         {
          "Laterality": "Left",
          "test": "FLEX",
          "value": 18.55249745158002,
          "variable": "FLEX/G"
         },
         {
          "Laterality": "Left",
          "test": "FLEX",
          "value": 18.55249745158002,
          "variable": "FLEX/G"
         },
         {
          "Laterality": "Left",
          "test": "FLEX",
          "value": 15.086646279306828,
          "variable": "FLEX/G"
         },
         {
          "Laterality": "Left",
          "test": "FLEX",
          "value": 18.04281345565749,
          "variable": "FLEX/G"
         },
         {
          "Laterality": "Left",
          "test": "FLEX",
          "value": 19.673802242609582,
          "variable": "FLEX/G"
         },
         {
          "Laterality": "Left",
          "test": "FLEX",
          "value": 17.61467889908257,
          "variable": "FLEX/G"
         },
         {
          "Laterality": "Left",
          "test": "FLEX",
          "value": 22.65545361875637,
          "variable": "FLEX/G"
         },
         {
          "Laterality": "Left",
          "test": "FLEX",
          "value": 12.956167176350661,
          "variable": "FLEX/G"
         },
         {
          "Laterality": "Left",
          "test": "FLEX",
          "value": 21.559633027522935,
          "variable": "FLEX/G"
         },
         {
          "Laterality": "Left",
          "test": "FLEX",
          "value": 11.055045871559633,
          "variable": "FLEX/G"
         },
         {
          "Laterality": "Left",
          "test": "FLEX",
          "value": 17.49235474006116,
          "variable": "FLEX/G"
         },
         {
          "Laterality": "Left",
          "test": "FLEX",
          "value": 18.124362895005095,
          "variable": "FLEX/G"
         },
         {
          "Laterality": "Left",
          "test": "FLEX",
          "value": 15.688073394495413,
          "variable": "FLEX/G"
         },
         {
          "Laterality": "Left",
          "test": "FLEX",
          "value": 18.817533129459733,
          "variable": "FLEX/G"
         },
         {
          "Laterality": "Left",
          "test": "FLEX",
          "value": 13.685015290519877,
          "variable": "FLEX/G"
         },
         {
          "Laterality": "Left",
          "test": "FLEX",
          "value": 20.64729867482161,
          "variable": "FLEX/G"
         },
         {
          "Laterality": "Left",
          "test": "FLEX",
          "value": 14.622833843017327,
          "variable": "FLEX/G"
         },
         {
          "Laterality": "Left",
          "test": "FLEX",
          "value": 22.568807339449542,
          "variable": "FLEX/G"
         },
         {
          "Laterality": "Left",
          "test": "FLEX",
          "value": 18.27217125382263,
          "variable": "FLEX/G"
         },
         {
          "Laterality": "Left",
          "test": "FLEX",
          "value": 21.687054026503567,
          "variable": "FLEX/G"
         },
         {
          "Laterality": "Left",
          "test": "FLEX",
          "value": 20.76452599388379,
          "variable": "FLEX/G"
         },
         {
          "Laterality": "Left",
          "test": "FLEX",
          "value": 14.133537206931702,
          "variable": "FLEX/G"
         },
         {
          "Laterality": "Left",
          "test": "FLEX",
          "value": 21.702344546381244,
          "variable": "FLEX/G"
         },
         {
          "Laterality": "Left",
          "test": "FLEX",
          "value": 13.924566768603464,
          "variable": "FLEX/G"
         },
         {
          "Laterality": "Left",
          "test": "FLEX",
          "value": 17.099898063200815,
          "variable": "FLEX/G"
         },
         {
          "Laterality": "Left",
          "test": "FLEX",
          "value": 23.98572884811417,
          "variable": "FLEX/G"
         },
         {
          "Laterality": "Left",
          "test": "FLEX",
          "value": 18.124362895005095,
          "variable": "FLEX/G"
         },
         {
          "Laterality": "Left",
          "test": "FLEX",
          "value": 20.137614678899084,
          "variable": "FLEX/G"
         },
         {
          "Laterality": "Left",
          "test": "FLEX",
          "value": 18.34862385321101,
          "variable": "FLEX/G"
         },
         {
          "Laterality": "Left",
          "test": "FLEX",
          "value": 17.976554536187564,
          "variable": "FLEX/G"
         },
         {
          "Laterality": "Left",
          "test": "FLEX",
          "value": 15.530071355759429,
          "variable": "FLEX/G"
         },
         {
          "Laterality": "Left",
          "test": "FLEX",
          "value": 15.988786952089702,
          "variable": "FLEX/G"
         },
         {
          "Laterality": "Left",
          "test": "FLEX",
          "value": 17.584097859327215,
          "variable": "FLEX/G"
         },
         {
          "Laterality": "Left",
          "test": "FLEX",
          "value": 16.946992864424058,
          "variable": "FLEX/G"
         },
         {
          "Laterality": "Left",
          "test": "FLEX",
          "value": 14.434250764525993,
          "variable": "FLEX/G"
         },
         {
          "Laterality": "Left",
          "test": "FLEX",
          "value": 12.446483180428134,
          "variable": "FLEX/G"
         },
         {
          "Laterality": "Left",
          "test": "FLEX",
          "value": 12.512742099898063,
          "variable": "FLEX/G"
         },
         {
          "Laterality": "Left",
          "test": "FLEX",
          "value": 15.122324159021405,
          "variable": "FLEX/G"
         },
         {
          "Laterality": "Left",
          "test": "FLEX",
          "value": 15.932721712538227,
          "variable": "FLEX/G"
         },
         {
          "Laterality": "Left",
          "test": "FLEX",
          "value": 23.537206931702343,
          "variable": "FLEX/G"
         },
         {
          "Laterality": "Left",
          "test": "FLEX",
          "value": 12.737003058103975,
          "variable": "FLEX/G"
         },
         {
          "Laterality": "Left",
          "test": "FLEX",
          "value": 19.745158002038735,
          "variable": "FLEX/G"
         },
         {
          "Laterality": "Left",
          "test": "FLEX",
          "value": 20.861365953109072,
          "variable": "FLEX/G"
         },
         {
          "Laterality": "Left",
          "test": "FLEX",
          "value": 16.411824668705403,
          "variable": "FLEX/G"
         },
         {
          "Laterality": "Left",
          "test": "FLEX",
          "value": 12.21202854230377,
          "variable": "FLEX/G"
         },
         {
          "Laterality": "Left",
          "test": "FLEX",
          "value": 16.269113149847094,
          "variable": "FLEX/G"
         },
         {
          "Laterality": "Left",
          "test": "FLEX",
          "value": 15.652395514780837,
          "variable": "FLEX/G"
         },
         {
          "Laterality": "Left",
          "test": "FLEX",
          "value": 19.66360856269113,
          "variable": "FLEX/G"
         },
         {
          "Laterality": "Left",
          "test": "FLEX",
          "value": 24.215086646279307,
          "variable": "FLEX/G"
         },
         {
          "Laterality": "Left",
          "test": "FLEX",
          "value": 15.881753312945975,
          "variable": "FLEX/G"
         },
         {
          "Laterality": "Left",
          "test": "FLEX",
          "value": 18.924566768603466,
          "variable": "FLEX/G"
         },
         {
          "Laterality": "Left",
          "test": "FLEX",
          "value": 14.42915392456677,
          "variable": "FLEX/G"
         },
         {
          "Laterality": "Left",
          "test": "FLEX",
          "value": 15.611620795107033,
          "variable": "FLEX/G"
         },
         {
          "Laterality": "Left",
          "test": "FLEX",
          "value": 18.929663608562688,
          "variable": "FLEX/G"
         },
         {
          "Laterality": "Left",
          "test": "FLEX",
          "value": 12.594291539245667,
          "variable": "FLEX/G"
         },
         {
          "Laterality": "Left",
          "test": "FLEX",
          "value": 20.759429153924565,
          "variable": "FLEX/G"
         },
         {
          "Laterality": "Left",
          "test": "FLEX",
          "value": 21.483180428134556,
          "variable": "FLEX/G"
         },
         {
          "Laterality": "right",
          "test": "FLEX",
          "value": 14.882772680937817,
          "variable": "FLEX/D"
         },
         {
          "Laterality": "right",
          "test": "FLEX",
          "value": 12.573904179408766,
          "variable": "FLEX/D"
         },
         {
          "Laterality": "right",
          "test": "FLEX",
          "value": 20.87665647298675,
          "variable": "FLEX/D"
         },
         {
          "Laterality": "right",
          "test": "FLEX",
          "value": 11.442405708460754,
          "variable": "FLEX/D"
         },
         {
          "Laterality": "right",
          "test": "FLEX",
          "value": 15.58103975535168,
          "variable": "FLEX/D"
         },
         {
          "Laterality": "right",
          "test": "FLEX",
          "value": 20.53007135575943,
          "variable": "FLEX/D"
         },
         {
          "Laterality": "right",
          "test": "FLEX",
          "value": 8.572884811416921,
          "variable": "FLEX/D"
         },
         {
          "Laterality": "right",
          "test": "FLEX",
          "value": 12.161060142711518,
          "variable": "FLEX/D"
         },
         {
          "Laterality": "right",
          "test": "FLEX",
          "value": 17.69113149847095,
          "variable": "FLEX/D"
         },
         {
          "Laterality": "right",
          "test": "FLEX",
          "value": 21.233435270132517,
          "variable": "FLEX/D"
         },
         {
          "Laterality": "right",
          "test": "FLEX",
          "value": 16.34046890927625,
          "variable": "FLEX/D"
         },
         {
          "Laterality": "right",
          "test": "FLEX",
          "value": 13.144750254841997,
          "variable": "FLEX/D"
         },
         {
          "Laterality": "right",
          "test": "FLEX",
          "value": 9.072375127421,
          "variable": "FLEX/D"
         },
         {
          "Laterality": "right",
          "test": "FLEX",
          "value": 14.444444444444443,
          "variable": "FLEX/D"
         },
         {
          "Laterality": "right",
          "test": "FLEX",
          "value": 16.427115188583077,
          "variable": "FLEX/D"
         },
         {
          "Laterality": "right",
          "test": "FLEX",
          "value": 16.483180428134556,
          "variable": "FLEX/D"
         },
         {
          "Laterality": "right",
          "test": "FLEX",
          "value": 16.896024464831804,
          "variable": "FLEX/D"
         },
         {
          "Laterality": "right",
          "test": "FLEX",
          "value": 15.025484199796127,
          "variable": "FLEX/D"
         },
         {
          "Laterality": "right",
          "test": "FLEX",
          "value": 15.657492354740059,
          "variable": "FLEX/D"
         },
         {
          "Laterality": "right",
          "test": "FLEX",
          "value": 22.44648318042813,
          "variable": "FLEX/D"
         },
         {
          "Laterality": "right",
          "test": "FLEX",
          "value": 20.01019367991845,
          "variable": "FLEX/D"
         },
         {
          "Laterality": "right",
          "test": "FLEX",
          "value": 14.979612640163097,
          "variable": "FLEX/D"
         },
         {
          "Laterality": "right",
          "test": "FLEX",
          "value": 15.703363914373089,
          "variable": "FLEX/D"
         },
         {
          "Laterality": "right",
          "test": "FLEX",
          "value": 15.820591233435268,
          "variable": "FLEX/D"
         },
         {
          "Laterality": "right",
          "test": "FLEX",
          "value": 13.970438328236494,
          "variable": "FLEX/D"
         },
         {
          "Laterality": "right",
          "test": "FLEX",
          "value": 16.24362895005097,
          "variable": "FLEX/D"
         },
         {
          "Laterality": "right",
          "test": "FLEX",
          "value": 15.754332313965342,
          "variable": "FLEX/D"
         },
         {
          "Laterality": "right",
          "test": "FLEX",
          "value": 17.619775739041792,
          "variable": "FLEX/D"
         },
         {
          "Laterality": "right",
          "test": "FLEX",
          "value": 8.883792048929664,
          "variable": "FLEX/D"
         },
         {
          "Laterality": "right",
          "test": "FLEX",
          "value": 13.761467889908257,
          "variable": "FLEX/D"
         },
         {
          "Laterality": "right",
          "test": "FLEX",
          "value": 15.9072375127421,
          "variable": "FLEX/D"
         },
         {
          "Laterality": "right",
          "test": "FLEX",
          "value": 20.693170234454637,
          "variable": "FLEX/D"
         },
         {
          "Laterality": "right",
          "test": "FLEX",
          "value": 15.698267074413863,
          "variable": "FLEX/D"
         },
         {
          "Laterality": "right",
          "test": "FLEX",
          "value": 30.377166156982668,
          "variable": "FLEX/D"
         },
         {
          "Laterality": "right",
          "test": "FLEX",
          "value": 19.164118246687053,
          "variable": "FLEX/D"
         },
         {
          "Laterality": "right",
          "test": "FLEX",
          "value": 15.188583078491334,
          "variable": "FLEX/D"
         },
         {
          "Laterality": "right",
          "test": "FLEX",
          "value": 13.455657492354739,
          "variable": "FLEX/D"
         },
         {
          "Laterality": "right",
          "test": "FLEX",
          "value": 18.450560652395513,
          "variable": "FLEX/D"
         },
         {
          "Laterality": "right",
          "test": "FLEX",
          "value": 19.775739041794086,
          "variable": "FLEX/D"
         },
         {
          "Laterality": "right",
          "test": "FLEX",
          "value": 15.800203873598369,
          "variable": "FLEX/D"
         },
         {
          "Laterality": "right",
          "test": "FLEX",
          "value": 20.31090723751274,
          "variable": "FLEX/D"
         },
         {
          "Laterality": "right",
          "test": "FLEX",
          "value": 21.7940876656473,
          "variable": "FLEX/D"
         },
         {
          "Laterality": "right",
          "test": "FLEX",
          "value": 11.962283384301731,
          "variable": "FLEX/D"
         },
         {
          "Laterality": "right",
          "test": "FLEX",
          "value": 19.37308868501529,
          "variable": "FLEX/D"
         },
         {
          "Laterality": "right",
          "test": "FLEX",
          "value": 12.874617737003057,
          "variable": "FLEX/D"
         },
         {
          "Laterality": "right",
          "test": "FLEX",
          "value": 17.171253822629968,
          "variable": "FLEX/D"
         },
         {
          "Laterality": "right",
          "test": "FLEX",
          "value": 15.85117227319062,
          "variable": "FLEX/D"
         },
         {
          "Laterality": "right",
          "test": "FLEX",
          "value": 19.311926605504585,
          "variable": "FLEX/D"
         },
         {
          "Laterality": "right",
          "test": "FLEX",
          "value": 21.22833843017329,
          "variable": "FLEX/D"
         },
         {
          "Laterality": "right",
          "test": "FLEX",
          "value": 13.700305810397554,
          "variable": "FLEX/D"
         },
         {
          "Laterality": "right",
          "test": "FLEX",
          "value": 18.89398572884811,
          "variable": "FLEX/D"
         },
         {
          "Laterality": "right",
          "test": "FLEX",
          "value": 13.527013251783892,
          "variable": "FLEX/D"
         },
         {
          "Laterality": "right",
          "test": "FLEX",
          "value": 23.47604485219164,
          "variable": "FLEX/D"
         },
         {
          "Laterality": "right",
          "test": "FLEX",
          "value": 13.664627930682977,
          "variable": "FLEX/D"
         },
         {
          "Laterality": "right",
          "test": "FLEX",
          "value": 23.98063200815494,
          "variable": "FLEX/D"
         },
         {
          "Laterality": "right",
          "test": "FLEX",
          "value": 17.670744138634046,
          "variable": "FLEX/D"
         },
         {
          "Laterality": "right",
          "test": "FLEX",
          "value": 13.460754332313966,
          "variable": "FLEX/D"
         },
         {
          "Laterality": "right",
          "test": "FLEX",
          "value": 19.39347604485219,
          "variable": "FLEX/D"
         },
         {
          "Laterality": "right",
          "test": "FLEX",
          "value": 13.460754332313966,
          "variable": "FLEX/D"
         },
         {
          "Laterality": "right",
          "test": "FLEX",
          "value": 16.371049949031597,
          "variable": "FLEX/D"
         },
         {
          "Laterality": "right",
          "test": "FLEX",
          "value": 22.66564729867482,
          "variable": "FLEX/D"
         },
         {
          "Laterality": "right",
          "test": "FLEX",
          "value": 17.01834862385321,
          "variable": "FLEX/D"
         },
         {
          "Laterality": "right",
          "test": "FLEX",
          "value": 22.247706422018346,
          "variable": "FLEX/D"
         },
         {
          "Laterality": "right",
          "test": "FLEX",
          "value": 17.50254841997961,
          "variable": "FLEX/D"
         },
         {
          "Laterality": "right",
          "test": "FLEX",
          "value": 18.078491335372068,
          "variable": "FLEX/D"
         },
         {
          "Laterality": "right",
          "test": "FLEX",
          "value": 16.090723751274208,
          "variable": "FLEX/D"
         },
         {
          "Laterality": "right",
          "test": "FLEX",
          "value": 16.56472986748216,
          "variable": "FLEX/D"
         },
         {
          "Laterality": "right",
          "test": "FLEX",
          "value": 17.06931702344546,
          "variable": "FLEX/D"
         },
         {
          "Laterality": "right",
          "test": "FLEX",
          "value": 13.812436289500509,
          "variable": "FLEX/D"
         },
         {
          "Laterality": "right",
          "test": "FLEX",
          "value": 17.58919469928644,
          "variable": "FLEX/D"
         },
         {
          "Laterality": "right",
          "test": "FLEX",
          "value": 13.766564729867483,
          "variable": "FLEX/D"
         },
         {
          "Laterality": "right",
          "test": "FLEX",
          "value": 11.20795107033639,
          "variable": "FLEX/D"
         },
         {
          "Laterality": "right",
          "test": "FLEX",
          "value": 12.196738022426096,
          "variable": "FLEX/D"
         },
         {
          "Laterality": "right",
          "test": "FLEX",
          "value": 15.147808358817532,
          "variable": "FLEX/D"
         },
         {
          "Laterality": "right",
          "test": "FLEX",
          "value": 23.730886850152906,
          "variable": "FLEX/D"
         },
         {
          "Laterality": "right",
          "test": "FLEX",
          "value": 12.650356778797144,
          "variable": "FLEX/D"
         },
         {
          "Laterality": "right",
          "test": "FLEX",
          "value": 19.006116207951067,
          "variable": "FLEX/D"
         },
         {
          "Laterality": "right",
          "test": "FLEX",
          "value": 22.793068297655452,
          "variable": "FLEX/D"
         },
         {
          "Laterality": "right",
          "test": "FLEX",
          "value": 15.779816513761467,
          "variable": "FLEX/D"
         },
         {
          "Laterality": "right",
          "test": "FLEX",
          "value": 11.8144750254842,
          "variable": "FLEX/D"
         },
         {
          "Laterality": "right",
          "test": "FLEX",
          "value": 17.935779816513758,
          "variable": "FLEX/D"
         },
         {
          "Laterality": "right",
          "test": "FLEX",
          "value": 16.24362895005097,
          "variable": "FLEX/D"
         },
         {
          "Laterality": "right",
          "test": "FLEX",
          "value": 21.279306829765545,
          "variable": "FLEX/D"
         },
         {
          "Laterality": "right",
          "test": "FLEX",
          "value": 22.344546381243628,
          "variable": "FLEX/D"
         },
         {
          "Laterality": "right",
          "test": "FLEX",
          "value": 17.18144750254842,
          "variable": "FLEX/D"
         },
         {
          "Laterality": "right",
          "test": "FLEX",
          "value": 18.027522935779814,
          "variable": "FLEX/D"
         },
         {
          "Laterality": "right",
          "test": "FLEX",
          "value": 10.101936799184504,
          "variable": "FLEX/D"
         },
         {
          "Laterality": "right",
          "test": "FLEX",
          "value": 14.367991845056064,
          "variable": "FLEX/D"
         },
         {
          "Laterality": "right",
          "test": "FLEX",
          "value": 17.95616717635066,
          "variable": "FLEX/D"
         },
         {
          "Laterality": "right",
          "test": "FLEX",
          "value": 13.669724770642201,
          "variable": "FLEX/D"
         },
         {
          "Laterality": "right",
          "test": "FLEX",
          "value": 20.479102956167175,
          "variable": "FLEX/D"
         },
         {
          "Laterality": "right",
          "test": "FLEX",
          "value": 22.09480122324159,
          "variable": "FLEX/D"
         }
        ]
       },
       "facet": {
        "column": {
         "field": "test",
         "sort": [
          "ADD",
          "ABD",
          "ER",
          "IR",
          "EXT",
          "FLEX"
         ],
         "title": null,
         "type": "nominal"
        }
       },
       "spec": {
        "layer": [
         {
          "encoding": {
           "color": {
            "field": "Laterality",
            "type": "nominal"
           },
           "x": {
            "field": "Laterality",
            "title": null,
            "type": "nominal"
           },
           "y": {
            "aggregate": "mean",
            "field": "value",
            "title": null,
            "type": "quantitative"
           }
          },
          "mark": {
           "color": "grey",
           "type": "bar"
          }
         },
         {
          "encoding": {
           "x": {
            "field": "Laterality",
            "title": null,
            "type": "nominal"
           },
           "y": {
            "aggregate": "ci0",
            "field": "value",
            "type": "quantitative"
           },
           "y2": {
            "aggregate": "ci1",
            "field": "value",
            "type": "quantitative"
           }
          },
          "mark": "rule"
         }
        ]
       }
      },
      "image/png": "[encoded data removed]",
      "text/plain": [
       "<VegaLite 2 object>\n",
       "\n",
       "If you see this message, it means the renderer has not been properly enabled\n",
       "for the frontend that you are using. For more information, see\n",
       "https://altair-viz.github.io/user_guide/troubleshooting.html\n"
      ]
     },
     "execution_count": 10,
     "metadata": {},
     "output_type": "execute_result"
    }
   ],
   "source": [
    "bar_data = X.melt().assign(\n",
    "    test=lambda x: x[\"variable\"].str.split(\"/\").str[0],\n",
    "    Laterality=lambda x: x[\"variable\"]\n",
    "    .str.split(\"/\")\n",
    "    .str[1]\n",
    "    .replace({\"D\": \"right\", \"G\": \"Left\"}),\n",
    ")\n",
    "\n",
    "sort_tests = alt.Sort([\"ADD\", \"ABD\", \"ER\", \"IR\", \"EXT\", \"FLEX\"])\n",
    "\n",
    "plot_bars(\n",
    "    data=bar_data,\n",
    "    x=alt.X(\"Laterality\", title=None),\n",
    "    y=\"value\",\n",
    "    color=\"Laterality\",\n",
    "    column=alt.Column(\"test\", title=None, sort=sort_tests),\n",
    ").configure_axisX(labels=False, ticks=False)"
   ]
  },
  {
   "cell_type": "markdown",
   "metadata": {},
   "source": [
    "### Targets $y$"
   ]
  },
  {
   "cell_type": "markdown",
   "metadata": {},
   "source": [
    "An empirical cumulative distribution function, or ECDF, is a convenient way to visualize a univariate probability distribution. Consider a measurement x in a set of measurements X. The ECDF evaluated at x is defined as\n",
    "\n",
    "ECDF(x) = fraction of data points in X that are ≤ x."
   ]
  },
  {
   "cell_type": "code",
   "execution_count": 26,
   "metadata": {},
   "outputs": [
    {
     "data": {
      "application/vnd.vegalite.v2+json": {
       "$schema": "https://vega.github.io/schema/vega-lite/v2.6.0.json",
       "config": {
        "view": {
         "height": 300,
         "width": 400
        }
       },
       "data": {
        "name": "data-8f9b73c4464b7aa22f44c8be3a36021b"
       },
       "datasets": {
        "data-8f9b73c4464b7aa22f44c8be3a36021b": [
         {
          "ECDF": 0.8152173913043478,
          "value": 9.5,
          "variable": "BB-H"
         },
         {
          "ECDF": 0.22826086956521738,
          "value": 8.5,
          "variable": "BB-H"
         },
         {
          "ECDF": 0.2391304347826087,
          "value": 8.5,
          "variable": "BB-H"
         },
         {
          "ECDF": 0.25,
          "value": 8.5,
          "variable": "BB-H"
         },
         {
          "ECDF": 0.45652173913043476,
          "value": 9,
          "variable": "BB-H"
         },
         {
          "ECDF": 0.4673913043478261,
          "value": 9,
          "variable": "BB-H"
         },
         {
          "ECDF": 0.043478260869565216,
          "value": 8,
          "variable": "BB-H"
         },
         {
          "ECDF": 0.2608695652173913,
          "value": 8.5,
          "variable": "BB-H"
         },
         {
          "ECDF": 0.4782608695652174,
          "value": 9,
          "variable": "BB-H"
         },
         {
          "ECDF": 0.2717391304347826,
          "value": 8.5,
          "variable": "BB-H"
         },
         {
          "ECDF": 0.2826086956521739,
          "value": 8.5,
          "variable": "BB-H"
         },
         {
          "ECDF": 0.05434782608695652,
          "value": 8,
          "variable": "BB-H"
         },
         {
          "ECDF": 0.29347826086956524,
          "value": 8.5,
          "variable": "BB-H"
         },
         {
          "ECDF": 0.30434782608695654,
          "value": 8.5,
          "variable": "BB-H"
         },
         {
          "ECDF": 0.31521739130434784,
          "value": 8.5,
          "variable": "BB-H"
         },
         {
          "ECDF": 0.06521739130434782,
          "value": 8,
          "variable": "BB-H"
         },
         {
          "ECDF": 0.32608695652173914,
          "value": 8.5,
          "variable": "BB-H"
         },
         {
          "ECDF": 0.4891304347826087,
          "value": 9,
          "variable": "BB-H"
         },
         {
          "ECDF": 0.33695652173913043,
          "value": 8.5,
          "variable": "BB-H"
         },
         {
          "ECDF": 0.8260869565217391,
          "value": 9.5,
          "variable": "BB-H"
         },
         {
          "ECDF": 0.5,
          "value": 9,
          "variable": "BB-H"
         },
         {
          "ECDF": 0.5108695652173914,
          "value": 9,
          "variable": "BB-H"
         },
         {
          "ECDF": 0.5217391304347826,
          "value": 9,
          "variable": "BB-H"
         },
         {
          "ECDF": 0.532608695652174,
          "value": 9,
          "variable": "BB-H"
         },
         {
          "ECDF": 0.07608695652173914,
          "value": 8,
          "variable": "BB-H"
         },
         {
          "ECDF": 0.08695652173913043,
          "value": 8,
          "variable": "BB-H"
         },
         {
          "ECDF": 0.5434782608695652,
          "value": 9,
          "variable": "BB-H"
         },
         {
          "ECDF": 0.5543478260869565,
          "value": 9,
          "variable": "BB-H"
         },
         {
          "ECDF": 0.5652173913043478,
          "value": 9,
          "variable": "BB-H"
         },
         {
          "ECDF": 0.5760869565217391,
          "value": 9,
          "variable": "BB-H"
         },
         {
          "ECDF": 0.8369565217391305,
          "value": 9.5,
          "variable": "BB-H"
         },
         {
          "ECDF": 0.34782608695652173,
          "value": 8.5,
          "variable": "BB-H"
         },
         {
          "ECDF": 0.010869565217391304,
          "value": 7,
          "variable": "BB-H"
         },
         {
          "ECDF": 0.5869565217391305,
          "value": 9,
          "variable": "BB-H"
         },
         {
          "ECDF": 0.5978260869565217,
          "value": 9,
          "variable": "BB-H"
         },
         {
          "ECDF": 0.021739130434782608,
          "value": 7,
          "variable": "BB-H"
         },
         {
          "ECDF": 0.09782608695652174,
          "value": 8,
          "variable": "BB-H"
         },
         {
          "ECDF": 0.10869565217391304,
          "value": 8,
          "variable": "BB-H"
         },
         {
          "ECDF": 0.358695652173913,
          "value": 8.5,
          "variable": "BB-H"
         },
         {
          "ECDF": 0.03260869565217391,
          "value": 7.5,
          "variable": "BB-H"
         },
         {
          "ECDF": 0.6086956521739131,
          "value": 9,
          "variable": "BB-H"
         },
         {
          "ECDF": 0.11956521739130435,
          "value": 8,
          "variable": "BB-H"
         },
         {
          "ECDF": 0.3695652173913043,
          "value": 8.5,
          "variable": "BB-H"
         },
         {
          "ECDF": 0.8478260869565217,
          "value": 9.5,
          "variable": "BB-H"
         },
         {
          "ECDF": 0.8586956521739131,
          "value": 9.5,
          "variable": "BB-H"
         },
         {
          "ECDF": 0.13043478260869565,
          "value": 8,
          "variable": "BB-H"
         },
         {
          "ECDF": 0.8695652173913043,
          "value": 9.5,
          "variable": "BB-H"
         },
         {
          "ECDF": 0.14130434782608695,
          "value": 8,
          "variable": "BB-H"
         },
         {
          "ECDF": 0.3804347826086957,
          "value": 8.5,
          "variable": "BB-H"
         },
         {
          "ECDF": 0.8804347826086957,
          "value": 9.5,
          "variable": "BB-H"
         },
         {
          "ECDF": 0.15217391304347827,
          "value": 8,
          "variable": "BB-H"
         },
         {
          "ECDF": 0.16304347826086957,
          "value": 8,
          "variable": "BB-H"
         },
         {
          "ECDF": 0.8913043478260869,
          "value": 9.5,
          "variable": "BB-H"
         },
         {
          "ECDF": 0.6195652173913043,
          "value": 9,
          "variable": "BB-H"
         },
         {
          "ECDF": 0.9021739130434783,
          "value": 9.5,
          "variable": "BB-H"
         },
         {
          "ECDF": 0.6304347826086957,
          "value": 9,
          "variable": "BB-H"
         },
         {
          "ECDF": 0.6413043478260869,
          "value": 9,
          "variable": "BB-H"
         },
         {
          "ECDF": 0.6521739130434783,
          "value": 9,
          "variable": "BB-H"
         },
         {
          "ECDF": 0.6630434782608695,
          "value": 9,
          "variable": "BB-H"
         },
         {
          "ECDF": 0.9130434782608695,
          "value": 9.5,
          "variable": "BB-H"
         },
         {
          "ECDF": 0.6739130434782609,
          "value": 9,
          "variable": "BB-H"
         },
         {
          "ECDF": 0.391304347826087,
          "value": 8.5,
          "variable": "BB-H"
         },
         {
          "ECDF": 0.9239130434782609,
          "value": 9.5,
          "variable": "BB-H"
         },
         {
          "ECDF": 0.40217391304347827,
          "value": 8.5,
          "variable": "BB-H"
         },
         {
          "ECDF": 0.9347826086956522,
          "value": 9.5,
          "variable": "BB-H"
         },
         {
          "ECDF": 0.9456521739130435,
          "value": 9.5,
          "variable": "BB-H"
         },
         {
          "ECDF": 0.6847826086956522,
          "value": 9,
          "variable": "BB-H"
         },
         {
          "ECDF": 0.6956521739130435,
          "value": 9,
          "variable": "BB-H"
         },
         {
          "ECDF": 0.7065217391304348,
          "value": 9,
          "variable": "BB-H"
         },
         {
          "ECDF": 0.17391304347826086,
          "value": 8,
          "variable": "BB-H"
         },
         {
          "ECDF": 0.18478260869565216,
          "value": 8,
          "variable": "BB-H"
         },
         {
          "ECDF": 0.717391304347826,
          "value": 9,
          "variable": "BB-H"
         },
         {
          "ECDF": 0.7282608695652174,
          "value": 9,
          "variable": "BB-H"
         },
         {
          "ECDF": 0.41304347826086957,
          "value": 8.5,
          "variable": "BB-H"
         },
         {
          "ECDF": 0.1956521739130435,
          "value": 8,
          "variable": "BB-H"
         },
         {
          "ECDF": 0.42391304347826086,
          "value": 8.5,
          "variable": "BB-H"
         },
         {
          "ECDF": 0.7391304347826086,
          "value": 9,
          "variable": "BB-H"
         },
         {
          "ECDF": 0.43478260869565216,
          "value": 8.5,
          "variable": "BB-H"
         },
         {
          "ECDF": 0.75,
          "value": 9,
          "variable": "BB-H"
         },
         {
          "ECDF": 0.20652173913043478,
          "value": 8,
          "variable": "BB-H"
         },
         {
          "ECDF": 0.21739130434782608,
          "value": 8,
          "variable": "BB-H"
         },
         {
          "ECDF": 0.7608695652173914,
          "value": 9,
          "variable": "BB-H"
         },
         {
          "ECDF": 0.7717391304347826,
          "value": 9,
          "variable": "BB-H"
         },
         {
          "ECDF": 0.9565217391304348,
          "value": 9.5,
          "variable": "BB-H"
         },
         {
          "ECDF": 0.782608695652174,
          "value": 9,
          "variable": "BB-H"
         },
         {
          "ECDF": 0.967391304347826,
          "value": 9.5,
          "variable": "BB-H"
         },
         {
          "ECDF": 0.7934782608695652,
          "value": 9,
          "variable": "BB-H"
         },
         {
          "ECDF": 0.9782608695652174,
          "value": 9.5,
          "variable": "BB-H"
         },
         {
          "ECDF": 0.8043478260869565,
          "value": 9,
          "variable": "BB-H"
         },
         {
          "ECDF": 0.9891304347826086,
          "value": 9.5,
          "variable": "BB-H"
         },
         {
          "ECDF": 1,
          "value": 9.5,
          "variable": "BB-H"
         },
         {
          "ECDF": 0.44565217391304346,
          "value": 8.5,
          "variable": "BB-H"
         },
         {
          "ECDF": 0.8260869565217391,
          "value": 8.08333333333333,
          "variable": "EB-H"
         },
         {
          "ECDF": 0.20652173913043478,
          "value": 7.08333333333333,
          "variable": "EB-H"
         },
         {
          "ECDF": 0.6413043478260869,
          "value": 7.83333333333333,
          "variable": "EB-H"
         },
         {
          "ECDF": 0.42391304347826086,
          "value": 7.41666666666667,
          "variable": "EB-H"
         },
         {
          "ECDF": 0.33695652173913043,
          "value": 7.33333333333333,
          "variable": "EB-H"
         },
         {
          "ECDF": 0.6847826086956522,
          "value": 7.91666666666667,
          "variable": "EB-H"
         },
         {
          "ECDF": 0.03260869565217391,
          "value": 6.41666666666667,
          "variable": "EB-H"
         },
         {
          "ECDF": 0.6521739130434783,
          "value": 7.83333333333333,
          "variable": "EB-H"
         },
         {
          "ECDF": 0.5543478260869565,
          "value": 7.66666666666667,
          "variable": "EB-H"
         },
         {
          "ECDF": 0.7065217391304348,
          "value": 8,
          "variable": "EB-H"
         },
         {
          "ECDF": 0.13043478260869565,
          "value": 6.91666666666667,
          "variable": "EB-H"
         },
         {
          "ECDF": 0.34782608695652173,
          "value": 7.33333333333333,
          "variable": "EB-H"
         },
         {
          "ECDF": 0.10869565217391304,
          "value": 6.83333333333333,
          "variable": "EB-H"
         },
         {
          "ECDF": 0.2391304347826087,
          "value": 7.16666666666667,
          "variable": "EB-H"
         },
         {
          "ECDF": 0.358695652173913,
          "value": 7.33333333333333,
          "variable": "EB-H"
         },
         {
          "ECDF": 0.11956521739130435,
          "value": 6.83333333333333,
          "variable": "EB-H"
         },
         {
          "ECDF": 0.8804347826086957,
          "value": 8.25,
          "variable": "EB-H"
         },
         {
          "ECDF": 0.8913043478260869,
          "value": 8.25,
          "variable": "EB-H"
         },
         {
          "ECDF": 0.043478260869565216,
          "value": 6.41666666666667,
          "variable": "EB-H"
         },
         {
          "ECDF": 0.5869565217391305,
          "value": 7.75,
          "variable": "EB-H"
         },
         {
          "ECDF": 0.4782608695652174,
          "value": 7.5,
          "variable": "EB-H"
         },
         {
          "ECDF": 0.43478260869565216,
          "value": 7.41666666666667,
          "variable": "EB-H"
         },
         {
          "ECDF": 0.6956521739130435,
          "value": 7.91666666666667,
          "variable": "EB-H"
         },
         {
          "ECDF": 0.29347826086956524,
          "value": 7.25,
          "variable": "EB-H"
         },
         {
          "ECDF": 0.3695652173913043,
          "value": 7.33333333333333,
          "variable": "EB-H"
         },
         {
          "ECDF": 0.14130434782608695,
          "value": 6.91666666666667,
          "variable": "EB-H"
         },
         {
          "ECDF": 0.44565217391304346,
          "value": 7.41666666666667,
          "variable": "EB-H"
         },
         {
          "ECDF": 0.5978260869565217,
          "value": 7.75,
          "variable": "EB-H"
         },
         {
          "ECDF": 0.21739130434782608,
          "value": 7.08333333333333,
          "variable": "EB-H"
         },
         {
          "ECDF": 0.30434782608695654,
          "value": 7.25,
          "variable": "EB-H"
         },
         {
          "ECDF": 0.717391304347826,
          "value": 8,
          "variable": "EB-H"
         },
         {
          "ECDF": 0.4891304347826087,
          "value": 7.5,
          "variable": "EB-H"
         },
         {
          "ECDF": 0.3804347826086957,
          "value": 7.33333333333333,
          "variable": "EB-H"
         },
         {
          "ECDF": 0.5,
          "value": 7.58333333333333,
          "variable": "EB-H"
         },
         {
          "ECDF": 0.021739130434782608,
          "value": 6.16666666666667,
          "variable": "EB-H"
         },
         {
          "ECDF": 0.8369565217391305,
          "value": 8.08333333333333,
          "variable": "EB-H"
         },
         {
          "ECDF": 0.08695652173913043,
          "value": 6.66666666666667,
          "variable": "EB-H"
         },
         {
          "ECDF": 0.25,
          "value": 7.16666666666667,
          "variable": "EB-H"
         },
         {
          "ECDF": 0.7282608695652174,
          "value": 8,
          "variable": "EB-H"
         },
         {
          "ECDF": 0.2608695652173913,
          "value": 7.16666666666667,
          "variable": "EB-H"
         },
         {
          "ECDF": 0.391304347826087,
          "value": 7.33333333333333,
          "variable": "EB-H"
         },
         {
          "ECDF": 0.15217391304347827,
          "value": 6.91666666666667,
          "variable": "EB-H"
         },
         {
          "ECDF": 0.9021739130434783,
          "value": 8.25,
          "variable": "EB-H"
         },
         {
          "ECDF": 0.9782608695652174,
          "value": 8.58333333333333,
          "variable": "EB-H"
         },
         {
          "ECDF": 0.31521739130434784,
          "value": 7.25,
          "variable": "EB-H"
         },
         {
          "ECDF": 0.06521739130434782,
          "value": 6.58333333333333,
          "variable": "EB-H"
         },
         {
          "ECDF": 0.17391304347826086,
          "value": 7,
          "variable": "EB-H"
         },
         {
          "ECDF": 0.45652173913043476,
          "value": 7.41666666666667,
          "variable": "EB-H"
         },
         {
          "ECDF": 0.7391304347826086,
          "value": 8,
          "variable": "EB-H"
         },
         {
          "ECDF": 0.8586956521739131,
          "value": 8.16666666666667,
          "variable": "EB-H"
         },
         {
          "ECDF": 0.5108695652173914,
          "value": 7.58333333333333,
          "variable": "EB-H"
         },
         {
          "ECDF": 0.18478260869565216,
          "value": 7,
          "variable": "EB-H"
         },
         {
          "ECDF": 0.9347826086956522,
          "value": 8.33333333333333,
          "variable": "EB-H"
         },
         {
          "ECDF": 0.1956521739130435,
          "value": 7,
          "variable": "EB-H"
         },
         {
          "ECDF": 0.6630434782608695,
          "value": 7.83333333333333,
          "variable": "EB-H"
         },
         {
          "ECDF": 0.5652173913043478,
          "value": 7.66666666666667,
          "variable": "EB-H"
         },
         {
          "ECDF": 0.09782608695652174,
          "value": 6.75,
          "variable": "EB-H"
         },
         {
          "ECDF": 0.5760869565217391,
          "value": 7.66666666666667,
          "variable": "EB-H"
         },
         {
          "ECDF": 0.9456521739130435,
          "value": 8.33333333333333,
          "variable": "EB-H"
         },
         {
          "ECDF": 0.2717391304347826,
          "value": 7.16666666666667,
          "variable": "EB-H"
         },
         {
          "ECDF": 0.6086956521739131,
          "value": 7.75,
          "variable": "EB-H"
         },
         {
          "ECDF": 0.5217391304347826,
          "value": 7.58333333333333,
          "variable": "EB-H"
         },
         {
          "ECDF": 0.75,
          "value": 8,
          "variable": "EB-H"
         },
         {
          "ECDF": 0.7608695652173914,
          "value": 8,
          "variable": "EB-H"
         },
         {
          "ECDF": 0.6195652173913043,
          "value": 7.75,
          "variable": "EB-H"
         },
         {
          "ECDF": 0.8695652173913043,
          "value": 8.16666666666667,
          "variable": "EB-H"
         },
         {
          "ECDF": 0.16304347826086957,
          "value": 6.91666666666667,
          "variable": "EB-H"
         },
         {
          "ECDF": 0.010869565217391304,
          "value": 5.75,
          "variable": "EB-H"
         },
         {
          "ECDF": 0.9565217391304348,
          "value": 8.33333333333333,
          "variable": "EB-H"
         },
         {
          "ECDF": 0.532608695652174,
          "value": 7.58333333333333,
          "variable": "EB-H"
         },
         {
          "ECDF": 0.40217391304347827,
          "value": 7.33333333333333,
          "variable": "EB-H"
         },
         {
          "ECDF": 0.9891304347826086,
          "value": 8.58333333333333,
          "variable": "EB-H"
         },
         {
          "ECDF": 0.7717391304347826,
          "value": 8,
          "variable": "EB-H"
         },
         {
          "ECDF": 0.05434782608695652,
          "value": 6.41666666666667,
          "variable": "EB-H"
         },
         {
          "ECDF": 0.32608695652173914,
          "value": 7.25,
          "variable": "EB-H"
         },
         {
          "ECDF": 0.2826086956521739,
          "value": 7.16666666666667,
          "variable": "EB-H"
         },
         {
          "ECDF": 0.6304347826086957,
          "value": 7.75,
          "variable": "EB-H"
         },
         {
          "ECDF": 0.6739130434782609,
          "value": 7.83333333333333,
          "variable": "EB-H"
         },
         {
          "ECDF": 0.9130434782608695,
          "value": 8.25,
          "variable": "EB-H"
         },
         {
          "ECDF": 0.782608695652174,
          "value": 8,
          "variable": "EB-H"
         },
         {
          "ECDF": 0.4673913043478261,
          "value": 7.41666666666667,
          "variable": "EB-H"
         },
         {
          "ECDF": 0.7934782608695652,
          "value": 8,
          "variable": "EB-H"
         },
         {
          "ECDF": 0.41304347826086957,
          "value": 7.33333333333333,
          "variable": "EB-H"
         },
         {
          "ECDF": 0.07608695652173914,
          "value": 6.58333333333333,
          "variable": "EB-H"
         },
         {
          "ECDF": 0.22826086956521738,
          "value": 7.08333333333333,
          "variable": "EB-H"
         },
         {
          "ECDF": 0.8043478260869565,
          "value": 8,
          "variable": "EB-H"
         },
         {
          "ECDF": 0.967391304347826,
          "value": 8.41666666666667,
          "variable": "EB-H"
         },
         {
          "ECDF": 0.9239130434782609,
          "value": 8.25,
          "variable": "EB-H"
         },
         {
          "ECDF": 0.8478260869565217,
          "value": 8.08333333333333,
          "variable": "EB-H"
         },
         {
          "ECDF": 0.5434782608695652,
          "value": 7.58333333333333,
          "variable": "EB-H"
         },
         {
          "ECDF": 1,
          "value": 9,
          "variable": "EB-H"
         },
         {
          "ECDF": 0.8152173913043478,
          "value": 8,
          "variable": "EB-H"
         },
         {
          "ECDF": 0.391304347826087,
          "value": 6.77,
          "variable": "EB-F"
         },
         {
          "ECDF": 0.7282608695652174,
          "value": 7.76275316455696,
          "variable": "EB-F"
         },
         {
          "ECDF": 0.3695652173913043,
          "value": 6.72568322981367,
          "variable": "EB-F"
         },
         {
          "ECDF": 0.5869565217391305,
          "value": 7.31582278481012,
          "variable": "EB-F"
         },
         {
          "ECDF": 0.9239130434782609,
          "value": 8.9951582278481,
          "variable": "EB-F"
         },
         {
          "ECDF": 0.8369565217391305,
          "value": 8.09832298136646,
          "variable": "EB-F"
         },
         {
          "ECDF": 0.03260869565217391,
          "value": 5.43598101265823,
          "variable": "EB-F"
         },
         {
          "ECDF": 0.16304347826086957,
          "value": 5.85183544303798,
          "variable": "EB-F"
         },
         {
          "ECDF": 0.25,
          "value": 6.24363354037267,
          "variable": "EB-F"
         },
         {
          "ECDF": 0.358695652173913,
          "value": 6.67822981366459,
          "variable": "EB-F"
         },
         {
          "ECDF": 0.5,
          "value": 7.08518633540373,
          "variable": "EB-F"
         },
         {
          "ECDF": 0.10869565217391304,
          "value": 5.65604430379746,
          "variable": "EB-F"
         },
         {
          "ECDF": 0.06521739130434782,
          "value": 5.56566455696202,
          "variable": "EB-F"
         },
         {
          "ECDF": 0.8152173913043478,
          "value": 8.06740506329114,
          "variable": "EB-F"
         },
         {
          "ECDF": 0.33695652173913043,
          "value": 6.5739751552795,
          "variable": "EB-F"
         },
         {
          "ECDF": 0.31521739130434784,
          "value": 6.50962732919255,
          "variable": "EB-F"
         },
         {
          "ECDF": 0.41304347826086957,
          "value": 6.93208074534162,
          "variable": "EB-F"
         },
         {
          "ECDF": 0.532608695652174,
          "value": 7.25148734177215,
          "variable": "EB-F"
         },
         {
          "ECDF": 0.45652173913043476,
          "value": 6.99605590062111,
          "variable": "EB-F"
         },
         {
          "ECDF": 0.32608695652173914,
          "value": 6.54698757763975,
          "variable": "EB-F"
         },
         {
          "ECDF": 0.8586956521739131,
          "value": 8.12232919254659,
          "variable": "EB-F"
         },
         {
          "ECDF": 0.4673913043478261,
          "value": 7.01093167701864,
          "variable": "EB-F"
         },
         {
          "ECDF": 0.14130434782608695,
          "value": 5.7902795031056,
          "variable": "EB-F"
         },
         {
          "ECDF": 0.9456521739130435,
          "value": 9.03440993788819,
          "variable": "EB-F"
         },
         {
          "ECDF": 0.021739130434782608,
          "value": 5.26894409937888,
          "variable": "EB-F"
         },
         {
          "ECDF": 0.20652173913043478,
          "value": 6.13810559006211,
          "variable": "EB-F"
         },
         {
          "ECDF": 0.8260869565217391,
          "value": 8.07810559006211,
          "variable": "EB-F"
         },
         {
          "ECDF": 0.15217391304347827,
          "value": 5.84186335403727,
          "variable": "EB-F"
         },
         {
          "ECDF": 0.010869565217391304,
          "value": 5.25605590062111,
          "variable": "EB-F"
         },
         {
          "ECDF": 0.13043478260869565,
          "value": 5.74723602484472,
          "variable": "EB-F"
         },
         {
          "ECDF": 0.9021739130434783,
          "value": 8.88142857142858,
          "variable": "EB-F"
         },
         {
          "ECDF": 0.6304347826086957,
          "value": 7.49195652173913,
          "variable": "EB-F"
         },
         {
          "ECDF": 0.6847826086956522,
          "value": 7.57232919254657,
          "variable": "EB-F"
         },
         {
          "ECDF": 0.5434782608695652,
          "value": 7.26686335403727,
          "variable": "EB-F"
         },
         {
          "ECDF": 0.17391304347826086,
          "value": 6.07872670807453,
          "variable": "EB-F"
         },
         {
          "ECDF": 0.4891304347826087,
          "value": 7.06543478260869,
          "variable": "EB-F"
         },
         {
          "ECDF": 0.08695652173913043,
          "value": 5.60121118012422,
          "variable": "EB-F"
         },
         {
          "ECDF": 0.2826086956521739,
          "value": 6.47130434782609,
          "variable": "EB-F"
         },
         {
          "ECDF": 0.5978260869565217,
          "value": 7.36341614906833,
          "variable": "EB-F"
         },
         {
          "ECDF": 0.717391304347826,
          "value": 7.62798136645963,
          "variable": "EB-F"
         },
         {
          "ECDF": 0.5760869565217391,
          "value": 7.30304347826087,
          "variable": "EB-F"
         },
         {
          "ECDF": 0.782608695652174,
          "value": 7.89618012422359,
          "variable": "EB-F"
         },
         {
          "ECDF": 0.21739130434782608,
          "value": 6.21487577639751,
          "variable": "EB-F"
         },
         {
          "ECDF": 1,
          "value": 9.81347826086955,
          "variable": "EB-F"
         },
         {
          "ECDF": 0.6521739130434783,
          "value": 7.53201863354037,
          "variable": "EB-F"
         },
         {
          "ECDF": 0.75,
          "value": 7.79161490683229,
          "variable": "EB-F"
         },
         {
          "ECDF": 0.6086956521739131,
          "value": 7.42540372670807,
          "variable": "EB-F"
         },
         {
          "ECDF": 0.4782608695652174,
          "value": 7.03633540372672,
          "variable": "EB-F"
         },
         {
          "ECDF": 0.22826086956521738,
          "value": 6.23372670807453,
          "variable": "EB-F"
         },
         {
          "ECDF": 0.2391304347826087,
          "value": 6.24121298189805,
          "variable": "EB-F"
         },
         {
          "ECDF": 0.6739130434782609,
          "value": 7.5623602484472,
          "variable": "EB-F"
         },
         {
          "ECDF": 0.6630434782608695,
          "value": 7.53201863354037,
          "variable": "EB-F"
         },
         {
          "ECDF": 0.9782608695652174,
          "value": 9.62919254658385,
          "variable": "EB-F"
         },
         {
          "ECDF": 0.9891304347826086,
          "value": 9.63127329192547,
          "variable": "EB-F"
         },
         {
          "ECDF": 0.6195652173913043,
          "value": 7.45161490683229,
          "variable": "EB-F"
         },
         {
          "ECDF": 0.8695652173913043,
          "value": 8.15832298136646,
          "variable": "EB-F"
         },
         {
          "ECDF": 0.043478260869565216,
          "value": 5.45521739130435,
          "variable": "EB-F"
         },
         {
          "ECDF": 0.8478260869565217,
          "value": 8.11105590062111,
          "variable": "EB-F"
         },
         {
          "ECDF": 0.7717391304347826,
          "value": 7.85459627329192,
          "variable": "EB-F"
         },
         {
          "ECDF": 0.6956521739130435,
          "value": 7.58841614906832,
          "variable": "EB-F"
         },
         {
          "ECDF": 0.8043478260869565,
          "value": 8.0483850931677,
          "variable": "EB-F"
         },
         {
          "ECDF": 0.34782608695652173,
          "value": 6.63282608695652,
          "variable": "EB-F"
         },
         {
          "ECDF": 0.7391304347826086,
          "value": 7.78276397515528,
          "variable": "EB-F"
         },
         {
          "ECDF": 0.8913043478260869,
          "value": 8.80142857142857,
          "variable": "EB-F"
         },
         {
          "ECDF": 0.11956521739130435,
          "value": 5.68562111801242,
          "variable": "EB-F"
         },
         {
          "ECDF": 0.5108695652173914,
          "value": 7.16571428571428,
          "variable": "EB-F"
         },
         {
          "ECDF": 0.5217391304347826,
          "value": 7.17999999999999,
          "variable": "EB-F"
         },
         {
          "ECDF": 0.967391304347826,
          "value": 9.46478260869565,
          "variable": "EB-F"
         },
         {
          "ECDF": 0.3804347826086957,
          "value": 6.73624223602485,
          "variable": "EB-F"
         },
         {
          "ECDF": 0.9347826086956522,
          "value": 9.02040372670807,
          "variable": "EB-F"
         },
         {
          "ECDF": 0.1956521739130435,
          "value": 6.12950310559006,
          "variable": "EB-F"
         },
         {
          "ECDF": 0.5543478260869565,
          "value": 7.26686335403727,
          "variable": "EB-F"
         },
         {
          "ECDF": 0.18478260869565216,
          "value": 6.11211180124224,
          "variable": "EB-F"
         },
         {
          "ECDF": 0.8804347826086957,
          "value": 8.34978260869566,
          "variable": "EB-F"
         },
         {
          "ECDF": 0.7608695652173914,
          "value": 7.85267080745341,
          "variable": "EB-F"
         },
         {
          "ECDF": 0.40217391304347827,
          "value": 6.78248447204969,
          "variable": "EB-F"
         },
         {
          "ECDF": 0.44565217391304346,
          "value": 6.98813664596273,
          "variable": "EB-F"
         },
         {
          "ECDF": 0.43478260869565216,
          "value": 6.95701863354037,
          "variable": "EB-F"
         },
         {
          "ECDF": 0.07608695652173914,
          "value": 5.57444099378882,
          "variable": "EB-F"
         },
         {
          "ECDF": 0.7934782608695652,
          "value": 8.04503105590062,
          "variable": "EB-F"
         },
         {
          "ECDF": 0.30434782608695654,
          "value": 6.50726708074534,
          "variable": "EB-F"
         },
         {
          "ECDF": 0.09782608695652174,
          "value": 5.62201863354037,
          "variable": "EB-F"
         },
         {
          "ECDF": 0.05434782608695652,
          "value": 5.55928571428572,
          "variable": "EB-F"
         },
         {
          "ECDF": 0.9130434782608695,
          "value": 8.9027950310559,
          "variable": "EB-F"
         },
         {
          "ECDF": 0.2717391304347826,
          "value": 6.46354037267081,
          "variable": "EB-F"
         },
         {
          "ECDF": 0.7065217391304348,
          "value": 7.59521739130435,
          "variable": "EB-F"
         },
         {
          "ECDF": 0.5652173913043478,
          "value": 7.27195652173913,
          "variable": "EB-F"
         },
         {
          "ECDF": 0.2608695652173913,
          "value": 6.40037267080745,
          "variable": "EB-F"
         },
         {
          "ECDF": 0.6413043478260869,
          "value": 7.49204968944099,
          "variable": "EB-F"
         },
         {
          "ECDF": 0.9565217391304348,
          "value": 9.31652173913043,
          "variable": "EB-F"
         },
         {
          "ECDF": 0.29347826086956524,
          "value": 6.49850931677019,
          "variable": "EB-F"
         },
         {
          "ECDF": 0.42391304347826086,
          "value": 6.95086956521739,
          "variable": "EB-F"
         }
        ]
       },
       "encoding": {
        "color": {
         "field": "variable",
         "type": "nominal"
        },
        "tooltip": [
         {
          "field": "ECDF",
          "type": "quantitative"
         },
         {
          "field": "value",
          "type": "quantitative"
         }
        ],
        "x": {
         "field": "value",
         "scale": {
          "zero": false
         },
         "type": "quantitative"
        },
        "y": {
         "axis": {
          "format": "%"
         },
         "field": "ECDF",
         "type": "quantitative"
        }
       },
       "mark": {
        "opacity": 0.8,
        "size": 50,
        "type": "circle"
       }
      },
      "image/png": "[encoded data removed]",
      "text/plain": [
       "<VegaLite 2 object>\n",
       "\n",
       "If you see this message, it means the renderer has not been properly enabled\n",
       "for the frontend that you are using. For more information, see\n",
       "https://altair-viz.github.io/user_guide/troubleshooting.html\n"
      ]
     },
     "execution_count": 26,
     "metadata": {},
     "output_type": "execute_result"
    }
   ],
   "source": [
    "y_melted = y.melt()\n",
    "y_melted[\"ECDF\"] = y_melted.groupby(\"variable\")[\"value\"].transform(\n",
    "    lambda x: x.rank(method=\"first\") / len(x)\n",
    ")\n",
    "\n",
    "alt.Chart(y_melted).mark_circle(size=50, opacity=0.8).encode(\n",
    "    alt.X(\"value\", scale=alt.Scale(zero=False)),\n",
    "    alt.Y(\"ECDF\", axis=alt.Axis(format=\"%\")),\n",
    "    alt.Color(\"variable\"),\n",
    "    alt.Tooltip([\"ECDF:Q\", \"value:Q\"]),\n",
    ")"
   ]
  },
  {
   "cell_type": "code",
   "execution_count": 12,
   "metadata": {},
   "outputs": [
    {
     "data": {
      "application/vnd.vegalite.v2+json": {
       "$schema": "https://vega.github.io/schema/vega-lite/v2.6.0.json",
       "config": {
        "view": {
         "height": 300,
         "width": 400
        }
       },
       "data": {
        "name": "data-601cd773f715ef79f4a357f5c1c9fbce"
       },
       "datasets": {
        "data-601cd773f715ef79f4a357f5c1c9fbce": [
         {
          "value": 9.5,
          "variable": "BB-H"
         },
         {
          "value": 8.5,
          "variable": "BB-H"
         },
         {
          "value": 8.5,
          "variable": "BB-H"
         },
         {
          "value": 8.5,
          "variable": "BB-H"
         },
         {
          "value": 9,
          "variable": "BB-H"
         },
         {
          "value": 9,
          "variable": "BB-H"
         },
         {
          "value": 8,
          "variable": "BB-H"
         },
         {
          "value": 8.5,
          "variable": "BB-H"
         },
         {
          "value": 9,
          "variable": "BB-H"
         },
         {
          "value": 8.5,
          "variable": "BB-H"
         },
         {
          "value": 8.5,
          "variable": "BB-H"
         },
         {
          "value": 8,
          "variable": "BB-H"
         },
         {
          "value": 8.5,
          "variable": "BB-H"
         },
         {
          "value": 8.5,
          "variable": "BB-H"
         },
         {
          "value": 8.5,
          "variable": "BB-H"
         },
         {
          "value": 8,
          "variable": "BB-H"
         },
         {
          "value": 8.5,
          "variable": "BB-H"
         },
         {
          "value": 9,
          "variable": "BB-H"
         },
         {
          "value": 8.5,
          "variable": "BB-H"
         },
         {
          "value": 9.5,
          "variable": "BB-H"
         },
         {
          "value": 9,
          "variable": "BB-H"
         },
         {
          "value": 9,
          "variable": "BB-H"
         },
         {
          "value": 9,
          "variable": "BB-H"
         },
         {
          "value": 9,
          "variable": "BB-H"
         },
         {
          "value": 8,
          "variable": "BB-H"
         },
         {
          "value": 8,
          "variable": "BB-H"
         },
         {
          "value": 9,
          "variable": "BB-H"
         },
         {
          "value": 9,
          "variable": "BB-H"
         },
         {
          "value": 9,
          "variable": "BB-H"
         },
         {
          "value": 9,
          "variable": "BB-H"
         },
         {
          "value": 9.5,
          "variable": "BB-H"
         },
         {
          "value": 8.5,
          "variable": "BB-H"
         },
         {
          "value": 7,
          "variable": "BB-H"
         },
         {
          "value": 9,
          "variable": "BB-H"
         },
         {
          "value": 9,
          "variable": "BB-H"
         },
         {
          "value": 7,
          "variable": "BB-H"
         },
         {
          "value": 8,
          "variable": "BB-H"
         },
         {
          "value": 8,
          "variable": "BB-H"
         },
         {
          "value": 8.5,
          "variable": "BB-H"
         },
         {
          "value": 7.5,
          "variable": "BB-H"
         },
         {
          "value": 9,
          "variable": "BB-H"
         },
         {
          "value": 8,
          "variable": "BB-H"
         },
         {
          "value": 8.5,
          "variable": "BB-H"
         },
         {
          "value": 9.5,
          "variable": "BB-H"
         },
         {
          "value": 9.5,
          "variable": "BB-H"
         },
         {
          "value": 8,
          "variable": "BB-H"
         },
         {
          "value": 9.5,
          "variable": "BB-H"
         },
         {
          "value": 8,
          "variable": "BB-H"
         },
         {
          "value": 8.5,
          "variable": "BB-H"
         },
         {
          "value": 9.5,
          "variable": "BB-H"
         },
         {
          "value": 8,
          "variable": "BB-H"
         },
         {
          "value": 8,
          "variable": "BB-H"
         },
         {
          "value": 9.5,
          "variable": "BB-H"
         },
         {
          "value": 9,
          "variable": "BB-H"
         },
         {
          "value": 9.5,
          "variable": "BB-H"
         },
         {
          "value": 9,
          "variable": "BB-H"
         },
         {
          "value": 9,
          "variable": "BB-H"
         },
         {
          "value": 9,
          "variable": "BB-H"
         },
         {
          "value": 9,
          "variable": "BB-H"
         },
         {
          "value": 9.5,
          "variable": "BB-H"
         },
         {
          "value": 9,
          "variable": "BB-H"
         },
         {
          "value": 8.5,
          "variable": "BB-H"
         },
         {
          "value": 9.5,
          "variable": "BB-H"
         },
         {
          "value": 8.5,
          "variable": "BB-H"
         },
         {
          "value": 9.5,
          "variable": "BB-H"
         },
         {
          "value": 9.5,
          "variable": "BB-H"
         },
         {
          "value": 9,
          "variable": "BB-H"
         },
         {
          "value": 9,
          "variable": "BB-H"
         },
         {
          "value": 9,
          "variable": "BB-H"
         },
         {
          "value": 8,
          "variable": "BB-H"
         },
         {
          "value": 8,
          "variable": "BB-H"
         },
         {
          "value": 9,
          "variable": "BB-H"
         },
         {
          "value": 9,
          "variable": "BB-H"
         },
         {
          "value": 8.5,
          "variable": "BB-H"
         },
         {
          "value": 8,
          "variable": "BB-H"
         },
         {
          "value": 8.5,
          "variable": "BB-H"
         },
         {
          "value": 9,
          "variable": "BB-H"
         },
         {
          "value": 8.5,
          "variable": "BB-H"
         },
         {
          "value": 9,
          "variable": "BB-H"
         },
         {
          "value": 8,
          "variable": "BB-H"
         },
         {
          "value": 8,
          "variable": "BB-H"
         },
         {
          "value": 9,
          "variable": "BB-H"
         },
         {
          "value": 9,
          "variable": "BB-H"
         },
         {
          "value": 9.5,
          "variable": "BB-H"
         },
         {
          "value": 9,
          "variable": "BB-H"
         },
         {
          "value": 9.5,
          "variable": "BB-H"
         },
         {
          "value": 9,
          "variable": "BB-H"
         },
         {
          "value": 9.5,
          "variable": "BB-H"
         },
         {
          "value": 9,
          "variable": "BB-H"
         },
         {
          "value": 9.5,
          "variable": "BB-H"
         },
         {
          "value": 9.5,
          "variable": "BB-H"
         },
         {
          "value": 8.5,
          "variable": "BB-H"
         },
         {
          "value": 8.08333333333333,
          "variable": "EB-H"
         },
         {
          "value": 7.08333333333333,
          "variable": "EB-H"
         },
         {
          "value": 7.83333333333333,
          "variable": "EB-H"
         },
         {
          "value": 7.41666666666667,
          "variable": "EB-H"
         },
         {
          "value": 7.33333333333333,
          "variable": "EB-H"
         },
         {
          "value": 7.91666666666667,
          "variable": "EB-H"
         },
         {
          "value": 6.41666666666667,
          "variable": "EB-H"
         },
         {
          "value": 7.83333333333333,
          "variable": "EB-H"
         },
         {
          "value": 7.66666666666667,
          "variable": "EB-H"
         },
         {
          "value": 8,
          "variable": "EB-H"
         },
         {
          "value": 6.91666666666667,
          "variable": "EB-H"
         },
         {
          "value": 7.33333333333333,
          "variable": "EB-H"
         },
         {
          "value": 6.83333333333333,
          "variable": "EB-H"
         },
         {
          "value": 7.16666666666667,
          "variable": "EB-H"
         },
         {
          "value": 7.33333333333333,
          "variable": "EB-H"
         },
         {
          "value": 6.83333333333333,
          "variable": "EB-H"
         },
         {
          "value": 8.25,
          "variable": "EB-H"
         },
         {
          "value": 8.25,
          "variable": "EB-H"
         },
         {
          "value": 6.41666666666667,
          "variable": "EB-H"
         },
         {
          "value": 7.75,
          "variable": "EB-H"
         },
         {
          "value": 7.5,
          "variable": "EB-H"
         },
         {
          "value": 7.41666666666667,
          "variable": "EB-H"
         },
         {
          "value": 7.91666666666667,
          "variable": "EB-H"
         },
         {
          "value": 7.25,
          "variable": "EB-H"
         },
         {
          "value": 7.33333333333333,
          "variable": "EB-H"
         },
         {
          "value": 6.91666666666667,
          "variable": "EB-H"
         },
         {
          "value": 7.41666666666667,
          "variable": "EB-H"
         },
         {
          "value": 7.75,
          "variable": "EB-H"
         },
         {
          "value": 7.08333333333333,
          "variable": "EB-H"
         },
         {
          "value": 7.25,
          "variable": "EB-H"
         },
         {
          "value": 8,
          "variable": "EB-H"
         },
         {
          "value": 7.5,
          "variable": "EB-H"
         },
         {
          "value": 7.33333333333333,
          "variable": "EB-H"
         },
         {
          "value": 7.58333333333333,
          "variable": "EB-H"
         },
         {
          "value": 6.16666666666667,
          "variable": "EB-H"
         },
         {
          "value": 8.08333333333333,
          "variable": "EB-H"
         },
         {
          "value": 6.66666666666667,
          "variable": "EB-H"
         },
         {
          "value": 7.16666666666667,
          "variable": "EB-H"
         },
         {
          "value": 8,
          "variable": "EB-H"
         },
         {
          "value": 7.16666666666667,
          "variable": "EB-H"
         },
         {
          "value": 7.33333333333333,
          "variable": "EB-H"
         },
         {
          "value": 6.91666666666667,
          "variable": "EB-H"
         },
         {
          "value": 8.25,
          "variable": "EB-H"
         },
         {
          "value": 8.58333333333333,
          "variable": "EB-H"
         },
         {
          "value": 7.25,
          "variable": "EB-H"
         },
         {
          "value": 6.58333333333333,
          "variable": "EB-H"
         },
         {
          "value": 7,
          "variable": "EB-H"
         },
         {
          "value": 7.41666666666667,
          "variable": "EB-H"
         },
         {
          "value": 8,
          "variable": "EB-H"
         },
         {
          "value": 8.16666666666667,
          "variable": "EB-H"
         },
         {
          "value": 7.58333333333333,
          "variable": "EB-H"
         },
         {
          "value": 7,
          "variable": "EB-H"
         },
         {
          "value": 8.33333333333333,
          "variable": "EB-H"
         },
         {
          "value": 7,
          "variable": "EB-H"
         },
         {
          "value": 7.83333333333333,
          "variable": "EB-H"
         },
         {
          "value": 7.66666666666667,
          "variable": "EB-H"
         },
         {
          "value": 6.75,
          "variable": "EB-H"
         },
         {
          "value": 7.66666666666667,
          "variable": "EB-H"
         },
         {
          "value": 8.33333333333333,
          "variable": "EB-H"
         },
         {
          "value": 7.16666666666667,
          "variable": "EB-H"
         },
         {
          "value": 7.75,
          "variable": "EB-H"
         },
         {
          "value": 7.58333333333333,
          "variable": "EB-H"
         },
         {
          "value": 8,
          "variable": "EB-H"
         },
         {
          "value": 8,
          "variable": "EB-H"
         },
         {
          "value": 7.75,
          "variable": "EB-H"
         },
         {
          "value": 8.16666666666667,
          "variable": "EB-H"
         },
         {
          "value": 6.91666666666667,
          "variable": "EB-H"
         },
         {
          "value": 5.75,
          "variable": "EB-H"
         },
         {
          "value": 8.33333333333333,
          "variable": "EB-H"
         },
         {
          "value": 7.58333333333333,
          "variable": "EB-H"
         },
         {
          "value": 7.33333333333333,
          "variable": "EB-H"
         },
         {
          "value": 8.58333333333333,
          "variable": "EB-H"
         },
         {
          "value": 8,
          "variable": "EB-H"
         },
         {
          "value": 6.41666666666667,
          "variable": "EB-H"
         },
         {
          "value": 7.25,
          "variable": "EB-H"
         },
         {
          "value": 7.16666666666667,
          "variable": "EB-H"
         },
         {
          "value": 7.75,
          "variable": "EB-H"
         },
         {
          "value": 7.83333333333333,
          "variable": "EB-H"
         },
         {
          "value": 8.25,
          "variable": "EB-H"
         },
         {
          "value": 8,
          "variable": "EB-H"
         },
         {
          "value": 7.41666666666667,
          "variable": "EB-H"
         },
         {
          "value": 8,
          "variable": "EB-H"
         },
         {
          "value": 7.33333333333333,
          "variable": "EB-H"
         },
         {
          "value": 6.58333333333333,
          "variable": "EB-H"
         },
         {
          "value": 7.08333333333333,
          "variable": "EB-H"
         },
         {
          "value": 8,
          "variable": "EB-H"
         },
         {
          "value": 8.41666666666667,
          "variable": "EB-H"
         },
         {
          "value": 8.25,
          "variable": "EB-H"
         },
         {
          "value": 8.08333333333333,
          "variable": "EB-H"
         },
         {
          "value": 7.58333333333333,
          "variable": "EB-H"
         },
         {
          "value": 9,
          "variable": "EB-H"
         },
         {
          "value": 8,
          "variable": "EB-H"
         },
         {
          "value": 6.77,
          "variable": "EB-F"
         },
         {
          "value": 7.76275316455696,
          "variable": "EB-F"
         },
         {
          "value": 6.72568322981367,
          "variable": "EB-F"
         },
         {
          "value": 7.31582278481012,
          "variable": "EB-F"
         },
         {
          "value": 8.9951582278481,
          "variable": "EB-F"
         },
         {
          "value": 8.09832298136646,
          "variable": "EB-F"
         },
         {
          "value": 5.43598101265823,
          "variable": "EB-F"
         },
         {
          "value": 5.85183544303798,
          "variable": "EB-F"
         },
         {
          "value": 6.24363354037267,
          "variable": "EB-F"
         },
         {
          "value": 6.67822981366459,
          "variable": "EB-F"
         },
         {
          "value": 7.08518633540373,
          "variable": "EB-F"
         },
         {
          "value": 5.65604430379746,
          "variable": "EB-F"
         },
         {
          "value": 5.56566455696202,
          "variable": "EB-F"
         },
         {
          "value": 8.06740506329114,
          "variable": "EB-F"
         },
         {
          "value": 6.5739751552795,
          "variable": "EB-F"
         },
         {
          "value": 6.50962732919255,
          "variable": "EB-F"
         },
         {
          "value": 6.93208074534162,
          "variable": "EB-F"
         },
         {
          "value": 7.25148734177215,
          "variable": "EB-F"
         },
         {
          "value": 6.99605590062111,
          "variable": "EB-F"
         },
         {
          "value": 6.54698757763975,
          "variable": "EB-F"
         },
         {
          "value": 8.12232919254659,
          "variable": "EB-F"
         },
         {
          "value": 7.01093167701864,
          "variable": "EB-F"
         },
         {
          "value": 5.7902795031056,
          "variable": "EB-F"
         },
         {
          "value": 9.03440993788819,
          "variable": "EB-F"
         },
         {
          "value": 5.26894409937888,
          "variable": "EB-F"
         },
         {
          "value": 6.13810559006211,
          "variable": "EB-F"
         },
         {
          "value": 8.07810559006211,
          "variable": "EB-F"
         },
         {
          "value": 5.84186335403727,
          "variable": "EB-F"
         },
         {
          "value": 5.25605590062111,
          "variable": "EB-F"
         },
         {
          "value": 5.74723602484472,
          "variable": "EB-F"
         },
         {
          "value": 8.88142857142858,
          "variable": "EB-F"
         },
         {
          "value": 7.49195652173913,
          "variable": "EB-F"
         },
         {
          "value": 7.57232919254657,
          "variable": "EB-F"
         },
         {
          "value": 7.26686335403727,
          "variable": "EB-F"
         },
         {
          "value": 6.07872670807453,
          "variable": "EB-F"
         },
         {
          "value": 7.06543478260869,
          "variable": "EB-F"
         },
         {
          "value": 5.60121118012422,
          "variable": "EB-F"
         },
         {
          "value": 6.47130434782609,
          "variable": "EB-F"
         },
         {
          "value": 7.36341614906833,
          "variable": "EB-F"
         },
         {
          "value": 7.62798136645963,
          "variable": "EB-F"
         },
         {
          "value": 7.30304347826087,
          "variable": "EB-F"
         },
         {
          "value": 7.89618012422359,
          "variable": "EB-F"
         },
         {
          "value": 6.21487577639751,
          "variable": "EB-F"
         },
         {
          "value": 9.81347826086955,
          "variable": "EB-F"
         },
         {
          "value": 7.53201863354037,
          "variable": "EB-F"
         },
         {
          "value": 7.79161490683229,
          "variable": "EB-F"
         },
         {
          "value": 7.42540372670807,
          "variable": "EB-F"
         },
         {
          "value": 7.03633540372672,
          "variable": "EB-F"
         },
         {
          "value": 6.23372670807453,
          "variable": "EB-F"
         },
         {
          "value": 6.24121298189805,
          "variable": "EB-F"
         },
         {
          "value": 7.5623602484472,
          "variable": "EB-F"
         },
         {
          "value": 7.53201863354037,
          "variable": "EB-F"
         },
         {
          "value": 9.62919254658385,
          "variable": "EB-F"
         },
         {
          "value": 9.63127329192547,
          "variable": "EB-F"
         },
         {
          "value": 7.45161490683229,
          "variable": "EB-F"
         },
         {
          "value": 8.15832298136646,
          "variable": "EB-F"
         },
         {
          "value": 5.45521739130435,
          "variable": "EB-F"
         },
         {
          "value": 8.11105590062111,
          "variable": "EB-F"
         },
         {
          "value": 7.85459627329192,
          "variable": "EB-F"
         },
         {
          "value": 7.58841614906832,
          "variable": "EB-F"
         },
         {
          "value": 8.0483850931677,
          "variable": "EB-F"
         },
         {
          "value": 6.63282608695652,
          "variable": "EB-F"
         },
         {
          "value": 7.78276397515528,
          "variable": "EB-F"
         },
         {
          "value": 8.80142857142857,
          "variable": "EB-F"
         },
         {
          "value": 5.68562111801242,
          "variable": "EB-F"
         },
         {
          "value": 7.16571428571428,
          "variable": "EB-F"
         },
         {
          "value": 7.17999999999999,
          "variable": "EB-F"
         },
         {
          "value": 9.46478260869565,
          "variable": "EB-F"
         },
         {
          "value": 6.73624223602485,
          "variable": "EB-F"
         },
         {
          "value": 9.02040372670807,
          "variable": "EB-F"
         },
         {
          "value": 6.12950310559006,
          "variable": "EB-F"
         },
         {
          "value": 7.26686335403727,
          "variable": "EB-F"
         },
         {
          "value": 6.11211180124224,
          "variable": "EB-F"
         },
         {
          "value": 8.34978260869566,
          "variable": "EB-F"
         },
         {
          "value": 7.85267080745341,
          "variable": "EB-F"
         },
         {
          "value": 6.78248447204969,
          "variable": "EB-F"
         },
         {
          "value": 6.98813664596273,
          "variable": "EB-F"
         },
         {
          "value": 6.95701863354037,
          "variable": "EB-F"
         },
         {
          "value": 5.57444099378882,
          "variable": "EB-F"
         },
         {
          "value": 8.04503105590062,
          "variable": "EB-F"
         },
         {
          "value": 6.50726708074534,
          "variable": "EB-F"
         },
         {
          "value": 5.62201863354037,
          "variable": "EB-F"
         },
         {
          "value": 5.55928571428572,
          "variable": "EB-F"
         },
         {
          "value": 8.9027950310559,
          "variable": "EB-F"
         },
         {
          "value": 6.46354037267081,
          "variable": "EB-F"
         },
         {
          "value": 7.59521739130435,
          "variable": "EB-F"
         },
         {
          "value": 7.27195652173913,
          "variable": "EB-F"
         },
         {
          "value": 6.40037267080745,
          "variable": "EB-F"
         },
         {
          "value": 7.49204968944099,
          "variable": "EB-F"
         },
         {
          "value": 9.31652173913043,
          "variable": "EB-F"
         },
         {
          "value": 6.49850931677019,
          "variable": "EB-F"
         },
         {
          "value": 6.95086956521739,
          "variable": "EB-F"
         }
        ]
       },
       "facet": {},
       "spec": {
        "layer": [
         {
          "encoding": {
           "color": {},
           "x": {
            "field": "variable",
            "title": null,
            "type": "nominal"
           },
           "y": {
            "aggregate": "mean",
            "field": "value",
            "title": null,
            "type": "quantitative"
           }
          },
          "mark": {
           "color": "grey",
           "type": "bar"
          }
         },
         {
          "encoding": {
           "x": {
            "field": "variable",
            "title": null,
            "type": "nominal"
           },
           "y": {
            "aggregate": "ci0",
            "field": "value",
            "type": "quantitative"
           },
           "y2": {
            "aggregate": "ci1",
            "field": "value",
            "type": "quantitative"
           }
          },
          "mark": "rule"
         }
        ]
       }
      },
      "image/png": "[encoded data removed]",
      "text/plain": [
       "<VegaLite 2 object>\n",
       "\n",
       "If you see this message, it means the renderer has not been properly enabled\n",
       "for the frontend that you are using. For more information, see\n",
       "https://altair-viz.github.io/user_guide/troubleshooting.html\n"
      ]
     },
     "execution_count": 12,
     "metadata": {},
     "output_type": "execute_result"
    }
   ],
   "source": [
    "plot_bars(data=y.melt(), x=alt.X(\"variable\", title=None), y=\"value\")"
   ]
  },
  {
   "cell_type": "code",
   "execution_count": 13,
   "metadata": {},
   "outputs": [
    {
     "data": {
      "application/vnd.vegalite.v2+json": {
       "$schema": "https://vega.github.io/schema/vega-lite/v2.6.0.json",
       "config": {
        "view": {
         "height": 300,
         "width": 400
        }
       },
       "datasets": {
        "data-601cd773f715ef79f4a357f5c1c9fbce": [
         {
          "value": 9.5,
          "variable": "BB-H"
         },
         {
          "value": 8.5,
          "variable": "BB-H"
         },
         {
          "value": 8.5,
          "variable": "BB-H"
         },
         {
          "value": 8.5,
          "variable": "BB-H"
         },
         {
          "value": 9,
          "variable": "BB-H"
         },
         {
          "value": 9,
          "variable": "BB-H"
         },
         {
          "value": 8,
          "variable": "BB-H"
         },
         {
          "value": 8.5,
          "variable": "BB-H"
         },
         {
          "value": 9,
          "variable": "BB-H"
         },
         {
          "value": 8.5,
          "variable": "BB-H"
         },
         {
          "value": 8.5,
          "variable": "BB-H"
         },
         {
          "value": 8,
          "variable": "BB-H"
         },
         {
          "value": 8.5,
          "variable": "BB-H"
         },
         {
          "value": 8.5,
          "variable": "BB-H"
         },
         {
          "value": 8.5,
          "variable": "BB-H"
         },
         {
          "value": 8,
          "variable": "BB-H"
         },
         {
          "value": 8.5,
          "variable": "BB-H"
         },
         {
          "value": 9,
          "variable": "BB-H"
         },
         {
          "value": 8.5,
          "variable": "BB-H"
         },
         {
          "value": 9.5,
          "variable": "BB-H"
         },
         {
          "value": 9,
          "variable": "BB-H"
         },
         {
          "value": 9,
          "variable": "BB-H"
         },
         {
          "value": 9,
          "variable": "BB-H"
         },
         {
          "value": 9,
          "variable": "BB-H"
         },
         {
          "value": 8,
          "variable": "BB-H"
         },
         {
          "value": 8,
          "variable": "BB-H"
         },
         {
          "value": 9,
          "variable": "BB-H"
         },
         {
          "value": 9,
          "variable": "BB-H"
         },
         {
          "value": 9,
          "variable": "BB-H"
         },
         {
          "value": 9,
          "variable": "BB-H"
         },
         {
          "value": 9.5,
          "variable": "BB-H"
         },
         {
          "value": 8.5,
          "variable": "BB-H"
         },
         {
          "value": 7,
          "variable": "BB-H"
         },
         {
          "value": 9,
          "variable": "BB-H"
         },
         {
          "value": 9,
          "variable": "BB-H"
         },
         {
          "value": 7,
          "variable": "BB-H"
         },
         {
          "value": 8,
          "variable": "BB-H"
         },
         {
          "value": 8,
          "variable": "BB-H"
         },
         {
          "value": 8.5,
          "variable": "BB-H"
         },
         {
          "value": 7.5,
          "variable": "BB-H"
         },
         {
          "value": 9,
          "variable": "BB-H"
         },
         {
          "value": 8,
          "variable": "BB-H"
         },
         {
          "value": 8.5,
          "variable": "BB-H"
         },
         {
          "value": 9.5,
          "variable": "BB-H"
         },
         {
          "value": 9.5,
          "variable": "BB-H"
         },
         {
          "value": 8,
          "variable": "BB-H"
         },
         {
          "value": 9.5,
          "variable": "BB-H"
         },
         {
          "value": 8,
          "variable": "BB-H"
         },
         {
          "value": 8.5,
          "variable": "BB-H"
         },
         {
          "value": 9.5,
          "variable": "BB-H"
         },
         {
          "value": 8,
          "variable": "BB-H"
         },
         {
          "value": 8,
          "variable": "BB-H"
         },
         {
          "value": 9.5,
          "variable": "BB-H"
         },
         {
          "value": 9,
          "variable": "BB-H"
         },
         {
          "value": 9.5,
          "variable": "BB-H"
         },
         {
          "value": 9,
          "variable": "BB-H"
         },
         {
          "value": 9,
          "variable": "BB-H"
         },
         {
          "value": 9,
          "variable": "BB-H"
         },
         {
          "value": 9,
          "variable": "BB-H"
         },
         {
          "value": 9.5,
          "variable": "BB-H"
         },
         {
          "value": 9,
          "variable": "BB-H"
         },
         {
          "value": 8.5,
          "variable": "BB-H"
         },
         {
          "value": 9.5,
          "variable": "BB-H"
         },
         {
          "value": 8.5,
          "variable": "BB-H"
         },
         {
          "value": 9.5,
          "variable": "BB-H"
         },
         {
          "value": 9.5,
          "variable": "BB-H"
         },
         {
          "value": 9,
          "variable": "BB-H"
         },
         {
          "value": 9,
          "variable": "BB-H"
         },
         {
          "value": 9,
          "variable": "BB-H"
         },
         {
          "value": 8,
          "variable": "BB-H"
         },
         {
          "value": 8,
          "variable": "BB-H"
         },
         {
          "value": 9,
          "variable": "BB-H"
         },
         {
          "value": 9,
          "variable": "BB-H"
         },
         {
          "value": 8.5,
          "variable": "BB-H"
         },
         {
          "value": 8,
          "variable": "BB-H"
         },
         {
          "value": 8.5,
          "variable": "BB-H"
         },
         {
          "value": 9,
          "variable": "BB-H"
         },
         {
          "value": 8.5,
          "variable": "BB-H"
         },
         {
          "value": 9,
          "variable": "BB-H"
         },
         {
          "value": 8,
          "variable": "BB-H"
         },
         {
          "value": 8,
          "variable": "BB-H"
         },
         {
          "value": 9,
          "variable": "BB-H"
         },
         {
          "value": 9,
          "variable": "BB-H"
         },
         {
          "value": 9.5,
          "variable": "BB-H"
         },
         {
          "value": 9,
          "variable": "BB-H"
         },
         {
          "value": 9.5,
          "variable": "BB-H"
         },
         {
          "value": 9,
          "variable": "BB-H"
         },
         {
          "value": 9.5,
          "variable": "BB-H"
         },
         {
          "value": 9,
          "variable": "BB-H"
         },
         {
          "value": 9.5,
          "variable": "BB-H"
         },
         {
          "value": 9.5,
          "variable": "BB-H"
         },
         {
          "value": 8.5,
          "variable": "BB-H"
         },
         {
          "value": 8.08333333333333,
          "variable": "EB-H"
         },
         {
          "value": 7.08333333333333,
          "variable": "EB-H"
         },
         {
          "value": 7.83333333333333,
          "variable": "EB-H"
         },
         {
          "value": 7.41666666666667,
          "variable": "EB-H"
         },
         {
          "value": 7.33333333333333,
          "variable": "EB-H"
         },
         {
          "value": 7.91666666666667,
          "variable": "EB-H"
         },
         {
          "value": 6.41666666666667,
          "variable": "EB-H"
         },
         {
          "value": 7.83333333333333,
          "variable": "EB-H"
         },
         {
          "value": 7.66666666666667,
          "variable": "EB-H"
         },
         {
          "value": 8,
          "variable": "EB-H"
         },
         {
          "value": 6.91666666666667,
          "variable": "EB-H"
         },
         {
          "value": 7.33333333333333,
          "variable": "EB-H"
         },
         {
          "value": 6.83333333333333,
          "variable": "EB-H"
         },
         {
          "value": 7.16666666666667,
          "variable": "EB-H"
         },
         {
          "value": 7.33333333333333,
          "variable": "EB-H"
         },
         {
          "value": 6.83333333333333,
          "variable": "EB-H"
         },
         {
          "value": 8.25,
          "variable": "EB-H"
         },
         {
          "value": 8.25,
          "variable": "EB-H"
         },
         {
          "value": 6.41666666666667,
          "variable": "EB-H"
         },
         {
          "value": 7.75,
          "variable": "EB-H"
         },
         {
          "value": 7.5,
          "variable": "EB-H"
         },
         {
          "value": 7.41666666666667,
          "variable": "EB-H"
         },
         {
          "value": 7.91666666666667,
          "variable": "EB-H"
         },
         {
          "value": 7.25,
          "variable": "EB-H"
         },
         {
          "value": 7.33333333333333,
          "variable": "EB-H"
         },
         {
          "value": 6.91666666666667,
          "variable": "EB-H"
         },
         {
          "value": 7.41666666666667,
          "variable": "EB-H"
         },
         {
          "value": 7.75,
          "variable": "EB-H"
         },
         {
          "value": 7.08333333333333,
          "variable": "EB-H"
         },
         {
          "value": 7.25,
          "variable": "EB-H"
         },
         {
          "value": 8,
          "variable": "EB-H"
         },
         {
          "value": 7.5,
          "variable": "EB-H"
         },
         {
          "value": 7.33333333333333,
          "variable": "EB-H"
         },
         {
          "value": 7.58333333333333,
          "variable": "EB-H"
         },
         {
          "value": 6.16666666666667,
          "variable": "EB-H"
         },
         {
          "value": 8.08333333333333,
          "variable": "EB-H"
         },
         {
          "value": 6.66666666666667,
          "variable": "EB-H"
         },
         {
          "value": 7.16666666666667,
          "variable": "EB-H"
         },
         {
          "value": 8,
          "variable": "EB-H"
         },
         {
          "value": 7.16666666666667,
          "variable": "EB-H"
         },
         {
          "value": 7.33333333333333,
          "variable": "EB-H"
         },
         {
          "value": 6.91666666666667,
          "variable": "EB-H"
         },
         {
          "value": 8.25,
          "variable": "EB-H"
         },
         {
          "value": 8.58333333333333,
          "variable": "EB-H"
         },
         {
          "value": 7.25,
          "variable": "EB-H"
         },
         {
          "value": 6.58333333333333,
          "variable": "EB-H"
         },
         {
          "value": 7,
          "variable": "EB-H"
         },
         {
          "value": 7.41666666666667,
          "variable": "EB-H"
         },
         {
          "value": 8,
          "variable": "EB-H"
         },
         {
          "value": 8.16666666666667,
          "variable": "EB-H"
         },
         {
          "value": 7.58333333333333,
          "variable": "EB-H"
         },
         {
          "value": 7,
          "variable": "EB-H"
         },
         {
          "value": 8.33333333333333,
          "variable": "EB-H"
         },
         {
          "value": 7,
          "variable": "EB-H"
         },
         {
          "value": 7.83333333333333,
          "variable": "EB-H"
         },
         {
          "value": 7.66666666666667,
          "variable": "EB-H"
         },
         {
          "value": 6.75,
          "variable": "EB-H"
         },
         {
          "value": 7.66666666666667,
          "variable": "EB-H"
         },
         {
          "value": 8.33333333333333,
          "variable": "EB-H"
         },
         {
          "value": 7.16666666666667,
          "variable": "EB-H"
         },
         {
          "value": 7.75,
          "variable": "EB-H"
         },
         {
          "value": 7.58333333333333,
          "variable": "EB-H"
         },
         {
          "value": 8,
          "variable": "EB-H"
         },
         {
          "value": 8,
          "variable": "EB-H"
         },
         {
          "value": 7.75,
          "variable": "EB-H"
         },
         {
          "value": 8.16666666666667,
          "variable": "EB-H"
         },
         {
          "value": 6.91666666666667,
          "variable": "EB-H"
         },
         {
          "value": 5.75,
          "variable": "EB-H"
         },
         {
          "value": 8.33333333333333,
          "variable": "EB-H"
         },
         {
          "value": 7.58333333333333,
          "variable": "EB-H"
         },
         {
          "value": 7.33333333333333,
          "variable": "EB-H"
         },
         {
          "value": 8.58333333333333,
          "variable": "EB-H"
         },
         {
          "value": 8,
          "variable": "EB-H"
         },
         {
          "value": 6.41666666666667,
          "variable": "EB-H"
         },
         {
          "value": 7.25,
          "variable": "EB-H"
         },
         {
          "value": 7.16666666666667,
          "variable": "EB-H"
         },
         {
          "value": 7.75,
          "variable": "EB-H"
         },
         {
          "value": 7.83333333333333,
          "variable": "EB-H"
         },
         {
          "value": 8.25,
          "variable": "EB-H"
         },
         {
          "value": 8,
          "variable": "EB-H"
         },
         {
          "value": 7.41666666666667,
          "variable": "EB-H"
         },
         {
          "value": 8,
          "variable": "EB-H"
         },
         {
          "value": 7.33333333333333,
          "variable": "EB-H"
         },
         {
          "value": 6.58333333333333,
          "variable": "EB-H"
         },
         {
          "value": 7.08333333333333,
          "variable": "EB-H"
         },
         {
          "value": 8,
          "variable": "EB-H"
         },
         {
          "value": 8.41666666666667,
          "variable": "EB-H"
         },
         {
          "value": 8.25,
          "variable": "EB-H"
         },
         {
          "value": 8.08333333333333,
          "variable": "EB-H"
         },
         {
          "value": 7.58333333333333,
          "variable": "EB-H"
         },
         {
          "value": 9,
          "variable": "EB-H"
         },
         {
          "value": 8,
          "variable": "EB-H"
         },
         {
          "value": 6.77,
          "variable": "EB-F"
         },
         {
          "value": 7.76275316455696,
          "variable": "EB-F"
         },
         {
          "value": 6.72568322981367,
          "variable": "EB-F"
         },
         {
          "value": 7.31582278481012,
          "variable": "EB-F"
         },
         {
          "value": 8.9951582278481,
          "variable": "EB-F"
         },
         {
          "value": 8.09832298136646,
          "variable": "EB-F"
         },
         {
          "value": 5.43598101265823,
          "variable": "EB-F"
         },
         {
          "value": 5.85183544303798,
          "variable": "EB-F"
         },
         {
          "value": 6.24363354037267,
          "variable": "EB-F"
         },
         {
          "value": 6.67822981366459,
          "variable": "EB-F"
         },
         {
          "value": 7.08518633540373,
          "variable": "EB-F"
         },
         {
          "value": 5.65604430379746,
          "variable": "EB-F"
         },
         {
          "value": 5.56566455696202,
          "variable": "EB-F"
         },
         {
          "value": 8.06740506329114,
          "variable": "EB-F"
         },
         {
          "value": 6.5739751552795,
          "variable": "EB-F"
         },
         {
          "value": 6.50962732919255,
          "variable": "EB-F"
         },
         {
          "value": 6.93208074534162,
          "variable": "EB-F"
         },
         {
          "value": 7.25148734177215,
          "variable": "EB-F"
         },
         {
          "value": 6.99605590062111,
          "variable": "EB-F"
         },
         {
          "value": 6.54698757763975,
          "variable": "EB-F"
         },
         {
          "value": 8.12232919254659,
          "variable": "EB-F"
         },
         {
          "value": 7.01093167701864,
          "variable": "EB-F"
         },
         {
          "value": 5.7902795031056,
          "variable": "EB-F"
         },
         {
          "value": 9.03440993788819,
          "variable": "EB-F"
         },
         {
          "value": 5.26894409937888,
          "variable": "EB-F"
         },
         {
          "value": 6.13810559006211,
          "variable": "EB-F"
         },
         {
          "value": 8.07810559006211,
          "variable": "EB-F"
         },
         {
          "value": 5.84186335403727,
          "variable": "EB-F"
         },
         {
          "value": 5.25605590062111,
          "variable": "EB-F"
         },
         {
          "value": 5.74723602484472,
          "variable": "EB-F"
         },
         {
          "value": 8.88142857142858,
          "variable": "EB-F"
         },
         {
          "value": 7.49195652173913,
          "variable": "EB-F"
         },
         {
          "value": 7.57232919254657,
          "variable": "EB-F"
         },
         {
          "value": 7.26686335403727,
          "variable": "EB-F"
         },
         {
          "value": 6.07872670807453,
          "variable": "EB-F"
         },
         {
          "value": 7.06543478260869,
          "variable": "EB-F"
         },
         {
          "value": 5.60121118012422,
          "variable": "EB-F"
         },
         {
          "value": 6.47130434782609,
          "variable": "EB-F"
         },
         {
          "value": 7.36341614906833,
          "variable": "EB-F"
         },
         {
          "value": 7.62798136645963,
          "variable": "EB-F"
         },
         {
          "value": 7.30304347826087,
          "variable": "EB-F"
         },
         {
          "value": 7.89618012422359,
          "variable": "EB-F"
         },
         {
          "value": 6.21487577639751,
          "variable": "EB-F"
         },
         {
          "value": 9.81347826086955,
          "variable": "EB-F"
         },
         {
          "value": 7.53201863354037,
          "variable": "EB-F"
         },
         {
          "value": 7.79161490683229,
          "variable": "EB-F"
         },
         {
          "value": 7.42540372670807,
          "variable": "EB-F"
         },
         {
          "value": 7.03633540372672,
          "variable": "EB-F"
         },
         {
          "value": 6.23372670807453,
          "variable": "EB-F"
         },
         {
          "value": 6.24121298189805,
          "variable": "EB-F"
         },
         {
          "value": 7.5623602484472,
          "variable": "EB-F"
         },
         {
          "value": 7.53201863354037,
          "variable": "EB-F"
         },
         {
          "value": 9.62919254658385,
          "variable": "EB-F"
         },
         {
          "value": 9.63127329192547,
          "variable": "EB-F"
         },
         {
          "value": 7.45161490683229,
          "variable": "EB-F"
         },
         {
          "value": 8.15832298136646,
          "variable": "EB-F"
         },
         {
          "value": 5.45521739130435,
          "variable": "EB-F"
         },
         {
          "value": 8.11105590062111,
          "variable": "EB-F"
         },
         {
          "value": 7.85459627329192,
          "variable": "EB-F"
         },
         {
          "value": 7.58841614906832,
          "variable": "EB-F"
         },
         {
          "value": 8.0483850931677,
          "variable": "EB-F"
         },
         {
          "value": 6.63282608695652,
          "variable": "EB-F"
         },
         {
          "value": 7.78276397515528,
          "variable": "EB-F"
         },
         {
          "value": 8.80142857142857,
          "variable": "EB-F"
         },
         {
          "value": 5.68562111801242,
          "variable": "EB-F"
         },
         {
          "value": 7.16571428571428,
          "variable": "EB-F"
         },
         {
          "value": 7.17999999999999,
          "variable": "EB-F"
         },
         {
          "value": 9.46478260869565,
          "variable": "EB-F"
         },
         {
          "value": 6.73624223602485,
          "variable": "EB-F"
         },
         {
          "value": 9.02040372670807,
          "variable": "EB-F"
         },
         {
          "value": 6.12950310559006,
          "variable": "EB-F"
         },
         {
          "value": 7.26686335403727,
          "variable": "EB-F"
         },
         {
          "value": 6.11211180124224,
          "variable": "EB-F"
         },
         {
          "value": 8.34978260869566,
          "variable": "EB-F"
         },
         {
          "value": 7.85267080745341,
          "variable": "EB-F"
         },
         {
          "value": 6.78248447204969,
          "variable": "EB-F"
         },
         {
          "value": 6.98813664596273,
          "variable": "EB-F"
         },
         {
          "value": 6.95701863354037,
          "variable": "EB-F"
         },
         {
          "value": 5.57444099378882,
          "variable": "EB-F"
         },
         {
          "value": 8.04503105590062,
          "variable": "EB-F"
         },
         {
          "value": 6.50726708074534,
          "variable": "EB-F"
         },
         {
          "value": 5.62201863354037,
          "variable": "EB-F"
         },
         {
          "value": 5.55928571428572,
          "variable": "EB-F"
         },
         {
          "value": 8.9027950310559,
          "variable": "EB-F"
         },
         {
          "value": 6.46354037267081,
          "variable": "EB-F"
         },
         {
          "value": 7.59521739130435,
          "variable": "EB-F"
         },
         {
          "value": 7.27195652173913,
          "variable": "EB-F"
         },
         {
          "value": 6.40037267080745,
          "variable": "EB-F"
         },
         {
          "value": 7.49204968944099,
          "variable": "EB-F"
         },
         {
          "value": 9.31652173913043,
          "variable": "EB-F"
         },
         {
          "value": 6.49850931677019,
          "variable": "EB-F"
         },
         {
          "value": 6.95086956521739,
          "variable": "EB-F"
         }
        ]
       },
       "layer": [
        {
         "data": {
          "name": "data-601cd773f715ef79f4a357f5c1c9fbce"
         },
         "encoding": {
          "color": {
           "value": "grey"
          },
          "x": {
           "aggregate": "min",
           "field": "value",
           "scale": {
            "zero": false
           },
           "title": null,
           "type": "quantitative"
          },
          "x2": {
           "aggregate": "q1",
           "field": "value",
           "type": "quantitative"
          },
          "y": {
           "field": "variable",
           "title": null,
           "type": "nominal"
          }
         },
         "mark": "rule"
        },
        {
         "data": {
          "name": "data-601cd773f715ef79f4a357f5c1c9fbce"
         },
         "encoding": {
          "color": {
           "value": "grey"
          },
          "x": {
           "aggregate": "q1",
           "field": "value",
           "type": "quantitative"
          },
          "x2": {
           "aggregate": "q3",
           "field": "value",
           "type": "quantitative"
          },
          "y": {
           "field": "variable",
           "title": null,
           "type": "nominal"
          }
         },
         "mark": "bar"
        },
        {
         "data": {
          "name": "data-601cd773f715ef79f4a357f5c1c9fbce"
         },
         "encoding": {
          "color": {
           "value": "grey"
          },
          "x": {
           "aggregate": "q3",
           "field": "value",
           "type": "quantitative"
          },
          "x2": {
           "aggregate": "max",
           "field": "value",
           "type": "quantitative"
          },
          "y": {
           "field": "variable",
           "title": null,
           "type": "nominal"
          }
         },
         "mark": "rule"
        },
        {
         "data": {
          "name": "data-601cd773f715ef79f4a357f5c1c9fbce"
         },
         "encoding": {
          "color": {
           "value": "black"
          },
          "x": {
           "aggregate": "median",
           "field": "value",
           "type": "quantitative"
          },
          "y": {
           "field": "variable",
           "title": null,
           "type": "nominal"
          }
         },
         "mark": {
          "size": 17,
          "type": "tick"
         }
        }
       ]
      },
      "image/png": "[encoded data removed]",
      "text/plain": [
       "<VegaLite 2 object>\n",
       "\n",
       "If you see this message, it means the renderer has not been properly enabled\n",
       "for the frontend that you are using. For more information, see\n",
       "https://altair-viz.github.io/user_guide/troubleshooting.html\n"
      ]
     },
     "execution_count": 13,
     "metadata": {},
     "output_type": "execute_result"
    }
   ],
   "source": [
    "hboxplot(y.melt(), x='value', y='variable')"
   ]
  },
  {
   "cell_type": "markdown",
   "metadata": {},
   "source": [
    "## Add features"
   ]
  },
  {
   "cell_type": "markdown",
   "metadata": {},
   "source": [
    "### Fscore\n",
    "Let's try to transform each *left* and *right* tests into a single \"Fscore\" such as:\n",
    "$$F_{\\text{score}} = 2 \\times \\frac{\\text{left} \\times \\text{right}}{\\text{left} + \\text{right}}$$\n",
    "\n",
    "This formula favors left & right tests that are similar and therefore penalizes asymmetries."
   ]
  },
  {
   "cell_type": "code",
   "execution_count": 14,
   "metadata": {},
   "outputs": [],
   "source": [
    "def f_score(a, b):\n",
    "    \"\"\"Takes two columns and compute the F score.\"\"\"\n",
    "    return 2 * (a * b) / (a + b)"
   ]
  },
  {
   "cell_type": "markdown",
   "metadata": {},
   "source": [
    "### Imbalance"
   ]
  },
  {
   "cell_type": "code",
   "execution_count": 15,
   "metadata": {},
   "outputs": [],
   "source": [
    "def imbalance(a, b):\n",
    "    \"\"\"compute the imbalance score, in percentage.\"\"\"\n",
    "    return np.abs((a - b) / a) * 100"
   ]
  },
  {
   "cell_type": "code",
   "execution_count": 16,
   "metadata": {},
   "outputs": [],
   "source": [
    "X_augmented = pd.DataFrame()\n",
    "for name, icol in X.iteritems():\n",
    "    b = np.empty(0)\n",
    "    if name[-1] == 'G':\n",
    "        a = icol\n",
    "    else:\n",
    "        b = icol\n",
    "    if b.any():\n",
    "        X_augmented[name[:-2]] = f_score(a, b)\n",
    "        X_augmented[f'imb_{name[:-2]}'] = imbalance(a, b)"
   ]
  },
  {
   "cell_type": "code",
   "execution_count": 17,
   "metadata": {},
   "outputs": [
    {
     "data": {
      "text/html": [
       "<div>\n",
       "<style scoped>\n",
       "    .dataframe tbody tr th:only-of-type {\n",
       "        vertical-align: middle;\n",
       "    }\n",
       "\n",
       "    .dataframe tbody tr th {\n",
       "        vertical-align: top;\n",
       "    }\n",
       "\n",
       "    .dataframe thead th {\n",
       "        text-align: right;\n",
       "    }\n",
       "</style>\n",
       "<table border=\"1\" class=\"dataframe\">\n",
       "  <thead>\n",
       "    <tr style=\"text-align: right;\">\n",
       "      <th></th>\n",
       "      <th>Test</th>\n",
       "      <th>Variable</th>\n",
       "      <th>value</th>\n",
       "    </tr>\n",
       "  </thead>\n",
       "  <tbody>\n",
       "    <tr>\n",
       "      <th>0</th>\n",
       "      <td>ADD</td>\n",
       "      <td>Force (kg)</td>\n",
       "      <td>29.156099</td>\n",
       "    </tr>\n",
       "    <tr>\n",
       "      <th>1</th>\n",
       "      <td>ADD</td>\n",
       "      <td>Force (kg)</td>\n",
       "      <td>30.343123</td>\n",
       "    </tr>\n",
       "    <tr>\n",
       "      <th>2</th>\n",
       "      <td>ADD</td>\n",
       "      <td>Force (kg)</td>\n",
       "      <td>26.038531</td>\n",
       "    </tr>\n",
       "    <tr>\n",
       "      <th>3</th>\n",
       "      <td>ADD</td>\n",
       "      <td>Force (kg)</td>\n",
       "      <td>22.446920</td>\n",
       "    </tr>\n",
       "    <tr>\n",
       "      <th>4</th>\n",
       "      <td>ADD</td>\n",
       "      <td>Force (kg)</td>\n",
       "      <td>29.438773</td>\n",
       "    </tr>\n",
       "  </tbody>\n",
       "</table>\n",
       "</div>"
      ],
      "text/plain": [
       "  Test    Variable      value\n",
       "0  ADD  Force (kg)  29.156099\n",
       "1  ADD  Force (kg)  30.343123\n",
       "2  ADD  Force (kg)  26.038531\n",
       "3  ADD  Force (kg)  22.446920\n",
       "4  ADD  Force (kg)  29.438773"
      ]
     },
     "execution_count": 17,
     "metadata": {},
     "output_type": "execute_result"
    }
   ],
   "source": [
    "imb_cols = X_augmented.columns.str.startswith(\"imb\")\n",
    "imb = X_augmented.iloc[:, imb_cols].melt(value_name=\"Imbalance (%)\", var_name=\"Test\")\n",
    "force = X_augmented.iloc[:, ~imb_cols].melt(value_name=\"Force (kg)\", var_name=\"Test\")\n",
    "X_augmented_melted = force.join(imb[\"Imbalance (%)\"]).melt(id_vars=\"Test\", var_name='Variable')\n",
    "X_augmented_melted.head()"
   ]
  },
  {
   "cell_type": "code",
   "execution_count": 18,
   "metadata": {},
   "outputs": [
    {
     "data": {
      "application/vnd.vegalite.v2+json": {
       "$schema": "https://vega.github.io/schema/vega-lite/v2.6.0.json",
       "config": {
        "axisX": {
         "labels": false,
         "ticks": false
        },
        "view": {
         "height": 300,
         "width": 400
        }
       },
       "data": {
        "name": "data-852175f2bb7a3d030e2eac767622617e"
       },
       "datasets": {
        "data-852175f2bb7a3d030e2eac767622617e": [
         {
          "Test": "ADD",
          "Variable": "Force (kg)",
          "value": 29.156098553220925
         },
         {
          "Test": "ADD",
          "Variable": "Force (kg)",
          "value": 30.34312303198213
         },
         {
          "Test": "ADD",
          "Variable": "Force (kg)",
          "value": 26.03853089311459
         },
         {
          "Test": "ADD",
          "Variable": "Force (kg)",
          "value": 22.44692020107112
         },
         {
          "Test": "ADD",
          "Variable": "Force (kg)",
          "value": 29.438772617089526
         },
         {
          "Test": "ADD",
          "Variable": "Force (kg)",
          "value": 32.95107033639144
         },
         {
          "Test": "ADD",
          "Variable": "Force (kg)",
          "value": 18.563165483933933
         },
         {
          "Test": "ADD",
          "Variable": "Force (kg)",
          "value": 27.69810397553517
         },
         {
          "Test": "ADD",
          "Variable": "Force (kg)",
          "value": 27.1474279019382
         },
         {
          "Test": "ADD",
          "Variable": "Force (kg)",
          "value": 32.97130327040796
         },
         {
          "Test": "ADD",
          "Variable": "Force (kg)",
          "value": 21.383271678207116
         },
         {
          "Test": "ADD",
          "Variable": "Force (kg)",
          "value": 22.350101925186426
         },
         {
          "Test": "ADD",
          "Variable": "Force (kg)",
          "value": 18.41309016854974
         },
         {
          "Test": "ADD",
          "Variable": "Force (kg)",
          "value": 19.132713434231285
         },
         {
          "Test": "ADD",
          "Variable": "Force (kg)",
          "value": 30.15442697755712
         },
         {
          "Test": "ADD",
          "Variable": "Force (kg)",
          "value": 21.69017635579584
         },
         {
          "Test": "ADD",
          "Variable": "Force (kg)",
          "value": 28.825498009544187
         },
         {
          "Test": "ADD",
          "Variable": "Force (kg)",
          "value": 26.066428199718015
         },
         {
          "Test": "ADD",
          "Variable": "Force (kg)",
          "value": 24.779797122185272
         },
         {
          "Test": "ADD",
          "Variable": "Force (kg)",
          "value": 26.424153624232193
         },
         {
          "Test": "ADD",
          "Variable": "Force (kg)",
          "value": 23.68332145842505
         },
         {
          "Test": "ADD",
          "Variable": "Force (kg)",
          "value": 30.338406029014568
         },
         {
          "Test": "ADD",
          "Variable": "Force (kg)",
          "value": 21.193321013672566
         },
         {
          "Test": "ADD",
          "Variable": "Force (kg)",
          "value": 16.565037065729665
         },
         {
          "Test": "ADD",
          "Variable": "Force (kg)",
          "value": 21.30242335507278
         },
         {
          "Test": "ADD",
          "Variable": "Force (kg)",
          "value": 25.650999577878398
         },
         {
          "Test": "ADD",
          "Variable": "Force (kg)",
          "value": 24.970517381264433
         },
         {
          "Test": "ADD",
          "Variable": "Force (kg)",
          "value": 21.481695788445187
         },
         {
          "Test": "ADD",
          "Variable": "Force (kg)",
          "value": 17.580710760772362
         },
         {
          "Test": "ADD",
          "Variable": "Force (kg)",
          "value": 24.070779571499262
         },
         {
          "Test": "ADD",
          "Variable": "Force (kg)",
          "value": 26.169691519592806
         },
         {
          "Test": "ADD",
          "Variable": "Force (kg)",
          "value": 37.92869897173819
         },
         {
          "Test": "ADD",
          "Variable": "Force (kg)",
          "value": 30.625742936389404
         },
         {
          "Test": "ADD",
          "Variable": "Force (kg)",
          "value": 40.969464603587554
         },
         {
          "Test": "ADD",
          "Variable": "Force (kg)",
          "value": 25.328730794553252
         },
         {
          "Test": "ADD",
          "Variable": "Force (kg)",
          "value": 29.194130005888496
         },
         {
          "Test": "ADD",
          "Variable": "Force (kg)",
          "value": 30.570184588716394
         },
         {
          "Test": "ADD",
          "Variable": "Force (kg)",
          "value": 25.45810397553517
         },
         {
          "Test": "ADD",
          "Variable": "Force (kg)",
          "value": 24.95412844036697
         },
         {
          "Test": "ADD",
          "Variable": "Force (kg)",
          "value": 25.20619034380502
         },
         {
          "Test": "ADD",
          "Variable": "Force (kg)",
          "value": 21.738610913654117
         },
         {
          "Test": "ADD",
          "Variable": "Force (kg)",
          "value": 30.544490998927902
         },
         {
          "Test": "ADD",
          "Variable": "Force (kg)",
          "value": 21.425466477972826
         },
         {
          "Test": "ADD",
          "Variable": "Force (kg)",
          "value": 27.33225333166828
         },
         {
          "Test": "ADD",
          "Variable": "Force (kg)",
          "value": 20.453731624934466
         },
         {
          "Test": "ADD",
          "Variable": "Force (kg)",
          "value": 31.757272933676045
         },
         {
          "Test": "ADD",
          "Variable": "Force (kg)",
          "value": 26.373058153220367
         },
         {
          "Test": "ADD",
          "Variable": "Force (kg)",
          "value": 27.478132714343612
         },
         {
          "Test": "ADD",
          "Variable": "Force (kg)",
          "value": 24.31840767358461
         },
         {
          "Test": "ADD",
          "Variable": "Force (kg)",
          "value": 12.416447558971004
         },
         {
          "Test": "ADD",
          "Variable": "Force (kg)",
          "value": 33.29699963317724
         },
         {
          "Test": "ADD",
          "Variable": "Force (kg)",
          "value": 21.041852090444845
         },
         {
          "Test": "ADD",
          "Variable": "Force (kg)",
          "value": 31.233175833952195
         },
         {
          "Test": "ADD",
          "Variable": "Force (kg)",
          "value": 30.360943883081895
         },
         {
          "Test": "ADD",
          "Variable": "Force (kg)",
          "value": 30.458541622373666
         },
         {
          "Test": "ADD",
          "Variable": "Force (kg)",
          "value": 26.69847717316027
         },
         {
          "Test": "ADD",
          "Variable": "Force (kg)",
          "value": 26.32229220323132
         },
         {
          "Test": "ADD",
          "Variable": "Force (kg)",
          "value": 25.409470654794568
         },
         {
          "Test": "ADD",
          "Variable": "Force (kg)",
          "value": 21.780416590941506
         },
         {
          "Test": "ADD",
          "Variable": "Force (kg)",
          "value": 35.47620509707389
         },
         {
          "Test": "ADD",
          "Variable": "Force (kg)",
          "value": 30.045993807764948
         },
         {
          "Test": "ADD",
          "Variable": "Force (kg)",
          "value": 21.494218761672727
         },
         {
          "Test": "ADD",
          "Variable": "Force (kg)",
          "value": 33.31115346392533
         },
         {
          "Test": "ADD",
          "Variable": "Force (kg)",
          "value": 23.249212847455823
         },
         {
          "Test": "ADD",
          "Variable": "Force (kg)",
          "value": 28.096151876587328
         },
         {
          "Test": "ADD",
          "Variable": "Force (kg)",
          "value": 27.26260955167557
         },
         {
          "Test": "ADD",
          "Variable": "Force (kg)",
          "value": 29.21393613412802
         },
         {
          "Test": "ADD",
          "Variable": "Force (kg)",
          "value": 24.64791732138868
         },
         {
          "Test": "ADD",
          "Variable": "Force (kg)",
          "value": 31.076015428859687
         },
         {
          "Test": "ADD",
          "Variable": "Force (kg)",
          "value": 27.84636099060515
         },
         {
          "Test": "ADD",
          "Variable": "Force (kg)",
          "value": 25.204674729081294
         },
         {
          "Test": "ADD",
          "Variable": "Force (kg)",
          "value": 22.82960968217562
         },
         {
          "Test": "ADD",
          "Variable": "Force (kg)",
          "value": 26.444083373261364
         },
         {
          "Test": "ADD",
          "Variable": "Force (kg)",
          "value": 27.040139725568938
         },
         {
          "Test": "ADD",
          "Variable": "Force (kg)",
          "value": 28.250143177668015
         },
         {
          "Test": "ADD",
          "Variable": "Force (kg)",
          "value": 25.161405769756755
         },
         {
          "Test": "ADD",
          "Variable": "Force (kg)",
          "value": 24.636808131506797
         },
         {
          "Test": "ADD",
          "Variable": "Force (kg)",
          "value": 30.947300655154553
         },
         {
          "Test": "ADD",
          "Variable": "Force (kg)",
          "value": 24.42150839891841
         },
         {
          "Test": "ADD",
          "Variable": "Force (kg)",
          "value": 20.356773692649064
         },
         {
          "Test": "ADD",
          "Variable": "Force (kg)",
          "value": 23.493793418625945
         },
         {
          "Test": "ADD",
          "Variable": "Force (kg)",
          "value": 22.834208658961625
         },
         {
          "Test": "ADD",
          "Variable": "Force (kg)",
          "value": 27.637180190329023
         },
         {
          "Test": "ADD",
          "Variable": "Force (kg)",
          "value": 32.32907506537181
         },
         {
          "Test": "ADD",
          "Variable": "Force (kg)",
          "value": 19.010974080196196
         },
         {
          "Test": "ADD",
          "Variable": "Force (kg)",
          "value": 27.06213269136472
         },
         {
          "Test": "ADD",
          "Variable": "Force (kg)",
          "value": 20.764705882352942
         },
         {
          "Test": "ADD",
          "Variable": "Force (kg)",
          "value": 27.156222698480406
         },
         {
          "Test": "ADD",
          "Variable": "Force (kg)",
          "value": 25.9771771513385
         },
         {
          "Test": "ADD",
          "Variable": "Force (kg)",
          "value": 19.51322316491798
         },
         {
          "Test": "ADD",
          "Variable": "Force (kg)",
          "value": 31.622188328174882
         },
         {
          "Test": "ADD",
          "Variable": "Force (kg)",
          "value": 27.379761429194136
         },
         {
          "Test": "ABD",
          "Variable": "Force (kg)",
          "value": 19.616311732879456
         },
         {
          "Test": "ABD",
          "Variable": "Force (kg)",
          "value": 22.701975233251297
         },
         {
          "Test": "ABD",
          "Variable": "Force (kg)",
          "value": 23.807335084874218
         },
         {
          "Test": "ABD",
          "Variable": "Force (kg)",
          "value": 15.309102280140706
         },
         {
          "Test": "ABD",
          "Variable": "Force (kg)",
          "value": 24.662123251848925
         },
         {
          "Test": "ABD",
          "Variable": "Force (kg)",
          "value": 35.0538867992437
         },
         {
          "Test": "ABD",
          "Variable": "Force (kg)",
          "value": 15.239043916002718
         },
         {
          "Test": "ABD",
          "Variable": "Force (kg)",
          "value": 18.647113910931136
         },
         {
          "Test": "ABD",
          "Variable": "Force (kg)",
          "value": 24.16479907918345
         },
         {
          "Test": "ABD",
          "Variable": "Force (kg)",
          "value": 32.01576592201604
         },
         {
          "Test": "ABD",
          "Variable": "Force (kg)",
          "value": 23.507288751809465
         },
         {
          "Test": "ABD",
          "Variable": "Force (kg)",
          "value": 15.243200734699043
         },
         {
          "Test": "ABD",
          "Variable": "Force (kg)",
          "value": 13.833588222065568
         },
         {
          "Test": "ABD",
          "Variable": "Force (kg)",
          "value": 21.091815274986185
         },
         {
          "Test": "ABD",
          "Variable": "Force (kg)",
          "value": 29.93703505698011
         },
         {
          "Test": "ABD",
          "Variable": "Force (kg)",
          "value": 20.759277737858998
         },
         {
          "Test": "ABD",
          "Variable": "Force (kg)",
          "value": 26.346749754030647
         },
         {
          "Test": "ABD",
          "Variable": "Force (kg)",
          "value": 21.379774739566276
         },
         {
          "Test": "ABD",
          "Variable": "Force (kg)",
          "value": 20.718324899879704
         },
         {
          "Test": "ABD",
          "Variable": "Force (kg)",
          "value": 22.79520138158205
         },
         {
          "Test": "ABD",
          "Variable": "Force (kg)",
          "value": 20.273834069031043
         },
         {
          "Test": "ABD",
          "Variable": "Force (kg)",
          "value": 19.763640123942956
         },
         {
          "Test": "ABD",
          "Variable": "Force (kg)",
          "value": 20.1156058025642
         },
         {
          "Test": "ABD",
          "Variable": "Force (kg)",
          "value": 23.20561258602945
         },
         {
          "Test": "ABD",
          "Variable": "Force (kg)",
          "value": 15.543496224177744
         },
         {
          "Test": "ABD",
          "Variable": "Force (kg)",
          "value": 27.525058873384644
         },
         {
          "Test": "ABD",
          "Variable": "Force (kg)",
          "value": 26.31329826596887
         },
         {
          "Test": "ABD",
          "Variable": "Force (kg)",
          "value": 20.93996811360393
         },
         {
          "Test": "ABD",
          "Variable": "Force (kg)",
          "value": 11.408537559772341
         },
         {
          "Test": "ABD",
          "Variable": "Force (kg)",
          "value": 16.380964155383513
         },
         {
          "Test": "ABD",
          "Variable": "Force (kg)",
          "value": 21.458936408981327
         },
         {
          "Test": "ABD",
          "Variable": "Force (kg)",
          "value": 30.47689063832177
         },
         {
          "Test": "ABD",
          "Variable": "Force (kg)",
          "value": 28.797055560066035
         },
         {
          "Test": "ABD",
          "Variable": "Force (kg)",
          "value": 31.39123873068827
         },
         {
          "Test": "ABD",
          "Variable": "Force (kg)",
          "value": 26.130725020526185
         },
         {
          "Test": "ABD",
          "Variable": "Force (kg)",
          "value": 25.221017514595495
         },
         {
          "Test": "ABD",
          "Variable": "Force (kg)",
          "value": 25.06982256366906
         },
         {
          "Test": "ABD",
          "Variable": "Force (kg)",
          "value": 25.527654925659238
         },
         {
          "Test": "ABD",
          "Variable": "Force (kg)",
          "value": 24.865894620744974
         },
         {
          "Test": "ABD",
          "Variable": "Force (kg)",
          "value": 26.108513110976254
         },
         {
          "Test": "ABD",
          "Variable": "Force (kg)",
          "value": 19.17935597061296
         },
         {
          "Test": "ABD",
          "Variable": "Force (kg)",
          "value": 28.74718193579552
         },
         {
          "Test": "ABD",
          "Variable": "Force (kg)",
          "value": 16.49246688314061
         },
         {
          "Test": "ABD",
          "Variable": "Force (kg)",
          "value": 24.45297014486577
         },
         {
          "Test": "ABD",
          "Variable": "Force (kg)",
          "value": 17.86676444278017
         },
         {
          "Test": "ABD",
          "Variable": "Force (kg)",
          "value": 27.85088486196101
         },
         {
          "Test": "ABD",
          "Variable": "Force (kg)",
          "value": 21.466009673409015
         },
         {
          "Test": "ABD",
          "Variable": "Force (kg)",
          "value": 25.597295351347075
         },
         {
          "Test": "ABD",
          "Variable": "Force (kg)",
          "value": 27.099312472900873
         },
         {
          "Test": "ABD",
          "Variable": "Force (kg)",
          "value": 13.527161041908863
         },
         {
          "Test": "ABD",
          "Variable": "Force (kg)",
          "value": 26.602926628061727
         },
         {
          "Test": "ABD",
          "Variable": "Force (kg)",
          "value": 23.955521858515365
         },
         {
          "Test": "ABD",
          "Variable": "Force (kg)",
          "value": 31.999754513911974
         },
         {
          "Test": "ABD",
          "Variable": "Force (kg)",
          "value": 27.131535222174076
         },
         {
          "Test": "ABD",
          "Variable": "Force (kg)",
          "value": 30.467526966947826
         },
         {
          "Test": "ABD",
          "Variable": "Force (kg)",
          "value": 26.968577526705328
         },
         {
          "Test": "ABD",
          "Variable": "Force (kg)",
          "value": 22.000487852197068
         },
         {
          "Test": "ABD",
          "Variable": "Force (kg)",
          "value": 24.425819125878654
         },
         {
          "Test": "ABD",
          "Variable": "Force (kg)",
          "value": 16.916191690271674
         },
         {
          "Test": "ABD",
          "Variable": "Force (kg)",
          "value": 27.944655019641445
         },
         {
          "Test": "ABD",
          "Variable": "Force (kg)",
          "value": 26.838585883204022
         },
         {
          "Test": "ABD",
          "Variable": "Force (kg)",
          "value": 22.58028902946599
         },
         {
          "Test": "ABD",
          "Variable": "Force (kg)",
          "value": 22.68715175066092
         },
         {
          "Test": "ABD",
          "Variable": "Force (kg)",
          "value": 17.42830058323559
         },
         {
          "Test": "ABD",
          "Variable": "Force (kg)",
          "value": 20.068373758599783
         },
         {
          "Test": "ABD",
          "Variable": "Force (kg)",
          "value": 23.324935270021403
         },
         {
          "Test": "ABD",
          "Variable": "Force (kg)",
          "value": 26.250706960287378
         },
         {
          "Test": "ABD",
          "Variable": "Force (kg)",
          "value": 26.96628296116785
         },
         {
          "Test": "ABD",
          "Variable": "Force (kg)",
          "value": 27.09452413769828
         },
         {
          "Test": "ABD",
          "Variable": "Force (kg)",
          "value": 23.12581063116804
         },
         {
          "Test": "ABD",
          "Variable": "Force (kg)",
          "value": 24.976032215398348
         },
         {
          "Test": "ABD",
          "Variable": "Force (kg)",
          "value": 19.357791459651548
         },
         {
          "Test": "ABD",
          "Variable": "Force (kg)",
          "value": 19.533612213265346
         },
         {
          "Test": "ABD",
          "Variable": "Force (kg)",
          "value": 24.17131185728633
         },
         {
          "Test": "ABD",
          "Variable": "Force (kg)",
          "value": 20.69935433346636
         },
         {
          "Test": "ABD",
          "Variable": "Force (kg)",
          "value": 17.17090596708379
         },
         {
          "Test": "ABD",
          "Variable": "Force (kg)",
          "value": 26.241940884570052
         },
         {
          "Test": "ABD",
          "Variable": "Force (kg)",
          "value": 29.57231761785729
         },
         {
          "Test": "ABD",
          "Variable": "Force (kg)",
          "value": 19.414765050393164
         },
         {
          "Test": "ABD",
          "Variable": "Force (kg)",
          "value": 22.913940262249092
         },
         {
          "Test": "ABD",
          "Variable": "Force (kg)",
          "value": 22.625377279012714
         },
         {
          "Test": "ABD",
          "Variable": "Force (kg)",
          "value": 22.036823270092473
         },
         {
          "Test": "ABD",
          "Variable": "Force (kg)",
          "value": 21.416648593626352
         },
         {
          "Test": "ABD",
          "Variable": "Force (kg)",
          "value": 22.88501004669389
         },
         {
          "Test": "ABD",
          "Variable": "Force (kg)",
          "value": 21.096631899816316
         },
         {
          "Test": "ABD",
          "Variable": "Force (kg)",
          "value": 20.414003474387066
         },
         {
          "Test": "ABD",
          "Variable": "Force (kg)",
          "value": 17.366724926950276
         },
         {
          "Test": "ABD",
          "Variable": "Force (kg)",
          "value": 23.656019093154168
         },
         {
          "Test": "ABD",
          "Variable": "Force (kg)",
          "value": 24.56868236351692
         },
         {
          "Test": "ABD",
          "Variable": "Force (kg)",
          "value": 22.131026697331954
         },
         {
          "Test": "ABD",
          "Variable": "Force (kg)",
          "value": 25.651931337380635
         },
         {
          "Test": "ABD",
          "Variable": "Force (kg)",
          "value": 22.721597503402638
         },
         {
          "Test": "ER",
          "Variable": "Force (kg)",
          "value": 9.570668581645512
         },
         {
          "Test": "ER",
          "Variable": "Force (kg)",
          "value": 10.82215026683456
         },
         {
          "Test": "ER",
          "Variable": "Force (kg)",
          "value": 7.038643716493166
         },
         {
          "Test": "ER",
          "Variable": "Force (kg)",
          "value": 5.6348745513767
         },
         {
          "Test": "ER",
          "Variable": "Force (kg)",
          "value": 10.004255588738243
         },
         {
          "Test": "ER",
          "Variable": "Force (kg)",
          "value": 9.671034351117372
         },
         {
          "Test": "ER",
          "Variable": "Force (kg)",
          "value": 4.920839291964201
         },
         {
          "Test": "ER",
          "Variable": "Force (kg)",
          "value": 9.558628062757847
         },
         {
          "Test": "ER",
          "Variable": "Force (kg)",
          "value": 8.644348726601178
         },
         {
          "Test": "ER",
          "Variable": "Force (kg)",
          "value": 9.72361142351523
         },
         {
          "Test": "ER",
          "Variable": "Force (kg)",
          "value": 7.098222264619744
         },
         {
          "Test": "ER",
          "Variable": "Force (kg)",
          "value": 6.8941427280450895
         },
         {
          "Test": "ER",
          "Variable": "Force (kg)",
          "value": 4.920839291964201
         },
         {
          "Test": "ER",
          "Variable": "Force (kg)",
          "value": 6.220198513776495
         },
         {
          "Test": "ER",
          "Variable": "Force (kg)",
          "value": 10.280471388888257
         },
         {
          "Test": "ER",
          "Variable": "Force (kg)",
          "value": 4.811492310583603
         },
         {
          "Test": "ER",
          "Variable": "Force (kg)",
          "value": 8.989803448622418
         },
         {
          "Test": "ER",
          "Variable": "Force (kg)",
          "value": 9.076911057424015
         },
         {
          "Test": "ER",
          "Variable": "Force (kg)",
          "value": 6.038361785313358
         },
         {
          "Test": "ER",
          "Variable": "Force (kg)",
          "value": 7.861775682869165
         },
         {
          "Test": "ER",
          "Variable": "Force (kg)",
          "value": 7.590161370846349
         },
         {
          "Test": "ER",
          "Variable": "Force (kg)",
          "value": 9.00924054205037
         },
         {
          "Test": "ER",
          "Variable": "Force (kg)",
          "value": 7.066613290455915
         },
         {
          "Test": "ER",
          "Variable": "Force (kg)",
          "value": 5.641001225449608
         },
         {
          "Test": "ER",
          "Variable": "Force (kg)",
          "value": 7.1481645016453434
         },
         {
          "Test": "ER",
          "Variable": "Force (kg)",
          "value": 8.870990649399783
         },
         {
          "Test": "ER",
          "Variable": "Force (kg)",
          "value": 7.610773993259007
         },
         {
          "Test": "ER",
          "Variable": "Force (kg)",
          "value": 7.057786135785998
         },
         {
          "Test": "ER",
          "Variable": "Force (kg)",
          "value": 4.561828282880024
         },
         {
          "Test": "ER",
          "Variable": "Force (kg)",
          "value": 6.000627899675585
         },
         {
          "Test": "ER",
          "Variable": "Force (kg)",
          "value": 7.767440571914174
         },
         {
          "Test": "ER",
          "Variable": "Force (kg)",
          "value": 10.898663389446206
         },
         {
          "Test": "ER",
          "Variable": "Force (kg)",
          "value": 9.378185524974516
         },
         {
          "Test": "ER",
          "Variable": "Force (kg)",
          "value": 10.538393732117969
         },
         {
          "Test": "ER",
          "Variable": "Force (kg)",
          "value": 7.483686644892412
         },
         {
          "Test": "ER",
          "Variable": "Force (kg)",
          "value": 8.56269113149847
         },
         {
          "Test": "ER",
          "Variable": "Force (kg)",
          "value": 8.10907237512742
         },
         {
          "Test": "ER",
          "Variable": "Force (kg)",
          "value": 7.45516158360195
         },
         {
          "Test": "ER",
          "Variable": "Force (kg)",
          "value": 7.725736359246739
         },
         {
          "Test": "ER",
          "Variable": "Force (kg)",
          "value": 7.186182864496352
         },
         {
          "Test": "ER",
          "Variable": "Force (kg)",
          "value": 8.159146006744294
         },
         {
          "Test": "ER",
          "Variable": "Force (kg)",
          "value": 10.047618752235682
         },
         {
          "Test": "ER",
          "Variable": "Force (kg)",
          "value": 7.0980088730529225
         },
         {
          "Test": "ER",
          "Variable": "Force (kg)",
          "value": 11.015289107684659
         },
         {
          "Test": "ER",
          "Variable": "Force (kg)",
          "value": 8.460981472426571
         },
         {
          "Test": "ER",
          "Variable": "Force (kg)",
          "value": 8.791621243440176
         },
         {
          "Test": "ER",
          "Variable": "Force (kg)",
          "value": 7.963310573531368
         },
         {
          "Test": "ER",
          "Variable": "Force (kg)",
          "value": 8.239022087777895
         },
         {
          "Test": "ER",
          "Variable": "Force (kg)",
          "value": 10.189376316386562
         },
         {
          "Test": "ER",
          "Variable": "Force (kg)",
          "value": 5.251830896544431
         },
         {
          "Test": "ER",
          "Variable": "Force (kg)",
          "value": 8.397725502653081
         },
         {
          "Test": "ER",
          "Variable": "Force (kg)",
          "value": 8.208493132770233
         },
         {
          "Test": "ER",
          "Variable": "Force (kg)",
          "value": 11.131960229955984
         },
         {
          "Test": "ER",
          "Variable": "Force (kg)",
          "value": 9.41101686765526
         },
         {
          "Test": "ER",
          "Variable": "Force (kg)",
          "value": 9.325207299753401
         },
         {
          "Test": "ER",
          "Variable": "Force (kg)",
          "value": 11.127660960119998
         },
         {
          "Test": "ER",
          "Variable": "Force (kg)",
          "value": 5.590564387909942
         },
         {
          "Test": "ER",
          "Variable": "Force (kg)",
          "value": 6.478840821552261
         },
         {
          "Test": "ER",
          "Variable": "Force (kg)",
          "value": 7.150665056870864
         },
         {
          "Test": "ER",
          "Variable": "Force (kg)",
          "value": 11.851311774859175
         },
         {
          "Test": "ER",
          "Variable": "Force (kg)",
          "value": 9.992878174757914
         },
         {
          "Test": "ER",
          "Variable": "Force (kg)",
          "value": 8.777680807736791
         },
         {
          "Test": "ER",
          "Variable": "Force (kg)",
          "value": 8.94689220038854
         },
         {
          "Test": "ER",
          "Variable": "Force (kg)",
          "value": 7.706037859832688
         },
         {
          "Test": "ER",
          "Variable": "Force (kg)",
          "value": 10.059137802647465
         },
         {
          "Test": "ER",
          "Variable": "Force (kg)",
          "value": 8.766535105688702
         },
         {
          "Test": "ER",
          "Variable": "Force (kg)",
          "value": 8.966898493948245
         },
         {
          "Test": "ER",
          "Variable": "Force (kg)",
          "value": 7.688867733465925
         },
         {
          "Test": "ER",
          "Variable": "Force (kg)",
          "value": 9.159798027637521
         },
         {
          "Test": "ER",
          "Variable": "Force (kg)",
          "value": 9.099848407537158
         },
         {
          "Test": "ER",
          "Variable": "Force (kg)",
          "value": 7.794842629869643
         },
         {
          "Test": "ER",
          "Variable": "Force (kg)",
          "value": 5.201623332484268
         },
         {
          "Test": "ER",
          "Variable": "Force (kg)",
          "value": 10.70989937851435
         },
         {
          "Test": "ER",
          "Variable": "Force (kg)",
          "value": 6.81152063737564
         },
         {
          "Test": "ER",
          "Variable": "Force (kg)",
          "value": 7.940549516552625
         },
         {
          "Test": "ER",
          "Variable": "Force (kg)",
          "value": 8.236238532110093
         },
         {
          "Test": "ER",
          "Variable": "Force (kg)",
          "value": 7.8072826519112395
         },
         {
          "Test": "ER",
          "Variable": "Force (kg)",
          "value": 8.432257593768156
         },
         {
          "Test": "ER",
          "Variable": "Force (kg)",
          "value": 8.595301244981664
         },
         {
          "Test": "ER",
          "Variable": "Force (kg)",
          "value": 6.822430930170459
         },
         {
          "Test": "ER",
          "Variable": "Force (kg)",
          "value": 7.901526295165124
         },
         {
          "Test": "ER",
          "Variable": "Force (kg)",
          "value": 8.789591287459116
         },
         {
          "Test": "ER",
          "Variable": "Force (kg)",
          "value": 9.165336501930225
         },
         {
          "Test": "ER",
          "Variable": "Force (kg)",
          "value": 11.001117411208732
         },
         {
          "Test": "ER",
          "Variable": "Force (kg)",
          "value": 7.6976046018516575
         },
         {
          "Test": "ER",
          "Variable": "Force (kg)",
          "value": 8.61343950192631
         },
         {
          "Test": "ER",
          "Variable": "Force (kg)",
          "value": 6.0197054882067595
         },
         {
          "Test": "ER",
          "Variable": "Force (kg)",
          "value": 8.836953291374527
         },
         {
          "Test": "ER",
          "Variable": "Force (kg)",
          "value": 8.876392848339469
         },
         {
          "Test": "ER",
          "Variable": "Force (kg)",
          "value": 6.75616541154345
         },
         {
          "Test": "ER",
          "Variable": "Force (kg)",
          "value": 8.473467316168964
         },
         {
          "Test": "ER",
          "Variable": "Force (kg)",
          "value": 6.610980498449342
         },
         {
          "Test": "IR",
          "Variable": "Force (kg)",
          "value": 5.313395766567174
         },
         {
          "Test": "IR",
          "Variable": "Force (kg)",
          "value": 9.241658935504931
         },
         {
          "Test": "IR",
          "Variable": "Force (kg)",
          "value": 12.222213720404106
         },
         {
          "Test": "IR",
          "Variable": "Force (kg)",
          "value": 3.9248444174728396
         },
         {
          "Test": "IR",
          "Variable": "Force (kg)",
          "value": 7.038332689156998
         },
         {
          "Test": "IR",
          "Variable": "Force (kg)",
          "value": 14.708987477824376
         },
         {
          "Test": "IR",
          "Variable": "Force (kg)",
          "value": 5.644866144269256
         },
         {
          "Test": "IR",
          "Variable": "Force (kg)",
          "value": 4.396732197466142
         },
         {
          "Test": "IR",
          "Variable": "Force (kg)",
          "value": 8.73845191505742
         },
         {
          "Test": "IR",
          "Variable": "Force (kg)",
          "value": 12.05508353083053
         },
         {
          "Test": "IR",
          "Variable": "Force (kg)",
          "value": 5.859411425785578
         },
         {
          "Test": "IR",
          "Variable": "Force (kg)",
          "value": 7.944854119910227
         },
         {
          "Test": "IR",
          "Variable": "Force (kg)",
          "value": 5.644866144269256
         },
         {
          "Test": "IR",
          "Variable": "Force (kg)",
          "value": 6.300426127894292
         },
         {
          "Test": "IR",
          "Variable": "Force (kg)",
          "value": 10.651311857933315
         },
         {
          "Test": "IR",
          "Variable": "Force (kg)",
          "value": 7.521321411530063
         },
         {
          "Test": "IR",
          "Variable": "Force (kg)",
          "value": 14.166629533725787
         },
         {
          "Test": "IR",
          "Variable": "Force (kg)",
          "value": 10.027847538995099
         },
         {
          "Test": "IR",
          "Variable": "Force (kg)",
          "value": 7.090970431072948
         },
         {
          "Test": "IR",
          "Variable": "Force (kg)",
          "value": 11.846090427132788
         },
         {
          "Test": "IR",
          "Variable": "Force (kg)",
          "value": 7.3966987542646585
         },
         {
          "Test": "IR",
          "Variable": "Force (kg)",
          "value": 10.359326590207797
         },
         {
          "Test": "IR",
          "Variable": "Force (kg)",
          "value": 10.607163966504032
         },
         {
          "Test": "IR",
          "Variable": "Force (kg)",
          "value": 9.933853141454117
         },
         {
          "Test": "IR",
          "Variable": "Force (kg)",
          "value": 6.0663617523230196
         },
         {
          "Test": "IR",
          "Variable": "Force (kg)",
          "value": 9.611196260859966
         },
         {
          "Test": "IR",
          "Variable": "Force (kg)",
          "value": 11.946853701558275
         },
         {
          "Test": "IR",
          "Variable": "Force (kg)",
          "value": 13.056064059272058
         },
         {
          "Test": "IR",
          "Variable": "Force (kg)",
          "value": 5.418443382004566
         },
         {
          "Test": "IR",
          "Variable": "Force (kg)",
          "value": 5.693151982565795
         },
         {
          "Test": "IR",
          "Variable": "Force (kg)",
          "value": 12.364858107841233
         },
         {
          "Test": "IR",
          "Variable": "Force (kg)",
          "value": 11.71475424367327
         },
         {
          "Test": "IR",
          "Variable": "Force (kg)",
          "value": 9.1438998428709
         },
         {
          "Test": "IR",
          "Variable": "Force (kg)",
          "value": 11.958568738229754
         },
         {
          "Test": "IR",
          "Variable": "Force (kg)",
          "value": 10.344325434486775
         },
         {
          "Test": "IR",
          "Variable": "Force (kg)",
          "value": 6.109412164458035
         },
         {
          "Test": "IR",
          "Variable": "Force (kg)",
          "value": 6.0863727903334075
         },
         {
          "Test": "IR",
          "Variable": "Force (kg)",
          "value": 7.655386110942342
         },
         {
          "Test": "IR",
          "Variable": "Force (kg)",
          "value": 10.05979277922315
         },
         {
          "Test": "IR",
          "Variable": "Force (kg)",
          "value": 9.985645634400548
         },
         {
          "Test": "IR",
          "Variable": "Force (kg)",
          "value": 6.175348762347516
         },
         {
          "Test": "IR",
          "Variable": "Force (kg)",
          "value": 12.125382262996942
         },
         {
          "Test": "IR",
          "Variable": "Force (kg)",
          "value": 9.445571577337262
         },
         {
          "Test": "IR",
          "Variable": "Force (kg)",
          "value": 11.465653149352036
         },
         {
          "Test": "IR",
          "Variable": "Force (kg)",
          "value": 8.719221078577146
         },
         {
          "Test": "IR",
          "Variable": "Force (kg)",
          "value": 8.912268568244968
         },
         {
          "Test": "IR",
          "Variable": "Force (kg)",
          "value": 9.28143223266352
         },
         {
          "Test": "IR",
          "Variable": "Force (kg)",
          "value": 10.183524407578236
         },
         {
          "Test": "IR",
          "Variable": "Force (kg)",
          "value": 12.579628703932547
         },
         {
          "Test": "IR",
          "Variable": "Force (kg)",
          "value": 8.006640202728734
         },
         {
          "Test": "IR",
          "Variable": "Force (kg)",
          "value": 10.981291738204371
         },
         {
          "Test": "IR",
          "Variable": "Force (kg)",
          "value": 9.483176323297004
         },
         {
          "Test": "IR",
          "Variable": "Force (kg)",
          "value": 12.75481704839503
         },
         {
          "Test": "IR",
          "Variable": "Force (kg)",
          "value": 10.068653944417887
         },
         {
          "Test": "IR",
          "Variable": "Force (kg)",
          "value": 10.78683623604438
         },
         {
          "Test": "IR",
          "Variable": "Force (kg)",
          "value": 12.270743799973582
         },
         {
          "Test": "IR",
          "Variable": "Force (kg)",
          "value": 6.189347289735942
         },
         {
          "Test": "IR",
          "Variable": "Force (kg)",
          "value": 8.608128147049717
         },
         {
          "Test": "IR",
          "Variable": "Force (kg)",
          "value": 7.481863585940816
         },
         {
          "Test": "IR",
          "Variable": "Force (kg)",
          "value": 8.993152225332889
         },
         {
          "Test": "IR",
          "Variable": "Force (kg)",
          "value": 8.55249745158002
         },
         {
          "Test": "IR",
          "Variable": "Force (kg)",
          "value": 10.396087370436742
         },
         {
          "Test": "IR",
          "Variable": "Force (kg)",
          "value": 15.650793130539023
         },
         {
          "Test": "IR",
          "Variable": "Force (kg)",
          "value": 10.624835186696357
         },
         {
          "Test": "IR",
          "Variable": "Force (kg)",
          "value": 13.815716647582823
         },
         {
          "Test": "IR",
          "Variable": "Force (kg)",
          "value": 10.07194617654858
         },
         {
          "Test": "IR",
          "Variable": "Force (kg)",
          "value": 9.62489838578562
         },
         {
          "Test": "IR",
          "Variable": "Force (kg)",
          "value": 9.028468094702278
         },
         {
          "Test": "IR",
          "Variable": "Force (kg)",
          "value": 10.80806726551876
         },
         {
          "Test": "IR",
          "Variable": "Force (kg)",
          "value": 9.475447828942999
         },
         {
          "Test": "IR",
          "Variable": "Force (kg)",
          "value": 11.351723143772071
         },
         {
          "Test": "IR",
          "Variable": "Force (kg)",
          "value": 11.206619151560814
         },
         {
          "Test": "IR",
          "Variable": "Force (kg)",
          "value": 16.795082058198325
         },
         {
          "Test": "IR",
          "Variable": "Force (kg)",
          "value": 9.77775986177275
         },
         {
          "Test": "IR",
          "Variable": "Force (kg)",
          "value": 8.633258165400523
         },
         {
          "Test": "IR",
          "Variable": "Force (kg)",
          "value": 9.99490704384059
         },
         {
          "Test": "IR",
          "Variable": "Force (kg)",
          "value": 10.723422211672863
         },
         {
          "Test": "IR",
          "Variable": "Force (kg)",
          "value": 13.303727476629184
         },
         {
          "Test": "IR",
          "Variable": "Force (kg)",
          "value": 10.157686599129384
         },
         {
          "Test": "IR",
          "Variable": "Force (kg)",
          "value": 9.068455142081573
         },
         {
          "Test": "IR",
          "Variable": "Force (kg)",
          "value": 9.662061379652126
         },
         {
          "Test": "IR",
          "Variable": "Force (kg)",
          "value": 12.389878398722699
         },
         {
          "Test": "IR",
          "Variable": "Force (kg)",
          "value": 10.536706120348516
         },
         {
          "Test": "IR",
          "Variable": "Force (kg)",
          "value": 13.738531637374255
         },
         {
          "Test": "IR",
          "Variable": "Force (kg)",
          "value": 7.608475979989526
         },
         {
          "Test": "IR",
          "Variable": "Force (kg)",
          "value": 12.44673515903286
         },
         {
          "Test": "IR",
          "Variable": "Force (kg)",
          "value": 7.070261018211782
         },
         {
          "Test": "IR",
          "Variable": "Force (kg)",
          "value": 8.503370254939545
         },
         {
          "Test": "IR",
          "Variable": "Force (kg)",
          "value": 11.68571053584881
         },
         {
          "Test": "IR",
          "Variable": "Force (kg)",
          "value": 11.470810798326804
         },
         {
          "Test": "IR",
          "Variable": "Force (kg)",
          "value": 9.403669724770642
         },
         {
          "Test": "IR",
          "Variable": "Force (kg)",
          "value": 9.059902186487076
         },
         {
          "Test": "EXT",
          "Variable": "Force (kg)",
          "value": 18.392700612588683
         },
         {
          "Test": "EXT",
          "Variable": "Force (kg)",
          "value": 28.589752291504816
         },
         {
          "Test": "EXT",
          "Variable": "Force (kg)",
          "value": 12.805250206138414
         },
         {
          "Test": "EXT",
          "Variable": "Force (kg)",
          "value": 0.4019450310071363
         },
         {
          "Test": "EXT",
          "Variable": "Force (kg)",
          "value": 18.8471046106987
         },
         {
          "Test": "EXT",
          "Variable": "Force (kg)",
          "value": 17.968912350337966
         },
         {
          "Test": "EXT",
          "Variable": "Force (kg)",
          "value": 8.597676700398914
         },
         {
          "Test": "EXT",
          "Variable": "Force (kg)",
          "value": 19.700656435834382
         },
         {
          "Test": "EXT",
          "Variable": "Force (kg)",
          "value": 11.42572740156092
         },
         {
          "Test": "EXT",
          "Variable": "Force (kg)",
          "value": 30.5435697704746
         },
         {
          "Test": "EXT",
          "Variable": "Force (kg)",
          "value": 15.558721346270364
         },
         {
          "Test": "EXT",
          "Variable": "Force (kg)",
          "value": 20.691980115747185
         },
         {
          "Test": "EXT",
          "Variable": "Force (kg)",
          "value": 8.13011006436083
         },
         {
          "Test": "EXT",
          "Variable": "Force (kg)",
          "value": 8.347391650143942
         },
         {
          "Test": "EXT",
          "Variable": "Force (kg)",
          "value": 12.47218482913799
         },
         {
          "Test": "EXT",
          "Variable": "Force (kg)",
          "value": 15.64362709605267
         },
         {
          "Test": "EXT",
          "Variable": "Force (kg)",
          "value": 20.165984924969862
         },
         {
          "Test": "EXT",
          "Variable": "Force (kg)",
          "value": 15.071263120236239
         },
         {
          "Test": "EXT",
          "Variable": "Force (kg)",
          "value": 13.06958787188791
         },
         {
          "Test": "EXT",
          "Variable": "Force (kg)",
          "value": 12.13952831159797
         },
         {
          "Test": "EXT",
          "Variable": "Force (kg)",
          "value": 14.028720582849022
         },
         {
          "Test": "EXT",
          "Variable": "Force (kg)",
          "value": 16.085512429936585
         },
         {
          "Test": "EXT",
          "Variable": "Force (kg)",
          "value": 15.465700154792916
         },
         {
          "Test": "EXT",
          "Variable": "Force (kg)",
          "value": 9.90343358958601
         },
         {
          "Test": "EXT",
          "Variable": "Force (kg)",
          "value": 7.981592417267505
         },
         {
          "Test": "EXT",
          "Variable": "Force (kg)",
          "value": 11.880170561927367
         },
         {
          "Test": "EXT",
          "Variable": "Force (kg)",
          "value": 13.593802395467012
         },
         {
          "Test": "EXT",
          "Variable": "Force (kg)",
          "value": 13.749382124452803
         },
         {
          "Test": "EXT",
          "Variable": "Force (kg)",
          "value": 3.7228491230714162
         },
         {
          "Test": "EXT",
          "Variable": "Force (kg)",
          "value": 8.527479343393068
         },
         {
          "Test": "EXT",
          "Variable": "Force (kg)",
          "value": 13.888953312651465
         },
         {
          "Test": "EXT",
          "Variable": "Force (kg)",
          "value": 34.80468524609082
         },
         {
          "Test": "EXT",
          "Variable": "Force (kg)",
          "value": 18.746425996370057
         },
         {
          "Test": "EXT",
          "Variable": "Force (kg)",
          "value": 31.43354199812648
         },
         {
          "Test": "EXT",
          "Variable": "Force (kg)",
          "value": 20.842496538344776
         },
         {
          "Test": "EXT",
          "Variable": "Force (kg)",
          "value": 12.306701828671892
         },
         {
          "Test": "EXT",
          "Variable": "Force (kg)",
          "value": 18.461831305868
         },
         {
          "Test": "EXT",
          "Variable": "Force (kg)",
          "value": 9.140706388412811
         },
         {
          "Test": "EXT",
          "Variable": "Force (kg)",
          "value": 22.82894648985751
         },
         {
          "Test": "EXT",
          "Variable": "Force (kg)",
          "value": 27.545421838460157
         },
         {
          "Test": "EXT",
          "Variable": "Force (kg)",
          "value": 15.672994234552732
         },
         {
          "Test": "EXT",
          "Variable": "Force (kg)",
          "value": 16.52640496235944
         },
         {
          "Test": "EXT",
          "Variable": "Force (kg)",
          "value": 18.670724476822738
         },
         {
          "Test": "EXT",
          "Variable": "Force (kg)",
          "value": 22.820268080057193
         },
         {
          "Test": "EXT",
          "Variable": "Force (kg)",
          "value": 11.560862990220787
         },
         {
          "Test": "EXT",
          "Variable": "Force (kg)",
          "value": 12.34472931238078
         },
         {
          "Test": "EXT",
          "Variable": "Force (kg)",
          "value": 10.935867372480736
         },
         {
          "Test": "EXT",
          "Variable": "Force (kg)",
          "value": 16.200388585061884
         },
         {
          "Test": "EXT",
          "Variable": "Force (kg)",
          "value": 19.646716889826134
         },
         {
          "Test": "EXT",
          "Variable": "Force (kg)",
          "value": 8.30785531527154
         },
         {
          "Test": "EXT",
          "Variable": "Force (kg)",
          "value": 24.368960260637564
         },
         {
          "Test": "EXT",
          "Variable": "Force (kg)",
          "value": 16.32210545710499
         },
         {
          "Test": "EXT",
          "Variable": "Force (kg)",
          "value": 24.514026185496242
         },
         {
          "Test": "EXT",
          "Variable": "Force (kg)",
          "value": 19.79853093011593
         },
         {
          "Test": "EXT",
          "Variable": "Force (kg)",
          "value": 21.047037072267248
         },
         {
          "Test": "EXT",
          "Variable": "Force (kg)",
          "value": 24.875560995512036
         },
         {
          "Test": "EXT",
          "Variable": "Force (kg)",
          "value": 11.228889439898612
         },
         {
          "Test": "EXT",
          "Variable": "Force (kg)",
          "value": 12.710368410071215
         },
         {
          "Test": "EXT",
          "Variable": "Force (kg)",
          "value": 10.114408169179498
         },
         {
          "Test": "EXT",
          "Variable": "Force (kg)",
          "value": 14.431563012942558
         },
         {
          "Test": "EXT",
          "Variable": "Force (kg)",
          "value": 24.305067336698173
         },
         {
          "Test": "EXT",
          "Variable": "Force (kg)",
          "value": 19.180187969322894
         },
         {
          "Test": "EXT",
          "Variable": "Force (kg)",
          "value": 19.675699659215027
         },
         {
          "Test": "EXT",
          "Variable": "Force (kg)",
          "value": 23.2112811966693
         },
         {
          "Test": "EXT",
          "Variable": "Force (kg)",
          "value": 13.553627104313282
         },
         {
          "Test": "EXT",
          "Variable": "Force (kg)",
          "value": 17.14745597723482
         },
         {
          "Test": "EXT",
          "Variable": "Force (kg)",
          "value": 25.20363536152976
         },
         {
          "Test": "EXT",
          "Variable": "Force (kg)",
          "value": 17.14422794503653
         },
         {
          "Test": "EXT",
          "Variable": "Force (kg)",
          "value": 17.817589704455997
         },
         {
          "Test": "EXT",
          "Variable": "Force (kg)",
          "value": 15.787698669078692
         },
         {
          "Test": "EXT",
          "Variable": "Force (kg)",
          "value": 12.161298184834019
         },
         {
          "Test": "EXT",
          "Variable": "Force (kg)",
          "value": 14.796134927626237
         },
         {
          "Test": "EXT",
          "Variable": "Force (kg)",
          "value": 13.26301382901637
         },
         {
          "Test": "EXT",
          "Variable": "Force (kg)",
          "value": 18.512505460899956
         },
         {
          "Test": "EXT",
          "Variable": "Force (kg)",
          "value": 20.918982566575146
         },
         {
          "Test": "EXT",
          "Variable": "Force (kg)",
          "value": 11.354661051008588
         },
         {
          "Test": "EXT",
          "Variable": "Force (kg)",
          "value": 25.876693610260965
         },
         {
          "Test": "EXT",
          "Variable": "Force (kg)",
          "value": 24.107655906528098
         },
         {
          "Test": "EXT",
          "Variable": "Force (kg)",
          "value": 12.879486869292387
         },
         {
          "Test": "EXT",
          "Variable": "Force (kg)",
          "value": 15.90427165490046
         },
         {
          "Test": "EXT",
          "Variable": "Force (kg)",
          "value": 13.849384201467222
         },
         {
          "Test": "EXT",
          "Variable": "Force (kg)",
          "value": 19.884627847596434
         },
         {
          "Test": "EXT",
          "Variable": "Force (kg)",
          "value": 15.95134161980862
         },
         {
          "Test": "EXT",
          "Variable": "Force (kg)",
          "value": 16.01398523701528
         },
         {
          "Test": "EXT",
          "Variable": "Force (kg)",
          "value": 8.059347762526766
         },
         {
          "Test": "EXT",
          "Variable": "Force (kg)",
          "value": 17.57926391056264
         },
         {
          "Test": "EXT",
          "Variable": "Force (kg)",
          "value": 5.532902469891507
         },
         {
          "Test": "EXT",
          "Variable": "Force (kg)",
          "value": 8.89614789620128
         },
         {
          "Test": "EXT",
          "Variable": "Force (kg)",
          "value": 15.544451278103002
         },
         {
          "Test": "EXT",
          "Variable": "Force (kg)",
          "value": 14.719472256841119
         },
         {
          "Test": "EXT",
          "Variable": "Force (kg)",
          "value": 22.939863623472544
         },
         {
          "Test": "EXT",
          "Variable": "Force (kg)",
          "value": 29.065200146138533
         },
         {
          "Test": "FLEX",
          "Variable": "Force (kg)",
          "value": 16.55651915265423
         },
         {
          "Test": "FLEX",
          "Variable": "Force (kg)",
          "value": 14.067321982464103
         },
         {
          "Test": "FLEX",
          "Variable": "Force (kg)",
          "value": 20.605598116406608
         },
         {
          "Test": "FLEX",
          "Variable": "Force (kg)",
          "value": 11.716028453663078
         },
         {
          "Test": "FLEX",
          "Variable": "Force (kg)",
          "value": 15.863785458315348
         },
         {
          "Test": "FLEX",
          "Variable": "Force (kg)",
          "value": 20.50966373015728
         },
         {
          "Test": "FLEX",
          "Variable": "Force (kg)",
          "value": 10.303732966699437
         },
         {
          "Test": "FLEX",
          "Variable": "Force (kg)",
          "value": 14.345744318254502
         },
         {
          "Test": "FLEX",
          "Variable": "Force (kg)",
          "value": 17.9596732874249
         },
         {
          "Test": "FLEX",
          "Variable": "Force (kg)",
          "value": 21.959511936956336
         },
         {
          "Test": "FLEX",
          "Variable": "Force (kg)",
          "value": 16.601274429006867
         },
         {
          "Test": "FLEX",
          "Variable": "Force (kg)",
          "value": 14.138851438989546
         },
         {
          "Test": "FLEX",
          "Variable": "Force (kg)",
          "value": 8.86648094900495
         },
         {
          "Test": "FLEX",
          "Variable": "Force (kg)",
          "value": 14.354695544115033
         },
         {
          "Test": "FLEX",
          "Variable": "Force (kg)",
          "value": 15.566200253801826
         },
         {
          "Test": "FLEX",
          "Variable": "Force (kg)",
          "value": 15.95994659415804
         },
         {
          "Test": "FLEX",
          "Variable": "Force (kg)",
          "value": 16.969606790928836
         },
         {
          "Test": "FLEX",
          "Variable": "Force (kg)",
          "value": 16.739134463905103
         },
         {
          "Test": "FLEX",
          "Variable": "Force (kg)",
          "value": 16.243759105920205
         },
         {
          "Test": "FLEX",
          "Variable": "Force (kg)",
          "value": 20.56558554958384
         },
         {
          "Test": "FLEX",
          "Variable": "Force (kg)",
          "value": 21.33119492796826
         },
         {
          "Test": "FLEX",
          "Variable": "Force (kg)",
          "value": 15.242500710899705
         },
         {
          "Test": "FLEX",
          "Variable": "Force (kg)",
          "value": 14.80910717002114
         },
         {
          "Test": "FLEX",
          "Variable": "Force (kg)",
          "value": 16.664935077854654
         },
         {
          "Test": "FLEX",
          "Variable": "Force (kg)",
          "value": 13.466118970706129
         },
         {
          "Test": "FLEX",
          "Variable": "Force (kg)",
          "value": 16.055438993956106
         },
         {
          "Test": "FLEX",
          "Variable": "Force (kg)",
          "value": 16.02729721973902
         },
         {
          "Test": "FLEX",
          "Variable": "Force (kg)",
          "value": 18.081364230233593
         },
         {
          "Test": "FLEX",
          "Variable": "Force (kg)",
          "value": 9.399872916403286
         },
         {
          "Test": "FLEX",
          "Variable": "Force (kg)",
          "value": 14.897735880818113
         },
         {
          "Test": "FLEX",
          "Variable": "Force (kg)",
          "value": 16.70368875938525
         },
         {
          "Test": "FLEX",
          "Variable": "Force (kg)",
          "value": 21.190602211244414
         },
         {
          "Test": "FLEX",
          "Variable": "Force (kg)",
          "value": 15.949038113941242
         },
         {
          "Test": "FLEX",
          "Variable": "Force (kg)",
          "value": 29.75297781129124
         },
         {
          "Test": "FLEX",
          "Variable": "Force (kg)",
          "value": 20.35888871094435
         },
         {
          "Test": "FLEX",
          "Variable": "Force (kg)",
          "value": 16.70285269054636
         },
         {
          "Test": "FLEX",
          "Variable": "Force (kg)",
          "value": 15.59827811215645
         },
         {
          "Test": "FLEX",
          "Variable": "Force (kg)",
          "value": 16.599896514009338
         },
         {
          "Test": "FLEX",
          "Variable": "Force (kg)",
          "value": 18.869573101873602
         },
         {
          "Test": "FLEX",
          "Variable": "Force (kg)",
          "value": 17.5255134919798
         },
         {
          "Test": "FLEX",
          "Variable": "Force (kg)",
          "value": 18.866952133542274
         },
         {
          "Test": "FLEX",
          "Variable": "Force (kg)",
          "value": 22.21642464712814
         },
         {
          "Test": "FLEX",
          "Variable": "Force (kg)",
          "value": 12.439404525626918
         },
         {
          "Test": "FLEX",
          "Variable": "Force (kg)",
          "value": 20.40796043770755
         },
         {
          "Test": "FLEX",
          "Variable": "Force (kg)",
          "value": 11.895653193422634
         },
         {
          "Test": "FLEX",
          "Variable": "Force (kg)",
          "value": 17.33031704727718
         },
         {
          "Test": "FLEX",
          "Variable": "Force (kg)",
          "value": 16.911721753215076
         },
         {
          "Test": "FLEX",
          "Variable": "Force (kg)",
          "value": 17.312395541500834
         },
         {
          "Test": "FLEX",
          "Variable": "Force (kg)",
          "value": 19.95036922087305
         },
         {
          "Test": "FLEX",
          "Variable": "Force (kg)",
          "value": 13.692656281748532
         },
         {
          "Test": "FLEX",
          "Variable": "Force (kg)",
          "value": 19.73177009217935
         },
         {
          "Test": "FLEX",
          "Variable": "Force (kg)",
          "value": 14.053594430334233
         },
         {
          "Test": "FLEX",
          "Variable": "Force (kg)",
          "value": 23.013488289905823
         },
         {
          "Test": "FLEX",
          "Variable": "Force (kg)",
          "value": 15.636032917809917
         },
         {
          "Test": "FLEX",
          "Variable": "Force (kg)",
          "value": 22.776247588102514
         },
         {
          "Test": "FLEX",
          "Variable": "Force (kg)",
          "value": 19.093120705687603
         },
         {
          "Test": "FLEX",
          "Variable": "Force (kg)",
          "value": 13.788944131328641
         },
         {
          "Test": "FLEX",
          "Variable": "Force (kg)",
          "value": 20.483051221376815
         },
         {
          "Test": "FLEX",
          "Variable": "Force (kg)",
          "value": 13.688732862788665
         },
         {
          "Test": "FLEX",
          "Variable": "Force (kg)",
          "value": 16.727538473884884
         },
         {
          "Test": "FLEX",
          "Variable": "Force (kg)",
          "value": 23.307011075617545
         },
         {
          "Test": "FLEX",
          "Variable": "Force (kg)",
          "value": 17.55395147394402
         },
         {
          "Test": "FLEX",
          "Variable": "Force (kg)",
          "value": 21.140136621788
         },
         {
          "Test": "FLEX",
          "Variable": "Force (kg)",
          "value": 17.9156025908236
         },
         {
          "Test": "FLEX",
          "Variable": "Force (kg)",
          "value": 18.0273788351307
         },
         {
          "Test": "FLEX",
          "Variable": "Force (kg)",
          "value": 15.805427230861545
         },
         {
          "Test": "FLEX",
          "Variable": "Force (kg)",
          "value": 16.27166356483217
         },
         {
          "Test": "FLEX",
          "Variable": "Force (kg)",
          "value": 17.322883874360002
         },
         {
          "Test": "FLEX",
          "Variable": "Force (kg)",
          "value": 15.220000219582168
         },
         {
          "Test": "FLEX",
          "Variable": "Force (kg)",
          "value": 15.85631048492096
         },
         {
          "Test": "FLEX",
          "Variable": "Force (kg)",
          "value": 13.073284491672718
         },
         {
          "Test": "FLEX",
          "Variable": "Force (kg)",
          "value": 11.824460626418494
         },
         {
          "Test": "FLEX",
          "Variable": "Force (kg)",
          "value": 13.502881236021725
         },
         {
          "Test": "FLEX",
          "Variable": "Force (kg)",
          "value": 15.530353863451493
         },
         {
          "Test": "FLEX",
          "Variable": "Force (kg)",
          "value": 23.63365009143975
         },
         {
          "Test": "FLEX",
          "Variable": "Force (kg)",
          "value": 12.693532057905665
         },
         {
          "Test": "FLEX",
          "Variable": "Force (kg)",
          "value": 19.36858981707285
         },
         {
          "Test": "FLEX",
          "Variable": "Force (kg)",
          "value": 21.78447835196819
         },
         {
          "Test": "FLEX",
          "Variable": "Force (kg)",
          "value": 16.08961658464596
         },
         {
          "Test": "FLEX",
          "Variable": "Force (kg)",
          "value": 12.00996273273659
         },
         {
          "Test": "FLEX",
          "Variable": "Force (kg)",
          "value": 17.061841506276835
         },
         {
          "Test": "FLEX",
          "Variable": "Force (kg)",
          "value": 15.942532600066006
         },
         {
          "Test": "FLEX",
          "Variable": "Force (kg)",
          "value": 20.43957817732739
         },
         {
          "Test": "FLEX",
          "Variable": "Force (kg)",
          "value": 23.242241895410725
         },
         {
          "Test": "FLEX",
          "Variable": "Force (kg)",
          "value": 16.506055316152576
         },
         {
          "Test": "FLEX",
          "Variable": "Force (kg)",
          "value": 18.46515659601392
         },
         {
          "Test": "FLEX",
          "Variable": "Force (kg)",
          "value": 11.883890745269616
         },
         {
          "Test": "FLEX",
          "Variable": "Force (kg)",
          "value": 14.964011907992766
         },
         {
          "Test": "FLEX",
          "Variable": "Force (kg)",
          "value": 18.43006905982212
         },
         {
          "Test": "FLEX",
          "Variable": "Force (kg)",
          "value": 13.109990261306764
         },
         {
          "Test": "FLEX",
          "Variable": "Force (kg)",
          "value": 20.618313271652184
         },
         {
          "Test": "FLEX",
          "Variable": "Force (kg)",
          "value": 21.784698749932932
         },
         {
          "Test": "ADD",
          "Variable": "Imbalance (%)",
          "value": 0.7141612959414744
         },
         {
          "Test": "ADD",
          "Variable": "Imbalance (%)",
          "value": 3.41588385994877
         },
         {
          "Test": "ADD",
          "Variable": "Imbalance (%)",
          "value": 2.4366085578446937
         },
         {
          "Test": "ADD",
          "Variable": "Imbalance (%)",
          "value": 6.535488404778644
         },
         {
          "Test": "ADD",
          "Variable": "Imbalance (%)",
          "value": 5.1286601597160555
         },
         {
          "Test": "ADD",
          "Variable": "Imbalance (%)",
          "value": 0
         },
         {
          "Test": "ADD",
          "Variable": "Imbalance (%)",
          "value": 2.136514983351841
         },
         {
          "Test": "ADD",
          "Variable": "Imbalance (%)",
          "value": 4.918032786885221
         },
         {
          "Test": "ADD",
          "Variable": "Imbalance (%)",
          "value": 1.138697031920858
         },
         {
          "Test": "ADD",
          "Variable": "Imbalance (%)",
          "value": 0.43189881227826044
         },
         {
          "Test": "ADD",
          "Variable": "Imbalance (%)",
          "value": 3.9854191980558973
         },
         {
          "Test": "ADD",
          "Variable": "Imbalance (%)",
          "value": 5.796460176991141
         },
         {
          "Test": "ADD",
          "Variable": "Imbalance (%)",
          "value": 12.215320910973091
         },
         {
          "Test": "ADD",
          "Variable": "Imbalance (%)",
          "value": 13.061916878710775
         },
         {
          "Test": "ADD",
          "Variable": "Imbalance (%)",
          "value": 6.108597285067877
         },
         {
          "Test": "ADD",
          "Variable": "Imbalance (%)",
          "value": 10.79104808331487
         },
         {
          "Test": "ADD",
          "Variable": "Imbalance (%)",
          "value": 10.235490450584091
         },
         {
          "Test": "ADD",
          "Variable": "Imbalance (%)",
          "value": 3.0985373364126234
         },
         {
          "Test": "ADD",
          "Variable": "Imbalance (%)",
          "value": 2.435470441298924
         },
         {
          "Test": "ADD",
          "Variable": "Imbalance (%)",
          "value": 0.7877041306436261
         },
         {
          "Test": "ADD",
          "Variable": "Imbalance (%)",
          "value": 5.911002878016382
         },
         {
          "Test": "ADD",
          "Variable": "Imbalance (%)",
          "value": 1.9956760352569411
         },
         {
          "Test": "ADD",
          "Variable": "Imbalance (%)",
          "value": 3.565525383707196
         },
         {
          "Test": "ADD",
          "Variable": "Imbalance (%)",
          "value": 16.242143565994034
         },
         {
          "Test": "ADD",
          "Variable": "Imbalance (%)",
          "value": 3.0847704639300404
         },
         {
          "Test": "ADD",
          "Variable": "Imbalance (%)",
          "value": 4.161804745235322
         },
         {
          "Test": "ADD",
          "Variable": "Imbalance (%)",
          "value": 2.5630425795783283
         },
         {
          "Test": "ADD",
          "Variable": "Imbalance (%)",
          "value": 5.281090289608174
         },
         {
          "Test": "ADD",
          "Variable": "Imbalance (%)",
          "value": 13.142505386272715
         },
         {
          "Test": "ADD",
          "Variable": "Imbalance (%)",
          "value": 9.541731237547047
         },
         {
          "Test": "ADD",
          "Variable": "Imbalance (%)",
          "value": 1.9668337832626381
         },
         {
          "Test": "ADD",
          "Variable": "Imbalance (%)",
          "value": 6.94444444444444
         },
         {
          "Test": "ADD",
          "Variable": "Imbalance (%)",
          "value": 8.280254777070056
         },
         {
          "Test": "ADD",
          "Variable": "Imbalance (%)",
          "value": 2.941176470588232
         },
         {
          "Test": "ADD",
          "Variable": "Imbalance (%)",
          "value": 2.0325203252032424
         },
         {
          "Test": "ADD",
          "Variable": "Imbalance (%)",
          "value": 3.914590747330963
         },
         {
          "Test": "ADD",
          "Variable": "Imbalance (%)",
          "value": 9.407665505226463
         },
         {
          "Test": "ADD",
          "Variable": "Imbalance (%)",
          "value": 6.2015503875968925
         },
         {
          "Test": "ADD",
          "Variable": "Imbalance (%)",
          "value": 5.882352941176464
         },
         {
          "Test": "ADD",
          "Variable": "Imbalance (%)",
          "value": 5.88235294117647
         },
         {
          "Test": "ADD",
          "Variable": "Imbalance (%)",
          "value": 1.9171597633136095
         },
         {
          "Test": "ADD",
          "Variable": "Imbalance (%)",
          "value": 1.0622406639004023
         },
         {
          "Test": "ADD",
          "Variable": "Imbalance (%)",
          "value": 8.389012620638434
         },
         {
          "Test": "ADD",
          "Variable": "Imbalance (%)",
          "value": 1.768246802106842
         },
         {
          "Test": "ADD",
          "Variable": "Imbalance (%)",
          "value": 8.022774327122157
         },
         {
          "Test": "ADD",
          "Variable": "Imbalance (%)",
          "value": 7.2935703605249955
         },
         {
          "Test": "ADD",
          "Variable": "Imbalance (%)",
          "value": 2.141082011087757
         },
         {
          "Test": "ADD",
          "Variable": "Imbalance (%)",
          "value": 5.445544554455436
         },
         {
          "Test": "ADD",
          "Variable": "Imbalance (%)",
          "value": 7.4918566775244235
         },
         {
          "Test": "ADD",
          "Variable": "Imbalance (%)",
          "value": 7.133757961783446
         },
         {
          "Test": "ADD",
          "Variable": "Imbalance (%)",
          "value": 4.4736430470827395
         },
         {
          "Test": "ADD",
          "Variable": "Imbalance (%)",
          "value": 4.000987898246498
         },
         {
          "Test": "ADD",
          "Variable": "Imbalance (%)",
          "value": 3.232758620689656
         },
         {
          "Test": "ADD",
          "Variable": "Imbalance (%)",
          "value": 1.114112086428091
         },
         {
          "Test": "ADD",
          "Variable": "Imbalance (%)",
          "value": 1.8730316592076905
         },
         {
          "Test": "ADD",
          "Variable": "Imbalance (%)",
          "value": 3.7325038880248926
         },
         {
          "Test": "ADD",
          "Variable": "Imbalance (%)",
          "value": 0.7138722747443508
         },
         {
          "Test": "ADD",
          "Variable": "Imbalance (%)",
          "value": 6.645962732919264
         },
         {
          "Test": "ADD",
          "Variable": "Imbalance (%)",
          "value": 2.559241706161143
         },
         {
          "Test": "ADD",
          "Variable": "Imbalance (%)",
          "value": 8.492822966507179
         },
         {
          "Test": "ADD",
          "Variable": "Imbalance (%)",
          "value": 5.664981697751439
         },
         {
          "Test": "ADD",
          "Variable": "Imbalance (%)",
          "value": 11.658744058043524
         },
         {
          "Test": "ADD",
          "Variable": "Imbalance (%)",
          "value": 2.835168149600354
         },
         {
          "Test": "ADD",
          "Variable": "Imbalance (%)",
          "value": 0.19749835418039885
         },
         {
          "Test": "ADD",
          "Variable": "Imbalance (%)",
          "value": 3.3935817041682
         },
         {
          "Test": "ADD",
          "Variable": "Imbalance (%)",
          "value": 11.251758087201114
         },
         {
          "Test": "ADD",
          "Variable": "Imbalance (%)",
          "value": 2.2759350741002233
         },
         {
          "Test": "ADD",
          "Variable": "Imbalance (%)",
          "value": 9.55675675675675
         },
         {
          "Test": "ADD",
          "Variable": "Imbalance (%)",
          "value": 1.6035708381550784
         },
         {
          "Test": "ADD",
          "Variable": "Imbalance (%)",
          "value": 0.5690161527165911
         },
         {
          "Test": "ADD",
          "Variable": "Imbalance (%)",
          "value": 3.350462487153136
         },
         {
          "Test": "ADD",
          "Variable": "Imbalance (%)",
          "value": 2.760805612129458
         },
         {
          "Test": "ADD",
          "Variable": "Imbalance (%)",
          "value": 2.248475609756092
         },
         {
          "Test": "ADD",
          "Variable": "Imbalance (%)",
          "value": 7.3784891665040115
         },
         {
          "Test": "ADD",
          "Variable": "Imbalance (%)",
          "value": 2.4059882373908477
         },
         {
          "Test": "ADD",
          "Variable": "Imbalance (%)",
          "value": 9.817642069550468
         },
         {
          "Test": "ADD",
          "Variable": "Imbalance (%)",
          "value": 4.893031137470867
         },
         {
          "Test": "ADD",
          "Variable": "Imbalance (%)",
          "value": 3.8255033557047
         },
         {
          "Test": "ADD",
          "Variable": "Imbalance (%)",
          "value": 5.948035215804169
         },
         {
          "Test": "ADD",
          "Variable": "Imbalance (%)",
          "value": 0.10020040080161183
         },
         {
          "Test": "ADD",
          "Variable": "Imbalance (%)",
          "value": 3.016292382210479
         },
         {
          "Test": "ADD",
          "Variable": "Imbalance (%)",
          "value": 9.059152305542618
         },
         {
          "Test": "ADD",
          "Variable": "Imbalance (%)",
          "value": 0.7961488613219684
         },
         {
          "Test": "ADD",
          "Variable": "Imbalance (%)",
          "value": 0.4740834386852054
         },
         {
          "Test": "ADD",
          "Variable": "Imbalance (%)",
          "value": 5.364511691884458
         },
         {
          "Test": "ADD",
          "Variable": "Imbalance (%)",
          "value": 2.6521656172486052
         },
         {
          "Test": "ADD",
          "Variable": "Imbalance (%)",
          "value": 7.951070336391465
         },
         {
          "Test": "ADD",
          "Variable": "Imbalance (%)",
          "value": 10.512320510547777
         },
         {
          "Test": "ADD",
          "Variable": "Imbalance (%)",
          "value": 13.784461152882196
         },
         {
          "Test": "ADD",
          "Variable": "Imbalance (%)",
          "value": 2.324966974900922
         },
         {
          "Test": "ADD",
          "Variable": "Imbalance (%)",
          "value": 1.2161504783525128
         },
         {
          "Test": "ADD",
          "Variable": "Imbalance (%)",
          "value": 4.024297646165544
         },
         {
          "Test": "ABD",
          "Variable": "Imbalance (%)",
          "value": 13.028764805414545
         },
         {
          "Test": "ABD",
          "Variable": "Imbalance (%)",
          "value": 13.341671878257245
         },
         {
          "Test": "ABD",
          "Variable": "Imbalance (%)",
          "value": 0.08567144998929845
         },
         {
          "Test": "ABD",
          "Variable": "Imbalance (%)",
          "value": 24.08045977011495
         },
         {
          "Test": "ABD",
          "Variable": "Imbalance (%)",
          "value": 12.139957471486559
         },
         {
          "Test": "ABD",
          "Variable": "Imbalance (%)",
          "value": 8.096676737160143
         },
         {
          "Test": "ABD",
          "Variable": "Imbalance (%)",
          "value": 12.167657178604932
         },
         {
          "Test": "ABD",
          "Variable": "Imbalance (%)",
          "value": 19.546673165976113
         },
         {
          "Test": "ABD",
          "Variable": "Imbalance (%)",
          "value": 3.4534534534534664
         },
         {
          "Test": "ABD",
          "Variable": "Imbalance (%)",
          "value": 0.20717131474103145
         },
         {
          "Test": "ABD",
          "Variable": "Imbalance (%)",
          "value": 3.506837229819154
         },
         {
          "Test": "ABD",
          "Variable": "Imbalance (%)",
          "value": 19.976218787158153
         },
         {
          "Test": "ABD",
          "Variable": "Imbalance (%)",
          "value": 12.611683848797245
         },
         {
          "Test": "ABD",
          "Variable": "Imbalance (%)",
          "value": 13.639417693169095
         },
         {
          "Test": "ABD",
          "Variable": "Imbalance (%)",
          "value": 5.255805832023724
         },
         {
          "Test": "ABD",
          "Variable": "Imbalance (%)",
          "value": 0.5386875612144907
         },
         {
          "Test": "ABD",
          "Variable": "Imbalance (%)",
          "value": 2.407796674947443
         },
         {
          "Test": "ABD",
          "Variable": "Imbalance (%)",
          "value": 7.996344528215675
         },
         {
          "Test": "ABD",
          "Variable": "Imbalance (%)",
          "value": 9.68946999766519
         },
         {
          "Test": "ABD",
          "Variable": "Imbalance (%)",
          "value": 2.306648575305285
         },
         {
          "Test": "ABD",
          "Variable": "Imbalance (%)",
          "value": 1.6454749439042657
         },
         {
          "Test": "ABD",
          "Variable": "Imbalance (%)",
          "value": 3.8360483447188467
         },
         {
          "Test": "ABD",
          "Variable": "Imbalance (%)",
          "value": 5.203452527743544
         },
         {
          "Test": "ABD",
          "Variable": "Imbalance (%)",
          "value": 5.795866183677811
         },
         {
          "Test": "ABD",
          "Variable": "Imbalance (%)",
          "value": 12.174179699478707
         },
         {
          "Test": "ABD",
          "Variable": "Imbalance (%)",
          "value": 2.8732394366197034
         },
         {
          "Test": "ABD",
          "Variable": "Imbalance (%)",
          "value": 2.505259131765145
         },
         {
          "Test": "ABD",
          "Variable": "Imbalance (%)",
          "value": 5.626406601650409
         },
         {
          "Test": "ABD",
          "Variable": "Imbalance (%)",
          "value": 3.3377250768555076
         },
         {
          "Test": "ABD",
          "Variable": "Imbalance (%)",
          "value": 12.380122057541422
         },
         {
          "Test": "ABD",
          "Variable": "Imbalance (%)",
          "value": 4.524361948955917
         },
         {
          "Test": "ABD",
          "Variable": "Imbalance (%)",
          "value": 8.71080139372822
         },
         {
          "Test": "ABD",
          "Variable": "Imbalance (%)",
          "value": 0.3533568904593575
         },
         {
          "Test": "ABD",
          "Variable": "Imbalance (%)",
          "value": 2.564102564102561
         },
         {
          "Test": "ABD",
          "Variable": "Imbalance (%)",
          "value": 10.655737704918035
         },
         {
          "Test": "ABD",
          "Variable": "Imbalance (%)",
          "value": 3.703703703703707
         },
         {
          "Test": "ABD",
          "Variable": "Imbalance (%)",
          "value": 3.3057851239669382
         },
         {
          "Test": "ABD",
          "Variable": "Imbalance (%)",
          "value": 10.041841004184104
         },
         {
          "Test": "ABD",
          "Variable": "Imbalance (%)",
          "value": 3.2258064516128995
         },
         {
          "Test": "ABD",
          "Variable": "Imbalance (%)",
          "value": 11.029411764705882
         },
         {
          "Test": "ABD",
          "Variable": "Imbalance (%)",
          "value": 4.517133956386283
         },
         {
          "Test": "ABD",
          "Variable": "Imbalance (%)",
          "value": 7.191341038341567
         },
         {
          "Test": "ABD",
          "Variable": "Imbalance (%)",
          "value": 1.4943960149439803
         },
         {
          "Test": "ABD",
          "Variable": "Imbalance (%)",
          "value": 4.738661785641648
         },
         {
          "Test": "ABD",
          "Variable": "Imbalance (%)",
          "value": 14.803149606299204
         },
         {
          "Test": "ABD",
          "Variable": "Imbalance (%)",
          "value": 2.8674481514878223
         },
         {
          "Test": "ABD",
          "Variable": "Imbalance (%)",
          "value": 2.831734144629081
         },
         {
          "Test": "ABD",
          "Variable": "Imbalance (%)",
          "value": 1.5606479652311305
         },
         {
          "Test": "ABD",
          "Variable": "Imbalance (%)",
          "value": 2.854494902687661
         },
         {
          "Test": "ABD",
          "Variable": "Imbalance (%)",
          "value": 4.598969830757908
         },
         {
          "Test": "ABD",
          "Variable": "Imbalance (%)",
          "value": 0.2109704641350259
         },
         {
          "Test": "ABD",
          "Variable": "Imbalance (%)",
          "value": 2.847896440129454
         },
         {
          "Test": "ABD",
          "Variable": "Imbalance (%)",
          "value": 0.9668727215089613
         },
         {
          "Test": "ABD",
          "Variable": "Imbalance (%)",
          "value": 4.237775647171625
         },
         {
          "Test": "ABD",
          "Variable": "Imbalance (%)",
          "value": 8.641114982578399
         },
         {
          "Test": "ABD",
          "Variable": "Imbalance (%)",
          "value": 4.05330372015547
         },
         {
          "Test": "ABD",
          "Variable": "Imbalance (%)",
          "value": 4.702690481573588
         },
         {
          "Test": "ABD",
          "Variable": "Imbalance (%)",
          "value": 2.3097545885749615
         },
         {
          "Test": "ABD",
          "Variable": "Imbalance (%)",
          "value": 6.324686680268159
         },
         {
          "Test": "ABD",
          "Variable": "Imbalance (%)",
          "value": 2.3251622206200424
         },
         {
          "Test": "ABD",
          "Variable": "Imbalance (%)",
          "value": 5.535055350553506
         },
         {
          "Test": "ABD",
          "Variable": "Imbalance (%)",
          "value": 3.893805309734509
         },
         {
          "Test": "ABD",
          "Variable": "Imbalance (%)",
          "value": 11.537550343520495
         },
         {
          "Test": "ABD",
          "Variable": "Imbalance (%)",
          "value": 8.389261744966444
         },
         {
          "Test": "ABD",
          "Variable": "Imbalance (%)",
          "value": 2.4678663239074523
         },
         {
          "Test": "ABD",
          "Variable": "Imbalance (%)",
          "value": 9.193011647254583
         },
         {
          "Test": "ABD",
          "Variable": "Imbalance (%)",
          "value": 4.605916219972201
         },
         {
          "Test": "ABD",
          "Variable": "Imbalance (%)",
          "value": 8.005796051439964
         },
         {
          "Test": "ABD",
          "Variable": "Imbalance (%)",
          "value": 0.6416304963200498
         },
         {
          "Test": "ABD",
          "Variable": "Imbalance (%)",
          "value": 2.5440749832626657
         },
         {
          "Test": "ABD",
          "Variable": "Imbalance (%)",
          "value": 1.2939001848428804
         },
         {
          "Test": "ABD",
          "Variable": "Imbalance (%)",
          "value": 5.26600054010262
         },
         {
          "Test": "ABD",
          "Variable": "Imbalance (%)",
          "value": 0.23510971786832235
         },
         {
          "Test": "ABD",
          "Variable": "Imbalance (%)",
          "value": 0.8608020155364274
         },
         {
          "Test": "ABD",
          "Variable": "Imbalance (%)",
          "value": 8.382387567694842
         },
         {
          "Test": "ABD",
          "Variable": "Imbalance (%)",
          "value": 3.6253776435045495
         },
         {
          "Test": "ABD",
          "Variable": "Imbalance (%)",
          "value": 5.606544293695127
         },
         {
          "Test": "ABD",
          "Variable": "Imbalance (%)",
          "value": 4.380791912384162
         },
         {
          "Test": "ABD",
          "Variable": "Imbalance (%)",
          "value": 2.897051215726864
         },
         {
          "Test": "ABD",
          "Variable": "Imbalance (%)",
          "value": 5.637149028077772
         },
         {
          "Test": "ABD",
          "Variable": "Imbalance (%)",
          "value": 8.790027938964116
         },
         {
          "Test": "ABD",
          "Variable": "Imbalance (%)",
          "value": 5.811083688579761
         },
         {
          "Test": "ABD",
          "Variable": "Imbalance (%)",
          "value": 0.7114062129475882
         },
         {
          "Test": "ABD",
          "Variable": "Imbalance (%)",
          "value": 2.0472440944882084
         },
         {
          "Test": "ABD",
          "Variable": "Imbalance (%)",
          "value": 2.8914481744670173
         },
         {
          "Test": "ABD",
          "Variable": "Imbalance (%)",
          "value": 12.944457355333483
         },
         {
          "Test": "ABD",
          "Variable": "Imbalance (%)",
          "value": 1.3119533527696905
         },
         {
          "Test": "ABD",
          "Variable": "Imbalance (%)",
          "value": 5.830721003134788
         },
         {
          "Test": "ABD",
          "Variable": "Imbalance (%)",
          "value": 1.0216847372810682
         },
         {
          "Test": "ABD",
          "Variable": "Imbalance (%)",
          "value": 11.970802919708024
         },
         {
          "Test": "ABD",
          "Variable": "Imbalance (%)",
          "value": 3.6198179979777425
         },
         {
          "Test": "ABD",
          "Variable": "Imbalance (%)",
          "value": 11.618606609134934
         },
         {
          "Test": "ER",
          "Variable": "Imbalance (%)",
          "value": 2.261712439418424
         },
         {
          "Test": "ER",
          "Variable": "Imbalance (%)",
          "value": 5.491990846681931
         },
         {
          "Test": "ER",
          "Variable": "Imbalance (%)",
          "value": 0.7215007215007208
         },
         {
          "Test": "ER",
          "Variable": "Imbalance (%)",
          "value": 4.0590405904059
         },
         {
          "Test": "ER",
          "Variable": "Imbalance (%)",
          "value": 1.8508997429305891
         },
         {
          "Test": "ER",
          "Variable": "Imbalance (%)",
          "value": 4.8004314994606245
         },
         {
          "Test": "ER",
          "Variable": "Imbalance (%)",
          "value": 1.132852729145201
         },
         {
          "Test": "ER",
          "Variable": "Imbalance (%)",
          "value": 1.450053705692816
         },
         {
          "Test": "ER",
          "Variable": "Imbalance (%)",
          "value": 3.3043478260869374
         },
         {
          "Test": "ER",
          "Variable": "Imbalance (%)",
          "value": 14.910313901345285
         },
         {
          "Test": "ER",
          "Variable": "Imbalance (%)",
          "value": 7.514880952380951
         },
         {
          "Test": "ER",
          "Variable": "Imbalance (%)",
          "value": 10.739191073919107
         },
         {
          "Test": "ER",
          "Variable": "Imbalance (%)",
          "value": 1.132852729145201
         },
         {
          "Test": "ER",
          "Variable": "Imbalance (%)",
          "value": 4.522613065326627
         },
         {
          "Test": "ER",
          "Variable": "Imbalance (%)",
          "value": 5.549898167006126
         },
         {
          "Test": "ER",
          "Variable": "Imbalance (%)",
          "value": 10.80178173719376
         },
         {
          "Test": "ER",
          "Variable": "Imbalance (%)",
          "value": 17.25826193390452
         },
         {
          "Test": "ER",
          "Variable": "Imbalance (%)",
          "value": 1.5598885793871848
         },
         {
          "Test": "ER",
          "Variable": "Imbalance (%)",
          "value": 3.084832904884315
         },
         {
          "Test": "ER",
          "Variable": "Imbalance (%)",
          "value": 0.7105943152454828
         },
         {
          "Test": "ER",
          "Variable": "Imbalance (%)",
          "value": 2.8457974851091903
         },
         {
          "Test": "ER",
          "Variable": "Imbalance (%)",
          "value": 7.624633431085045
         },
         {
          "Test": "ER",
          "Variable": "Imbalance (%)",
          "value": 0.9420289855072517
         },
         {
          "Test": "ER",
          "Variable": "Imbalance (%)",
          "value": 6.909430438842213
         },
         {
          "Test": "ER",
          "Variable": "Imbalance (%)",
          "value": 0.9312320916905497
         },
         {
          "Test": "ER",
          "Variable": "Imbalance (%)",
          "value": 0.5157593123209214
         },
         {
          "Test": "ER",
          "Variable": "Imbalance (%)",
          "value": 5.995864920744326
         },
         {
          "Test": "ER",
          "Variable": "Imbalance (%)",
          "value": 4.804138950480414
         },
         {
          "Test": "ER",
          "Variable": "Imbalance (%)",
          "value": 4.685714285714271
         },
         {
          "Test": "ER",
          "Variable": "Imbalance (%)",
          "value": 15.573770491803284
         },
         {
          "Test": "ER",
          "Variable": "Imbalance (%)",
          "value": 9.32145305003426
         },
         {
          "Test": "ER",
          "Variable": "Imbalance (%)",
          "value": 5.769230769230763
         },
         {
          "Test": "ER",
          "Variable": "Imbalance (%)",
          "value": 0
         },
         {
          "Test": "ER",
          "Variable": "Imbalance (%)",
          "value": 7.000000000000011
         },
         {
          "Test": "ER",
          "Variable": "Imbalance (%)",
          "value": 6.578947368421057
         },
         {
          "Test": "ER",
          "Variable": "Imbalance (%)",
          "value": 0
         },
         {
          "Test": "ER",
          "Variable": "Imbalance (%)",
          "value": 13.95348837209302
         },
         {
          "Test": "ER",
          "Variable": "Imbalance (%)",
          "value": 24.242424242424242
         },
         {
          "Test": "ER",
          "Variable": "Imbalance (%)",
          "value": 10
         },
         {
          "Test": "ER",
          "Variable": "Imbalance (%)",
          "value": 1.4084507042253507
         },
         {
          "Test": "ER",
          "Variable": "Imbalance (%)",
          "value": 8.51755526657997
         },
         {
          "Test": "ER",
          "Variable": "Imbalance (%)",
          "value": 3.7190082644628237
         },
         {
          "Test": "ER",
          "Variable": "Imbalance (%)",
          "value": 25.759999999999998
         },
         {
          "Test": "ER",
          "Variable": "Imbalance (%)",
          "value": 9.328177863702267
         },
         {
          "Test": "ER",
          "Variable": "Imbalance (%)",
          "value": 3.3680342927128106
         },
         {
          "Test": "ER",
          "Variable": "Imbalance (%)",
          "value": 8.82175226586103
         },
         {
          "Test": "ER",
          "Variable": "Imbalance (%)",
          "value": 6.605019815059449
         },
         {
          "Test": "ER",
          "Variable": "Imbalance (%)",
          "value": 0.30978934324659735
         },
         {
          "Test": "ER",
          "Variable": "Imbalance (%)",
          "value": 7.087428867046039
         },
         {
          "Test": "ER",
          "Variable": "Imbalance (%)",
          "value": 22.435897435897427
         },
         {
          "Test": "ER",
          "Variable": "Imbalance (%)",
          "value": 23.107836570663096
         },
         {
          "Test": "ER",
          "Variable": "Imbalance (%)",
          "value": 8.259061200237676
         },
         {
          "Test": "ER",
          "Variable": "Imbalance (%)",
          "value": 4.953145917001345
         },
         {
          "Test": "ER",
          "Variable": "Imbalance (%)",
          "value": 14.574898785425106
         },
         {
          "Test": "ER",
          "Variable": "Imbalance (%)",
          "value": 9.662664379645527
         },
         {
          "Test": "ER",
          "Variable": "Imbalance (%)",
          "value": 2.1295876755777012
         },
         {
          "Test": "ER",
          "Variable": "Imbalance (%)",
          "value": 2.164111812443656
         },
         {
          "Test": "ER",
          "Variable": "Imbalance (%)",
          "value": 12.40632805995005
         },
         {
          "Test": "ER",
          "Variable": "Imbalance (%)",
          "value": 6.848306332842401
         },
         {
          "Test": "ER",
          "Variable": "Imbalance (%)",
          "value": 10.47404063205418
         },
         {
          "Test": "ER",
          "Variable": "Imbalance (%)",
          "value": 9.323388385721902
         },
         {
          "Test": "ER",
          "Variable": "Imbalance (%)",
          "value": 6.714628297362102
         },
         {
          "Test": "ER",
          "Variable": "Imbalance (%)",
          "value": 13.059250302297446
         },
         {
          "Test": "ER",
          "Variable": "Imbalance (%)",
          "value": 3.826199740596607
         },
         {
          "Test": "ER",
          "Variable": "Imbalance (%)",
          "value": 2.8776978417266155
         },
         {
          "Test": "ER",
          "Variable": "Imbalance (%)",
          "value": 3.371428571428583
         },
         {
          "Test": "ER",
          "Variable": "Imbalance (%)",
          "value": 2.0809898762654693
         },
         {
          "Test": "ER",
          "Variable": "Imbalance (%)",
          "value": 11.46051712089448
         },
         {
          "Test": "ER",
          "Variable": "Imbalance (%)",
          "value": 10.3327495621716
         },
         {
          "Test": "ER",
          "Variable": "Imbalance (%)",
          "value": 3.7649743297204643
         },
         {
          "Test": "ER",
          "Variable": "Imbalance (%)",
          "value": 9.501025290498958
         },
         {
          "Test": "ER",
          "Variable": "Imbalance (%)",
          "value": 30.266075388026604
         },
         {
          "Test": "ER",
          "Variable": "Imbalance (%)",
          "value": 11.965811965811962
         },
         {
          "Test": "ER",
          "Variable": "Imbalance (%)",
          "value": 18.943089430894307
         },
         {
          "Test": "ER",
          "Variable": "Imbalance (%)",
          "value": 1.291989664082697
         },
         {
          "Test": "ER",
          "Variable": "Imbalance (%)",
          "value": 10.52631578947367
         },
         {
          "Test": "ER",
          "Variable": "Imbalance (%)",
          "value": 8.77551020408163
         },
         {
          "Test": "ER",
          "Variable": "Imbalance (%)",
          "value": 5.2696838189708615
         },
         {
          "Test": "ER",
          "Variable": "Imbalance (%)",
          "value": 6.356968215158938
         },
         {
          "Test": "ER",
          "Variable": "Imbalance (%)",
          "value": 19.788273615635163
         },
         {
          "Test": "ER",
          "Variable": "Imbalance (%)",
          "value": 8.736559139784948
         },
         {
          "Test": "ER",
          "Variable": "Imbalance (%)",
          "value": 6.554621848739474
         },
         {
          "Test": "ER",
          "Variable": "Imbalance (%)",
          "value": 4.030501089324623
         },
         {
          "Test": "ER",
          "Variable": "Imbalance (%)",
          "value": 17.844611528822053
         },
         {
          "Test": "ER",
          "Variable": "Imbalance (%)",
          "value": 25.257731958762875
         },
         {
          "Test": "ER",
          "Variable": "Imbalance (%)",
          "value": 5.093996361431186
         },
         {
          "Test": "ER",
          "Variable": "Imbalance (%)",
          "value": 13.02785265049417
         },
         {
          "Test": "ER",
          "Variable": "Imbalance (%)",
          "value": 11.557177615571774
         },
         {
          "Test": "ER",
          "Variable": "Imbalance (%)",
          "value": 19.574734208880557
         },
         {
          "Test": "ER",
          "Variable": "Imbalance (%)",
          "value": 9.873617693522903
         },
         {
          "Test": "ER",
          "Variable": "Imbalance (%)",
          "value": 3.5495716034271574
         },
         {
          "Test": "ER",
          "Variable": "Imbalance (%)",
          "value": 3.6891679748822632
         },
         {
          "Test": "IR",
          "Variable": "Imbalance (%)",
          "value": 0.6692160611854595
         },
         {
          "Test": "IR",
          "Variable": "Imbalance (%)",
          "value": 14.583333333333345
         },
         {
          "Test": "IR",
          "Variable": "Imbalance (%)",
          "value": 0.16666666666668098
         },
         {
          "Test": "IR",
          "Variable": "Imbalance (%)",
          "value": 6.7669172932330754
         },
         {
          "Test": "IR",
          "Variable": "Imbalance (%)",
          "value": 19.106217616580306
         },
         {
          "Test": "IR",
          "Variable": "Imbalance (%)",
          "value": 2.8346994535519183
         },
         {
          "Test": "IR",
          "Variable": "Imbalance (%)",
          "value": 9.845890410958901
         },
         {
          "Test": "IR",
          "Variable": "Imbalance (%)",
          "value": 21.246169560776313
         },
         {
          "Test": "IR",
          "Variable": "Imbalance (%)",
          "value": 5.77249575551783
         },
         {
          "Test": "IR",
          "Variable": "Imbalance (%)",
          "value": 15.491866769945775
         },
         {
          "Test": "IR",
          "Variable": "Imbalance (%)",
          "value": 3.720106288751103
         },
         {
          "Test": "IR",
          "Variable": "Imbalance (%)",
          "value": 4.205900816070319
         },
         {
          "Test": "IR",
          "Variable": "Imbalance (%)",
          "value": 9.845890410958901
         },
         {
          "Test": "IR",
          "Variable": "Imbalance (%)",
          "value": 9.892638036809824
         },
         {
          "Test": "IR",
          "Variable": "Imbalance (%)",
          "value": 7.54022988505748
         },
         {
          "Test": "IR",
          "Variable": "Imbalance (%)",
          "value": 21.09982068141064
         },
         {
          "Test": "IR",
          "Variable": "Imbalance (%)",
          "value": 0.3243243243243146
         },
         {
          "Test": "IR",
          "Variable": "Imbalance (%)",
          "value": 5.434782608695654
         },
         {
          "Test": "IR",
          "Variable": "Imbalance (%)",
          "value": 18.005181347150263
         },
         {
          "Test": "IR",
          "Variable": "Imbalance (%)",
          "value": 17.399766446087966
         },
         {
          "Test": "IR",
          "Variable": "Imbalance (%)",
          "value": 15.467171717171716
         },
         {
          "Test": "IR",
          "Variable": "Imbalance (%)",
          "value": 0.04918839153961802
         },
         {
          "Test": "IR",
          "Variable": "Imbalance (%)",
          "value": 5.273533760473146
         },
         {
          "Test": "IR",
          "Variable": "Imbalance (%)",
          "value": 21.756756756756758
         },
         {
          "Test": "IR",
          "Variable": "Imbalance (%)",
          "value": 11.295418641390214
         },
         {
          "Test": "IR",
          "Variable": "Imbalance (%)",
          "value": 7.984581497797352
         },
         {
          "Test": "IR",
          "Variable": "Imbalance (%)",
          "value": 0.6849315068493144
         },
         {
          "Test": "IR",
          "Variable": "Imbalance (%)",
          "value": 19.253575165678402
         },
         {
          "Test": "IR",
          "Variable": "Imbalance (%)",
          "value": 8.108108108108116
         },
         {
          "Test": "IR",
          "Variable": "Imbalance (%)",
          "value": 0.3574620196604107
         },
         {
          "Test": "IR",
          "Variable": "Imbalance (%)",
          "value": 0.4934210526315641
         },
         {
          "Test": "IR",
          "Variable": "Imbalance (%)",
          "value": 5.357142857142851
         },
         {
          "Test": "IR",
          "Variable": "Imbalance (%)",
          "value": 17.17171717171717
         },
         {
          "Test": "IR",
          "Variable": "Imbalance (%)",
          "value": 14.173228346456689
         },
         {
          "Test": "IR",
          "Variable": "Imbalance (%)",
          "value": 2.9126213592233148
         },
         {
          "Test": "IR",
          "Variable": "Imbalance (%)",
          "value": 6.451612903225813
         },
         {
          "Test": "IR",
          "Variable": "Imbalance (%)",
          "value": 29.166666666666668
         },
         {
          "Test": "IR",
          "Variable": "Imbalance (%)",
          "value": 13.580246913580243
         },
         {
          "Test": "IR",
          "Variable": "Imbalance (%)",
          "value": 23.68421052631578
         },
         {
          "Test": "IR",
          "Variable": "Imbalance (%)",
          "value": 3.999999999999996
         },
         {
          "Test": "IR",
          "Variable": "Imbalance (%)",
          "value": 23.835616438356162
         },
         {
          "Test": "IR",
          "Variable": "Imbalance (%)",
          "value": 0
         },
         {
          "Test": "IR",
          "Variable": "Imbalance (%)",
          "value": 4.016913319238896
         },
         {
          "Test": "IR",
          "Variable": "Imbalance (%)",
          "value": 15.252854812398034
         },
         {
          "Test": "IR",
          "Variable": "Imbalance (%)",
          "value": 15.281501340482578
         },
         {
          "Test": "IR",
          "Variable": "Imbalance (%)",
          "value": 7.158590308370045
         },
         {
          "Test": "IR",
          "Variable": "Imbalance (%)",
          "value": 23.065902578796564
         },
         {
          "Test": "IR",
          "Variable": "Imbalance (%)",
          "value": 10.50972149238044
         },
         {
          "Test": "IR",
          "Variable": "Imbalance (%)",
          "value": 2.4409763905562096
         },
         {
          "Test": "IR",
          "Variable": "Imbalance (%)",
          "value": 29.779411764705895
         },
         {
          "Test": "IR",
          "Variable": "Imbalance (%)",
          "value": 6.547085201793721
         },
         {
          "Test": "IR",
          "Variable": "Imbalance (%)",
          "value": 6.19146722164411
         },
         {
          "Test": "IR",
          "Variable": "Imbalance (%)",
          "value": 0.27932960893854375
         },
         {
          "Test": "IR",
          "Variable": "Imbalance (%)",
          "value": 5.413385826771656
         },
         {
          "Test": "IR",
          "Variable": "Imbalance (%)",
          "value": 8.446251129177975
         },
         {
          "Test": "IR",
          "Variable": "Imbalance (%)",
          "value": 2.7846027846027814
         },
         {
          "Test": "IR",
          "Variable": "Imbalance (%)",
          "value": 2.1986970684039133
         },
         {
          "Test": "IR",
          "Variable": "Imbalance (%)",
          "value": 1.4311270125223599
         },
         {
          "Test": "IR",
          "Variable": "Imbalance (%)",
          "value": 11.57289002557544
         },
         {
          "Test": "IR",
          "Variable": "Imbalance (%)",
          "value": 13.9937106918239
         },
         {
          "Test": "IR",
          "Variable": "Imbalance (%)",
          "value": 0
         },
         {
          "Test": "IR",
          "Variable": "Imbalance (%)",
          "value": 17.2291296625222
         },
         {
          "Test": "IR",
          "Variable": "Imbalance (%)",
          "value": 9.879592466810744
         },
         {
          "Test": "IR",
          "Variable": "Imbalance (%)",
          "value": 4.086425551902309
         },
         {
          "Test": "IR",
          "Variable": "Imbalance (%)",
          "value": 9.56552207428169
         },
         {
          "Test": "IR",
          "Variable": "Imbalance (%)",
          "value": 14.764737696051908
         },
         {
          "Test": "IR",
          "Variable": "Imbalance (%)",
          "value": 11.90476190476191
         },
         {
          "Test": "IR",
          "Variable": "Imbalance (%)",
          "value": 3.7952846463484615
         },
         {
          "Test": "IR",
          "Variable": "Imbalance (%)",
          "value": 22.592592592592588
         },
         {
          "Test": "IR",
          "Variable": "Imbalance (%)",
          "value": 11.394557823129244
         },
         {
          "Test": "IR",
          "Variable": "Imbalance (%)",
          "value": 2.2636484687083978
         },
         {
          "Test": "IR",
          "Variable": "Imbalance (%)",
          "value": 13.849878934624707
         },
         {
          "Test": "IR",
          "Variable": "Imbalance (%)",
          "value": 10.815450643776837
         },
         {
          "Test": "IR",
          "Variable": "Imbalance (%)",
          "value": 16.721932733301756
         },
         {
          "Test": "IR",
          "Variable": "Imbalance (%)",
          "value": 15.56756756756757
         },
         {
          "Test": "IR",
          "Variable": "Imbalance (%)",
          "value": 13.156469951272335
         },
         {
          "Test": "IR",
          "Variable": "Imbalance (%)",
          "value": 7.230693556320696
         },
         {
          "Test": "IR",
          "Variable": "Imbalance (%)",
          "value": 10.6652205350687
         },
         {
          "Test": "IR",
          "Variable": "Imbalance (%)",
          "value": 6.9182389937106805
         },
         {
          "Test": "IR",
          "Variable": "Imbalance (%)",
          "value": 4.24555364314399
         },
         {
          "Test": "IR",
          "Variable": "Imbalance (%)",
          "value": 6.3621533442088065
         },
         {
          "Test": "IR",
          "Variable": "Imbalance (%)",
          "value": 5.010020040080159
         },
         {
          "Test": "IR",
          "Variable": "Imbalance (%)",
          "value": 3.6087369420702715
         },
         {
          "Test": "IR",
          "Variable": "Imbalance (%)",
          "value": 0.03710575139146887
         },
         {
          "Test": "IR",
          "Variable": "Imbalance (%)",
          "value": 2.382528127068164
         },
         {
          "Test": "IR",
          "Variable": "Imbalance (%)",
          "value": 9.0128755364807
         },
         {
          "Test": "IR",
          "Variable": "Imbalance (%)",
          "value": 13.814274750575606
         },
         {
          "Test": "IR",
          "Variable": "Imbalance (%)",
          "value": 9.786700125470503
         },
         {
          "Test": "IR",
          "Variable": "Imbalance (%)",
          "value": 9.92145514675486
         },
         {
          "Test": "IR",
          "Variable": "Imbalance (%)",
          "value": 2.716914986853627
         },
         {
          "Test": "IR",
          "Variable": "Imbalance (%)",
          "value": 0
         },
         {
          "Test": "IR",
          "Variable": "Imbalance (%)",
          "value": 7.701283547257868
         },
         {
          "Test": "EXT",
          "Variable": "Imbalance (%)",
          "value": 18.03180318031801
         },
         {
          "Test": "EXT",
          "Variable": "Imbalance (%)",
          "value": 16.41233766233767
         },
         {
          "Test": "EXT",
          "Variable": "Imbalance (%)",
          "value": 19.77321048901488
         },
         {
          "Test": "EXT",
          "Variable": "Imbalance (%)",
          "value": 98.55647780584627
         },
         {
          "Test": "EXT",
          "Variable": "Imbalance (%)",
          "value": 19.406227371469953
         },
         {
          "Test": "EXT",
          "Variable": "Imbalance (%)",
          "value": 37.980456026058626
         },
         {
          "Test": "EXT",
          "Variable": "Imbalance (%)",
          "value": 20.021074815595366
         },
         {
          "Test": "EXT",
          "Variable": "Imbalance (%)",
          "value": 25.678358702845806
         },
         {
          "Test": "EXT",
          "Variable": "Imbalance (%)",
          "value": 16.61863592699328
         },
         {
          "Test": "EXT",
          "Variable": "Imbalance (%)",
          "value": 18.634552698297703
         },
         {
          "Test": "EXT",
          "Variable": "Imbalance (%)",
          "value": 12.816600549282878
         },
         {
          "Test": "EXT",
          "Variable": "Imbalance (%)",
          "value": 8.856001879257686
         },
         {
          "Test": "EXT",
          "Variable": "Imbalance (%)",
          "value": 27.8507619548082
         },
         {
          "Test": "EXT",
          "Variable": "Imbalance (%)",
          "value": 28.30188679245283
         },
         {
          "Test": "EXT",
          "Variable": "Imbalance (%)",
          "value": 36.93906471421823
         },
         {
          "Test": "EXT",
          "Variable": "Imbalance (%)",
          "value": 11.906400550584976
         },
         {
          "Test": "EXT",
          "Variable": "Imbalance (%)",
          "value": 10.536093418259023
         },
         {
          "Test": "EXT",
          "Variable": "Imbalance (%)",
          "value": 35.578045932269376
         },
         {
          "Test": "EXT",
          "Variable": "Imbalance (%)",
          "value": 26.77217276623805
         },
         {
          "Test": "EXT",
          "Variable": "Imbalance (%)",
          "value": 11.988993710691814
         },
         {
          "Test": "EXT",
          "Variable": "Imbalance (%)",
          "value": 35.56378132118449
         },
         {
          "Test": "EXT",
          "Variable": "Imbalance (%)",
          "value": 8.30313014827017
         },
         {
          "Test": "EXT",
          "Variable": "Imbalance (%)",
          "value": 6.220095693779906
         },
         {
          "Test": "EXT",
          "Variable": "Imbalance (%)",
          "value": 68.2375726275016
         },
         {
          "Test": "EXT",
          "Variable": "Imbalance (%)",
          "value": 55.046583850931654
         },
         {
          "Test": "EXT",
          "Variable": "Imbalance (%)",
          "value": 42.20615964802011
         },
         {
          "Test": "EXT",
          "Variable": "Imbalance (%)",
          "value": 2.407407407407408
         },
         {
          "Test": "EXT",
          "Variable": "Imbalance (%)",
          "value": 27.25569778332813
         },
         {
          "Test": "EXT",
          "Variable": "Imbalance (%)",
          "value": 2.03252032520325
         },
         {
          "Test": "EXT",
          "Variable": "Imbalance (%)",
          "value": 17.94181034482758
         },
         {
          "Test": "EXT",
          "Variable": "Imbalance (%)",
          "value": 22.386144964720977
         },
         {
          "Test": "EXT",
          "Variable": "Imbalance (%)",
          "value": 17.241379310344833
         },
         {
          "Test": "EXT",
          "Variable": "Imbalance (%)",
          "value": 12.068965517241374
         },
         {
          "Test": "EXT",
          "Variable": "Imbalance (%)",
          "value": 4.3046357615893935
         },
         {
          "Test": "EXT",
          "Variable": "Imbalance (%)",
          "value": 18.061674008810574
         },
         {
          "Test": "EXT",
          "Variable": "Imbalance (%)",
          "value": 35.23809523809523
         },
         {
          "Test": "EXT",
          "Variable": "Imbalance (%)",
          "value": 99.26470588235293
         },
         {
          "Test": "EXT",
          "Variable": "Imbalance (%)",
          "value": 21.568627450980387
         },
         {
          "Test": "EXT",
          "Variable": "Imbalance (%)",
          "value": 25.85551330798479
         },
         {
          "Test": "EXT",
          "Variable": "Imbalance (%)",
          "value": 17.599999999999994
         },
         {
          "Test": "EXT",
          "Variable": "Imbalance (%)",
          "value": 38.95612708018154
         },
         {
          "Test": "EXT",
          "Variable": "Imbalance (%)",
          "value": 3.483792790063621
         },
         {
          "Test": "EXT",
          "Variable": "Imbalance (%)",
          "value": 13.004826009652023
         },
         {
          "Test": "EXT",
          "Variable": "Imbalance (%)",
          "value": 12.760416666666677
         },
         {
          "Test": "EXT",
          "Variable": "Imbalance (%)",
          "value": 10.337640683618176
         },
         {
          "Test": "EXT",
          "Variable": "Imbalance (%)",
          "value": 5.859872611464969
         },
         {
          "Test": "EXT",
          "Variable": "Imbalance (%)",
          "value": 17.488411293721033
         },
         {
          "Test": "EXT",
          "Variable": "Imbalance (%)",
          "value": 9.533771667662878
         },
         {
          "Test": "EXT",
          "Variable": "Imbalance (%)",
          "value": 17.728337236533946
         },
         {
          "Test": "EXT",
          "Variable": "Imbalance (%)",
          "value": 24.048913043478258
         },
         {
          "Test": "EXT",
          "Variable": "Imbalance (%)",
          "value": 1.5975103734439764
         },
         {
          "Test": "EXT",
          "Variable": "Imbalance (%)",
          "value": 20.772121626238484
         },
         {
          "Test": "EXT",
          "Variable": "Imbalance (%)",
          "value": 30.25798735691098
         },
         {
          "Test": "EXT",
          "Variable": "Imbalance (%)",
          "value": 5.742259857105069
         },
         {
          "Test": "EXT",
          "Variable": "Imbalance (%)",
          "value": 28.699918233851186
         },
         {
          "Test": "EXT",
          "Variable": "Imbalance (%)",
          "value": 14.154652686762779
         },
         {
          "Test": "EXT",
          "Variable": "Imbalance (%)",
          "value": 37.956204379562045
         },
         {
          "Test": "EXT",
          "Variable": "Imbalance (%)",
          "value": 45.69573807507762
         },
         {
          "Test": "EXT",
          "Variable": "Imbalance (%)",
          "value": 18.387681159420293
         },
         {
          "Test": "EXT",
          "Variable": "Imbalance (%)",
          "value": 6.814310051107329
         },
         {
          "Test": "EXT",
          "Variable": "Imbalance (%)",
          "value": 12.651544779037932
         },
         {
          "Test": "EXT",
          "Variable": "Imbalance (%)",
          "value": 21.7452169855343
         },
         {
          "Test": "EXT",
          "Variable": "Imbalance (%)",
          "value": 12.36293859649122
         },
         {
          "Test": "EXT",
          "Variable": "Imbalance (%)",
          "value": 22.443890274314207
         },
         {
          "Test": "EXT",
          "Variable": "Imbalance (%)",
          "value": 6.6770186335403645
         },
         {
          "Test": "EXT",
          "Variable": "Imbalance (%)",
          "value": 10.680824484697046
         },
         {
          "Test": "EXT",
          "Variable": "Imbalance (%)",
          "value": 22.368128199421307
         },
         {
          "Test": "EXT",
          "Variable": "Imbalance (%)",
          "value": 27.511244377811085
         },
         {
          "Test": "EXT",
          "Variable": "Imbalance (%)",
          "value": 10.480480480480482
         },
         {
          "Test": "EXT",
          "Variable": "Imbalance (%)",
          "value": 29.736211031175063
         },
         {
          "Test": "EXT",
          "Variable": "Imbalance (%)",
          "value": 26.65105386416861
         },
         {
          "Test": "EXT",
          "Variable": "Imbalance (%)",
          "value": 40.85414987912975
         },
         {
          "Test": "EXT",
          "Variable": "Imbalance (%)",
          "value": 33.187006145741854
         },
         {
          "Test": "EXT",
          "Variable": "Imbalance (%)",
          "value": 9.737827715355799
         },
         {
          "Test": "EXT",
          "Variable": "Imbalance (%)",
          "value": 7.178043631245615
         },
         {
          "Test": "EXT",
          "Variable": "Imbalance (%)",
          "value": 9.086651053864166
         },
         {
          "Test": "EXT",
          "Variable": "Imbalance (%)",
          "value": 2.757817051854723
         },
         {
          "Test": "EXT",
          "Variable": "Imbalance (%)",
          "value": 11.920792079207924
         },
         {
          "Test": "EXT",
          "Variable": "Imbalance (%)",
          "value": 13.60968451944241
         },
         {
          "Test": "EXT",
          "Variable": "Imbalance (%)",
          "value": 29.071867100036126
         },
         {
          "Test": "EXT",
          "Variable": "Imbalance (%)",
          "value": 18.272095332671302
         },
         {
          "Test": "EXT",
          "Variable": "Imbalance (%)",
          "value": 14.680198253481233
         },
         {
          "Test": "EXT",
          "Variable": "Imbalance (%)",
          "value": 40.685224839400426
         },
         {
          "Test": "EXT",
          "Variable": "Imbalance (%)",
          "value": 83.51874742480427
         },
         {
          "Test": "EXT",
          "Variable": "Imbalance (%)",
          "value": 24.442025040827424
         },
         {
          "Test": "EXT",
          "Variable": "Imbalance (%)",
          "value": 4.641947353523922
         },
         {
          "Test": "EXT",
          "Variable": "Imbalance (%)",
          "value": 100.12285012285014
         },
         {
          "Test": "EXT",
          "Variable": "Imbalance (%)",
          "value": 30.642890661661188
         },
         {
          "Test": "EXT",
          "Variable": "Imbalance (%)",
          "value": 3.0282861896838655
         },
         {
          "Test": "EXT",
          "Variable": "Imbalance (%)",
          "value": 22.15822976659594
         },
         {
          "Test": "EXT",
          "Variable": "Imbalance (%)",
          "value": 6.256718985164479
         },
         {
          "Test": "EXT",
          "Variable": "Imbalance (%)",
          "value": 9.560293137908058
         },
         {
          "Test": "FLEX",
          "Variable": "Imbalance (%)",
          "value": 20.218579234972676
         },
         {
          "Test": "FLEX",
          "Variable": "Imbalance (%)",
          "value": 21.232439335887612
         },
         {
          "Test": "FLEX",
          "Variable": "Imbalance (%)",
          "value": 2.630919569030317
         },
         {
          "Test": "FLEX",
          "Variable": "Imbalance (%)",
          "value": 4.67091295116773
         },
         {
          "Test": "FLEX",
          "Variable": "Imbalance (%)",
          "value": 3.5646687697160977
         },
         {
          "Test": "FLEX",
          "Variable": "Imbalance (%)",
          "value": 0.19900497512437787
         },
         {
          "Test": "FLEX",
          "Variable": "Imbalance (%)",
          "value": 33.596525858665615
         },
         {
          "Test": "FLEX",
          "Variable": "Imbalance (%)",
          "value": 30.457592538618485
         },
         {
          "Test": "FLEX",
          "Variable": "Imbalance (%)",
          "value": 2.9904974846282877
         },
         {
          "Test": "FLEX",
          "Variable": "Imbalance (%)",
          "value": 6.612867070163646
         },
         {
          "Test": "FLEX",
          "Variable": "Imbalance (%)",
          "value": 3.1419939577039036
         },
         {
          "Test": "FLEX",
          "Variable": "Imbalance (%)",
          "value": 14.061979340219938
         },
         {
          "Test": "FLEX",
          "Variable": "Imbalance (%)",
          "value": 4.6443268665490995
         },
         {
          "Test": "FLEX",
          "Variable": "Imbalance (%)",
          "value": 1.2504465880671751
         },
         {
          "Test": "FLEX",
          "Variable": "Imbalance (%)",
          "value": 11.061337008959342
         },
         {
          "Test": "FLEX",
          "Variable": "Imbalance (%)",
          "value": 6.55683690280066
         },
         {
          "Test": "FLEX",
          "Variable": "Imbalance (%)",
          "value": 0.8672248803827665
         },
         {
          "Test": "FLEX",
          "Variable": "Imbalance (%)",
          "value": 20.4747774480712
         },
         {
          "Test": "FLEX",
          "Variable": "Imbalance (%)",
          "value": 7.218363032316541
         },
         {
          "Test": "FLEX",
          "Variable": "Imbalance (%)",
          "value": 18.291700241740514
         },
         {
          "Test": "FLEX",
          "Variable": "Imbalance (%)",
          "value": 12.38562820798928
         },
         {
          "Test": "FLEX",
          "Variable": "Imbalance (%)",
          "value": 3.449408672798948
         },
         {
          "Test": "FLEX",
          "Variable": "Imbalance (%)",
          "value": 12.07711895234632
         },
         {
          "Test": "FLEX",
          "Variable": "Imbalance (%)",
          "value": 10.133178922987836
         },
         {
          "Test": "FLEX",
          "Variable": "Imbalance (%)",
          "value": 7.490196078431374
         },
         {
          "Test": "FLEX",
          "Variable": "Imbalance (%)",
          "value": 2.344251766217096
         },
         {
          "Test": "FLEX",
          "Variable": "Imbalance (%)",
          "value": 3.4062499999999885
         },
         {
          "Test": "FLEX",
          "Variable": "Imbalance (%)",
          "value": 5.105682130112562
         },
         {
          "Test": "FLEX",
          "Variable": "Imbalance (%)",
          "value": 10.9805924412666
         },
         {
          "Test": "FLEX",
          "Variable": "Imbalance (%)",
          "value": 15.254237288135592
         },
         {
          "Test": "FLEX",
          "Variable": "Imbalance (%)",
          "value": 9.536231884057964
         },
         {
          "Test": "FLEX",
          "Variable": "Imbalance (%)",
          "value": 4.694835680751169
         },
         {
          "Test": "FLEX",
          "Variable": "Imbalance (%)",
          "value": 3.1446540880503213
         },
         {
          "Test": "FLEX",
          "Variable": "Imbalance (%)",
          "value": 4.195804195804191
         },
         {
          "Test": "FLEX",
          "Variable": "Imbalance (%)",
          "value": 11.73708920187793
         },
         {
          "Test": "FLEX",
          "Variable": "Imbalance (%)",
          "value": 18.13186813186814
         },
         {
          "Test": "FLEX",
          "Variable": "Imbalance (%)",
          "value": 27.47252747252748
         },
         {
          "Test": "FLEX",
          "Variable": "Imbalance (%)",
          "value": 22.2972972972973
         },
         {
          "Test": "FLEX",
          "Variable": "Imbalance (%)",
          "value": 9.604519774011298
         },
         {
          "Test": "FLEX",
          "Variable": "Imbalance (%)",
          "value": 19.68911917098446
         },
         {
          "Test": "FLEX",
          "Variable": "Imbalance (%)",
          "value": 15.306712962962946
         },
         {
          "Test": "FLEX",
          "Variable": "Imbalance (%)",
          "value": 3.802024746906619
         },
         {
          "Test": "FLEX",
          "Variable": "Imbalance (%)",
          "value": 7.67112509834776
         },
         {
          "Test": "FLEX",
          "Variable": "Imbalance (%)",
          "value": 10.141843971631205
         },
         {
          "Test": "FLEX",
          "Variable": "Imbalance (%)",
          "value": 16.4591977869986
         },
         {
          "Test": "FLEX",
          "Variable": "Imbalance (%)",
          "value": 1.8356643356643312
         },
         {
          "Test": "FLEX",
          "Variable": "Imbalance (%)",
          "value": 12.542182227221598
         },
         {
          "Test": "FLEX",
          "Variable": "Imbalance (%)",
          "value": 23.099415204678344
         },
         {
          "Test": "FLEX",
          "Variable": "Imbalance (%)",
          "value": 12.811484290357539
         },
         {
          "Test": "FLEX",
          "Variable": "Imbalance (%)",
          "value": 0.11173184357542862
         },
         {
          "Test": "FLEX",
          "Variable": "Imbalance (%)",
          "value": 8.491730436929162
         },
         {
          "Test": "FLEX",
          "Variable": "Imbalance (%)",
          "value": 7.493900313698154
         },
         {
          "Test": "FLEX",
          "Variable": "Imbalance (%)",
          "value": 4.019873532068654
         },
         {
          "Test": "FLEX",
          "Variable": "Imbalance (%)",
          "value": 25.21617852161785
         },
         {
          "Test": "FLEX",
          "Variable": "Imbalance (%)",
          "value": 10.575793184488829
         },
         {
          "Test": "FLEX",
          "Variable": "Imbalance (%)",
          "value": 14.899361806578302
         },
         {
          "Test": "FLEX",
          "Variable": "Imbalance (%)",
          "value": 4.760187522538761
         },
         {
          "Test": "FLEX",
          "Variable": "Imbalance (%)",
          "value": 10.638797557538766
         },
         {
          "Test": "FLEX",
          "Variable": "Imbalance (%)",
          "value": 3.330893118594417
         },
         {
          "Test": "FLEX",
          "Variable": "Imbalance (%)",
          "value": 4.262295081967227
         },
         {
          "Test": "FLEX",
          "Variable": "Imbalance (%)",
          "value": 5.503612409689771
         },
         {
          "Test": "FLEX",
          "Variable": "Imbalance (%)",
          "value": 6.102362204724406
         },
         {
          "Test": "FLEX",
          "Variable": "Imbalance (%)",
          "value": 10.47835990888381
         },
         {
          "Test": "FLEX",
          "Variable": "Imbalance (%)",
          "value": 4.61111111111112
         },
         {
          "Test": "FLEX",
          "Variable": "Imbalance (%)",
          "value": 0.5670541536716651
         },
         {
          "Test": "FLEX",
          "Variable": "Imbalance (%)",
          "value": 3.6101083032490875
         },
         {
          "Test": "FLEX",
          "Variable": "Imbalance (%)",
          "value": 3.602167676123695
         },
         {
          "Test": "FLEX",
          "Variable": "Imbalance (%)",
          "value": 2.9275362318840674
         },
         {
          "Test": "FLEX",
          "Variable": "Imbalance (%)",
          "value": 18.496240601503764
         },
         {
          "Test": "FLEX",
          "Variable": "Imbalance (%)",
          "value": 21.857344632768356
         },
         {
          "Test": "FLEX",
          "Variable": "Imbalance (%)",
          "value": 10.60606060606062
         },
         {
          "Test": "FLEX",
          "Variable": "Imbalance (%)",
          "value": 10.42769857433809
         },
         {
          "Test": "FLEX",
          "Variable": "Imbalance (%)",
          "value": 19.346140883046832
         },
         {
          "Test": "FLEX",
          "Variable": "Imbalance (%)",
          "value": 4.9264235444657825
         },
         {
          "Test": "FLEX",
          "Variable": "Imbalance (%)",
          "value": 0.8228670420095384
         },
         {
          "Test": "FLEX",
          "Variable": "Imbalance (%)",
          "value": 0.6802721088435402
         },
         {
          "Test": "FLEX",
          "Variable": "Imbalance (%)",
          "value": 3.742901393908121
         },
         {
          "Test": "FLEX",
          "Variable": "Imbalance (%)",
          "value": 9.2597117029074
         },
         {
          "Test": "FLEX",
          "Variable": "Imbalance (%)",
          "value": 3.8509316770186395
         },
         {
          "Test": "FLEX",
          "Variable": "Imbalance (%)",
          "value": 3.255425709515849
         },
         {
          "Test": "FLEX",
          "Variable": "Imbalance (%)",
          "value": 10.244360902255625
         },
         {
          "Test": "FLEX",
          "Variable": "Imbalance (%)",
          "value": 3.7772712471507606
         },
         {
          "Test": "FLEX",
          "Variable": "Imbalance (%)",
          "value": 8.216692586832558
         },
         {
          "Test": "FLEX",
          "Variable": "Imbalance (%)",
          "value": 7.724689539044416
         },
         {
          "Test": "FLEX",
          "Variable": "Imbalance (%)",
          "value": 8.183568677792028
         },
         {
          "Test": "FLEX",
          "Variable": "Imbalance (%)",
          "value": 4.740102343118785
         },
         {
          "Test": "FLEX",
          "Variable": "Imbalance (%)",
          "value": 29.989403037795846
         },
         {
          "Test": "FLEX",
          "Variable": "Imbalance (%)",
          "value": 7.966046359777998
         },
         {
          "Test": "FLEX",
          "Variable": "Imbalance (%)",
          "value": 5.14270328486806
         },
         {
          "Test": "FLEX",
          "Variable": "Imbalance (%)",
          "value": 8.539053014973696
         },
         {
          "Test": "FLEX",
          "Variable": "Imbalance (%)",
          "value": 1.3503560029462278
         },
         {
          "Test": "FLEX",
          "Variable": "Imbalance (%)",
          "value": 2.846975088967968
         }
        ]
       },
       "facet": {
        "column": {
         "field": "Test",
         "sort": [
          "ADD",
          "ABD",
          "ER",
          "IR",
          "EXT",
          "FLEX"
         ],
         "title": null,
         "type": "nominal"
        }
       },
       "spec": {
        "layer": [
         {
          "encoding": {
           "color": {
            "field": "Variable",
            "type": "nominal"
           },
           "x": {
            "field": "Variable",
            "type": "nominal"
           },
           "y": {
            "aggregate": "mean",
            "field": "value",
            "title": null,
            "type": "quantitative"
           }
          },
          "mark": {
           "color": "grey",
           "type": "bar"
          }
         },
         {
          "encoding": {
           "x": {
            "field": "Variable",
            "type": "nominal"
           },
           "y": {
            "aggregate": "ci0",
            "field": "value",
            "type": "quantitative"
           },
           "y2": {
            "aggregate": "ci1",
            "field": "value",
            "type": "quantitative"
           }
          },
          "mark": "rule"
         }
        ]
       }
      },
      "image/png": "[encoded data removed]",
      "text/plain": [
       "<VegaLite 2 object>\n",
       "\n",
       "If you see this message, it means the renderer has not been properly enabled\n",
       "for the frontend that you are using. For more information, see\n",
       "https://altair-viz.github.io/user_guide/troubleshooting.html\n"
      ]
     },
     "execution_count": 18,
     "metadata": {},
     "output_type": "execute_result"
    }
   ],
   "source": [
    "plot_bars(\n",
    "    X_augmented_melted,\n",
    "    x=\"Variable\",\n",
    "    y=\"value\",\n",
    "    color=\"Variable\",\n",
    "    column=alt.Column(\"Test\", title=None, sort=sort_tests),\n",
    ").configure_axisX(labels=False, ticks=False)"
   ]
  },
  {
   "cell_type": "code",
   "execution_count": 27,
   "metadata": {},
   "outputs": [
    {
     "data": {
      "application/vnd.vegalite.v2+json": {
       "$schema": "https://vega.github.io/schema/vega-lite/v2.6.0.json",
       "config": {
        "view": {
         "height": 300,
         "width": 400
        }
       },
       "data": {
        "name": "data-dd3b4b41498b48fadd3977c09e2e5def"
       },
       "datasets": {
        "data-dd3b4b41498b48fadd3977c09e2e5def": [
         {
          "ECDF": 0.7282608695652174,
          "Test": "ADD",
          "Variable": "Force (kg)",
          "value": 29.156098553220925
         },
         {
          "ECDF": 0.8043478260869565,
          "Test": "ADD",
          "Variable": "Force (kg)",
          "value": 30.34312303198213
         },
         {
          "ECDF": 0.4891304347826087,
          "Test": "ADD",
          "Variable": "Force (kg)",
          "value": 26.03853089311459
         },
         {
          "ECDF": 0.25,
          "Test": "ADD",
          "Variable": "Force (kg)",
          "value": 22.44692020107112
         },
         {
          "ECDF": 0.7608695652173914,
          "Test": "ADD",
          "Variable": "Force (kg)",
          "value": 29.438772617089526
         },
         {
          "ECDF": 0.9347826086956522,
          "Test": "ADD",
          "Variable": "Force (kg)",
          "value": 32.95107033639144
         },
         {
          "ECDF": 0.05434782608695652,
          "Test": "ADD",
          "Variable": "Force (kg)",
          "value": 18.563165483933933
         },
         {
          "ECDF": 0.6739130434782609,
          "Test": "ADD",
          "Variable": "Force (kg)",
          "value": 27.69810397553517
         },
         {
          "ECDF": 0.5978260869565217,
          "Test": "ADD",
          "Variable": "Force (kg)",
          "value": 27.1474279019382
         },
         {
          "ECDF": 0.9456521739130435,
          "Test": "ADD",
          "Variable": "Force (kg)",
          "value": 32.97130327040796
         },
         {
          "ECDF": 0.16304347826086957,
          "Test": "ADD",
          "Variable": "Force (kg)",
          "value": 21.383271678207116
         },
         {
          "ECDF": 0.2391304347826087,
          "Test": "ADD",
          "Variable": "Force (kg)",
          "value": 22.350101925186426
         },
         {
          "ECDF": 0.043478260869565216,
          "Test": "ADD",
          "Variable": "Force (kg)",
          "value": 18.41309016854974
         },
         {
          "ECDF": 0.07608695652173914,
          "Test": "ADD",
          "Variable": "Force (kg)",
          "value": 19.132713434231285
         },
         {
          "ECDF": 0.782608695652174,
          "Test": "ADD",
          "Variable": "Force (kg)",
          "value": 30.15442697755712
         },
         {
          "ECDF": 0.20652173913043478,
          "Test": "ADD",
          "Variable": "Force (kg)",
          "value": 21.69017635579584
         },
         {
          "ECDF": 0.717391304347826,
          "Test": "ADD",
          "Variable": "Force (kg)",
          "value": 28.825498009544187
         },
         {
          "ECDF": 0.5,
          "Test": "ADD",
          "Variable": "Force (kg)",
          "value": 26.066428199718015
         },
         {
          "ECDF": 0.3695652173913043,
          "Test": "ADD",
          "Variable": "Force (kg)",
          "value": 24.779797122185272
         },
         {
          "ECDF": 0.5434782608695652,
          "Test": "ADD",
          "Variable": "Force (kg)",
          "value": 26.424153624232193
         },
         {
          "ECDF": 0.30434782608695654,
          "Test": "ADD",
          "Variable": "Force (kg)",
          "value": 23.68332145842505
         },
         {
          "ECDF": 0.7934782608695652,
          "Test": "ADD",
          "Variable": "Force (kg)",
          "value": 30.338406029014568
         },
         {
          "ECDF": 0.14130434782608695,
          "Test": "ADD",
          "Variable": "Force (kg)",
          "value": 21.193321013672566
         },
         {
          "ECDF": 0.021739130434782608,
          "Test": "ADD",
          "Variable": "Force (kg)",
          "value": 16.565037065729665
         },
         {
          "ECDF": 0.15217391304347827,
          "Test": "ADD",
          "Variable": "Force (kg)",
          "value": 21.30242335507278
         },
         {
          "ECDF": 0.4673913043478261,
          "Test": "ADD",
          "Variable": "Force (kg)",
          "value": 25.650999577878398
         },
         {
          "ECDF": 0.391304347826087,
          "Test": "ADD",
          "Variable": "Force (kg)",
          "value": 24.970517381264433
         },
         {
          "ECDF": 0.18478260869565216,
          "Test": "ADD",
          "Variable": "Force (kg)",
          "value": 21.481695788445187
         },
         {
          "ECDF": 0.03260869565217391,
          "Test": "ADD",
          "Variable": "Force (kg)",
          "value": 17.580710760772362
         },
         {
          "ECDF": 0.31521739130434784,
          "Test": "ADD",
          "Variable": "Force (kg)",
          "value": 24.070779571499262
         },
         {
          "ECDF": 0.5108695652173914,
          "Test": "ADD",
          "Variable": "Force (kg)",
          "value": 26.169691519592806
         },
         {
          "ECDF": 0.9891304347826086,
          "Test": "ADD",
          "Variable": "Force (kg)",
          "value": 37.92869897173819
         },
         {
          "ECDF": 0.8586956521739131,
          "Test": "ADD",
          "Variable": "Force (kg)",
          "value": 30.625742936389404
         },
         {
          "ECDF": 1,
          "Test": "ADD",
          "Variable": "Force (kg)",
          "value": 40.969464603587554
         },
         {
          "ECDF": 0.43478260869565216,
          "Test": "ADD",
          "Variable": "Force (kg)",
          "value": 25.328730794553252
         },
         {
          "ECDF": 0.7391304347826086,
          "Test": "ADD",
          "Variable": "Force (kg)",
          "value": 29.194130005888496
         },
         {
          "ECDF": 0.8478260869565217,
          "Test": "ADD",
          "Variable": "Force (kg)",
          "value": 30.570184588716394
         },
         {
          "ECDF": 0.45652173913043476,
          "Test": "ADD",
          "Variable": "Force (kg)",
          "value": 25.45810397553517
         },
         {
          "ECDF": 0.3804347826086957,
          "Test": "ADD",
          "Variable": "Force (kg)",
          "value": 24.95412844036697
         },
         {
          "ECDF": 0.42391304347826086,
          "Test": "ADD",
          "Variable": "Force (kg)",
          "value": 25.20619034380502
         },
         {
          "ECDF": 0.21739130434782608,
          "Test": "ADD",
          "Variable": "Force (kg)",
          "value": 21.738610913654117
         },
         {
          "ECDF": 0.8369565217391305,
          "Test": "ADD",
          "Variable": "Force (kg)",
          "value": 30.544490998927902
         },
         {
          "ECDF": 0.17391304347826086,
          "Test": "ADD",
          "Variable": "Force (kg)",
          "value": 21.425466477972826
         },
         {
          "ECDF": 0.6304347826086957,
          "Test": "ADD",
          "Variable": "Force (kg)",
          "value": 27.33225333166828
         },
         {
          "ECDF": 0.10869565217391304,
          "Test": "ADD",
          "Variable": "Force (kg)",
          "value": 20.453731624934466
         },
         {
          "ECDF": 0.9130434782608695,
          "Test": "ADD",
          "Variable": "Force (kg)",
          "value": 31.757272933676045
         },
         {
          "ECDF": 0.532608695652174,
          "Test": "ADD",
          "Variable": "Force (kg)",
          "value": 26.373058153220367
         },
         {
          "ECDF": 0.6521739130434783,
          "Test": "ADD",
          "Variable": "Force (kg)",
          "value": 27.478132714343612
         },
         {
          "ECDF": 0.32608695652173914,
          "Test": "ADD",
          "Variable": "Force (kg)",
          "value": 24.31840767358461
         },
         {
          "ECDF": 0.010869565217391304,
          "Test": "ADD",
          "Variable": "Force (kg)",
          "value": 12.416447558971004
         },
         {
          "ECDF": 0.9565217391304348,
          "Test": "ADD",
          "Variable": "Force (kg)",
          "value": 33.29699963317724
         },
         {
          "ECDF": 0.13043478260869565,
          "Test": "ADD",
          "Variable": "Force (kg)",
          "value": 21.041852090444845
         },
         {
          "ECDF": 0.8913043478260869,
          "Test": "ADD",
          "Variable": "Force (kg)",
          "value": 31.233175833952195
         },
         {
          "ECDF": 0.8152173913043478,
          "Test": "ADD",
          "Variable": "Force (kg)",
          "value": 30.360943883081895
         },
         {
          "ECDF": 0.8260869565217391,
          "Test": "ADD",
          "Variable": "Force (kg)",
          "value": 30.458541622373666
         },
         {
          "ECDF": 0.5652173913043478,
          "Test": "ADD",
          "Variable": "Force (kg)",
          "value": 26.69847717316027
         },
         {
          "ECDF": 0.5217391304347826,
          "Test": "ADD",
          "Variable": "Force (kg)",
          "value": 26.32229220323132
         },
         {
          "ECDF": 0.44565217391304346,
          "Test": "ADD",
          "Variable": "Force (kg)",
          "value": 25.409470654794568
         },
         {
          "ECDF": 0.22826086956521738,
          "Test": "ADD",
          "Variable": "Force (kg)",
          "value": 21.780416590941506
         },
         {
          "ECDF": 0.9782608695652174,
          "Test": "ADD",
          "Variable": "Force (kg)",
          "value": 35.47620509707389
         },
         {
          "ECDF": 0.7717391304347826,
          "Test": "ADD",
          "Variable": "Force (kg)",
          "value": 30.045993807764948
         },
         {
          "ECDF": 0.1956521739130435,
          "Test": "ADD",
          "Variable": "Force (kg)",
          "value": 21.494218761672727
         },
         {
          "ECDF": 0.967391304347826,
          "Test": "ADD",
          "Variable": "Force (kg)",
          "value": 33.31115346392533
         },
         {
          "ECDF": 0.2826086956521739,
          "Test": "ADD",
          "Variable": "Force (kg)",
          "value": 23.249212847455823
         },
         {
          "ECDF": 0.6956521739130435,
          "Test": "ADD",
          "Variable": "Force (kg)",
          "value": 28.096151876587328
         },
         {
          "ECDF": 0.6195652173913043,
          "Test": "ADD",
          "Variable": "Force (kg)",
          "value": 27.26260955167557
         },
         {
          "ECDF": 0.75,
          "Test": "ADD",
          "Variable": "Force (kg)",
          "value": 29.21393613412802
         },
         {
          "ECDF": 0.358695652173913,
          "Test": "ADD",
          "Variable": "Force (kg)",
          "value": 24.64791732138868
         },
         {
          "ECDF": 0.8804347826086957,
          "Test": "ADD",
          "Variable": "Force (kg)",
          "value": 31.076015428859687
         },
         {
          "ECDF": 0.6847826086956522,
          "Test": "ADD",
          "Variable": "Force (kg)",
          "value": 27.84636099060515
         },
         {
          "ECDF": 0.41304347826086957,
          "Test": "ADD",
          "Variable": "Force (kg)",
          "value": 25.204674729081294
         },
         {
          "ECDF": 0.2608695652173913,
          "Test": "ADD",
          "Variable": "Force (kg)",
          "value": 22.82960968217562
         },
         {
          "ECDF": 0.5543478260869565,
          "Test": "ADD",
          "Variable": "Force (kg)",
          "value": 26.444083373261364
         },
         {
          "ECDF": 0.5760869565217391,
          "Test": "ADD",
          "Variable": "Force (kg)",
          "value": 27.040139725568938
         },
         {
          "ECDF": 0.7065217391304348,
          "Test": "ADD",
          "Variable": "Force (kg)",
          "value": 28.250143177668015
         },
         {
          "ECDF": 0.40217391304347827,
          "Test": "ADD",
          "Variable": "Force (kg)",
          "value": 25.161405769756755
         },
         {
          "ECDF": 0.34782608695652173,
          "Test": "ADD",
          "Variable": "Force (kg)",
          "value": 24.636808131506797
         },
         {
          "ECDF": 0.8695652173913043,
          "Test": "ADD",
          "Variable": "Force (kg)",
          "value": 30.947300655154553
         },
         {
          "ECDF": 0.33695652173913043,
          "Test": "ADD",
          "Variable": "Force (kg)",
          "value": 24.42150839891841
         },
         {
          "ECDF": 0.09782608695652174,
          "Test": "ADD",
          "Variable": "Force (kg)",
          "value": 20.356773692649064
         },
         {
          "ECDF": 0.29347826086956524,
          "Test": "ADD",
          "Variable": "Force (kg)",
          "value": 23.493793418625945
         },
         {
          "ECDF": 0.2717391304347826,
          "Test": "ADD",
          "Variable": "Force (kg)",
          "value": 22.834208658961625
         },
         {
          "ECDF": 0.6630434782608695,
          "Test": "ADD",
          "Variable": "Force (kg)",
          "value": 27.637180190329023
         },
         {
          "ECDF": 0.9239130434782609,
          "Test": "ADD",
          "Variable": "Force (kg)",
          "value": 32.32907506537181
         },
         {
          "ECDF": 0.06521739130434782,
          "Test": "ADD",
          "Variable": "Force (kg)",
          "value": 19.010974080196196
         },
         {
          "ECDF": 0.5869565217391305,
          "Test": "ADD",
          "Variable": "Force (kg)",
          "value": 27.06213269136472
         },
         {
          "ECDF": 0.11956521739130435,
          "Test": "ADD",
          "Variable": "Force (kg)",
          "value": 20.764705882352942
         },
         {
          "ECDF": 0.6086956521739131,
          "Test": "ADD",
          "Variable": "Force (kg)",
          "value": 27.156222698480406
         },
         {
          "ECDF": 0.4782608695652174,
          "Test": "ADD",
          "Variable": "Force (kg)",
          "value": 25.9771771513385
         },
         {
          "ECDF": 0.08695652173913043,
          "Test": "ADD",
          "Variable": "Force (kg)",
          "value": 19.51322316491798
         },
         {
          "ECDF": 0.9021739130434783,
          "Test": "ADD",
          "Variable": "Force (kg)",
          "value": 31.622188328174882
         },
         {
          "ECDF": 0.6413043478260869,
          "Test": "ADD",
          "Variable": "Force (kg)",
          "value": 27.379761429194136
         },
         {
          "ECDF": 0.21739130434782608,
          "Test": "ABD",
          "Variable": "Force (kg)",
          "value": 19.616311732879456
         },
         {
          "ECDF": 0.45652173913043476,
          "Test": "ABD",
          "Variable": "Force (kg)",
          "value": 22.701975233251297
         },
         {
          "ECDF": 0.5652173913043478,
          "Test": "ABD",
          "Variable": "Force (kg)",
          "value": 23.807335084874218
         },
         {
          "ECDF": 0.06521739130434782,
          "Test": "ABD",
          "Variable": "Force (kg)",
          "value": 15.309102280140706
         },
         {
          "ECDF": 0.6413043478260869,
          "Test": "ABD",
          "Variable": "Force (kg)",
          "value": 24.662123251848925
         },
         {
          "ECDF": 1,
          "Test": "ABD",
          "Variable": "Force (kg)",
          "value": 35.0538867992437
         },
         {
          "ECDF": 0.043478260869565216,
          "Test": "ABD",
          "Variable": "Force (kg)",
          "value": 15.239043916002718
         },
         {
          "ECDF": 0.16304347826086957,
          "Test": "ABD",
          "Variable": "Force (kg)",
          "value": 18.647113910931136
         },
         {
          "ECDF": 0.5869565217391305,
          "Test": "ABD",
          "Variable": "Force (kg)",
          "value": 24.16479907918345
         },
         {
          "ECDF": 0.9891304347826086,
          "Test": "ABD",
          "Variable": "Force (kg)",
          "value": 32.01576592201604
         },
         {
          "ECDF": 0.5434782608695652,
          "Test": "ABD",
          "Variable": "Force (kg)",
          "value": 23.507288751809465
         },
         {
          "ECDF": 0.05434782608695652,
          "Test": "ABD",
          "Variable": "Force (kg)",
          "value": 15.243200734699043
         },
         {
          "ECDF": 0.03260869565217391,
          "Test": "ABD",
          "Variable": "Force (kg)",
          "value": 13.833588222065568
         },
         {
          "ECDF": 0.32608695652173914,
          "Test": "ABD",
          "Variable": "Force (kg)",
          "value": 21.091815274986185
         },
         {
          "ECDF": 0.9347826086956522,
          "Test": "ABD",
          "Variable": "Force (kg)",
          "value": 29.93703505698011
         },
         {
          "ECDF": 0.30434782608695654,
          "Test": "ABD",
          "Variable": "Force (kg)",
          "value": 20.759277737858998
         },
         {
          "ECDF": 0.782608695652174,
          "Test": "ABD",
          "Variable": "Force (kg)",
          "value": 26.346749754030647
         },
         {
          "ECDF": 0.34782608695652173,
          "Test": "ABD",
          "Variable": "Force (kg)",
          "value": 21.379774739566276
         },
         {
          "ECDF": 0.29347826086956524,
          "Test": "ABD",
          "Variable": "Force (kg)",
          "value": 20.718324899879704
         },
         {
          "ECDF": 0.4782608695652174,
          "Test": "ABD",
          "Variable": "Force (kg)",
          "value": 22.79520138158205
         },
         {
          "ECDF": 0.2608695652173913,
          "Test": "ABD",
          "Variable": "Force (kg)",
          "value": 20.273834069031043
         },
         {
          "ECDF": 0.22826086956521738,
          "Test": "ABD",
          "Variable": "Force (kg)",
          "value": 19.763640123942956
         },
         {
          "ECDF": 0.25,
          "Test": "ABD",
          "Variable": "Force (kg)",
          "value": 20.1156058025642
         },
         {
          "ECDF": 0.5217391304347826,
          "Test": "ABD",
          "Variable": "Force (kg)",
          "value": 23.20561258602945
         },
         {
          "ECDF": 0.07608695652173914,
          "Test": "ABD",
          "Variable": "Force (kg)",
          "value": 15.543496224177744
         },
         {
          "ECDF": 0.8695652173913043,
          "Test": "ABD",
          "Variable": "Force (kg)",
          "value": 27.525058873384644
         },
         {
          "ECDF": 0.7717391304347826,
          "Test": "ABD",
          "Variable": "Force (kg)",
          "value": 26.31329826596887
         },
         {
          "ECDF": 0.31521739130434784,
          "Test": "ABD",
          "Variable": "Force (kg)",
          "value": 20.93996811360393
         },
         {
          "ECDF": 0.010869565217391304,
          "Test": "ABD",
          "Variable": "Force (kg)",
          "value": 11.408537559772341
         },
         {
          "ECDF": 0.08695652173913043,
          "Test": "ABD",
          "Variable": "Force (kg)",
          "value": 16.380964155383513
         },
         {
          "ECDF": 0.3695652173913043,
          "Test": "ABD",
          "Variable": "Force (kg)",
          "value": 21.458936408981327
         },
         {
          "ECDF": 0.9565217391304348,
          "Test": "ABD",
          "Variable": "Force (kg)",
          "value": 30.47689063832177
         },
         {
          "ECDF": 0.9130434782608695,
          "Test": "ABD",
          "Variable": "Force (kg)",
          "value": 28.797055560066035
         },
         {
          "ECDF": 0.967391304347826,
          "Test": "ABD",
          "Variable": "Force (kg)",
          "value": 31.39123873068827
         },
         {
          "ECDF": 0.7391304347826086,
          "Test": "ABD",
          "Variable": "Force (kg)",
          "value": 26.130725020526185
         },
         {
          "ECDF": 0.6847826086956522,
          "Test": "ABD",
          "Variable": "Force (kg)",
          "value": 25.221017514595495
         },
         {
          "ECDF": 0.6739130434782609,
          "Test": "ABD",
          "Variable": "Force (kg)",
          "value": 25.06982256366906
         },
         {
          "ECDF": 0.6956521739130435,
          "Test": "ABD",
          "Variable": "Force (kg)",
          "value": 25.527654925659238
         },
         {
          "ECDF": 0.6521739130434783,
          "Test": "ABD",
          "Variable": "Force (kg)",
          "value": 24.865894620744974
         },
         {
          "ECDF": 0.7282608695652174,
          "Test": "ABD",
          "Variable": "Force (kg)",
          "value": 26.108513110976254
         },
         {
          "ECDF": 0.17391304347826086,
          "Test": "ABD",
          "Variable": "Force (kg)",
          "value": 19.17935597061296
         },
         {
          "ECDF": 0.9021739130434783,
          "Test": "ABD",
          "Variable": "Force (kg)",
          "value": 28.74718193579552
         },
         {
          "ECDF": 0.09782608695652174,
          "Test": "ABD",
          "Variable": "Force (kg)",
          "value": 16.49246688314061
         },
         {
          "ECDF": 0.6195652173913043,
          "Test": "ABD",
          "Variable": "Force (kg)",
          "value": 24.45297014486577
         },
         {
          "ECDF": 0.15217391304347827,
          "Test": "ABD",
          "Variable": "Force (kg)",
          "value": 17.86676444278017
         },
         {
          "ECDF": 0.8804347826086957,
          "Test": "ABD",
          "Variable": "Force (kg)",
          "value": 27.85088486196101
         },
         {
          "ECDF": 0.3804347826086957,
          "Test": "ABD",
          "Variable": "Force (kg)",
          "value": 21.466009673409015
         },
         {
          "ECDF": 0.7065217391304348,
          "Test": "ABD",
          "Variable": "Force (kg)",
          "value": 25.597295351347075
         },
         {
          "ECDF": 0.8478260869565217,
          "Test": "ABD",
          "Variable": "Force (kg)",
          "value": 27.099312472900873
         },
         {
          "ECDF": 0.021739130434782608,
          "Test": "ABD",
          "Variable": "Force (kg)",
          "value": 13.527161041908863
         },
         {
          "ECDF": 0.7934782608695652,
          "Test": "ABD",
          "Variable": "Force (kg)",
          "value": 26.602926628061727
         },
         {
          "ECDF": 0.5760869565217391,
          "Test": "ABD",
          "Variable": "Force (kg)",
          "value": 23.955521858515365
         },
         {
          "ECDF": 0.9782608695652174,
          "Test": "ABD",
          "Variable": "Force (kg)",
          "value": 31.999754513911974
         },
         {
          "ECDF": 0.8586956521739131,
          "Test": "ABD",
          "Variable": "Force (kg)",
          "value": 27.131535222174076
         },
         {
          "ECDF": 0.9456521739130435,
          "Test": "ABD",
          "Variable": "Force (kg)",
          "value": 30.467526966947826
         },
         {
          "ECDF": 0.8260869565217391,
          "Test": "ABD",
          "Variable": "Force (kg)",
          "value": 26.968577526705328
         },
         {
          "ECDF": 0.391304347826087,
          "Test": "ABD",
          "Variable": "Force (kg)",
          "value": 22.000487852197068
         },
         {
          "ECDF": 0.6086956521739131,
          "Test": "ABD",
          "Variable": "Force (kg)",
          "value": 24.425819125878654
         },
         {
          "ECDF": 0.10869565217391304,
          "Test": "ABD",
          "Variable": "Force (kg)",
          "value": 16.916191690271674
         },
         {
          "ECDF": 0.8913043478260869,
          "Test": "ABD",
          "Variable": "Force (kg)",
          "value": 27.944655019641445
         },
         {
          "ECDF": 0.8043478260869565,
          "Test": "ABD",
          "Variable": "Force (kg)",
          "value": 26.838585883204022
         },
         {
          "ECDF": 0.42391304347826086,
          "Test": "ABD",
          "Variable": "Force (kg)",
          "value": 22.58028902946599
         },
         {
          "ECDF": 0.44565217391304346,
          "Test": "ABD",
          "Variable": "Force (kg)",
          "value": 22.68715175066092
         },
         {
          "ECDF": 0.14130434782608695,
          "Test": "ABD",
          "Variable": "Force (kg)",
          "value": 17.42830058323559
         },
         {
          "ECDF": 0.2391304347826087,
          "Test": "ABD",
          "Variable": "Force (kg)",
          "value": 20.068373758599783
         },
         {
          "ECDF": 0.532608695652174,
          "Test": "ABD",
          "Variable": "Force (kg)",
          "value": 23.324935270021403
         },
         {
          "ECDF": 0.7608695652173914,
          "Test": "ABD",
          "Variable": "Force (kg)",
          "value": 26.250706960287378
         },
         {
          "ECDF": 0.8152173913043478,
          "Test": "ABD",
          "Variable": "Force (kg)",
          "value": 26.96628296116785
         },
         {
          "ECDF": 0.8369565217391305,
          "Test": "ABD",
          "Variable": "Force (kg)",
          "value": 27.09452413769828
         },
         {
          "ECDF": 0.5108695652173914,
          "Test": "ABD",
          "Variable": "Force (kg)",
          "value": 23.12581063116804
         },
         {
          "ECDF": 0.6630434782608695,
          "Test": "ABD",
          "Variable": "Force (kg)",
          "value": 24.976032215398348
         },
         {
          "ECDF": 0.18478260869565216,
          "Test": "ABD",
          "Variable": "Force (kg)",
          "value": 19.357791459651548
         },
         {
          "ECDF": 0.20652173913043478,
          "Test": "ABD",
          "Variable": "Force (kg)",
          "value": 19.533612213265346
         },
         {
          "ECDF": 0.5978260869565217,
          "Test": "ABD",
          "Variable": "Force (kg)",
          "value": 24.17131185728633
         },
         {
          "ECDF": 0.2826086956521739,
          "Test": "ABD",
          "Variable": "Force (kg)",
          "value": 20.69935433346636
         },
         {
          "ECDF": 0.11956521739130435,
          "Test": "ABD",
          "Variable": "Force (kg)",
          "value": 17.17090596708379
         },
         {
          "ECDF": 0.75,
          "Test": "ABD",
          "Variable": "Force (kg)",
          "value": 26.241940884570052
         },
         {
          "ECDF": 0.9239130434782609,
          "Test": "ABD",
          "Variable": "Force (kg)",
          "value": 29.57231761785729
         },
         {
          "ECDF": 0.1956521739130435,
          "Test": "ABD",
          "Variable": "Force (kg)",
          "value": 19.414765050393164
         },
         {
          "ECDF": 0.5,
          "Test": "ABD",
          "Variable": "Force (kg)",
          "value": 22.913940262249092
         },
         {
          "ECDF": 0.43478260869565216,
          "Test": "ABD",
          "Variable": "Force (kg)",
          "value": 22.625377279012714
         },
         {
          "ECDF": 0.40217391304347827,
          "Test": "ABD",
          "Variable": "Force (kg)",
          "value": 22.036823270092473
         },
         {
          "ECDF": 0.358695652173913,
          "Test": "ABD",
          "Variable": "Force (kg)",
          "value": 21.416648593626352
         },
         {
          "ECDF": 0.4891304347826087,
          "Test": "ABD",
          "Variable": "Force (kg)",
          "value": 22.88501004669389
         },
         {
          "ECDF": 0.33695652173913043,
          "Test": "ABD",
          "Variable": "Force (kg)",
          "value": 21.096631899816316
         },
         {
          "ECDF": 0.2717391304347826,
          "Test": "ABD",
          "Variable": "Force (kg)",
          "value": 20.414003474387066
         },
         {
          "ECDF": 0.13043478260869565,
          "Test": "ABD",
          "Variable": "Force (kg)",
          "value": 17.366724926950276
         },
         {
          "ECDF": 0.5543478260869565,
          "Test": "ABD",
          "Variable": "Force (kg)",
          "value": 23.656019093154168
         },
         {
          "ECDF": 0.6304347826086957,
          "Test": "ABD",
          "Variable": "Force (kg)",
          "value": 24.56868236351692
         },
         {
          "ECDF": 0.41304347826086957,
          "Test": "ABD",
          "Variable": "Force (kg)",
          "value": 22.131026697331954
         },
         {
          "ECDF": 0.717391304347826,
          "Test": "ABD",
          "Variable": "Force (kg)",
          "value": 25.651931337380635
         },
         {
          "ECDF": 0.4673913043478261,
          "Test": "ABD",
          "Variable": "Force (kg)",
          "value": 22.721597503402638
         },
         {
          "ECDF": 0.8152173913043478,
          "Test": "ER",
          "Variable": "Force (kg)",
          "value": 9.570668581645512
         },
         {
          "ECDF": 0.9347826086956522,
          "Test": "ER",
          "Variable": "Force (kg)",
          "value": 10.82215026683456
         },
         {
          "ECDF": 0.21739130434782608,
          "Test": "ER",
          "Variable": "Force (kg)",
          "value": 7.038643716493166
         },
         {
          "ECDF": 0.08695652173913043,
          "Test": "ER",
          "Variable": "Force (kg)",
          "value": 5.6348745513767
         },
         {
          "ECDF": 0.8586956521739131,
          "Test": "ER",
          "Variable": "Force (kg)",
          "value": 10.004255588738243
         },
         {
          "ECDF": 0.8260869565217391,
          "Test": "ER",
          "Variable": "Force (kg)",
          "value": 9.671034351117372
         },
         {
          "ECDF": 0.03260869565217391,
          "Test": "ER",
          "Variable": "Force (kg)",
          "value": 4.920839291964201
         },
         {
          "ECDF": 0.8043478260869565,
          "Test": "ER",
          "Variable": "Force (kg)",
          "value": 9.558628062757847
         },
         {
          "ECDF": 0.5978260869565217,
          "Test": "ER",
          "Variable": "Force (kg)",
          "value": 8.644348726601178
         },
         {
          "ECDF": 0.8369565217391305,
          "Test": "ER",
          "Variable": "Force (kg)",
          "value": 9.72361142351523
         },
         {
          "ECDF": 0.2608695652173913,
          "Test": "ER",
          "Variable": "Force (kg)",
          "value": 7.098222264619744
         },
         {
          "ECDF": 0.20652173913043478,
          "Test": "ER",
          "Variable": "Force (kg)",
          "value": 6.8941427280450895
         },
         {
          "ECDF": 0.043478260869565216,
          "Test": "ER",
          "Variable": "Force (kg)",
          "value": 4.920839291964201
         },
         {
          "ECDF": 0.14130434782608695,
          "Test": "ER",
          "Variable": "Force (kg)",
          "value": 6.220198513776495
         },
         {
          "ECDF": 0.9021739130434783,
          "Test": "ER",
          "Variable": "Force (kg)",
          "value": 10.280471388888257
         },
         {
          "ECDF": 0.021739130434782608,
          "Test": "ER",
          "Variable": "Force (kg)",
          "value": 4.811492310583603
         },
         {
          "ECDF": 0.7065217391304348,
          "Test": "ER",
          "Variable": "Force (kg)",
          "value": 8.989803448622418
         },
         {
          "ECDF": 0.7282608695652174,
          "Test": "ER",
          "Variable": "Force (kg)",
          "value": 9.076911057424015
         },
         {
          "ECDF": 0.13043478260869565,
          "Test": "ER",
          "Variable": "Force (kg)",
          "value": 6.038361785313358
         },
         {
          "ECDF": 0.42391304347826086,
          "Test": "ER",
          "Variable": "Force (kg)",
          "value": 7.861775682869165
         },
         {
          "ECDF": 0.32608695652173914,
          "Test": "ER",
          "Variable": "Force (kg)",
          "value": 7.590161370846349
         },
         {
          "ECDF": 0.717391304347826,
          "Test": "ER",
          "Variable": "Force (kg)",
          "value": 9.00924054205037
         },
         {
          "ECDF": 0.2391304347826087,
          "Test": "ER",
          "Variable": "Force (kg)",
          "value": 7.066613290455915
         },
         {
          "ECDF": 0.09782608695652174,
          "Test": "ER",
          "Variable": "Force (kg)",
          "value": 5.641001225449608
         },
         {
          "ECDF": 0.2717391304347826,
          "Test": "ER",
          "Variable": "Force (kg)",
          "value": 7.1481645016453434
         },
         {
          "ECDF": 0.6630434782608695,
          "Test": "ER",
          "Variable": "Force (kg)",
          "value": 8.870990649399783
         },
         {
          "ECDF": 0.33695652173913043,
          "Test": "ER",
          "Variable": "Force (kg)",
          "value": 7.610773993259007
         },
         {
          "ECDF": 0.22826086956521738,
          "Test": "ER",
          "Variable": "Force (kg)",
          "value": 7.057786135785998
         },
         {
          "ECDF": 0.010869565217391304,
          "Test": "ER",
          "Variable": "Force (kg)",
          "value": 4.561828282880024
         },
         {
          "ECDF": 0.10869565217391304,
          "Test": "ER",
          "Variable": "Force (kg)",
          "value": 6.000627899675585
         },
         {
          "ECDF": 0.391304347826087,
          "Test": "ER",
          "Variable": "Force (kg)",
          "value": 7.767440571914174
         },
         {
          "ECDF": 0.9456521739130435,
          "Test": "ER",
          "Variable": "Force (kg)",
          "value": 10.898663389446206
         },
         {
          "ECDF": 0.782608695652174,
          "Test": "ER",
          "Variable": "Force (kg)",
          "value": 9.378185524974516
         },
         {
          "ECDF": 0.9130434782608695,
          "Test": "ER",
          "Variable": "Force (kg)",
          "value": 10.538393732117969
         },
         {
          "ECDF": 0.31521739130434784,
          "Test": "ER",
          "Variable": "Force (kg)",
          "value": 7.483686644892412
         },
         {
          "ECDF": 0.5652173913043478,
          "Test": "ER",
          "Variable": "Force (kg)",
          "value": 8.56269113149847
         },
         {
          "ECDF": 0.4673913043478261,
          "Test": "ER",
          "Variable": "Force (kg)",
          "value": 8.10907237512742
         },
         {
          "ECDF": 0.30434782608695654,
          "Test": "ER",
          "Variable": "Force (kg)",
          "value": 7.45516158360195
         },
         {
          "ECDF": 0.3804347826086957,
          "Test": "ER",
          "Variable": "Force (kg)",
          "value": 7.725736359246739
         },
         {
          "ECDF": 0.29347826086956524,
          "Test": "ER",
          "Variable": "Force (kg)",
          "value": 7.186182864496352
         },
         {
          "ECDF": 0.4782608695652174,
          "Test": "ER",
          "Variable": "Force (kg)",
          "value": 8.159146006744294
         },
         {
          "ECDF": 0.8695652173913043,
          "Test": "ER",
          "Variable": "Force (kg)",
          "value": 10.047618752235682
         },
         {
          "ECDF": 0.25,
          "Test": "ER",
          "Variable": "Force (kg)",
          "value": 7.0980088730529225
         },
         {
          "ECDF": 0.967391304347826,
          "Test": "ER",
          "Variable": "Force (kg)",
          "value": 11.015289107684659
         },
         {
          "ECDF": 0.5434782608695652,
          "Test": "ER",
          "Variable": "Force (kg)",
          "value": 8.460981472426571
         },
         {
          "ECDF": 0.6413043478260869,
          "Test": "ER",
          "Variable": "Force (kg)",
          "value": 8.791621243440176
         },
         {
          "ECDF": 0.45652173913043476,
          "Test": "ER",
          "Variable": "Force (kg)",
          "value": 7.963310573531368
         },
         {
          "ECDF": 0.5108695652173914,
          "Test": "ER",
          "Variable": "Force (kg)",
          "value": 8.239022087777895
         },
         {
          "ECDF": 0.8913043478260869,
          "Test": "ER",
          "Variable": "Force (kg)",
          "value": 10.189376316386562
         },
         {
          "ECDF": 0.06521739130434782,
          "Test": "ER",
          "Variable": "Force (kg)",
          "value": 5.251830896544431
         },
         {
          "ECDF": 0.5217391304347826,
          "Test": "ER",
          "Variable": "Force (kg)",
          "value": 8.397725502653081
         },
         {
          "ECDF": 0.4891304347826087,
          "Test": "ER",
          "Variable": "Force (kg)",
          "value": 8.208493132770233
         },
         {
          "ECDF": 0.9891304347826086,
          "Test": "ER",
          "Variable": "Force (kg)",
          "value": 11.131960229955984
         },
         {
          "ECDF": 0.7934782608695652,
          "Test": "ER",
          "Variable": "Force (kg)",
          "value": 9.41101686765526
         },
         {
          "ECDF": 0.7717391304347826,
          "Test": "ER",
          "Variable": "Force (kg)",
          "value": 9.325207299753401
         },
         {
          "ECDF": 0.9782608695652174,
          "Test": "ER",
          "Variable": "Force (kg)",
          "value": 11.127660960119998
         },
         {
          "ECDF": 0.07608695652173914,
          "Test": "ER",
          "Variable": "Force (kg)",
          "value": 5.590564387909942
         },
         {
          "ECDF": 0.15217391304347827,
          "Test": "ER",
          "Variable": "Force (kg)",
          "value": 6.478840821552261
         },
         {
          "ECDF": 0.2826086956521739,
          "Test": "ER",
          "Variable": "Force (kg)",
          "value": 7.150665056870864
         },
         {
          "ECDF": 1,
          "Test": "ER",
          "Variable": "Force (kg)",
          "value": 11.851311774859175
         },
         {
          "ECDF": 0.8478260869565217,
          "Test": "ER",
          "Variable": "Force (kg)",
          "value": 9.992878174757914
         },
         {
          "ECDF": 0.6195652173913043,
          "Test": "ER",
          "Variable": "Force (kg)",
          "value": 8.777680807736791
         },
         {
          "ECDF": 0.6847826086956522,
          "Test": "ER",
          "Variable": "Force (kg)",
          "value": 8.94689220038854
         },
         {
          "ECDF": 0.3695652173913043,
          "Test": "ER",
          "Variable": "Force (kg)",
          "value": 7.706037859832688
         },
         {
          "ECDF": 0.8804347826086957,
          "Test": "ER",
          "Variable": "Force (kg)",
          "value": 10.059137802647465
         },
         {
          "ECDF": 0.6086956521739131,
          "Test": "ER",
          "Variable": "Force (kg)",
          "value": 8.766535105688702
         },
         {
          "ECDF": 0.6956521739130435,
          "Test": "ER",
          "Variable": "Force (kg)",
          "value": 8.966898493948245
         },
         {
          "ECDF": 0.34782608695652173,
          "Test": "ER",
          "Variable": "Force (kg)",
          "value": 7.688867733465925
         },
         {
          "ECDF": 0.75,
          "Test": "ER",
          "Variable": "Force (kg)",
          "value": 9.159798027637521
         },
         {
          "ECDF": 0.7391304347826086,
          "Test": "ER",
          "Variable": "Force (kg)",
          "value": 9.099848407537158
         },
         {
          "ECDF": 0.40217391304347827,
          "Test": "ER",
          "Variable": "Force (kg)",
          "value": 7.794842629869643
         },
         {
          "ECDF": 0.05434782608695652,
          "Test": "ER",
          "Variable": "Force (kg)",
          "value": 5.201623332484268
         },
         {
          "ECDF": 0.9239130434782609,
          "Test": "ER",
          "Variable": "Force (kg)",
          "value": 10.70989937851435
         },
         {
          "ECDF": 0.18478260869565216,
          "Test": "ER",
          "Variable": "Force (kg)",
          "value": 6.81152063737564
         },
         {
          "ECDF": 0.44565217391304346,
          "Test": "ER",
          "Variable": "Force (kg)",
          "value": 7.940549516552625
         },
         {
          "ECDF": 0.5,
          "Test": "ER",
          "Variable": "Force (kg)",
          "value": 8.236238532110093
         },
         {
          "ECDF": 0.41304347826086957,
          "Test": "ER",
          "Variable": "Force (kg)",
          "value": 7.8072826519112395
         },
         {
          "ECDF": 0.532608695652174,
          "Test": "ER",
          "Variable": "Force (kg)",
          "value": 8.432257593768156
         },
         {
          "ECDF": 0.5760869565217391,
          "Test": "ER",
          "Variable": "Force (kg)",
          "value": 8.595301244981664
         },
         {
          "ECDF": 0.1956521739130435,
          "Test": "ER",
          "Variable": "Force (kg)",
          "value": 6.822430930170459
         },
         {
          "ECDF": 0.43478260869565216,
          "Test": "ER",
          "Variable": "Force (kg)",
          "value": 7.901526295165124
         },
         {
          "ECDF": 0.6304347826086957,
          "Test": "ER",
          "Variable": "Force (kg)",
          "value": 8.789591287459116
         },
         {
          "ECDF": 0.7608695652173914,
          "Test": "ER",
          "Variable": "Force (kg)",
          "value": 9.165336501930225
         },
         {
          "ECDF": 0.9565217391304348,
          "Test": "ER",
          "Variable": "Force (kg)",
          "value": 11.001117411208732
         },
         {
          "ECDF": 0.358695652173913,
          "Test": "ER",
          "Variable": "Force (kg)",
          "value": 7.6976046018516575
         },
         {
          "ECDF": 0.5869565217391305,
          "Test": "ER",
          "Variable": "Force (kg)",
          "value": 8.61343950192631
         },
         {
          "ECDF": 0.11956521739130435,
          "Test": "ER",
          "Variable": "Force (kg)",
          "value": 6.0197054882067595
         },
         {
          "ECDF": 0.6521739130434783,
          "Test": "ER",
          "Variable": "Force (kg)",
          "value": 8.836953291374527
         },
         {
          "ECDF": 0.6739130434782609,
          "Test": "ER",
          "Variable": "Force (kg)",
          "value": 8.876392848339469
         },
         {
          "ECDF": 0.17391304347826086,
          "Test": "ER",
          "Variable": "Force (kg)",
          "value": 6.75616541154345
         },
         {
          "ECDF": 0.5543478260869565,
          "Test": "ER",
          "Variable": "Force (kg)",
          "value": 8.473467316168964
         },
         {
          "ECDF": 0.16304347826086957,
          "Test": "ER",
          "Variable": "Force (kg)",
          "value": 6.610980498449342
         },
         {
          "ECDF": 0.03260869565217391,
          "Test": "IR",
          "Variable": "Force (kg)",
          "value": 5.313395766567174
         },
         {
          "ECDF": 0.40217391304347827,
          "Test": "IR",
          "Variable": "Force (kg)",
          "value": 9.241658935504931
         },
         {
          "ECDF": 0.8478260869565217,
          "Test": "IR",
          "Variable": "Force (kg)",
          "value": 12.222213720404106
         },
         {
          "ECDF": 0.010869565217391304,
          "Test": "IR",
          "Variable": "Force (kg)",
          "value": 3.9248444174728396
         },
         {
          "ECDF": 0.16304347826086957,
          "Test": "IR",
          "Variable": "Force (kg)",
          "value": 7.038332689156998
         },
         {
          "ECDF": 0.9782608695652174,
          "Test": "IR",
          "Variable": "Force (kg)",
          "value": 14.708987477824376
         },
         {
          "ECDF": 0.05434782608695652,
          "Test": "IR",
          "Variable": "Force (kg)",
          "value": 5.644866144269256
         },
         {
          "ECDF": 0.021739130434782608,
          "Test": "IR",
          "Variable": "Force (kg)",
          "value": 4.396732197466142
         },
         {
          "ECDF": 0.32608695652173914,
          "Test": "IR",
          "Variable": "Force (kg)",
          "value": 8.73845191505742
         },
         {
          "ECDF": 0.8260869565217391,
          "Test": "IR",
          "Variable": "Force (kg)",
          "value": 12.05508353083053
         },
         {
          "ECDF": 0.08695652173913043,
          "Test": "IR",
          "Variable": "Force (kg)",
          "value": 5.859411425785578
         },
         {
          "ECDF": 0.25,
          "Test": "IR",
          "Variable": "Force (kg)",
          "value": 7.944854119910227
         },
         {
          "ECDF": 0.06521739130434782,
          "Test": "IR",
          "Variable": "Force (kg)",
          "value": 5.644866144269256
         },
         {
          "ECDF": 0.15217391304347827,
          "Test": "IR",
          "Variable": "Force (kg)",
          "value": 6.300426127894292
         },
         {
          "ECDF": 0.6739130434782609,
          "Test": "IR",
          "Variable": "Force (kg)",
          "value": 10.651311857933315
         },
         {
          "ECDF": 0.21739130434782608,
          "Test": "IR",
          "Variable": "Force (kg)",
          "value": 7.521321411530063
         },
         {
          "ECDF": 0.967391304347826,
          "Test": "IR",
          "Variable": "Force (kg)",
          "value": 14.166629533725787
         },
         {
          "ECDF": 0.5434782608695652,
          "Test": "IR",
          "Variable": "Force (kg)",
          "value": 10.027847538995099
         },
         {
          "ECDF": 0.18478260869565216,
          "Test": "IR",
          "Variable": "Force (kg)",
          "value": 7.090970431072948
         },
         {
          "ECDF": 0.7934782608695652,
          "Test": "IR",
          "Variable": "Force (kg)",
          "value": 11.846090427132788
         },
         {
          "ECDF": 0.1956521739130435,
          "Test": "IR",
          "Variable": "Force (kg)",
          "value": 7.3966987542646585
         },
         {
          "ECDF": 0.6195652173913043,
          "Test": "IR",
          "Variable": "Force (kg)",
          "value": 10.359326590207797
         },
         {
          "ECDF": 0.6521739130434783,
          "Test": "IR",
          "Variable": "Force (kg)",
          "value": 10.607163966504032
         },
         {
          "ECDF": 0.5108695652173914,
          "Test": "IR",
          "Variable": "Force (kg)",
          "value": 9.933853141454117
         },
         {
          "ECDF": 0.09782608695652174,
          "Test": "IR",
          "Variable": "Force (kg)",
          "value": 6.0663617523230196
         },
         {
          "ECDF": 0.4673913043478261,
          "Test": "IR",
          "Variable": "Force (kg)",
          "value": 9.611196260859966
         },
         {
          "ECDF": 0.8043478260869565,
          "Test": "IR",
          "Variable": "Force (kg)",
          "value": 11.946853701558275
         },
         {
          "ECDF": 0.9239130434782609,
          "Test": "IR",
          "Variable": "Force (kg)",
          "value": 13.056064059272058
         },
         {
          "ECDF": 0.043478260869565216,
          "Test": "IR",
          "Variable": "Force (kg)",
          "value": 5.418443382004566
         },
         {
          "ECDF": 0.07608695652173914,
          "Test": "IR",
          "Variable": "Force (kg)",
          "value": 5.693151982565795
         },
         {
          "ECDF": 0.8695652173913043,
          "Test": "IR",
          "Variable": "Force (kg)",
          "value": 12.364858107841233
         },
         {
          "ECDF": 0.782608695652174,
          "Test": "IR",
          "Variable": "Force (kg)",
          "value": 11.71475424367327
         },
         {
          "ECDF": 0.391304347826087,
          "Test": "IR",
          "Variable": "Force (kg)",
          "value": 9.1438998428709
         },
         {
          "ECDF": 0.8152173913043478,
          "Test": "IR",
          "Variable": "Force (kg)",
          "value": 11.958568738229754
         },
         {
          "ECDF": 0.6086956521739131,
          "Test": "IR",
          "Variable": "Force (kg)",
          "value": 10.344325434486775
         },
         {
          "ECDF": 0.11956521739130435,
          "Test": "IR",
          "Variable": "Force (kg)",
          "value": 6.109412164458035
         },
         {
          "ECDF": 0.10869565217391304,
          "Test": "IR",
          "Variable": "Force (kg)",
          "value": 6.0863727903334075
         },
         {
          "ECDF": 0.2391304347826087,
          "Test": "IR",
          "Variable": "Force (kg)",
          "value": 7.655386110942342
         },
         {
          "ECDF": 0.5543478260869565,
          "Test": "IR",
          "Variable": "Force (kg)",
          "value": 10.05979277922315
         },
         {
          "ECDF": 0.5217391304347826,
          "Test": "IR",
          "Variable": "Force (kg)",
          "value": 9.985645634400548
         },
         {
          "ECDF": 0.13043478260869565,
          "Test": "IR",
          "Variable": "Force (kg)",
          "value": 6.175348762347516
         },
         {
          "ECDF": 0.8369565217391305,
          "Test": "IR",
          "Variable": "Force (kg)",
          "value": 12.125382262996942
         },
         {
          "ECDF": 0.43478260869565216,
          "Test": "IR",
          "Variable": "Force (kg)",
          "value": 9.445571577337262
         },
         {
          "ECDF": 0.75,
          "Test": "IR",
          "Variable": "Force (kg)",
          "value": 11.465653149352036
         },
         {
          "ECDF": 0.31521739130434784,
          "Test": "IR",
          "Variable": "Force (kg)",
          "value": 8.719221078577146
         },
         {
          "ECDF": 0.33695652173913043,
          "Test": "IR",
          "Variable": "Force (kg)",
          "value": 8.912268568244968
         },
         {
          "ECDF": 0.41304347826086957,
          "Test": "IR",
          "Variable": "Force (kg)",
          "value": 9.28143223266352
         },
         {
          "ECDF": 0.5978260869565217,
          "Test": "IR",
          "Variable": "Force (kg)",
          "value": 10.183524407578236
         },
         {
          "ECDF": 0.9021739130434783,
          "Test": "IR",
          "Variable": "Force (kg)",
          "value": 12.579628703932547
         },
         {
          "ECDF": 0.2608695652173913,
          "Test": "IR",
          "Variable": "Force (kg)",
          "value": 8.006640202728734
         },
         {
          "ECDF": 0.717391304347826,
          "Test": "IR",
          "Variable": "Force (kg)",
          "value": 10.981291738204371
         },
         {
          "ECDF": 0.45652173913043476,
          "Test": "IR",
          "Variable": "Force (kg)",
          "value": 9.483176323297004
         },
         {
          "ECDF": 0.9130434782608695,
          "Test": "IR",
          "Variable": "Force (kg)",
          "value": 12.75481704839503
         },
         {
          "ECDF": 0.5652173913043478,
          "Test": "IR",
          "Variable": "Force (kg)",
          "value": 10.068653944417887
         },
         {
          "ECDF": 0.6956521739130435,
          "Test": "IR",
          "Variable": "Force (kg)",
          "value": 10.78683623604438
         },
         {
          "ECDF": 0.8586956521739131,
          "Test": "IR",
          "Variable": "Force (kg)",
          "value": 12.270743799973582
         },
         {
          "ECDF": 0.14130434782608695,
          "Test": "IR",
          "Variable": "Force (kg)",
          "value": 6.189347289735942
         },
         {
          "ECDF": 0.29347826086956524,
          "Test": "IR",
          "Variable": "Force (kg)",
          "value": 8.608128147049717
         },
         {
          "ECDF": 0.20652173913043478,
          "Test": "IR",
          "Variable": "Force (kg)",
          "value": 7.481863585940816
         },
         {
          "ECDF": 0.34782608695652173,
          "Test": "IR",
          "Variable": "Force (kg)",
          "value": 8.993152225332889
         },
         {
          "ECDF": 0.2826086956521739,
          "Test": "IR",
          "Variable": "Force (kg)",
          "value": 8.55249745158002
         },
         {
          "ECDF": 0.6304347826086957,
          "Test": "IR",
          "Variable": "Force (kg)",
          "value": 10.396087370436742
         },
         {
          "ECDF": 0.9891304347826086,
          "Test": "IR",
          "Variable": "Force (kg)",
          "value": 15.650793130539023
         },
         {
          "ECDF": 0.6630434782608695,
          "Test": "IR",
          "Variable": "Force (kg)",
          "value": 10.624835186696357
         },
         {
          "ECDF": 0.9565217391304348,
          "Test": "IR",
          "Variable": "Force (kg)",
          "value": 13.815716647582823
         },
         {
          "ECDF": 0.5760869565217391,
          "Test": "IR",
          "Variable": "Force (kg)",
          "value": 10.07194617654858
         },
         {
          "ECDF": 0.4782608695652174,
          "Test": "IR",
          "Variable": "Force (kg)",
          "value": 9.62489838578562
         },
         {
          "ECDF": 0.358695652173913,
          "Test": "IR",
          "Variable": "Force (kg)",
          "value": 9.028468094702278
         },
         {
          "ECDF": 0.7065217391304348,
          "Test": "IR",
          "Variable": "Force (kg)",
          "value": 10.80806726551876
         },
         {
          "ECDF": 0.44565217391304346,
          "Test": "IR",
          "Variable": "Force (kg)",
          "value": 9.475447828942999
         },
         {
          "ECDF": 0.7391304347826086,
          "Test": "IR",
          "Variable": "Force (kg)",
          "value": 11.351723143772071
         },
         {
          "ECDF": 0.7282608695652174,
          "Test": "IR",
          "Variable": "Force (kg)",
          "value": 11.206619151560814
         },
         {
          "ECDF": 1,
          "Test": "IR",
          "Variable": "Force (kg)",
          "value": 16.795082058198325
         },
         {
          "ECDF": 0.5,
          "Test": "IR",
          "Variable": "Force (kg)",
          "value": 9.77775986177275
         },
         {
          "ECDF": 0.30434782608695654,
          "Test": "IR",
          "Variable": "Force (kg)",
          "value": 8.633258165400523
         },
         {
          "ECDF": 0.532608695652174,
          "Test": "IR",
          "Variable": "Force (kg)",
          "value": 9.99490704384059
         },
         {
          "ECDF": 0.6847826086956522,
          "Test": "IR",
          "Variable": "Force (kg)",
          "value": 10.723422211672863
         },
         {
          "ECDF": 0.9347826086956522,
          "Test": "IR",
          "Variable": "Force (kg)",
          "value": 13.303727476629184
         },
         {
          "ECDF": 0.5869565217391305,
          "Test": "IR",
          "Variable": "Force (kg)",
          "value": 10.157686599129384
         },
         {
          "ECDF": 0.3804347826086957,
          "Test": "IR",
          "Variable": "Force (kg)",
          "value": 9.068455142081573
         },
         {
          "ECDF": 0.4891304347826087,
          "Test": "IR",
          "Variable": "Force (kg)",
          "value": 9.662061379652126
         },
         {
          "ECDF": 0.8804347826086957,
          "Test": "IR",
          "Variable": "Force (kg)",
          "value": 12.389878398722699
         },
         {
          "ECDF": 0.6413043478260869,
          "Test": "IR",
          "Variable": "Force (kg)",
          "value": 10.536706120348516
         },
         {
          "ECDF": 0.9456521739130435,
          "Test": "IR",
          "Variable": "Force (kg)",
          "value": 13.738531637374255
         },
         {
          "ECDF": 0.22826086956521738,
          "Test": "IR",
          "Variable": "Force (kg)",
          "value": 7.608475979989526
         },
         {
          "ECDF": 0.8913043478260869,
          "Test": "IR",
          "Variable": "Force (kg)",
          "value": 12.44673515903286
         },
         {
          "ECDF": 0.17391304347826086,
          "Test": "IR",
          "Variable": "Force (kg)",
          "value": 7.070261018211782
         },
         {
          "ECDF": 0.2717391304347826,
          "Test": "IR",
          "Variable": "Force (kg)",
          "value": 8.503370254939545
         },
         {
          "ECDF": 0.7717391304347826,
          "Test": "IR",
          "Variable": "Force (kg)",
          "value": 11.68571053584881
         },
         {
          "ECDF": 0.7608695652173914,
          "Test": "IR",
          "Variable": "Force (kg)",
          "value": 11.470810798326804
         },
         {
          "ECDF": 0.42391304347826086,
          "Test": "IR",
          "Variable": "Force (kg)",
          "value": 9.403669724770642
         },
         {
          "ECDF": 0.3695652173913043,
          "Test": "IR",
          "Variable": "Force (kg)",
          "value": 9.059902186487076
         },
         {
          "ECDF": 0.6413043478260869,
          "Test": "EXT",
          "Variable": "Force (kg)",
          "value": 18.392700612588683
         },
         {
          "ECDF": 0.9565217391304348,
          "Test": "EXT",
          "Variable": "Force (kg)",
          "value": 28.589752291504816
         },
         {
          "ECDF": 0.29347826086956524,
          "Test": "EXT",
          "Variable": "Force (kg)",
          "value": 12.805250206138414
         },
         {
          "ECDF": 0.010869565217391304,
          "Test": "EXT",
          "Variable": "Force (kg)",
          "value": 0.4019450310071363
         },
         {
          "ECDF": 0.6956521739130435,
          "Test": "EXT",
          "Variable": "Force (kg)",
          "value": 18.8471046106987
         },
         {
          "ECDF": 0.6304347826086957,
          "Test": "EXT",
          "Variable": "Force (kg)",
          "value": 17.968912350337966
         },
         {
          "ECDF": 0.10869565217391304,
          "Test": "EXT",
          "Variable": "Force (kg)",
          "value": 8.597676700398914
         },
         {
          "ECDF": 0.7391304347826086,
          "Test": "EXT",
          "Variable": "Force (kg)",
          "value": 19.700656435834382
         },
         {
          "ECDF": 0.1956521739130435,
          "Test": "EXT",
          "Variable": "Force (kg)",
          "value": 11.42572740156092
         },
         {
          "ECDF": 0.9782608695652174,
          "Test": "EXT",
          "Variable": "Force (kg)",
          "value": 30.5435697704746
         },
         {
          "ECDF": 0.4673913043478261,
          "Test": "EXT",
          "Variable": "Force (kg)",
          "value": 15.558721346270364
         },
         {
          "ECDF": 0.782608695652174,
          "Test": "EXT",
          "Variable": "Force (kg)",
          "value": 20.691980115747185
         },
         {
          "ECDF": 0.06521739130434782,
          "Test": "EXT",
          "Variable": "Force (kg)",
          "value": 8.13011006436083
         },
         {
          "ECDF": 0.08695652173913043,
          "Test": "EXT",
          "Variable": "Force (kg)",
          "value": 8.347391650143942
         },
         {
          "ECDF": 0.2717391304347826,
          "Test": "EXT",
          "Variable": "Force (kg)",
          "value": 12.47218482913799
         },
         {
          "ECDF": 0.4782608695652174,
          "Test": "EXT",
          "Variable": "Force (kg)",
          "value": 15.64362709605267
         },
         {
          "ECDF": 0.7717391304347826,
          "Test": "EXT",
          "Variable": "Force (kg)",
          "value": 20.165984924969862
         },
         {
          "ECDF": 0.43478260869565216,
          "Test": "EXT",
          "Variable": "Force (kg)",
          "value": 15.071263120236239
         },
         {
          "ECDF": 0.31521739130434784,
          "Test": "EXT",
          "Variable": "Force (kg)",
          "value": 13.06958787188791
         },
         {
          "ECDF": 0.22826086956521738,
          "Test": "EXT",
          "Variable": "Force (kg)",
          "value": 12.13952831159797
         },
         {
          "ECDF": 0.391304347826087,
          "Test": "EXT",
          "Variable": "Force (kg)",
          "value": 14.028720582849022
         },
         {
          "ECDF": 0.5434782608695652,
          "Test": "EXT",
          "Variable": "Force (kg)",
          "value": 16.085512429936585
         },
         {
          "ECDF": 0.44565217391304346,
          "Test": "EXT",
          "Variable": "Force (kg)",
          "value": 15.465700154792916
         },
         {
          "ECDF": 0.14130434782608695,
          "Test": "EXT",
          "Variable": "Force (kg)",
          "value": 9.90343358958601
         },
         {
          "ECDF": 0.043478260869565216,
          "Test": "EXT",
          "Variable": "Force (kg)",
          "value": 7.981592417267505
         },
         {
          "ECDF": 0.21739130434782608,
          "Test": "EXT",
          "Variable": "Force (kg)",
          "value": 11.880170561927367
         },
         {
          "ECDF": 0.34782608695652173,
          "Test": "EXT",
          "Variable": "Force (kg)",
          "value": 13.593802395467012
         },
         {
          "ECDF": 0.358695652173913,
          "Test": "EXT",
          "Variable": "Force (kg)",
          "value": 13.749382124452803
         },
         {
          "ECDF": 0.021739130434782608,
          "Test": "EXT",
          "Variable": "Force (kg)",
          "value": 3.7228491230714162
         },
         {
          "ECDF": 0.09782608695652174,
          "Test": "EXT",
          "Variable": "Force (kg)",
          "value": 8.527479343393068
         },
         {
          "ECDF": 0.3804347826086957,
          "Test": "EXT",
          "Variable": "Force (kg)",
          "value": 13.888953312651465
         },
         {
          "ECDF": 1,
          "Test": "EXT",
          "Variable": "Force (kg)",
          "value": 34.80468524609082
         },
         {
          "ECDF": 0.6847826086956522,
          "Test": "EXT",
          "Variable": "Force (kg)",
          "value": 18.746425996370057
         },
         {
          "ECDF": 0.9891304347826086,
          "Test": "EXT",
          "Variable": "Force (kg)",
          "value": 31.43354199812648
         },
         {
          "ECDF": 0.7934782608695652,
          "Test": "EXT",
          "Variable": "Force (kg)",
          "value": 20.842496538344776
         },
         {
          "ECDF": 0.25,
          "Test": "EXT",
          "Variable": "Force (kg)",
          "value": 12.306701828671892
         },
         {
          "ECDF": 0.6521739130434783,
          "Test": "EXT",
          "Variable": "Force (kg)",
          "value": 18.461831305868
         },
         {
          "ECDF": 0.13043478260869565,
          "Test": "EXT",
          "Variable": "Force (kg)",
          "value": 9.140706388412811
         },
         {
          "ECDF": 0.8369565217391305,
          "Test": "EXT",
          "Variable": "Force (kg)",
          "value": 22.82894648985751
         },
         {
          "ECDF": 0.9456521739130435,
          "Test": "EXT",
          "Variable": "Force (kg)",
          "value": 27.545421838460157
         },
         {
          "ECDF": 0.4891304347826087,
          "Test": "EXT",
          "Variable": "Force (kg)",
          "value": 15.672994234552732
         },
         {
          "ECDF": 0.5760869565217391,
          "Test": "EXT",
          "Variable": "Force (kg)",
          "value": 16.52640496235944
         },
         {
          "ECDF": 0.6739130434782609,
          "Test": "EXT",
          "Variable": "Force (kg)",
          "value": 18.670724476822738
         },
         {
          "ECDF": 0.8260869565217391,
          "Test": "EXT",
          "Variable": "Force (kg)",
          "value": 22.820268080057193
         },
         {
          "ECDF": 0.20652173913043478,
          "Test": "EXT",
          "Variable": "Force (kg)",
          "value": 11.560862990220787
         },
         {
          "ECDF": 0.2608695652173913,
          "Test": "EXT",
          "Variable": "Force (kg)",
          "value": 12.34472931238078
         },
         {
          "ECDF": 0.16304347826086957,
          "Test": "EXT",
          "Variable": "Force (kg)",
          "value": 10.935867372480736
         },
         {
          "ECDF": 0.5543478260869565,
          "Test": "EXT",
          "Variable": "Force (kg)",
          "value": 16.200388585061884
         },
         {
          "ECDF": 0.717391304347826,
          "Test": "EXT",
          "Variable": "Force (kg)",
          "value": 19.646716889826134
         },
         {
          "ECDF": 0.07608695652173914,
          "Test": "EXT",
          "Variable": "Force (kg)",
          "value": 8.30785531527154
         },
         {
          "ECDF": 0.8913043478260869,
          "Test": "EXT",
          "Variable": "Force (kg)",
          "value": 24.368960260637564
         },
         {
          "ECDF": 0.5652173913043478,
          "Test": "EXT",
          "Variable": "Force (kg)",
          "value": 16.32210545710499
         },
         {
          "ECDF": 0.9021739130434783,
          "Test": "EXT",
          "Variable": "Force (kg)",
          "value": 24.514026185496242
         },
         {
          "ECDF": 0.75,
          "Test": "EXT",
          "Variable": "Force (kg)",
          "value": 19.79853093011593
         },
         {
          "ECDF": 0.8152173913043478,
          "Test": "EXT",
          "Variable": "Force (kg)",
          "value": 21.047037072267248
         },
         {
          "ECDF": 0.9130434782608695,
          "Test": "EXT",
          "Variable": "Force (kg)",
          "value": 24.875560995512036
         },
         {
          "ECDF": 0.17391304347826086,
          "Test": "EXT",
          "Variable": "Force (kg)",
          "value": 11.228889439898612
         },
         {
          "ECDF": 0.2826086956521739,
          "Test": "EXT",
          "Variable": "Force (kg)",
          "value": 12.710368410071215
         },
         {
          "ECDF": 0.15217391304347827,
          "Test": "EXT",
          "Variable": "Force (kg)",
          "value": 10.114408169179498
         },
         {
          "ECDF": 0.40217391304347827,
          "Test": "EXT",
          "Variable": "Force (kg)",
          "value": 14.431563012942558
         },
         {
          "ECDF": 0.8804347826086957,
          "Test": "EXT",
          "Variable": "Force (kg)",
          "value": 24.305067336698173
         },
         {
          "ECDF": 0.7065217391304348,
          "Test": "EXT",
          "Variable": "Force (kg)",
          "value": 19.180187969322894
         },
         {
          "ECDF": 0.7282608695652174,
          "Test": "EXT",
          "Variable": "Force (kg)",
          "value": 19.675699659215027
         },
         {
          "ECDF": 0.8586956521739131,
          "Test": "EXT",
          "Variable": "Force (kg)",
          "value": 23.2112811966693
         },
         {
          "ECDF": 0.33695652173913043,
          "Test": "EXT",
          "Variable": "Force (kg)",
          "value": 13.553627104313282
         },
         {
          "ECDF": 0.5978260869565217,
          "Test": "EXT",
          "Variable": "Force (kg)",
          "value": 17.14745597723482
         },
         {
          "ECDF": 0.9239130434782609,
          "Test": "EXT",
          "Variable": "Force (kg)",
          "value": 25.20363536152976
         },
         {
          "ECDF": 0.5869565217391305,
          "Test": "EXT",
          "Variable": "Force (kg)",
          "value": 17.14422794503653
         },
         {
          "ECDF": 0.6195652173913043,
          "Test": "EXT",
          "Variable": "Force (kg)",
          "value": 17.817589704455997
         },
         {
          "ECDF": 0.5,
          "Test": "EXT",
          "Variable": "Force (kg)",
          "value": 15.787698669078692
         },
         {
          "ECDF": 0.2391304347826087,
          "Test": "EXT",
          "Variable": "Force (kg)",
          "value": 12.161298184834019
         },
         {
          "ECDF": 0.42391304347826086,
          "Test": "EXT",
          "Variable": "Force (kg)",
          "value": 14.796134927626237
         },
         {
          "ECDF": 0.32608695652173914,
          "Test": "EXT",
          "Variable": "Force (kg)",
          "value": 13.26301382901637
         },
         {
          "ECDF": 0.6630434782608695,
          "Test": "EXT",
          "Variable": "Force (kg)",
          "value": 18.512505460899956
         },
         {
          "ECDF": 0.8043478260869565,
          "Test": "EXT",
          "Variable": "Force (kg)",
          "value": 20.918982566575146
         },
         {
          "ECDF": 0.18478260869565216,
          "Test": "EXT",
          "Variable": "Force (kg)",
          "value": 11.354661051008588
         },
         {
          "ECDF": 0.9347826086956522,
          "Test": "EXT",
          "Variable": "Force (kg)",
          "value": 25.876693610260965
         },
         {
          "ECDF": 0.8695652173913043,
          "Test": "EXT",
          "Variable": "Force (kg)",
          "value": 24.107655906528098
         },
         {
          "ECDF": 0.30434782608695654,
          "Test": "EXT",
          "Variable": "Force (kg)",
          "value": 12.879486869292387
         },
         {
          "ECDF": 0.5108695652173914,
          "Test": "EXT",
          "Variable": "Force (kg)",
          "value": 15.90427165490046
         },
         {
          "ECDF": 0.3695652173913043,
          "Test": "EXT",
          "Variable": "Force (kg)",
          "value": 13.849384201467222
         },
         {
          "ECDF": 0.7608695652173914,
          "Test": "EXT",
          "Variable": "Force (kg)",
          "value": 19.884627847596434
         },
         {
          "ECDF": 0.5217391304347826,
          "Test": "EXT",
          "Variable": "Force (kg)",
          "value": 15.95134161980862
         },
         {
          "ECDF": 0.532608695652174,
          "Test": "EXT",
          "Variable": "Force (kg)",
          "value": 16.01398523701528
         },
         {
          "ECDF": 0.05434782608695652,
          "Test": "EXT",
          "Variable": "Force (kg)",
          "value": 8.059347762526766
         },
         {
          "ECDF": 0.6086956521739131,
          "Test": "EXT",
          "Variable": "Force (kg)",
          "value": 17.57926391056264
         },
         {
          "ECDF": 0.03260869565217391,
          "Test": "EXT",
          "Variable": "Force (kg)",
          "value": 5.532902469891507
         },
         {
          "ECDF": 0.11956521739130435,
          "Test": "EXT",
          "Variable": "Force (kg)",
          "value": 8.89614789620128
         },
         {
          "ECDF": 0.45652173913043476,
          "Test": "EXT",
          "Variable": "Force (kg)",
          "value": 15.544451278103002
         },
         {
          "ECDF": 0.41304347826086957,
          "Test": "EXT",
          "Variable": "Force (kg)",
          "value": 14.719472256841119
         },
         {
          "ECDF": 0.8478260869565217,
          "Test": "EXT",
          "Variable": "Force (kg)",
          "value": 22.939863623472544
         },
         {
          "ECDF": 0.967391304347826,
          "Test": "EXT",
          "Variable": "Force (kg)",
          "value": 29.065200146138533
         },
         {
          "ECDF": 0.4782608695652174,
          "Test": "FLEX",
          "Variable": "Force (kg)",
          "value": 16.55651915265423
         },
         {
          "ECDF": 0.20652173913043478,
          "Test": "FLEX",
          "Variable": "Force (kg)",
          "value": 14.067321982464103
         },
         {
          "ECDF": 0.8478260869565217,
          "Test": "FLEX",
          "Variable": "Force (kg)",
          "value": 20.605598116406608
         },
         {
          "ECDF": 0.043478260869565216,
          "Test": "FLEX",
          "Variable": "Force (kg)",
          "value": 11.716028453663078
         },
         {
          "ECDF": 0.3695652173913043,
          "Test": "FLEX",
          "Variable": "Force (kg)",
          "value": 15.863785458315348
         },
         {
          "ECDF": 0.8260869565217391,
          "Test": "FLEX",
          "Variable": "Force (kg)",
          "value": 20.50966373015728
         },
         {
          "ECDF": 0.03260869565217391,
          "Test": "FLEX",
          "Variable": "Force (kg)",
          "value": 10.303732966699437
         },
         {
          "ECDF": 0.22826086956521738,
          "Test": "FLEX",
          "Variable": "Force (kg)",
          "value": 14.345744318254502
         },
         {
          "ECDF": 0.6630434782608695,
          "Test": "FLEX",
          "Variable": "Force (kg)",
          "value": 17.9596732874249
         },
         {
          "ECDF": 0.9239130434782609,
          "Test": "FLEX",
          "Variable": "Force (kg)",
          "value": 21.959511936956336
         },
         {
          "ECDF": 0.5,
          "Test": "FLEX",
          "Variable": "Force (kg)",
          "value": 16.601274429006867
         },
         {
          "ECDF": 0.21739130434782608,
          "Test": "FLEX",
          "Variable": "Force (kg)",
          "value": 14.138851438989546
         },
         {
          "ECDF": 0.010869565217391304,
          "Test": "FLEX",
          "Variable": "Force (kg)",
          "value": 8.86648094900495
         },
         {
          "ECDF": 0.2391304347826087,
          "Test": "FLEX",
          "Variable": "Force (kg)",
          "value": 14.354695544115033
         },
         {
          "ECDF": 0.31521739130434784,
          "Test": "FLEX",
          "Variable": "Force (kg)",
          "value": 15.566200253801826
         },
         {
          "ECDF": 0.40217391304347827,
          "Test": "FLEX",
          "Variable": "Force (kg)",
          "value": 15.95994659415804
         },
         {
          "ECDF": 0.5760869565217391,
          "Test": "FLEX",
          "Variable": "Force (kg)",
          "value": 16.969606790928836
         },
         {
          "ECDF": 0.5543478260869565,
          "Test": "FLEX",
          "Variable": "Force (kg)",
          "value": 16.739134463905103
         },
         {
          "ECDF": 0.44565217391304346,
          "Test": "FLEX",
          "Variable": "Force (kg)",
          "value": 16.243759105920205
         },
         {
          "ECDF": 0.8369565217391305,
          "Test": "FLEX",
          "Variable": "Force (kg)",
          "value": 20.56558554958384
         },
         {
          "ECDF": 0.8913043478260869,
          "Test": "FLEX",
          "Variable": "Force (kg)",
          "value": 21.33119492796826
         },
         {
          "ECDF": 0.29347826086956524,
          "Test": "FLEX",
          "Variable": "Force (kg)",
          "value": 15.242500710899705
         },
         {
          "ECDF": 0.25,
          "Test": "FLEX",
          "Variable": "Force (kg)",
          "value": 14.80910717002114
         },
         {
          "ECDF": 0.5108695652173914,
          "Test": "FLEX",
          "Variable": "Force (kg)",
          "value": 16.664935077854654
         },
         {
          "ECDF": 0.14130434782608695,
          "Test": "FLEX",
          "Variable": "Force (kg)",
          "value": 13.466118970706129
         },
         {
          "ECDF": 0.42391304347826086,
          "Test": "FLEX",
          "Variable": "Force (kg)",
          "value": 16.055438993956106
         },
         {
          "ECDF": 0.41304347826086957,
          "Test": "FLEX",
          "Variable": "Force (kg)",
          "value": 16.02729721973902
         },
         {
          "ECDF": 0.6847826086956522,
          "Test": "FLEX",
          "Variable": "Force (kg)",
          "value": 18.081364230233593
         },
         {
          "ECDF": 0.021739130434782608,
          "Test": "FLEX",
          "Variable": "Force (kg)",
          "value": 9.399872916403286
         },
         {
          "ECDF": 0.2608695652173913,
          "Test": "FLEX",
          "Variable": "Force (kg)",
          "value": 14.897735880818113
         },
         {
          "ECDF": 0.532608695652174,
          "Test": "FLEX",
          "Variable": "Force (kg)",
          "value": 16.70368875938525
         },
         {
          "ECDF": 0.8804347826086957,
          "Test": "FLEX",
          "Variable": "Force (kg)",
          "value": 21.190602211244414
         },
         {
          "ECDF": 0.391304347826087,
          "Test": "FLEX",
          "Variable": "Force (kg)",
          "value": 15.949038113941242
         },
         {
          "ECDF": 1,
          "Test": "FLEX",
          "Variable": "Force (kg)",
          "value": 29.75297781129124
         },
         {
          "ECDF": 0.782608695652174,
          "Test": "FLEX",
          "Variable": "Force (kg)",
          "value": 20.35888871094435
         },
         {
          "ECDF": 0.5217391304347826,
          "Test": "FLEX",
          "Variable": "Force (kg)",
          "value": 16.70285269054636
         },
         {
          "ECDF": 0.32608695652173914,
          "Test": "FLEX",
          "Variable": "Force (kg)",
          "value": 15.59827811215645
         },
         {
          "ECDF": 0.4891304347826087,
          "Test": "FLEX",
          "Variable": "Force (kg)",
          "value": 16.599896514009338
         },
         {
          "ECDF": 0.7282608695652174,
          "Test": "FLEX",
          "Variable": "Force (kg)",
          "value": 18.869573101873602
         },
         {
          "ECDF": 0.6304347826086957,
          "Test": "FLEX",
          "Variable": "Force (kg)",
          "value": 17.5255134919798
         },
         {
          "ECDF": 0.717391304347826,
          "Test": "FLEX",
          "Variable": "Force (kg)",
          "value": 18.866952133542274
         },
         {
          "ECDF": 0.9347826086956522,
          "Test": "FLEX",
          "Variable": "Force (kg)",
          "value": 22.21642464712814
         },
         {
          "ECDF": 0.09782608695652174,
          "Test": "FLEX",
          "Variable": "Force (kg)",
          "value": 12.439404525626918
         },
         {
          "ECDF": 0.7934782608695652,
          "Test": "FLEX",
          "Variable": "Force (kg)",
          "value": 20.40796043770755
         },
         {
          "ECDF": 0.07608695652173914,
          "Test": "FLEX",
          "Variable": "Force (kg)",
          "value": 11.895653193422634
         },
         {
          "ECDF": 0.6195652173913043,
          "Test": "FLEX",
          "Variable": "Force (kg)",
          "value": 17.33031704727718
         },
         {
          "ECDF": 0.5652173913043478,
          "Test": "FLEX",
          "Variable": "Force (kg)",
          "value": 16.911721753215076
         },
         {
          "ECDF": 0.5978260869565217,
          "Test": "FLEX",
          "Variable": "Force (kg)",
          "value": 17.312395541500834
         },
         {
          "ECDF": 0.7717391304347826,
          "Test": "FLEX",
          "Variable": "Force (kg)",
          "value": 19.95036922087305
         },
         {
          "ECDF": 0.17391304347826086,
          "Test": "FLEX",
          "Variable": "Force (kg)",
          "value": 13.692656281748532
         },
         {
          "ECDF": 0.7608695652173914,
          "Test": "FLEX",
          "Variable": "Force (kg)",
          "value": 19.73177009217935
         },
         {
          "ECDF": 0.1956521739130435,
          "Test": "FLEX",
          "Variable": "Force (kg)",
          "value": 14.053594430334233
         },
         {
          "ECDF": 0.9565217391304348,
          "Test": "FLEX",
          "Variable": "Force (kg)",
          "value": 23.013488289905823
         },
         {
          "ECDF": 0.33695652173913043,
          "Test": "FLEX",
          "Variable": "Force (kg)",
          "value": 15.636032917809917
         },
         {
          "ECDF": 0.9456521739130435,
          "Test": "FLEX",
          "Variable": "Force (kg)",
          "value": 22.776247588102514
         },
         {
          "ECDF": 0.7391304347826086,
          "Test": "FLEX",
          "Variable": "Force (kg)",
          "value": 19.093120705687603
         },
         {
          "ECDF": 0.18478260869565216,
          "Test": "FLEX",
          "Variable": "Force (kg)",
          "value": 13.788944131328641
         },
         {
          "ECDF": 0.8152173913043478,
          "Test": "FLEX",
          "Variable": "Force (kg)",
          "value": 20.483051221376815
         },
         {
          "ECDF": 0.16304347826086957,
          "Test": "FLEX",
          "Variable": "Force (kg)",
          "value": 13.688732862788665
         },
         {
          "ECDF": 0.5434782608695652,
          "Test": "FLEX",
          "Variable": "Force (kg)",
          "value": 16.727538473884884
         },
         {
          "ECDF": 0.9782608695652174,
          "Test": "FLEX",
          "Variable": "Force (kg)",
          "value": 23.307011075617545
         },
         {
          "ECDF": 0.6413043478260869,
          "Test": "FLEX",
          "Variable": "Force (kg)",
          "value": 17.55395147394402
         },
         {
          "ECDF": 0.8695652173913043,
          "Test": "FLEX",
          "Variable": "Force (kg)",
          "value": 21.140136621788
         },
         {
          "ECDF": 0.6521739130434783,
          "Test": "FLEX",
          "Variable": "Force (kg)",
          "value": 17.9156025908236
         },
         {
          "ECDF": 0.6739130434782609,
          "Test": "FLEX",
          "Variable": "Force (kg)",
          "value": 18.0273788351307
         },
         {
          "ECDF": 0.34782608695652173,
          "Test": "FLEX",
          "Variable": "Force (kg)",
          "value": 15.805427230861545
         },
         {
          "ECDF": 0.45652173913043476,
          "Test": "FLEX",
          "Variable": "Force (kg)",
          "value": 16.27166356483217
         },
         {
          "ECDF": 0.6086956521739131,
          "Test": "FLEX",
          "Variable": "Force (kg)",
          "value": 17.322883874360002
         },
         {
          "ECDF": 0.2826086956521739,
          "Test": "FLEX",
          "Variable": "Force (kg)",
          "value": 15.220000219582168
         },
         {
          "ECDF": 0.358695652173913,
          "Test": "FLEX",
          "Variable": "Force (kg)",
          "value": 15.85631048492096
         },
         {
          "ECDF": 0.11956521739130435,
          "Test": "FLEX",
          "Variable": "Force (kg)",
          "value": 13.073284491672718
         },
         {
          "ECDF": 0.05434782608695652,
          "Test": "FLEX",
          "Variable": "Force (kg)",
          "value": 11.824460626418494
         },
         {
          "ECDF": 0.15217391304347827,
          "Test": "FLEX",
          "Variable": "Force (kg)",
          "value": 13.502881236021725
         },
         {
          "ECDF": 0.30434782608695654,
          "Test": "FLEX",
          "Variable": "Force (kg)",
          "value": 15.530353863451493
         },
         {
          "ECDF": 0.9891304347826086,
          "Test": "FLEX",
          "Variable": "Force (kg)",
          "value": 23.63365009143975
         },
         {
          "ECDF": 0.10869565217391304,
          "Test": "FLEX",
          "Variable": "Force (kg)",
          "value": 12.693532057905665
         },
         {
          "ECDF": 0.75,
          "Test": "FLEX",
          "Variable": "Force (kg)",
          "value": 19.36858981707285
         },
         {
          "ECDF": 0.9021739130434783,
          "Test": "FLEX",
          "Variable": "Force (kg)",
          "value": 21.78447835196819
         },
         {
          "ECDF": 0.43478260869565216,
          "Test": "FLEX",
          "Variable": "Force (kg)",
          "value": 16.08961658464596
         },
         {
          "ECDF": 0.08695652173913043,
          "Test": "FLEX",
          "Variable": "Force (kg)",
          "value": 12.00996273273659
         },
         {
          "ECDF": 0.5869565217391305,
          "Test": "FLEX",
          "Variable": "Force (kg)",
          "value": 17.061841506276835
         },
         {
          "ECDF": 0.3804347826086957,
          "Test": "FLEX",
          "Variable": "Force (kg)",
          "value": 15.942532600066006
         },
         {
          "ECDF": 0.8043478260869565,
          "Test": "FLEX",
          "Variable": "Force (kg)",
          "value": 20.43957817732739
         },
         {
          "ECDF": 0.967391304347826,
          "Test": "FLEX",
          "Variable": "Force (kg)",
          "value": 23.242241895410725
         },
         {
          "ECDF": 0.4673913043478261,
          "Test": "FLEX",
          "Variable": "Force (kg)",
          "value": 16.506055316152576
         },
         {
          "ECDF": 0.7065217391304348,
          "Test": "FLEX",
          "Variable": "Force (kg)",
          "value": 18.46515659601392
         },
         {
          "ECDF": 0.06521739130434782,
          "Test": "FLEX",
          "Variable": "Force (kg)",
          "value": 11.883890745269616
         },
         {
          "ECDF": 0.2717391304347826,
          "Test": "FLEX",
          "Variable": "Force (kg)",
          "value": 14.964011907992766
         },
         {
          "ECDF": 0.6956521739130435,
          "Test": "FLEX",
          "Variable": "Force (kg)",
          "value": 18.43006905982212
         },
         {
          "ECDF": 0.13043478260869565,
          "Test": "FLEX",
          "Variable": "Force (kg)",
          "value": 13.109990261306764
         },
         {
          "ECDF": 0.8586956521739131,
          "Test": "FLEX",
          "Variable": "Force (kg)",
          "value": 20.618313271652184
         },
         {
          "ECDF": 0.9130434782608695,
          "Test": "FLEX",
          "Variable": "Force (kg)",
          "value": 21.784698749932932
         },
         {
          "ECDF": 0.08695652173913043,
          "Test": "ADD",
          "Variable": "Imbalance (%)",
          "value": 0.7141612959414744
         },
         {
          "ECDF": 0.45652173913043476,
          "Test": "ADD",
          "Variable": "Imbalance (%)",
          "value": 3.41588385994877
         },
         {
          "ECDF": 0.31521739130434784,
          "Test": "ADD",
          "Variable": "Imbalance (%)",
          "value": 2.4366085578446937
         },
         {
          "ECDF": 0.717391304347826,
          "Test": "ADD",
          "Variable": "Imbalance (%)",
          "value": 6.535488404778644
         },
         {
          "ECDF": 0.5869565217391305,
          "Test": "ADD",
          "Variable": "Imbalance (%)",
          "value": 5.1286601597160555
         },
         {
          "ECDF": 0.010869565217391304,
          "Test": "ADD",
          "Variable": "Imbalance (%)",
          "value": 0
         },
         {
          "ECDF": 0.2391304347826087,
          "Test": "ADD",
          "Variable": "Imbalance (%)",
          "value": 2.136514983351841
         },
         {
          "ECDF": 0.5760869565217391,
          "Test": "ADD",
          "Variable": "Imbalance (%)",
          "value": 4.918032786885221
         },
         {
          "ECDF": 0.14130434782608695,
          "Test": "ADD",
          "Variable": "Imbalance (%)",
          "value": 1.138697031920858
         },
         {
          "ECDF": 0.043478260869565216,
          "Test": "ADD",
          "Variable": "Imbalance (%)",
          "value": 0.43189881227826044
         },
         {
          "ECDF": 0.5108695652173914,
          "Test": "ADD",
          "Variable": "Imbalance (%)",
          "value": 3.9854191980558973
         },
         {
          "ECDF": 0.6413043478260869,
          "Test": "ADD",
          "Variable": "Imbalance (%)",
          "value": 5.796460176991141
         },
         {
          "ECDF": 0.9565217391304348,
          "Test": "ADD",
          "Variable": "Imbalance (%)",
          "value": 12.215320910973091
         },
         {
          "ECDF": 0.967391304347826,
          "Test": "ADD",
          "Variable": "Imbalance (%)",
          "value": 13.061916878710775
         },
         {
          "ECDF": 0.6956521739130435,
          "Test": "ADD",
          "Variable": "Imbalance (%)",
          "value": 6.108597285067877
         },
         {
          "ECDF": 0.9239130434782609,
          "Test": "ADD",
          "Variable": "Imbalance (%)",
          "value": 10.79104808331487
         },
         {
          "ECDF": 0.9021739130434783,
          "Test": "ADD",
          "Variable": "Imbalance (%)",
          "value": 10.235490450584091
         },
         {
          "ECDF": 0.41304347826086957,
          "Test": "ADD",
          "Variable": "Imbalance (%)",
          "value": 3.0985373364126234
         },
         {
          "ECDF": 0.30434782608695654,
          "Test": "ADD",
          "Variable": "Imbalance (%)",
          "value": 2.435470441298924
         },
         {
          "ECDF": 0.09782608695652174,
          "Test": "ADD",
          "Variable": "Imbalance (%)",
          "value": 0.7877041306436261
         },
         {
          "ECDF": 0.6739130434782609,
          "Test": "ADD",
          "Variable": "Imbalance (%)",
          "value": 5.911002878016382
         },
         {
          "ECDF": 0.21739130434782608,
          "Test": "ADD",
          "Variable": "Imbalance (%)",
          "value": 1.9956760352569411
         },
         {
          "ECDF": 0.4673913043478261,
          "Test": "ADD",
          "Variable": "Imbalance (%)",
          "value": 3.565525383707196
         },
         {
          "ECDF": 1,
          "Test": "ADD",
          "Variable": "Imbalance (%)",
          "value": 16.242143565994034
         },
         {
          "ECDF": 0.40217391304347827,
          "Test": "ADD",
          "Variable": "Imbalance (%)",
          "value": 3.0847704639300404
         },
         {
          "ECDF": 0.5434782608695652,
          "Test": "ADD",
          "Variable": "Imbalance (%)",
          "value": 4.161804745235322
         },
         {
          "ECDF": 0.33695652173913043,
          "Test": "ADD",
          "Variable": "Imbalance (%)",
          "value": 2.5630425795783283
         },
         {
          "ECDF": 0.5978260869565217,
          "Test": "ADD",
          "Variable": "Imbalance (%)",
          "value": 5.281090289608174
         },
         {
          "ECDF": 0.9782608695652174,
          "Test": "ADD",
          "Variable": "Imbalance (%)",
          "value": 13.142505386272715
         },
         {
          "ECDF": 0.8695652173913043,
          "Test": "ADD",
          "Variable": "Imbalance (%)",
          "value": 9.541731237547047
         },
         {
          "ECDF": 0.20652173913043478,
          "Test": "ADD",
          "Variable": "Imbalance (%)",
          "value": 1.9668337832626381
         },
         {
          "ECDF": 0.7391304347826086,
          "Test": "ADD",
          "Variable": "Imbalance (%)",
          "value": 6.94444444444444
         },
         {
          "ECDF": 0.8152173913043478,
          "Test": "ADD",
          "Variable": "Imbalance (%)",
          "value": 8.280254777070056
         },
         {
          "ECDF": 0.3804347826086957,
          "Test": "ADD",
          "Variable": "Imbalance (%)",
          "value": 2.941176470588232
         },
         {
          "ECDF": 0.22826086956521738,
          "Test": "ADD",
          "Variable": "Imbalance (%)",
          "value": 2.0325203252032424
         },
         {
          "ECDF": 0.5,
          "Test": "ADD",
          "Variable": "Imbalance (%)",
          "value": 3.914590747330963
         },
         {
          "ECDF": 0.8586956521739131,
          "Test": "ADD",
          "Variable": "Imbalance (%)",
          "value": 9.407665505226463
         },
         {
          "ECDF": 0.7065217391304348,
          "Test": "ADD",
          "Variable": "Imbalance (%)",
          "value": 6.2015503875968925
         },
         {
          "ECDF": 0.6521739130434783,
          "Test": "ADD",
          "Variable": "Imbalance (%)",
          "value": 5.882352941176464
         },
         {
          "ECDF": 0.6630434782608695,
          "Test": "ADD",
          "Variable": "Imbalance (%)",
          "value": 5.88235294117647
         },
         {
          "ECDF": 0.1956521739130435,
          "Test": "ADD",
          "Variable": "Imbalance (%)",
          "value": 1.9171597633136095
         },
         {
          "ECDF": 0.11956521739130435,
          "Test": "ADD",
          "Variable": "Imbalance (%)",
          "value": 1.0622406639004023
         },
         {
          "ECDF": 0.8260869565217391,
          "Test": "ADD",
          "Variable": "Imbalance (%)",
          "value": 8.389012620638434
         },
         {
          "ECDF": 0.17391304347826086,
          "Test": "ADD",
          "Variable": "Imbalance (%)",
          "value": 1.768246802106842
         },
         {
          "ECDF": 0.8043478260869565,
          "Test": "ADD",
          "Variable": "Imbalance (%)",
          "value": 8.022774327122157
         },
         {
          "ECDF": 0.7608695652173914,
          "Test": "ADD",
          "Variable": "Imbalance (%)",
          "value": 7.2935703605249955
         },
         {
          "ECDF": 0.25,
          "Test": "ADD",
          "Variable": "Imbalance (%)",
          "value": 2.141082011087757
         },
         {
          "ECDF": 0.6195652173913043,
          "Test": "ADD",
          "Variable": "Imbalance (%)",
          "value": 5.445544554455436
         },
         {
          "ECDF": 0.782608695652174,
          "Test": "ADD",
          "Variable": "Imbalance (%)",
          "value": 7.4918566775244235
         },
         {
          "ECDF": 0.75,
          "Test": "ADD",
          "Variable": "Imbalance (%)",
          "value": 7.133757961783446
         },
         {
          "ECDF": 0.5543478260869565,
          "Test": "ADD",
          "Variable": "Imbalance (%)",
          "value": 4.4736430470827395
         },
         {
          "ECDF": 0.5217391304347826,
          "Test": "ADD",
          "Variable": "Imbalance (%)",
          "value": 4.000987898246498
         },
         {
          "ECDF": 0.42391304347826086,
          "Test": "ADD",
          "Variable": "Imbalance (%)",
          "value": 3.232758620689656
         },
         {
          "ECDF": 0.13043478260869565,
          "Test": "ADD",
          "Variable": "Imbalance (%)",
          "value": 1.114112086428091
         },
         {
          "ECDF": 0.18478260869565216,
          "Test": "ADD",
          "Variable": "Imbalance (%)",
          "value": 1.8730316592076905
         },
         {
          "ECDF": 0.4782608695652174,
          "Test": "ADD",
          "Variable": "Imbalance (%)",
          "value": 3.7325038880248926
         },
         {
          "ECDF": 0.07608695652173914,
          "Test": "ADD",
          "Variable": "Imbalance (%)",
          "value": 0.7138722747443508
         },
         {
          "ECDF": 0.7282608695652174,
          "Test": "ADD",
          "Variable": "Imbalance (%)",
          "value": 6.645962732919264
         },
         {
          "ECDF": 0.32608695652173914,
          "Test": "ADD",
          "Variable": "Imbalance (%)",
          "value": 2.559241706161143
         },
         {
          "ECDF": 0.8369565217391305,
          "Test": "ADD",
          "Variable": "Imbalance (%)",
          "value": 8.492822966507179
         },
         {
          "ECDF": 0.6304347826086957,
          "Test": "ADD",
          "Variable": "Imbalance (%)",
          "value": 5.664981697751439
         },
         {
          "ECDF": 0.9456521739130435,
          "Test": "ADD",
          "Variable": "Imbalance (%)",
          "value": 11.658744058043524
         },
         {
          "ECDF": 0.3695652173913043,
          "Test": "ADD",
          "Variable": "Imbalance (%)",
          "value": 2.835168149600354
         },
         {
          "ECDF": 0.03260869565217391,
          "Test": "ADD",
          "Variable": "Imbalance (%)",
          "value": 0.19749835418039885
         },
         {
          "ECDF": 0.44565217391304346,
          "Test": "ADD",
          "Variable": "Imbalance (%)",
          "value": 3.3935817041682
         },
         {
          "ECDF": 0.9347826086956522,
          "Test": "ADD",
          "Variable": "Imbalance (%)",
          "value": 11.251758087201114
         },
         {
          "ECDF": 0.2717391304347826,
          "Test": "ADD",
          "Variable": "Imbalance (%)",
          "value": 2.2759350741002233
         },
         {
          "ECDF": 0.8804347826086957,
          "Test": "ADD",
          "Variable": "Imbalance (%)",
          "value": 9.55675675675675
         },
         {
          "ECDF": 0.16304347826086957,
          "Test": "ADD",
          "Variable": "Imbalance (%)",
          "value": 1.6035708381550784
         },
         {
          "ECDF": 0.06521739130434782,
          "Test": "ADD",
          "Variable": "Imbalance (%)",
          "value": 0.5690161527165911
         },
         {
          "ECDF": 0.43478260869565216,
          "Test": "ADD",
          "Variable": "Imbalance (%)",
          "value": 3.350462487153136
         },
         {
          "ECDF": 0.358695652173913,
          "Test": "ADD",
          "Variable": "Imbalance (%)",
          "value": 2.760805612129458
         },
         {
          "ECDF": 0.2608695652173913,
          "Test": "ADD",
          "Variable": "Imbalance (%)",
          "value": 2.248475609756092
         },
         {
          "ECDF": 0.7717391304347826,
          "Test": "ADD",
          "Variable": "Imbalance (%)",
          "value": 7.3784891665040115
         },
         {
          "ECDF": 0.29347826086956524,
          "Test": "ADD",
          "Variable": "Imbalance (%)",
          "value": 2.4059882373908477
         },
         {
          "ECDF": 0.8913043478260869,
          "Test": "ADD",
          "Variable": "Imbalance (%)",
          "value": 9.817642069550468
         },
         {
          "ECDF": 0.5652173913043478,
          "Test": "ADD",
          "Variable": "Imbalance (%)",
          "value": 4.893031137470867
         },
         {
          "ECDF": 0.4891304347826087,
          "Test": "ADD",
          "Variable": "Imbalance (%)",
          "value": 3.8255033557047
         },
         {
          "ECDF": 0.6847826086956522,
          "Test": "ADD",
          "Variable": "Imbalance (%)",
          "value": 5.948035215804169
         },
         {
          "ECDF": 0.021739130434782608,
          "Test": "ADD",
          "Variable": "Imbalance (%)",
          "value": 0.10020040080161183
         },
         {
          "ECDF": 0.391304347826087,
          "Test": "ADD",
          "Variable": "Imbalance (%)",
          "value": 3.016292382210479
         },
         {
          "ECDF": 0.8478260869565217,
          "Test": "ADD",
          "Variable": "Imbalance (%)",
          "value": 9.059152305542618
         },
         {
          "ECDF": 0.10869565217391304,
          "Test": "ADD",
          "Variable": "Imbalance (%)",
          "value": 0.7961488613219684
         },
         {
          "ECDF": 0.05434782608695652,
          "Test": "ADD",
          "Variable": "Imbalance (%)",
          "value": 0.4740834386852054
         },
         {
          "ECDF": 0.6086956521739131,
          "Test": "ADD",
          "Variable": "Imbalance (%)",
          "value": 5.364511691884458
         },
         {
          "ECDF": 0.34782608695652173,
          "Test": "ADD",
          "Variable": "Imbalance (%)",
          "value": 2.6521656172486052
         },
         {
          "ECDF": 0.7934782608695652,
          "Test": "ADD",
          "Variable": "Imbalance (%)",
          "value": 7.951070336391465
         },
         {
          "ECDF": 0.9130434782608695,
          "Test": "ADD",
          "Variable": "Imbalance (%)",
          "value": 10.512320510547777
         },
         {
          "ECDF": 0.9891304347826086,
          "Test": "ADD",
          "Variable": "Imbalance (%)",
          "value": 13.784461152882196
         },
         {
          "ECDF": 0.2826086956521739,
          "Test": "ADD",
          "Variable": "Imbalance (%)",
          "value": 2.324966974900922
         },
         {
          "ECDF": 0.15217391304347827,
          "Test": "ADD",
          "Variable": "Imbalance (%)",
          "value": 1.2161504783525128
         },
         {
          "ECDF": 0.532608695652174,
          "Test": "ADD",
          "Variable": "Imbalance (%)",
          "value": 4.024297646165544
         },
         {
          "ECDF": 0.9347826086956522,
          "Test": "ABD",
          "Variable": "Imbalance (%)",
          "value": 13.028764805414545
         },
         {
          "ECDF": 0.9456521739130435,
          "Test": "ABD",
          "Variable": "Imbalance (%)",
          "value": 13.341671878257245
         },
         {
          "ECDF": 0.010869565217391304,
          "Test": "ABD",
          "Variable": "Imbalance (%)",
          "value": 0.08567144998929845
         },
         {
          "ECDF": 1,
          "Test": "ABD",
          "Variable": "Imbalance (%)",
          "value": 24.08045977011495
         },
         {
          "ECDF": 0.8695652173913043,
          "Test": "ABD",
          "Variable": "Imbalance (%)",
          "value": 12.139957471486559
         },
         {
          "ECDF": 0.717391304347826,
          "Test": "ABD",
          "Variable": "Imbalance (%)",
          "value": 8.096676737160143
         },
         {
          "ECDF": 0.8804347826086957,
          "Test": "ABD",
          "Variable": "Imbalance (%)",
          "value": 12.167657178604932
         },
         {
          "ECDF": 0.9782608695652174,
          "Test": "ABD",
          "Variable": "Imbalance (%)",
          "value": 19.546673165976113
         },
         {
          "ECDF": 0.391304347826087,
          "Test": "ABD",
          "Variable": "Imbalance (%)",
          "value": 3.4534534534534664
         },
         {
          "ECDF": 0.021739130434782608,
          "Test": "ABD",
          "Variable": "Imbalance (%)",
          "value": 0.20717131474103145
         },
         {
          "ECDF": 0.40217391304347827,
          "Test": "ABD",
          "Variable": "Imbalance (%)",
          "value": 3.506837229819154
         },
         {
          "ECDF": 0.9891304347826086,
          "Test": "ABD",
          "Variable": "Imbalance (%)",
          "value": 19.976218787158153
         },
         {
          "ECDF": 0.9130434782608695,
          "Test": "ABD",
          "Variable": "Imbalance (%)",
          "value": 12.611683848797245
         },
         {
          "ECDF": 0.9565217391304348,
          "Test": "ABD",
          "Variable": "Imbalance (%)",
          "value": 13.639417693169095
         },
         {
          "ECDF": 0.5760869565217391,
          "Test": "ABD",
          "Variable": "Imbalance (%)",
          "value": 5.255805832023724
         },
         {
          "ECDF": 0.06521739130434782,
          "Test": "ABD",
          "Variable": "Imbalance (%)",
          "value": 0.5386875612144907
         },
         {
          "ECDF": 0.22826086956521738,
          "Test": "ABD",
          "Variable": "Imbalance (%)",
          "value": 2.407796674947443
         },
         {
          "ECDF": 0.6956521739130435,
          "Test": "ABD",
          "Variable": "Imbalance (%)",
          "value": 7.996344528215675
         },
         {
          "ECDF": 0.7934782608695652,
          "Test": "ABD",
          "Variable": "Imbalance (%)",
          "value": 9.68946999766519
         },
         {
          "ECDF": 0.1956521739130435,
          "Test": "ABD",
          "Variable": "Imbalance (%)",
          "value": 2.306648575305285
         },
         {
          "ECDF": 0.17391304347826086,
          "Test": "ABD",
          "Variable": "Imbalance (%)",
          "value": 1.6454749439042657
         },
         {
          "ECDF": 0.44565217391304346,
          "Test": "ABD",
          "Variable": "Imbalance (%)",
          "value": 3.8360483447188467
         },
         {
          "ECDF": 0.5652173913043478,
          "Test": "ABD",
          "Variable": "Imbalance (%)",
          "value": 5.203452527743544
         },
         {
          "ECDF": 0.6413043478260869,
          "Test": "ABD",
          "Variable": "Imbalance (%)",
          "value": 5.795866183677811
         },
         {
          "ECDF": 0.8913043478260869,
          "Test": "ABD",
          "Variable": "Imbalance (%)",
          "value": 12.174179699478707
         },
         {
          "ECDF": 0.32608695652173914,
          "Test": "ABD",
          "Variable": "Imbalance (%)",
          "value": 2.8732394366197034
         },
         {
          "ECDF": 0.25,
          "Test": "ABD",
          "Variable": "Imbalance (%)",
          "value": 2.505259131765145
         },
         {
          "ECDF": 0.6195652173913043,
          "Test": "ABD",
          "Variable": "Imbalance (%)",
          "value": 5.626406601650409
         },
         {
          "ECDF": 0.3804347826086957,
          "Test": "ABD",
          "Variable": "Imbalance (%)",
          "value": 3.3377250768555076
         },
         {
          "ECDF": 0.9021739130434783,
          "Test": "ABD",
          "Variable": "Imbalance (%)",
          "value": 12.380122057541422
         },
         {
          "ECDF": 0.5108695652173914,
          "Test": "ABD",
          "Variable": "Imbalance (%)",
          "value": 4.524361948955917
         },
         {
          "ECDF": 0.7608695652173914,
          "Test": "ABD",
          "Variable": "Imbalance (%)",
          "value": 8.71080139372822
         },
         {
          "ECDF": 0.05434782608695652,
          "Test": "ABD",
          "Variable": "Imbalance (%)",
          "value": 0.3533568904593575
         },
         {
          "ECDF": 0.2717391304347826,
          "Test": "ABD",
          "Variable": "Imbalance (%)",
          "value": 2.564102564102561
         },
         {
          "ECDF": 0.8152173913043478,
          "Test": "ABD",
          "Variable": "Imbalance (%)",
          "value": 10.655737704918035
         },
         {
          "ECDF": 0.43478260869565216,
          "Test": "ABD",
          "Variable": "Imbalance (%)",
          "value": 3.703703703703707
         },
         {
          "ECDF": 0.3695652173913043,
          "Test": "ABD",
          "Variable": "Imbalance (%)",
          "value": 3.3057851239669382
         },
         {
          "ECDF": 0.8043478260869565,
          "Test": "ABD",
          "Variable": "Imbalance (%)",
          "value": 10.041841004184104
         },
         {
          "ECDF": 0.358695652173913,
          "Test": "ABD",
          "Variable": "Imbalance (%)",
          "value": 3.2258064516128995
         },
         {
          "ECDF": 0.8260869565217391,
          "Test": "ABD",
          "Variable": "Imbalance (%)",
          "value": 11.029411764705882
         },
         {
          "ECDF": 0.5,
          "Test": "ABD",
          "Variable": "Imbalance (%)",
          "value": 4.517133956386283
         },
         {
          "ECDF": 0.6847826086956522,
          "Test": "ABD",
          "Variable": "Imbalance (%)",
          "value": 7.191341038341567
         },
         {
          "ECDF": 0.15217391304347827,
          "Test": "ABD",
          "Variable": "Imbalance (%)",
          "value": 1.4943960149439803
         },
         {
          "ECDF": 0.5543478260869565,
          "Test": "ABD",
          "Variable": "Imbalance (%)",
          "value": 4.738661785641648
         },
         {
          "ECDF": 0.967391304347826,
          "Test": "ABD",
          "Variable": "Imbalance (%)",
          "value": 14.803149606299204
         },
         {
          "ECDF": 0.31521739130434784,
          "Test": "ABD",
          "Variable": "Imbalance (%)",
          "value": 2.8674481514878223
         },
         {
          "ECDF": 0.2826086956521739,
          "Test": "ABD",
          "Variable": "Imbalance (%)",
          "value": 2.831734144629081
         },
         {
          "ECDF": 0.16304347826086957,
          "Test": "ABD",
          "Variable": "Imbalance (%)",
          "value": 1.5606479652311305
         },
         {
          "ECDF": 0.30434782608695654,
          "Test": "ABD",
          "Variable": "Imbalance (%)",
          "value": 2.854494902687661
         },
         {
          "ECDF": 0.5217391304347826,
          "Test": "ABD",
          "Variable": "Imbalance (%)",
          "value": 4.598969830757908
         },
         {
          "ECDF": 0.03260869565217391,
          "Test": "ABD",
          "Variable": "Imbalance (%)",
          "value": 0.2109704641350259
         },
         {
          "ECDF": 0.29347826086956524,
          "Test": "ABD",
          "Variable": "Imbalance (%)",
          "value": 2.847896440129454
         },
         {
          "ECDF": 0.10869565217391304,
          "Test": "ABD",
          "Variable": "Imbalance (%)",
          "value": 0.9668727215089613
         },
         {
          "ECDF": 0.4782608695652174,
          "Test": "ABD",
          "Variable": "Imbalance (%)",
          "value": 4.237775647171625
         },
         {
          "ECDF": 0.75,
          "Test": "ABD",
          "Variable": "Imbalance (%)",
          "value": 8.641114982578399
         },
         {
          "ECDF": 0.4673913043478261,
          "Test": "ABD",
          "Variable": "Imbalance (%)",
          "value": 4.05330372015547
         },
         {
          "ECDF": 0.5434782608695652,
          "Test": "ABD",
          "Variable": "Imbalance (%)",
          "value": 4.702690481573588
         },
         {
          "ECDF": 0.20652173913043478,
          "Test": "ABD",
          "Variable": "Imbalance (%)",
          "value": 2.3097545885749615
         },
         {
          "ECDF": 0.6739130434782609,
          "Test": "ABD",
          "Variable": "Imbalance (%)",
          "value": 6.324686680268159
         },
         {
          "ECDF": 0.21739130434782608,
          "Test": "ABD",
          "Variable": "Imbalance (%)",
          "value": 2.3251622206200424
         },
         {
          "ECDF": 0.5978260869565217,
          "Test": "ABD",
          "Variable": "Imbalance (%)",
          "value": 5.535055350553506
         },
         {
          "ECDF": 0.45652173913043476,
          "Test": "ABD",
          "Variable": "Imbalance (%)",
          "value": 3.893805309734509
         },
         {
          "ECDF": 0.8369565217391305,
          "Test": "ABD",
          "Variable": "Imbalance (%)",
          "value": 11.537550343520495
         },
         {
          "ECDF": 0.7391304347826086,
          "Test": "ABD",
          "Variable": "Imbalance (%)",
          "value": 8.389261744966444
         },
         {
          "ECDF": 0.2391304347826087,
          "Test": "ABD",
          "Variable": "Imbalance (%)",
          "value": 2.4678663239074523
         },
         {
          "ECDF": 0.782608695652174,
          "Test": "ABD",
          "Variable": "Imbalance (%)",
          "value": 9.193011647254583
         },
         {
          "ECDF": 0.532608695652174,
          "Test": "ABD",
          "Variable": "Imbalance (%)",
          "value": 4.605916219972201
         },
         {
          "ECDF": 0.7065217391304348,
          "Test": "ABD",
          "Variable": "Imbalance (%)",
          "value": 8.005796051439964
         },
         {
          "ECDF": 0.07608695652173914,
          "Test": "ABD",
          "Variable": "Imbalance (%)",
          "value": 0.6416304963200498
         },
         {
          "ECDF": 0.2608695652173913,
          "Test": "ABD",
          "Variable": "Imbalance (%)",
          "value": 2.5440749832626657
         },
         {
          "ECDF": 0.13043478260869565,
          "Test": "ABD",
          "Variable": "Imbalance (%)",
          "value": 1.2939001848428804
         },
         {
          "ECDF": 0.5869565217391305,
          "Test": "ABD",
          "Variable": "Imbalance (%)",
          "value": 5.26600054010262
         },
         {
          "ECDF": 0.043478260869565216,
          "Test": "ABD",
          "Variable": "Imbalance (%)",
          "value": 0.23510971786832235
         },
         {
          "ECDF": 0.09782608695652174,
          "Test": "ABD",
          "Variable": "Imbalance (%)",
          "value": 0.8608020155364274
         },
         {
          "ECDF": 0.7282608695652174,
          "Test": "ABD",
          "Variable": "Imbalance (%)",
          "value": 8.382387567694842
         },
         {
          "ECDF": 0.42391304347826086,
          "Test": "ABD",
          "Variable": "Imbalance (%)",
          "value": 3.6253776435045495
         },
         {
          "ECDF": 0.6086956521739131,
          "Test": "ABD",
          "Variable": "Imbalance (%)",
          "value": 5.606544293695127
         },
         {
          "ECDF": 0.4891304347826087,
          "Test": "ABD",
          "Variable": "Imbalance (%)",
          "value": 4.380791912384162
         },
         {
          "ECDF": 0.34782608695652173,
          "Test": "ABD",
          "Variable": "Imbalance (%)",
          "value": 2.897051215726864
         },
         {
          "ECDF": 0.6304347826086957,
          "Test": "ABD",
          "Variable": "Imbalance (%)",
          "value": 5.637149028077772
         },
         {
          "ECDF": 0.7717391304347826,
          "Test": "ABD",
          "Variable": "Imbalance (%)",
          "value": 8.790027938964116
         },
         {
          "ECDF": 0.6521739130434783,
          "Test": "ABD",
          "Variable": "Imbalance (%)",
          "value": 5.811083688579761
         },
         {
          "ECDF": 0.08695652173913043,
          "Test": "ABD",
          "Variable": "Imbalance (%)",
          "value": 0.7114062129475882
         },
         {
          "ECDF": 0.18478260869565216,
          "Test": "ABD",
          "Variable": "Imbalance (%)",
          "value": 2.0472440944882084
         },
         {
          "ECDF": 0.33695652173913043,
          "Test": "ABD",
          "Variable": "Imbalance (%)",
          "value": 2.8914481744670173
         },
         {
          "ECDF": 0.9239130434782609,
          "Test": "ABD",
          "Variable": "Imbalance (%)",
          "value": 12.944457355333483
         },
         {
          "ECDF": 0.14130434782608695,
          "Test": "ABD",
          "Variable": "Imbalance (%)",
          "value": 1.3119533527696905
         },
         {
          "ECDF": 0.6630434782608695,
          "Test": "ABD",
          "Variable": "Imbalance (%)",
          "value": 5.830721003134788
         },
         {
          "ECDF": 0.11956521739130435,
          "Test": "ABD",
          "Variable": "Imbalance (%)",
          "value": 1.0216847372810682
         },
         {
          "ECDF": 0.8586956521739131,
          "Test": "ABD",
          "Variable": "Imbalance (%)",
          "value": 11.970802919708024
         },
         {
          "ECDF": 0.41304347826086957,
          "Test": "ABD",
          "Variable": "Imbalance (%)",
          "value": 3.6198179979777425
         },
         {
          "ECDF": 0.8478260869565217,
          "Test": "ABD",
          "Variable": "Imbalance (%)",
          "value": 11.618606609134934
         },
         {
          "ECDF": 0.20652173913043478,
          "Test": "ER",
          "Variable": "Imbalance (%)",
          "value": 2.261712439418424
         },
         {
          "ECDF": 0.43478260869565216,
          "Test": "ER",
          "Variable": "Imbalance (%)",
          "value": 5.491990846681931
         },
         {
          "ECDF": 0.06521739130434782,
          "Test": "ER",
          "Variable": "Imbalance (%)",
          "value": 0.7215007215007208
         },
         {
          "ECDF": 0.34782608695652173,
          "Test": "ER",
          "Variable": "Imbalance (%)",
          "value": 4.0590405904059
         },
         {
          "ECDF": 0.16304347826086957,
          "Test": "ER",
          "Variable": "Imbalance (%)",
          "value": 1.8508997429305891
         },
         {
          "ECDF": 0.3804347826086957,
          "Test": "ER",
          "Variable": "Imbalance (%)",
          "value": 4.8004314994606245
         },
         {
          "ECDF": 0.09782608695652174,
          "Test": "ER",
          "Variable": "Imbalance (%)",
          "value": 1.132852729145201
         },
         {
          "ECDF": 0.14130434782608695,
          "Test": "ER",
          "Variable": "Imbalance (%)",
          "value": 1.450053705692816
         },
         {
          "ECDF": 0.25,
          "Test": "ER",
          "Variable": "Imbalance (%)",
          "value": 3.3043478260869374
         },
         {
          "ECDF": 0.8695652173913043,
          "Test": "ER",
          "Variable": "Imbalance (%)",
          "value": 14.910313901345285
         },
         {
          "ECDF": 0.5760869565217391,
          "Test": "ER",
          "Variable": "Imbalance (%)",
          "value": 7.514880952380951
         },
         {
          "ECDF": 0.7608695652173914,
          "Test": "ER",
          "Variable": "Imbalance (%)",
          "value": 10.739191073919107
         },
         {
          "ECDF": 0.10869565217391304,
          "Test": "ER",
          "Variable": "Imbalance (%)",
          "value": 1.132852729145201
         },
         {
          "ECDF": 0.358695652173913,
          "Test": "ER",
          "Variable": "Imbalance (%)",
          "value": 4.522613065326627
         },
         {
          "ECDF": 0.44565217391304346,
          "Test": "ER",
          "Variable": "Imbalance (%)",
          "value": 5.549898167006126
         },
         {
          "ECDF": 0.7717391304347826,
          "Test": "ER",
          "Variable": "Imbalance (%)",
          "value": 10.80178173719376
         },
         {
          "ECDF": 0.8913043478260869,
          "Test": "ER",
          "Variable": "Imbalance (%)",
          "value": 17.25826193390452
         },
         {
          "ECDF": 0.15217391304347827,
          "Test": "ER",
          "Variable": "Imbalance (%)",
          "value": 1.5598885793871848
         },
         {
          "ECDF": 0.2391304347826087,
          "Test": "ER",
          "Variable": "Imbalance (%)",
          "value": 3.084832904884315
         },
         {
          "ECDF": 0.05434782608695652,
          "Test": "ER",
          "Variable": "Imbalance (%)",
          "value": 0.7105943152454828
         },
         {
          "ECDF": 0.21739130434782608,
          "Test": "ER",
          "Variable": "Imbalance (%)",
          "value": 2.8457974851091903
         },
         {
          "ECDF": 0.5869565217391305,
          "Test": "ER",
          "Variable": "Imbalance (%)",
          "value": 7.624633431085045
         },
         {
          "ECDF": 0.08695652173913043,
          "Test": "ER",
          "Variable": "Imbalance (%)",
          "value": 0.9420289855072517
         },
         {
          "ECDF": 0.5434782608695652,
          "Test": "ER",
          "Variable": "Imbalance (%)",
          "value": 6.909430438842213
         },
         {
          "ECDF": 0.07608695652173914,
          "Test": "ER",
          "Variable": "Imbalance (%)",
          "value": 0.9312320916905497
         },
         {
          "ECDF": 0.043478260869565216,
          "Test": "ER",
          "Variable": "Imbalance (%)",
          "value": 0.5157593123209214
         },
         {
          "ECDF": 0.4673913043478261,
          "Test": "ER",
          "Variable": "Imbalance (%)",
          "value": 5.995864920744326
         },
         {
          "ECDF": 0.391304347826087,
          "Test": "ER",
          "Variable": "Imbalance (%)",
          "value": 4.804138950480414
         },
         {
          "ECDF": 0.3695652173913043,
          "Test": "ER",
          "Variable": "Imbalance (%)",
          "value": 4.685714285714271
         },
         {
          "ECDF": 0.8804347826086957,
          "Test": "ER",
          "Variable": "Imbalance (%)",
          "value": 15.573770491803284
         },
         {
          "ECDF": 0.6521739130434783,
          "Test": "ER",
          "Variable": "Imbalance (%)",
          "value": 9.32145305003426
         },
         {
          "ECDF": 0.45652173913043476,
          "Test": "ER",
          "Variable": "Imbalance (%)",
          "value": 5.769230769230763
         },
         {
          "ECDF": 0.010869565217391304,
          "Test": "ER",
          "Variable": "Imbalance (%)",
          "value": 0
         },
         {
          "ECDF": 0.5543478260869565,
          "Test": "ER",
          "Variable": "Imbalance (%)",
          "value": 7.000000000000011
         },
         {
          "ECDF": 0.5,
          "Test": "ER",
          "Variable": "Imbalance (%)",
          "value": 6.578947368421057
         },
         {
          "ECDF": 0.021739130434782608,
          "Test": "ER",
          "Variable": "Imbalance (%)",
          "value": 0
         },
         {
          "ECDF": 0.8478260869565217,
          "Test": "ER",
          "Variable": "Imbalance (%)",
          "value": 13.95348837209302
         },
         {
          "ECDF": 0.967391304347826,
          "Test": "ER",
          "Variable": "Imbalance (%)",
          "value": 24.242424242424242
         },
         {
          "ECDF": 0.717391304347826,
          "Test": "ER",
          "Variable": "Imbalance (%)",
          "value": 10
         },
         {
          "ECDF": 0.13043478260869565,
          "Test": "ER",
          "Variable": "Imbalance (%)",
          "value": 1.4084507042253507
         },
         {
          "ECDF": 0.6086956521739131,
          "Test": "ER",
          "Variable": "Imbalance (%)",
          "value": 8.51755526657997
         },
         {
          "ECDF": 0.30434782608695654,
          "Test": "ER",
          "Variable": "Imbalance (%)",
          "value": 3.7190082644628237
         },
         {
          "ECDF": 0.9891304347826086,
          "Test": "ER",
          "Variable": "Imbalance (%)",
          "value": 25.759999999999998
         },
         {
          "ECDF": 0.6739130434782609,
          "Test": "ER",
          "Variable": "Imbalance (%)",
          "value": 9.328177863702267
         },
         {
          "ECDF": 0.2608695652173913,
          "Test": "ER",
          "Variable": "Imbalance (%)",
          "value": 3.3680342927128106
         },
         {
          "ECDF": 0.6413043478260869,
          "Test": "ER",
          "Variable": "Imbalance (%)",
          "value": 8.82175226586103
         },
         {
          "ECDF": 0.5108695652173914,
          "Test": "ER",
          "Variable": "Imbalance (%)",
          "value": 6.605019815059449
         },
         {
          "ECDF": 0.03260869565217391,
          "Test": "ER",
          "Variable": "Imbalance (%)",
          "value": 0.30978934324659735
         },
         {
          "ECDF": 0.5652173913043478,
          "Test": "ER",
          "Variable": "Imbalance (%)",
          "value": 7.087428867046039
         },
         {
          "ECDF": 0.9456521739130435,
          "Test": "ER",
          "Variable": "Imbalance (%)",
          "value": 22.435897435897427
         },
         {
          "ECDF": 0.9565217391304348,
          "Test": "ER",
          "Variable": "Imbalance (%)",
          "value": 23.107836570663096
         },
         {
          "ECDF": 0.5978260869565217,
          "Test": "ER",
          "Variable": "Imbalance (%)",
          "value": 8.259061200237676
         },
         {
          "ECDF": 0.40217391304347827,
          "Test": "ER",
          "Variable": "Imbalance (%)",
          "value": 4.953145917001345
         },
         {
          "ECDF": 0.8586956521739131,
          "Test": "ER",
          "Variable": "Imbalance (%)",
          "value": 14.574898785425106
         },
         {
          "ECDF": 0.6956521739130435,
          "Test": "ER",
          "Variable": "Imbalance (%)",
          "value": 9.662664379645527
         },
         {
          "ECDF": 0.18478260869565216,
          "Test": "ER",
          "Variable": "Imbalance (%)",
          "value": 2.1295876755777012
         },
         {
          "ECDF": 0.1956521739130435,
          "Test": "ER",
          "Variable": "Imbalance (%)",
          "value": 2.164111812443656
         },
         {
          "ECDF": 0.8152173913043478,
          "Test": "ER",
          "Variable": "Imbalance (%)",
          "value": 12.40632805995005
         },
         {
          "ECDF": 0.532608695652174,
          "Test": "ER",
          "Variable": "Imbalance (%)",
          "value": 6.848306332842401
         },
         {
          "ECDF": 0.7391304347826086,
          "Test": "ER",
          "Variable": "Imbalance (%)",
          "value": 10.47404063205418
         },
         {
          "ECDF": 0.6630434782608695,
          "Test": "ER",
          "Variable": "Imbalance (%)",
          "value": 9.323388385721902
         },
         {
          "ECDF": 0.5217391304347826,
          "Test": "ER",
          "Variable": "Imbalance (%)",
          "value": 6.714628297362102
         },
         {
          "ECDF": 0.8369565217391305,
          "Test": "ER",
          "Variable": "Imbalance (%)",
          "value": 13.059250302297446
         },
         {
          "ECDF": 0.32608695652173914,
          "Test": "ER",
          "Variable": "Imbalance (%)",
          "value": 3.826199740596607
         },
         {
          "ECDF": 0.22826086956521738,
          "Test": "ER",
          "Variable": "Imbalance (%)",
          "value": 2.8776978417266155
         },
         {
          "ECDF": 0.2717391304347826,
          "Test": "ER",
          "Variable": "Imbalance (%)",
          "value": 3.371428571428583
         },
         {
          "ECDF": 0.17391304347826086,
          "Test": "ER",
          "Variable": "Imbalance (%)",
          "value": 2.0809898762654693
         },
         {
          "ECDF": 0.782608695652174,
          "Test": "ER",
          "Variable": "Imbalance (%)",
          "value": 11.46051712089448
         },
         {
          "ECDF": 0.7282608695652174,
          "Test": "ER",
          "Variable": "Imbalance (%)",
          "value": 10.3327495621716
         },
         {
          "ECDF": 0.31521739130434784,
          "Test": "ER",
          "Variable": "Imbalance (%)",
          "value": 3.7649743297204643
         },
         {
          "ECDF": 0.6847826086956522,
          "Test": "ER",
          "Variable": "Imbalance (%)",
          "value": 9.501025290498958
         },
         {
          "ECDF": 1,
          "Test": "ER",
          "Variable": "Imbalance (%)",
          "value": 30.266075388026604
         },
         {
          "ECDF": 0.8043478260869565,
          "Test": "ER",
          "Variable": "Imbalance (%)",
          "value": 11.965811965811962
         },
         {
          "ECDF": 0.9130434782608695,
          "Test": "ER",
          "Variable": "Imbalance (%)",
          "value": 18.943089430894307
         },
         {
          "ECDF": 0.11956521739130435,
          "Test": "ER",
          "Variable": "Imbalance (%)",
          "value": 1.291989664082697
         },
         {
          "ECDF": 0.75,
          "Test": "ER",
          "Variable": "Imbalance (%)",
          "value": 10.52631578947367
         },
         {
          "ECDF": 0.6304347826086957,
          "Test": "ER",
          "Variable": "Imbalance (%)",
          "value": 8.77551020408163
         },
         {
          "ECDF": 0.42391304347826086,
          "Test": "ER",
          "Variable": "Imbalance (%)",
          "value": 5.2696838189708615
         },
         {
          "ECDF": 0.4782608695652174,
          "Test": "ER",
          "Variable": "Imbalance (%)",
          "value": 6.356968215158938
         },
         {
          "ECDF": 0.9347826086956522,
          "Test": "ER",
          "Variable": "Imbalance (%)",
          "value": 19.788273615635163
         },
         {
          "ECDF": 0.6195652173913043,
          "Test": "ER",
          "Variable": "Imbalance (%)",
          "value": 8.736559139784948
         },
         {
          "ECDF": 0.4891304347826087,
          "Test": "ER",
          "Variable": "Imbalance (%)",
          "value": 6.554621848739474
         },
         {
          "ECDF": 0.33695652173913043,
          "Test": "ER",
          "Variable": "Imbalance (%)",
          "value": 4.030501089324623
         },
         {
          "ECDF": 0.9021739130434783,
          "Test": "ER",
          "Variable": "Imbalance (%)",
          "value": 17.844611528822053
         },
         {
          "ECDF": 0.9782608695652174,
          "Test": "ER",
          "Variable": "Imbalance (%)",
          "value": 25.257731958762875
         },
         {
          "ECDF": 0.41304347826086957,
          "Test": "ER",
          "Variable": "Imbalance (%)",
          "value": 5.093996361431186
         },
         {
          "ECDF": 0.8260869565217391,
          "Test": "ER",
          "Variable": "Imbalance (%)",
          "value": 13.02785265049417
         },
         {
          "ECDF": 0.7934782608695652,
          "Test": "ER",
          "Variable": "Imbalance (%)",
          "value": 11.557177615571774
         },
         {
          "ECDF": 0.9239130434782609,
          "Test": "ER",
          "Variable": "Imbalance (%)",
          "value": 19.574734208880557
         },
         {
          "ECDF": 0.7065217391304348,
          "Test": "ER",
          "Variable": "Imbalance (%)",
          "value": 9.873617693522903
         },
         {
          "ECDF": 0.2826086956521739,
          "Test": "ER",
          "Variable": "Imbalance (%)",
          "value": 3.5495716034271574
         },
         {
          "ECDF": 0.29347826086956524,
          "Test": "ER",
          "Variable": "Imbalance (%)",
          "value": 3.6891679748822632
         },
         {
          "ECDF": 0.11956521739130435,
          "Test": "IR",
          "Variable": "Imbalance (%)",
          "value": 0.6692160611854595
         },
         {
          "ECDF": 0.7608695652173914,
          "Test": "IR",
          "Variable": "Imbalance (%)",
          "value": 14.583333333333345
         },
         {
          "ECDF": 0.06521739130434782,
          "Test": "IR",
          "Variable": "Imbalance (%)",
          "value": 0.16666666666668098
         },
         {
          "ECDF": 0.43478260869565216,
          "Test": "IR",
          "Variable": "Imbalance (%)",
          "value": 6.7669172932330754
         },
         {
          "ECDF": 0.8913043478260869,
          "Test": "IR",
          "Variable": "Imbalance (%)",
          "value": 19.106217616580306
         },
         {
          "ECDF": 0.21739130434782608,
          "Test": "IR",
          "Variable": "Imbalance (%)",
          "value": 2.8346994535519183
         },
         {
          "ECDF": 0.5652173913043478,
          "Test": "IR",
          "Variable": "Imbalance (%)",
          "value": 9.845890410958901
         },
         {
          "ECDF": 0.9239130434782609,
          "Test": "IR",
          "Variable": "Imbalance (%)",
          "value": 21.246169560776313
         },
         {
          "ECDF": 0.3804347826086957,
          "Test": "IR",
          "Variable": "Imbalance (%)",
          "value": 5.77249575551783
         },
         {
          "ECDF": 0.8152173913043478,
          "Test": "IR",
          "Variable": "Imbalance (%)",
          "value": 15.491866769945775
         },
         {
          "ECDF": 0.25,
          "Test": "IR",
          "Variable": "Imbalance (%)",
          "value": 3.720106288751103
         },
         {
          "ECDF": 0.30434782608695654,
          "Test": "IR",
          "Variable": "Imbalance (%)",
          "value": 4.205900816070319
         },
         {
          "ECDF": 0.5760869565217391,
          "Test": "IR",
          "Variable": "Imbalance (%)",
          "value": 9.845890410958901
         },
         {
          "ECDF": 0.5978260869565217,
          "Test": "IR",
          "Variable": "Imbalance (%)",
          "value": 9.892638036809824
         },
         {
          "ECDF": 0.4782608695652174,
          "Test": "IR",
          "Variable": "Imbalance (%)",
          "value": 7.54022988505748
         },
         {
          "ECDF": 0.9130434782608695,
          "Test": "IR",
          "Variable": "Imbalance (%)",
          "value": 21.09982068141064
         },
         {
          "ECDF": 0.08695652173913043,
          "Test": "IR",
          "Variable": "Imbalance (%)",
          "value": 0.3243243243243146
         },
         {
          "ECDF": 0.3695652173913043,
          "Test": "IR",
          "Variable": "Imbalance (%)",
          "value": 5.434782608695654
         },
         {
          "ECDF": 0.8804347826086957,
          "Test": "IR",
          "Variable": "Imbalance (%)",
          "value": 18.005181347150263
         },
         {
          "ECDF": 0.8695652173913043,
          "Test": "IR",
          "Variable": "Imbalance (%)",
          "value": 17.399766446087966
         },
         {
          "ECDF": 0.8043478260869565,
          "Test": "IR",
          "Variable": "Imbalance (%)",
          "value": 15.467171717171716
         },
         {
          "ECDF": 0.05434782608695652,
          "Test": "IR",
          "Variable": "Imbalance (%)",
          "value": 0.04918839153961802
         },
         {
          "ECDF": 0.33695652173913043,
          "Test": "IR",
          "Variable": "Imbalance (%)",
          "value": 5.273533760473146
         },
         {
          "ECDF": 0.9347826086956522,
          "Test": "IR",
          "Variable": "Imbalance (%)",
          "value": 21.756756756756758
         },
         {
          "ECDF": 0.6521739130434783,
          "Test": "IR",
          "Variable": "Imbalance (%)",
          "value": 11.295418641390214
         },
         {
          "ECDF": 0.5,
          "Test": "IR",
          "Variable": "Imbalance (%)",
          "value": 7.984581497797352
         },
         {
          "ECDF": 0.13043478260869565,
          "Test": "IR",
          "Variable": "Imbalance (%)",
          "value": 0.6849315068493144
         },
         {
          "ECDF": 0.9021739130434783,
          "Test": "IR",
          "Variable": "Imbalance (%)",
          "value": 19.253575165678402
         },
         {
          "ECDF": 0.5108695652173914,
          "Test": "IR",
          "Variable": "Imbalance (%)",
          "value": 8.108108108108116
         },
         {
          "ECDF": 0.09782608695652174,
          "Test": "IR",
          "Variable": "Imbalance (%)",
          "value": 0.3574620196604107
         },
         {
          "ECDF": 0.10869565217391304,
          "Test": "IR",
          "Variable": "Imbalance (%)",
          "value": 0.4934210526315641
         },
         {
          "ECDF": 0.34782608695652173,
          "Test": "IR",
          "Variable": "Imbalance (%)",
          "value": 5.357142857142851
         },
         {
          "ECDF": 0.8478260869565217,
          "Test": "IR",
          "Variable": "Imbalance (%)",
          "value": 17.17171717171717
         },
         {
          "ECDF": 0.75,
          "Test": "IR",
          "Variable": "Imbalance (%)",
          "value": 14.173228346456689
         },
         {
          "ECDF": 0.22826086956521738,
          "Test": "IR",
          "Variable": "Imbalance (%)",
          "value": 2.9126213592233148
         },
         {
          "ECDF": 0.41304347826086957,
          "Test": "IR",
          "Variable": "Imbalance (%)",
          "value": 6.451612903225813
         },
         {
          "ECDF": 0.9891304347826086,
          "Test": "IR",
          "Variable": "Imbalance (%)",
          "value": 29.166666666666668
         },
         {
          "ECDF": 0.7065217391304348,
          "Test": "IR",
          "Variable": "Imbalance (%)",
          "value": 13.580246913580243
         },
         {
          "ECDF": 0.967391304347826,
          "Test": "IR",
          "Variable": "Imbalance (%)",
          "value": 23.68421052631578
         },
         {
          "ECDF": 0.2717391304347826,
          "Test": "IR",
          "Variable": "Imbalance (%)",
          "value": 3.999999999999996
         },
         {
          "ECDF": 0.9782608695652174,
          "Test": "IR",
          "Variable": "Imbalance (%)",
          "value": 23.835616438356162
         },
         {
          "ECDF": 0.010869565217391304,
          "Test": "IR",
          "Variable": "Imbalance (%)",
          "value": 0
         },
         {
          "ECDF": 0.2826086956521739,
          "Test": "IR",
          "Variable": "Imbalance (%)",
          "value": 4.016913319238896
         },
         {
          "ECDF": 0.782608695652174,
          "Test": "IR",
          "Variable": "Imbalance (%)",
          "value": 15.252854812398034
         },
         {
          "ECDF": 0.7934782608695652,
          "Test": "IR",
          "Variable": "Imbalance (%)",
          "value": 15.281501340482578
         },
         {
          "ECDF": 0.45652173913043476,
          "Test": "IR",
          "Variable": "Imbalance (%)",
          "value": 7.158590308370045
         },
         {
          "ECDF": 0.9565217391304348,
          "Test": "IR",
          "Variable": "Imbalance (%)",
          "value": 23.065902578796564
         },
         {
          "ECDF": 0.6195652173913043,
          "Test": "IR",
          "Variable": "Imbalance (%)",
          "value": 10.50972149238044
         },
         {
          "ECDF": 0.18478260869565216,
          "Test": "IR",
          "Variable": "Imbalance (%)",
          "value": 2.4409763905562096
         },
         {
          "ECDF": 1,
          "Test": "IR",
          "Variable": "Imbalance (%)",
          "value": 29.779411764705895
         },
         {
          "ECDF": 0.42391304347826086,
          "Test": "IR",
          "Variable": "Imbalance (%)",
          "value": 6.547085201793721
         },
         {
          "ECDF": 0.391304347826087,
          "Test": "IR",
          "Variable": "Imbalance (%)",
          "value": 6.19146722164411
         },
         {
          "ECDF": 0.07608695652173914,
          "Test": "IR",
          "Variable": "Imbalance (%)",
          "value": 0.27932960893854375
         },
         {
          "ECDF": 0.358695652173913,
          "Test": "IR",
          "Variable": "Imbalance (%)",
          "value": 5.413385826771656
         },
         {
          "ECDF": 0.5217391304347826,
          "Test": "IR",
          "Variable": "Imbalance (%)",
          "value": 8.446251129177975
         },
         {
          "ECDF": 0.20652173913043478,
          "Test": "IR",
          "Variable": "Imbalance (%)",
          "value": 2.7846027846027814
         },
         {
          "ECDF": 0.15217391304347827,
          "Test": "IR",
          "Variable": "Imbalance (%)",
          "value": 2.1986970684039133
         },
         {
          "ECDF": 0.14130434782608695,
          "Test": "IR",
          "Variable": "Imbalance (%)",
          "value": 1.4311270125223599
         },
         {
          "ECDF": 0.6739130434782609,
          "Test": "IR",
          "Variable": "Imbalance (%)",
          "value": 11.57289002557544
         },
         {
          "ECDF": 0.7391304347826086,
          "Test": "IR",
          "Variable": "Imbalance (%)",
          "value": 13.9937106918239
         },
         {
          "ECDF": 0.021739130434782608,
          "Test": "IR",
          "Variable": "Imbalance (%)",
          "value": 0
         },
         {
          "ECDF": 0.8586956521739131,
          "Test": "IR",
          "Variable": "Imbalance (%)",
          "value": 17.2291296625222
         },
         {
          "ECDF": 0.5869565217391305,
          "Test": "IR",
          "Variable": "Imbalance (%)",
          "value": 9.879592466810744
         },
         {
          "ECDF": 0.29347826086956524,
          "Test": "IR",
          "Variable": "Imbalance (%)",
          "value": 4.086425551902309
         },
         {
          "ECDF": 0.5434782608695652,
          "Test": "IR",
          "Variable": "Imbalance (%)",
          "value": 9.56552207428169
         },
         {
          "ECDF": 0.7717391304347826,
          "Test": "IR",
          "Variable": "Imbalance (%)",
          "value": 14.764737696051908
         },
         {
          "ECDF": 0.6847826086956522,
          "Test": "IR",
          "Variable": "Imbalance (%)",
          "value": 11.90476190476191
         },
         {
          "ECDF": 0.2608695652173913,
          "Test": "IR",
          "Variable": "Imbalance (%)",
          "value": 3.7952846463484615
         },
         {
          "ECDF": 0.9456521739130435,
          "Test": "IR",
          "Variable": "Imbalance (%)",
          "value": 22.592592592592588
         },
         {
          "ECDF": 0.6630434782608695,
          "Test": "IR",
          "Variable": "Imbalance (%)",
          "value": 11.394557823129244
         },
         {
          "ECDF": 0.16304347826086957,
          "Test": "IR",
          "Variable": "Imbalance (%)",
          "value": 2.2636484687083978
         },
         {
          "ECDF": 0.7282608695652174,
          "Test": "IR",
          "Variable": "Imbalance (%)",
          "value": 13.849878934624707
         },
         {
          "ECDF": 0.6413043478260869,
          "Test": "IR",
          "Variable": "Imbalance (%)",
          "value": 10.815450643776837
         },
         {
          "ECDF": 0.8369565217391305,
          "Test": "IR",
          "Variable": "Imbalance (%)",
          "value": 16.721932733301756
         },
         {
          "ECDF": 0.8260869565217391,
          "Test": "IR",
          "Variable": "Imbalance (%)",
          "value": 15.56756756756757
         },
         {
          "ECDF": 0.6956521739130435,
          "Test": "IR",
          "Variable": "Imbalance (%)",
          "value": 13.156469951272335
         },
         {
          "ECDF": 0.4673913043478261,
          "Test": "IR",
          "Variable": "Imbalance (%)",
          "value": 7.230693556320696
         },
         {
          "ECDF": 0.6304347826086957,
          "Test": "IR",
          "Variable": "Imbalance (%)",
          "value": 10.6652205350687
         },
         {
          "ECDF": 0.44565217391304346,
          "Test": "IR",
          "Variable": "Imbalance (%)",
          "value": 6.9182389937106805
         },
         {
          "ECDF": 0.31521739130434784,
          "Test": "IR",
          "Variable": "Imbalance (%)",
          "value": 4.24555364314399
         },
         {
          "ECDF": 0.40217391304347827,
          "Test": "IR",
          "Variable": "Imbalance (%)",
          "value": 6.3621533442088065
         },
         {
          "ECDF": 0.32608695652173914,
          "Test": "IR",
          "Variable": "Imbalance (%)",
          "value": 5.010020040080159
         },
         {
          "ECDF": 0.2391304347826087,
          "Test": "IR",
          "Variable": "Imbalance (%)",
          "value": 3.6087369420702715
         },
         {
          "ECDF": 0.043478260869565216,
          "Test": "IR",
          "Variable": "Imbalance (%)",
          "value": 0.03710575139146887
         },
         {
          "ECDF": 0.17391304347826086,
          "Test": "IR",
          "Variable": "Imbalance (%)",
          "value": 2.382528127068164
         },
         {
          "ECDF": 0.532608695652174,
          "Test": "IR",
          "Variable": "Imbalance (%)",
          "value": 9.0128755364807
         },
         {
          "ECDF": 0.717391304347826,
          "Test": "IR",
          "Variable": "Imbalance (%)",
          "value": 13.814274750575606
         },
         {
          "ECDF": 0.5543478260869565,
          "Test": "IR",
          "Variable": "Imbalance (%)",
          "value": 9.786700125470503
         },
         {
          "ECDF": 0.6086956521739131,
          "Test": "IR",
          "Variable": "Imbalance (%)",
          "value": 9.92145514675486
         },
         {
          "ECDF": 0.1956521739130435,
          "Test": "IR",
          "Variable": "Imbalance (%)",
          "value": 2.716914986853627
         },
         {
          "ECDF": 0.03260869565217391,
          "Test": "IR",
          "Variable": "Imbalance (%)",
          "value": 0
         },
         {
          "ECDF": 0.4891304347826087,
          "Test": "IR",
          "Variable": "Imbalance (%)",
          "value": 7.701283547257868
         },
         {
          "ECDF": 0.4891304347826087,
          "Test": "EXT",
          "Variable": "Imbalance (%)",
          "value": 18.03180318031801
         },
         {
          "ECDF": 0.41304347826086957,
          "Test": "EXT",
          "Variable": "Imbalance (%)",
          "value": 16.41233766233767
         },
         {
          "ECDF": 0.5543478260869565,
          "Test": "EXT",
          "Variable": "Imbalance (%)",
          "value": 19.77321048901488
         },
         {
          "ECDF": 0.9782608695652174,
          "Test": "EXT",
          "Variable": "Imbalance (%)",
          "value": 98.55647780584627
         },
         {
          "ECDF": 0.5434782608695652,
          "Test": "EXT",
          "Variable": "Imbalance (%)",
          "value": 19.406227371469953
         },
         {
          "ECDF": 0.8804347826086957,
          "Test": "EXT",
          "Variable": "Imbalance (%)",
          "value": 37.980456026058626
         },
         {
          "ECDF": 0.5652173913043478,
          "Test": "EXT",
          "Variable": "Imbalance (%)",
          "value": 20.021074815595366
         },
         {
          "ECDF": 0.6739130434782609,
          "Test": "EXT",
          "Variable": "Imbalance (%)",
          "value": 25.678358702845806
         },
         {
          "ECDF": 0.42391304347826086,
          "Test": "EXT",
          "Variable": "Imbalance (%)",
          "value": 16.61863592699328
         },
         {
          "ECDF": 0.532608695652174,
          "Test": "EXT",
          "Variable": "Imbalance (%)",
          "value": 18.634552698297703
         },
         {
          "ECDF": 0.358695652173913,
          "Test": "EXT",
          "Variable": "Imbalance (%)",
          "value": 12.816600549282878
         },
         {
          "ECDF": 0.18478260869565216,
          "Test": "EXT",
          "Variable": "Imbalance (%)",
          "value": 8.856001879257686
         },
         {
          "ECDF": 0.7391304347826086,
          "Test": "EXT",
          "Variable": "Imbalance (%)",
          "value": 27.8507619548082
         },
         {
          "ECDF": 0.75,
          "Test": "EXT",
          "Variable": "Imbalance (%)",
          "value": 28.30188679245283
         },
         {
          "ECDF": 0.8586956521739131,
          "Test": "EXT",
          "Variable": "Imbalance (%)",
          "value": 36.93906471421823
         },
         {
          "ECDF": 0.2826086956521739,
          "Test": "EXT",
          "Variable": "Imbalance (%)",
          "value": 11.906400550584976
         },
         {
          "ECDF": 0.2608695652173913,
          "Test": "EXT",
          "Variable": "Imbalance (%)",
          "value": 10.536093418259023
         },
         {
          "ECDF": 0.8478260869565217,
          "Test": "EXT",
          "Variable": "Imbalance (%)",
          "value": 35.578045932269376
         },
         {
          "ECDF": 0.7065217391304348,
          "Test": "EXT",
          "Variable": "Imbalance (%)",
          "value": 26.77217276623805
         },
         {
          "ECDF": 0.30434782608695654,
          "Test": "EXT",
          "Variable": "Imbalance (%)",
          "value": 11.988993710691814
         },
         {
          "ECDF": 0.8369565217391305,
          "Test": "EXT",
          "Variable": "Imbalance (%)",
          "value": 35.56378132118449
         },
         {
          "ECDF": 0.17391304347826086,
          "Test": "EXT",
          "Variable": "Imbalance (%)",
          "value": 8.30313014827017
         },
         {
          "ECDF": 0.11956521739130435,
          "Test": "EXT",
          "Variable": "Imbalance (%)",
          "value": 6.220095693779906
         },
         {
          "ECDF": 0.9565217391304348,
          "Test": "EXT",
          "Variable": "Imbalance (%)",
          "value": 68.2375726275016
         },
         {
          "ECDF": 0.9456521739130435,
          "Test": "EXT",
          "Variable": "Imbalance (%)",
          "value": 55.046583850931654
         },
         {
          "ECDF": 0.9239130434782609,
          "Test": "EXT",
          "Variable": "Imbalance (%)",
          "value": 42.20615964802011
         },
         {
          "ECDF": 0.03260869565217391,
          "Test": "EXT",
          "Variable": "Imbalance (%)",
          "value": 2.407407407407408
         },
         {
          "ECDF": 0.717391304347826,
          "Test": "EXT",
          "Variable": "Imbalance (%)",
          "value": 27.25569778332813
         },
         {
          "ECDF": 0.021739130434782608,
          "Test": "EXT",
          "Variable": "Imbalance (%)",
          "value": 2.03252032520325
         },
         {
          "ECDF": 0.4782608695652174,
          "Test": "EXT",
          "Variable": "Imbalance (%)",
          "value": 17.94181034482758
         },
         {
          "ECDF": 0.6304347826086957,
          "Test": "EXT",
          "Variable": "Imbalance (%)",
          "value": 22.386144964720977
         },
         {
          "ECDF": 0.43478260869565216,
          "Test": "EXT",
          "Variable": "Imbalance (%)",
          "value": 17.241379310344833
         },
         {
          "ECDF": 0.31521739130434784,
          "Test": "EXT",
          "Variable": "Imbalance (%)",
          "value": 12.068965517241374
         },
         {
          "ECDF": 0.07608695652173914,
          "Test": "EXT",
          "Variable": "Imbalance (%)",
          "value": 4.3046357615893935
         },
         {
          "ECDF": 0.5,
          "Test": "EXT",
          "Variable": "Imbalance (%)",
          "value": 18.061674008810574
         },
         {
          "ECDF": 0.8260869565217391,
          "Test": "EXT",
          "Variable": "Imbalance (%)",
          "value": 35.23809523809523
         },
         {
          "ECDF": 0.9891304347826086,
          "Test": "EXT",
          "Variable": "Imbalance (%)",
          "value": 99.26470588235293
         },
         {
          "ECDF": 0.5869565217391305,
          "Test": "EXT",
          "Variable": "Imbalance (%)",
          "value": 21.568627450980387
         },
         {
          "ECDF": 0.6847826086956522,
          "Test": "EXT",
          "Variable": "Imbalance (%)",
          "value": 25.85551330798479
         },
         {
          "ECDF": 0.45652173913043476,
          "Test": "EXT",
          "Variable": "Imbalance (%)",
          "value": 17.599999999999994
         },
         {
          "ECDF": 0.8913043478260869,
          "Test": "EXT",
          "Variable": "Imbalance (%)",
          "value": 38.95612708018154
         },
         {
          "ECDF": 0.06521739130434782,
          "Test": "EXT",
          "Variable": "Imbalance (%)",
          "value": 3.483792790063621
         },
         {
          "ECDF": 0.3695652173913043,
          "Test": "EXT",
          "Variable": "Imbalance (%)",
          "value": 13.004826009652023
         },
         {
          "ECDF": 0.34782608695652173,
          "Test": "EXT",
          "Variable": "Imbalance (%)",
          "value": 12.760416666666677
         },
         {
          "ECDF": 0.2391304347826087,
          "Test": "EXT",
          "Variable": "Imbalance (%)",
          "value": 10.337640683618176
         },
         {
          "ECDF": 0.10869565217391304,
          "Test": "EXT",
          "Variable": "Imbalance (%)",
          "value": 5.859872611464969
         },
         {
          "ECDF": 0.44565217391304346,
          "Test": "EXT",
          "Variable": "Imbalance (%)",
          "value": 17.488411293721033
         },
         {
          "ECDF": 0.20652173913043478,
          "Test": "EXT",
          "Variable": "Imbalance (%)",
          "value": 9.533771667662878
         },
         {
          "ECDF": 0.4673913043478261,
          "Test": "EXT",
          "Variable": "Imbalance (%)",
          "value": 17.728337236533946
         },
         {
          "ECDF": 0.6521739130434783,
          "Test": "EXT",
          "Variable": "Imbalance (%)",
          "value": 24.048913043478258
         },
         {
          "ECDF": 0.010869565217391304,
          "Test": "EXT",
          "Variable": "Imbalance (%)",
          "value": 1.5975103734439764
         },
         {
          "ECDF": 0.5760869565217391,
          "Test": "EXT",
          "Variable": "Imbalance (%)",
          "value": 20.772121626238484
         },
         {
          "ECDF": 0.7934782608695652,
          "Test": "EXT",
          "Variable": "Imbalance (%)",
          "value": 30.25798735691098
         },
         {
          "ECDF": 0.09782608695652174,
          "Test": "EXT",
          "Variable": "Imbalance (%)",
          "value": 5.742259857105069
         },
         {
          "ECDF": 0.7608695652173914,
          "Test": "EXT",
          "Variable": "Imbalance (%)",
          "value": 28.699918233851186
         },
         {
          "ECDF": 0.391304347826087,
          "Test": "EXT",
          "Variable": "Imbalance (%)",
          "value": 14.154652686762779
         },
         {
          "ECDF": 0.8695652173913043,
          "Test": "EXT",
          "Variable": "Imbalance (%)",
          "value": 37.956204379562045
         },
         {
          "ECDF": 0.9347826086956522,
          "Test": "EXT",
          "Variable": "Imbalance (%)",
          "value": 45.69573807507762
         },
         {
          "ECDF": 0.5217391304347826,
          "Test": "EXT",
          "Variable": "Imbalance (%)",
          "value": 18.387681159420293
         },
         {
          "ECDF": 0.15217391304347827,
          "Test": "EXT",
          "Variable": "Imbalance (%)",
          "value": 6.814310051107329
         },
         {
          "ECDF": 0.33695652173913043,
          "Test": "EXT",
          "Variable": "Imbalance (%)",
          "value": 12.651544779037932
         },
         {
          "ECDF": 0.5978260869565217,
          "Test": "EXT",
          "Variable": "Imbalance (%)",
          "value": 21.7452169855343
         },
         {
          "ECDF": 0.32608695652173914,
          "Test": "EXT",
          "Variable": "Imbalance (%)",
          "value": 12.36293859649122
         },
         {
          "ECDF": 0.6413043478260869,
          "Test": "EXT",
          "Variable": "Imbalance (%)",
          "value": 22.443890274314207
         },
         {
          "ECDF": 0.14130434782608695,
          "Test": "EXT",
          "Variable": "Imbalance (%)",
          "value": 6.6770186335403645
         },
         {
          "ECDF": 0.2717391304347826,
          "Test": "EXT",
          "Variable": "Imbalance (%)",
          "value": 10.680824484697046
         },
         {
          "ECDF": 0.6195652173913043,
          "Test": "EXT",
          "Variable": "Imbalance (%)",
          "value": 22.368128199421307
         },
         {
          "ECDF": 0.7282608695652174,
          "Test": "EXT",
          "Variable": "Imbalance (%)",
          "value": 27.511244377811085
         },
         {
          "ECDF": 0.25,
          "Test": "EXT",
          "Variable": "Imbalance (%)",
          "value": 10.480480480480482
         },
         {
          "ECDF": 0.782608695652174,
          "Test": "EXT",
          "Variable": "Imbalance (%)",
          "value": 29.736211031175063
         },
         {
          "ECDF": 0.6956521739130435,
          "Test": "EXT",
          "Variable": "Imbalance (%)",
          "value": 26.65105386416861
         },
         {
          "ECDF": 0.9130434782608695,
          "Test": "EXT",
          "Variable": "Imbalance (%)",
          "value": 40.85414987912975
         },
         {
          "ECDF": 0.8152173913043478,
          "Test": "EXT",
          "Variable": "Imbalance (%)",
          "value": 33.187006145741854
         },
         {
          "ECDF": 0.22826086956521738,
          "Test": "EXT",
          "Variable": "Imbalance (%)",
          "value": 9.737827715355799
         },
         {
          "ECDF": 0.16304347826086957,
          "Test": "EXT",
          "Variable": "Imbalance (%)",
          "value": 7.178043631245615
         },
         {
          "ECDF": 0.1956521739130435,
          "Test": "EXT",
          "Variable": "Imbalance (%)",
          "value": 9.086651053864166
         },
         {
          "ECDF": 0.043478260869565216,
          "Test": "EXT",
          "Variable": "Imbalance (%)",
          "value": 2.757817051854723
         },
         {
          "ECDF": 0.29347826086956524,
          "Test": "EXT",
          "Variable": "Imbalance (%)",
          "value": 11.920792079207924
         },
         {
          "ECDF": 0.3804347826086957,
          "Test": "EXT",
          "Variable": "Imbalance (%)",
          "value": 13.60968451944241
         },
         {
          "ECDF": 0.7717391304347826,
          "Test": "EXT",
          "Variable": "Imbalance (%)",
          "value": 29.071867100036126
         },
         {
          "ECDF": 0.5108695652173914,
          "Test": "EXT",
          "Variable": "Imbalance (%)",
          "value": 18.272095332671302
         },
         {
          "ECDF": 0.40217391304347827,
          "Test": "EXT",
          "Variable": "Imbalance (%)",
          "value": 14.680198253481233
         },
         {
          "ECDF": 0.9021739130434783,
          "Test": "EXT",
          "Variable": "Imbalance (%)",
          "value": 40.685224839400426
         },
         {
          "ECDF": 0.967391304347826,
          "Test": "EXT",
          "Variable": "Imbalance (%)",
          "value": 83.51874742480427
         },
         {
          "ECDF": 0.6630434782608695,
          "Test": "EXT",
          "Variable": "Imbalance (%)",
          "value": 24.442025040827424
         },
         {
          "ECDF": 0.08695652173913043,
          "Test": "EXT",
          "Variable": "Imbalance (%)",
          "value": 4.641947353523922
         },
         {
          "ECDF": 1,
          "Test": "EXT",
          "Variable": "Imbalance (%)",
          "value": 100.12285012285014
         },
         {
          "ECDF": 0.8043478260869565,
          "Test": "EXT",
          "Variable": "Imbalance (%)",
          "value": 30.642890661661188
         },
         {
          "ECDF": 0.05434782608695652,
          "Test": "EXT",
          "Variable": "Imbalance (%)",
          "value": 3.0282861896838655
         },
         {
          "ECDF": 0.6086956521739131,
          "Test": "EXT",
          "Variable": "Imbalance (%)",
          "value": 22.15822976659594
         },
         {
          "ECDF": 0.13043478260869565,
          "Test": "EXT",
          "Variable": "Imbalance (%)",
          "value": 6.256718985164479
         },
         {
          "ECDF": 0.21739130434782608,
          "Test": "EXT",
          "Variable": "Imbalance (%)",
          "value": 9.560293137908058
         },
         {
          "ECDF": 0.8913043478260869,
          "Test": "FLEX",
          "Variable": "Imbalance (%)",
          "value": 20.218579234972676
         },
         {
          "ECDF": 0.9130434782608695,
          "Test": "FLEX",
          "Variable": "Imbalance (%)",
          "value": 21.232439335887612
         },
         {
          "ECDF": 0.11956521739130435,
          "Test": "FLEX",
          "Variable": "Imbalance (%)",
          "value": 2.630919569030317
         },
         {
          "ECDF": 0.358695652173913,
          "Test": "FLEX",
          "Variable": "Imbalance (%)",
          "value": 4.67091295116773
         },
         {
          "ECDF": 0.22826086956521738,
          "Test": "FLEX",
          "Variable": "Imbalance (%)",
          "value": 3.5646687697160977
         },
         {
          "ECDF": 0.021739130434782608,
          "Test": "FLEX",
          "Variable": "Imbalance (%)",
          "value": 0.19900497512437787
         },
         {
          "ECDF": 1,
          "Test": "FLEX",
          "Variable": "Imbalance (%)",
          "value": 33.596525858665615
         },
         {
          "ECDF": 0.9891304347826086,
          "Test": "FLEX",
          "Variable": "Imbalance (%)",
          "value": 30.457592538618485
         },
         {
          "ECDF": 0.15217391304347827,
          "Test": "FLEX",
          "Variable": "Imbalance (%)",
          "value": 2.9904974846282877
         },
         {
          "ECDF": 0.4673913043478261,
          "Test": "FLEX",
          "Variable": "Imbalance (%)",
          "value": 6.612867070163646
         },
         {
          "ECDF": 0.16304347826086957,
          "Test": "FLEX",
          "Variable": "Imbalance (%)",
          "value": 3.1419939577039036
         },
         {
          "ECDF": 0.782608695652174,
          "Test": "FLEX",
          "Variable": "Imbalance (%)",
          "value": 14.061979340219938
         },
         {
          "ECDF": 0.34782608695652173,
          "Test": "FLEX",
          "Variable": "Imbalance (%)",
          "value": 4.6443268665490995
         },
         {
          "ECDF": 0.07608695652173914,
          "Test": "FLEX",
          "Variable": "Imbalance (%)",
          "value": 1.2504465880671751
         },
         {
          "ECDF": 0.717391304347826,
          "Test": "FLEX",
          "Variable": "Imbalance (%)",
          "value": 11.061337008959342
         },
         {
          "ECDF": 0.45652173913043476,
          "Test": "FLEX",
          "Variable": "Imbalance (%)",
          "value": 6.55683690280066
         },
         {
          "ECDF": 0.06521739130434782,
          "Test": "FLEX",
          "Variable": "Imbalance (%)",
          "value": 0.8672248803827665
         },
         {
          "ECDF": 0.9021739130434783,
          "Test": "FLEX",
          "Variable": "Imbalance (%)",
          "value": 20.4747774480712
         },
         {
          "ECDF": 0.4782608695652174,
          "Test": "FLEX",
          "Variable": "Imbalance (%)",
          "value": 7.218363032316541
         },
         {
          "ECDF": 0.8478260869565217,
          "Test": "FLEX",
          "Variable": "Imbalance (%)",
          "value": 18.291700241740514
         },
         {
          "ECDF": 0.75,
          "Test": "FLEX",
          "Variable": "Imbalance (%)",
          "value": 12.38562820798928
         },
         {
          "ECDF": 0.21739130434782608,
          "Test": "FLEX",
          "Variable": "Imbalance (%)",
          "value": 3.449408672798948
         },
         {
          "ECDF": 0.7391304347826086,
          "Test": "FLEX",
          "Variable": "Imbalance (%)",
          "value": 12.07711895234632
         },
         {
          "ECDF": 0.6195652173913043,
          "Test": "FLEX",
          "Variable": "Imbalance (%)",
          "value": 10.133178922987836
         },
         {
          "ECDF": 0.4891304347826087,
          "Test": "FLEX",
          "Variable": "Imbalance (%)",
          "value": 7.490196078431374
         },
         {
          "ECDF": 0.10869565217391304,
          "Test": "FLEX",
          "Variable": "Imbalance (%)",
          "value": 2.344251766217096
         },
         {
          "ECDF": 0.20652173913043478,
          "Test": "FLEX",
          "Variable": "Imbalance (%)",
          "value": 3.4062499999999885
         },
         {
          "ECDF": 0.41304347826086957,
          "Test": "FLEX",
          "Variable": "Imbalance (%)",
          "value": 5.105682130112562
         },
         {
          "ECDF": 0.7065217391304348,
          "Test": "FLEX",
          "Variable": "Imbalance (%)",
          "value": 10.9805924412666
         },
         {
          "ECDF": 0.8043478260869565,
          "Test": "FLEX",
          "Variable": "Imbalance (%)",
          "value": 15.254237288135592
         },
         {
          "ECDF": 0.5978260869565217,
          "Test": "FLEX",
          "Variable": "Imbalance (%)",
          "value": 9.536231884057964
         },
         {
          "ECDF": 0.3695652173913043,
          "Test": "FLEX",
          "Variable": "Imbalance (%)",
          "value": 4.694835680751169
         },
         {
          "ECDF": 0.17391304347826086,
          "Test": "FLEX",
          "Variable": "Imbalance (%)",
          "value": 3.1446540880503213
         },
         {
          "ECDF": 0.31521739130434784,
          "Test": "FLEX",
          "Variable": "Imbalance (%)",
          "value": 4.195804195804191
         },
         {
          "ECDF": 0.7282608695652174,
          "Test": "FLEX",
          "Variable": "Imbalance (%)",
          "value": 11.73708920187793
         },
         {
          "ECDF": 0.8369565217391305,
          "Test": "FLEX",
          "Variable": "Imbalance (%)",
          "value": 18.13186813186814
         },
         {
          "ECDF": 0.967391304347826,
          "Test": "FLEX",
          "Variable": "Imbalance (%)",
          "value": 27.47252747252748
         },
         {
          "ECDF": 0.9347826086956522,
          "Test": "FLEX",
          "Variable": "Imbalance (%)",
          "value": 22.2972972972973
         },
         {
          "ECDF": 0.6086956521739131,
          "Test": "FLEX",
          "Variable": "Imbalance (%)",
          "value": 9.604519774011298
         },
         {
          "ECDF": 0.8804347826086957,
          "Test": "FLEX",
          "Variable": "Imbalance (%)",
          "value": 19.68911917098446
         },
         {
          "ECDF": 0.8152173913043478,
          "Test": "FLEX",
          "Variable": "Imbalance (%)",
          "value": 15.306712962962946
         },
         {
          "ECDF": 0.2826086956521739,
          "Test": "FLEX",
          "Variable": "Imbalance (%)",
          "value": 3.802024746906619
         },
         {
          "ECDF": 0.5108695652173914,
          "Test": "FLEX",
          "Variable": "Imbalance (%)",
          "value": 7.67112509834776
         },
         {
          "ECDF": 0.6304347826086957,
          "Test": "FLEX",
          "Variable": "Imbalance (%)",
          "value": 10.141843971631205
         },
         {
          "ECDF": 0.8260869565217391,
          "Test": "FLEX",
          "Variable": "Imbalance (%)",
          "value": 16.4591977869986
         },
         {
          "ECDF": 0.09782608695652174,
          "Test": "FLEX",
          "Variable": "Imbalance (%)",
          "value": 1.8356643356643312
         },
         {
          "ECDF": 0.7608695652173914,
          "Test": "FLEX",
          "Variable": "Imbalance (%)",
          "value": 12.542182227221598
         },
         {
          "ECDF": 0.9456521739130435,
          "Test": "FLEX",
          "Variable": "Imbalance (%)",
          "value": 23.099415204678344
         },
         {
          "ECDF": 0.7717391304347826,
          "Test": "FLEX",
          "Variable": "Imbalance (%)",
          "value": 12.811484290357539
         },
         {
          "ECDF": 0.010869565217391304,
          "Test": "FLEX",
          "Variable": "Imbalance (%)",
          "value": 0.11173184357542862
         },
         {
          "ECDF": 0.5652173913043478,
          "Test": "FLEX",
          "Variable": "Imbalance (%)",
          "value": 8.491730436929162
         },
         {
          "ECDF": 0.5,
          "Test": "FLEX",
          "Variable": "Imbalance (%)",
          "value": 7.493900313698154
         },
         {
          "ECDF": 0.30434782608695654,
          "Test": "FLEX",
          "Variable": "Imbalance (%)",
          "value": 4.019873532068654
         },
         {
          "ECDF": 0.9565217391304348,
          "Test": "FLEX",
          "Variable": "Imbalance (%)",
          "value": 25.21617852161785
         },
         {
          "ECDF": 0.6739130434782609,
          "Test": "FLEX",
          "Variable": "Imbalance (%)",
          "value": 10.575793184488829
         },
         {
          "ECDF": 0.7934782608695652,
          "Test": "FLEX",
          "Variable": "Imbalance (%)",
          "value": 14.899361806578302
         },
         {
          "ECDF": 0.391304347826087,
          "Test": "FLEX",
          "Variable": "Imbalance (%)",
          "value": 4.760187522538761
         },
         {
          "ECDF": 0.6956521739130435,
          "Test": "FLEX",
          "Variable": "Imbalance (%)",
          "value": 10.638797557538766
         },
         {
          "ECDF": 0.1956521739130435,
          "Test": "FLEX",
          "Variable": "Imbalance (%)",
          "value": 3.330893118594417
         },
         {
          "ECDF": 0.32608695652173914,
          "Test": "FLEX",
          "Variable": "Imbalance (%)",
          "value": 4.262295081967227
         },
         {
          "ECDF": 0.43478260869565216,
          "Test": "FLEX",
          "Variable": "Imbalance (%)",
          "value": 5.503612409689771
         },
         {
          "ECDF": 0.44565217391304346,
          "Test": "FLEX",
          "Variable": "Imbalance (%)",
          "value": 6.102362204724406
         },
         {
          "ECDF": 0.6630434782608695,
          "Test": "FLEX",
          "Variable": "Imbalance (%)",
          "value": 10.47835990888381
         },
         {
          "ECDF": 0.33695652173913043,
          "Test": "FLEX",
          "Variable": "Imbalance (%)",
          "value": 4.61111111111112
         },
         {
          "ECDF": 0.03260869565217391,
          "Test": "FLEX",
          "Variable": "Imbalance (%)",
          "value": 0.5670541536716651
         },
         {
          "ECDF": 0.25,
          "Test": "FLEX",
          "Variable": "Imbalance (%)",
          "value": 3.6101083032490875
         },
         {
          "ECDF": 0.2391304347826087,
          "Test": "FLEX",
          "Variable": "Imbalance (%)",
          "value": 3.602167676123695
         },
         {
          "ECDF": 0.14130434782608695,
          "Test": "FLEX",
          "Variable": "Imbalance (%)",
          "value": 2.9275362318840674
         },
         {
          "ECDF": 0.8586956521739131,
          "Test": "FLEX",
          "Variable": "Imbalance (%)",
          "value": 18.496240601503764
         },
         {
          "ECDF": 0.9239130434782609,
          "Test": "FLEX",
          "Variable": "Imbalance (%)",
          "value": 21.857344632768356
         },
         {
          "ECDF": 0.6847826086956522,
          "Test": "FLEX",
          "Variable": "Imbalance (%)",
          "value": 10.60606060606062
         },
         {
          "ECDF": 0.6521739130434783,
          "Test": "FLEX",
          "Variable": "Imbalance (%)",
          "value": 10.42769857433809
         },
         {
          "ECDF": 0.8695652173913043,
          "Test": "FLEX",
          "Variable": "Imbalance (%)",
          "value": 19.346140883046832
         },
         {
          "ECDF": 0.40217391304347827,
          "Test": "FLEX",
          "Variable": "Imbalance (%)",
          "value": 4.9264235444657825
         },
         {
          "ECDF": 0.05434782608695652,
          "Test": "FLEX",
          "Variable": "Imbalance (%)",
          "value": 0.8228670420095384
         },
         {
          "ECDF": 0.043478260869565216,
          "Test": "FLEX",
          "Variable": "Imbalance (%)",
          "value": 0.6802721088435402
         },
         {
          "ECDF": 0.2608695652173913,
          "Test": "FLEX",
          "Variable": "Imbalance (%)",
          "value": 3.742901393908121
         },
         {
          "ECDF": 0.5869565217391305,
          "Test": "FLEX",
          "Variable": "Imbalance (%)",
          "value": 9.2597117029074
         },
         {
          "ECDF": 0.29347826086956524,
          "Test": "FLEX",
          "Variable": "Imbalance (%)",
          "value": 3.8509316770186395
         },
         {
          "ECDF": 0.18478260869565216,
          "Test": "FLEX",
          "Variable": "Imbalance (%)",
          "value": 3.255425709515849
         },
         {
          "ECDF": 0.6413043478260869,
          "Test": "FLEX",
          "Variable": "Imbalance (%)",
          "value": 10.244360902255625
         },
         {
          "ECDF": 0.2717391304347826,
          "Test": "FLEX",
          "Variable": "Imbalance (%)",
          "value": 3.7772712471507606
         },
         {
          "ECDF": 0.5543478260869565,
          "Test": "FLEX",
          "Variable": "Imbalance (%)",
          "value": 8.216692586832558
         },
         {
          "ECDF": 0.5217391304347826,
          "Test": "FLEX",
          "Variable": "Imbalance (%)",
          "value": 7.724689539044416
         },
         {
          "ECDF": 0.5434782608695652,
          "Test": "FLEX",
          "Variable": "Imbalance (%)",
          "value": 8.183568677792028
         },
         {
          "ECDF": 0.3804347826086957,
          "Test": "FLEX",
          "Variable": "Imbalance (%)",
          "value": 4.740102343118785
         },
         {
          "ECDF": 0.9782608695652174,
          "Test": "FLEX",
          "Variable": "Imbalance (%)",
          "value": 29.989403037795846
         },
         {
          "ECDF": 0.532608695652174,
          "Test": "FLEX",
          "Variable": "Imbalance (%)",
          "value": 7.966046359777998
         },
         {
          "ECDF": 0.42391304347826086,
          "Test": "FLEX",
          "Variable": "Imbalance (%)",
          "value": 5.14270328486806
         },
         {
          "ECDF": 0.5760869565217391,
          "Test": "FLEX",
          "Variable": "Imbalance (%)",
          "value": 8.539053014973696
         },
         {
          "ECDF": 0.08695652173913043,
          "Test": "FLEX",
          "Variable": "Imbalance (%)",
          "value": 1.3503560029462278
         },
         {
          "ECDF": 0.13043478260869565,
          "Test": "FLEX",
          "Variable": "Imbalance (%)",
          "value": 2.846975088967968
         }
        ]
       },
       "facet": {
        "column": {
         "field": "Variable",
         "title": null,
         "type": "nominal"
        }
       },
       "resolve": {
        "scale": {
         "color": "shared",
         "x": "independent",
         "y": "shared"
        }
       },
       "spec": {
        "encoding": {
         "color": {
          "field": "Test",
          "type": "nominal"
         },
         "tooltip": [
          {
           "field": "Test",
           "type": "nominal"
          },
          {
           "field": "ECDF",
           "type": "quantitative"
          },
          {
           "field": "value",
           "type": "quantitative"
          }
         ],
         "x": {
          "field": "value",
          "scale": {
           "zero": false
          },
          "title": null,
          "type": "quantitative"
         },
         "y": {
          "axis": {
           "format": "%"
          },
          "field": "ECDF",
          "type": "quantitative"
         }
        },
        "mark": {
         "opacity": 0.8,
         "size": 50,
         "type": "circle"
        }
       }
      },
      "image/png": "[encoded data removed]",
      "text/plain": [
       "<VegaLite 2 object>\n",
       "\n",
       "If you see this message, it means the renderer has not been properly enabled\n",
       "for the frontend that you are using. For more information, see\n",
       "https://altair-viz.github.io/user_guide/troubleshooting.html\n"
      ]
     },
     "execution_count": 27,
     "metadata": {},
     "output_type": "execute_result"
    }
   ],
   "source": [
    "t = X_augmented_melted.copy()\n",
    "t[\"ECDF\"] = t.groupby([\"Variable\", \"Test\"])[\"value\"].transform(\n",
    "    lambda x: x.rank(method=\"first\") / len(x)\n",
    ")\n",
    "\n",
    "alt.Chart(t).mark_circle(size=50, opacity=0.8).encode(\n",
    "    alt.X(\"value\", scale=alt.Scale(zero=False), title=None),\n",
    "    alt.Y(\"ECDF\", axis=alt.Axis(format=\"%\")),\n",
    "    alt.Color(\"Test\"),\n",
    "    alt.Tooltip([\"Test:N\", \"ECDF:Q\", \"value:Q\"]),\n",
    ").facet(column=alt.Column(\"Variable\", title=None)).resolve_scale(x=\"independent\")"
   ]
  }
 ],
 "metadata": {
  "kernelspec": {
   "display_name": "Python [conda env:synchro]",
   "language": "python",
   "name": "conda-env-synchro-py"
  },
  "language_info": {
   "codemirror_mode": {
    "name": "ipython",
    "version": 3
   },
   "file_extension": ".py",
   "mimetype": "text/x-python",
   "name": "python",
   "nbconvert_exporter": "python",
   "pygments_lexer": "ipython3",
   "version": "3.7.2"
  }
 },
 "nbformat": 4,
 "nbformat_minor": 2
}
