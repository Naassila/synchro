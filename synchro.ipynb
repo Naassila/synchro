{
 "cells": [
  {
   "cell_type": "markdown",
   "metadata": {},
   "source": [
    "# Synchro Project\n",
    "- [github link](https://github.com/romainmartinez/envergo)"
   ]
  },
  {
   "cell_type": "code",
   "execution_count": 1,
   "metadata": {},
   "outputs": [],
   "source": [
    "import pandas as pd\n",
    "import numpy as np\n",
    "from pathlib import Path\n",
    "\n",
    "# Figures\n",
    "import matplotlib.pyplot as plt\n",
    "import seaborn as sns\n",
    "plt.rcParams['axes.labelsize'] = 14\n",
    "plt.rcParams['xtick.labelsize'] = 12\n",
    "plt.rcParams['ytick.labelsize'] = 12\n",
    "sns.set_context(\"notebook\", font_scale=1.1)\n",
    "sns.set_style(\"ticks\")\n",
    "plt.rcParams['pdf.fonttype'] = 42\n",
    "plt.rcParams['ps.fonttype'] = 42\n",
    "%matplotlib inline\n",
    "\n",
    "# to make this notebook's output stable across runs\n",
    "RANDOM_SEED = 42\n",
    "np.random.seed(RANDOM_SEED)"
   ]
  },
  {
   "cell_type": "markdown",
   "metadata": {},
   "source": [
    "## Get data"
   ]
  },
  {
   "cell_type": "code",
   "execution_count": 2,
   "metadata": {},
   "outputs": [],
   "source": [
    "DATA_PATH = Path('./data/zTable.xlsx')\n",
    "df = pd.read_excel(DATA_PATH)"
   ]
  },
  {
   "cell_type": "code",
   "execution_count": 3,
   "metadata": {},
   "outputs": [
    {
     "data": {
      "text/html": [
       "<div>\n",
       "<style scoped>\n",
       "    .dataframe tbody tr th:only-of-type {\n",
       "        vertical-align: middle;\n",
       "    }\n",
       "\n",
       "    .dataframe tbody tr th {\n",
       "        vertical-align: top;\n",
       "    }\n",
       "\n",
       "    .dataframe thead th {\n",
       "        text-align: right;\n",
       "    }\n",
       "</style>\n",
       "<table border=\"1\" class=\"dataframe\">\n",
       "  <thead>\n",
       "    <tr style=\"text-align: right;\">\n",
       "      <th></th>\n",
       "      <th>ADD/G</th>\n",
       "      <th>ADD/D</th>\n",
       "      <th>ABD/G</th>\n",
       "      <th>ABD/D</th>\n",
       "      <th>ER/G</th>\n",
       "      <th>ER/D</th>\n",
       "      <th>IR/G</th>\n",
       "      <th>IR/D</th>\n",
       "      <th>EXT/G</th>\n",
       "      <th>EXT/D</th>\n",
       "      <th>FLEX/G</th>\n",
       "      <th>FLEX/D</th>\n",
       "    </tr>\n",
       "  </thead>\n",
       "  <tbody>\n",
       "    <tr>\n",
       "      <th>0</th>\n",
       "      <td>287.05</td>\n",
       "      <td>285.00</td>\n",
       "      <td>206.85</td>\n",
       "      <td>179.90</td>\n",
       "      <td>92.85</td>\n",
       "      <td>94.95</td>\n",
       "      <td>52.3</td>\n",
       "      <td>51.95</td>\n",
       "      <td>166.65</td>\n",
       "      <td>196.70</td>\n",
       "      <td>183.00</td>\n",
       "      <td>146.00</td>\n",
       "    </tr>\n",
       "    <tr>\n",
       "      <th>1</th>\n",
       "      <td>292.75</td>\n",
       "      <td>302.75</td>\n",
       "      <td>239.85</td>\n",
       "      <td>207.85</td>\n",
       "      <td>109.25</td>\n",
       "      <td>103.25</td>\n",
       "      <td>98.4</td>\n",
       "      <td>84.05</td>\n",
       "      <td>308.00</td>\n",
       "      <td>257.45</td>\n",
       "      <td>156.60</td>\n",
       "      <td>123.35</td>\n",
       "    </tr>\n",
       "    <tr>\n",
       "      <th>2</th>\n",
       "      <td>252.40</td>\n",
       "      <td>258.55</td>\n",
       "      <td>233.45</td>\n",
       "      <td>233.65</td>\n",
       "      <td>69.30</td>\n",
       "      <td>68.80</td>\n",
       "      <td>120.0</td>\n",
       "      <td>119.80</td>\n",
       "      <td>141.10</td>\n",
       "      <td>113.20</td>\n",
       "      <td>199.55</td>\n",
       "      <td>204.80</td>\n",
       "    </tr>\n",
       "    <tr>\n",
       "      <th>3</th>\n",
       "      <td>213.45</td>\n",
       "      <td>227.40</td>\n",
       "      <td>174.00</td>\n",
       "      <td>132.10</td>\n",
       "      <td>54.20</td>\n",
       "      <td>56.40</td>\n",
       "      <td>39.9</td>\n",
       "      <td>37.20</td>\n",
       "      <td>138.55</td>\n",
       "      <td>2.00</td>\n",
       "      <td>117.75</td>\n",
       "      <td>112.25</td>\n",
       "    </tr>\n",
       "    <tr>\n",
       "      <th>4</th>\n",
       "      <td>281.75</td>\n",
       "      <td>296.20</td>\n",
       "      <td>258.65</td>\n",
       "      <td>227.25</td>\n",
       "      <td>97.25</td>\n",
       "      <td>99.05</td>\n",
       "      <td>77.2</td>\n",
       "      <td>62.45</td>\n",
       "      <td>207.15</td>\n",
       "      <td>166.95</td>\n",
       "      <td>158.50</td>\n",
       "      <td>152.85</td>\n",
       "    </tr>\n",
       "  </tbody>\n",
       "</table>\n",
       "</div>"
      ],
      "text/plain": [
       "    ADD/G   ADD/D   ABD/G   ABD/D    ER/G    ER/D   IR/G    IR/D   EXT/G  \\\n",
       "0  287.05  285.00  206.85  179.90   92.85   94.95   52.3   51.95  166.65   \n",
       "1  292.75  302.75  239.85  207.85  109.25  103.25   98.4   84.05  308.00   \n",
       "2  252.40  258.55  233.45  233.65   69.30   68.80  120.0  119.80  141.10   \n",
       "3  213.45  227.40  174.00  132.10   54.20   56.40   39.9   37.20  138.55   \n",
       "4  281.75  296.20  258.65  227.25   97.25   99.05   77.2   62.45  207.15   \n",
       "\n",
       "    EXT/D  FLEX/G  FLEX/D  \n",
       "0  196.70  183.00  146.00  \n",
       "1  257.45  156.60  123.35  \n",
       "2  113.20  199.55  204.80  \n",
       "3    2.00  117.75  112.25  \n",
       "4  166.95  158.50  152.85  "
      ]
     },
     "execution_count": 3,
     "metadata": {},
     "output_type": "execute_result"
    }
   ],
   "source": [
    "# athletes' name\n",
    "names = df['name']\n",
    "# variables\n",
    "X = df[[\n",
    "    'ADD/G', 'ADD/D', 'ABD/G', 'ABD/D', 'ER/G', 'ER/D', 'IR/G', 'IR/D',\n",
    "    'EXT/G', 'EXT/D', 'FLEX/G', 'FLEX/D'\n",
    "]]\n",
    "# targets\n",
    "y = df[['EGG MEAN', 'EGG MAX', 'BODYBOOST', 'DYN MEAN', 'DYN MAX']]\n",
    "# not included: 'DYN SD', 'EGG MIN ', 'EGG SD', 'EGG MAX-MIN'\n",
    "X.head()"
   ]
  },
  {
   "cell_type": "markdown",
   "metadata": {},
   "source": [
    "### nan remover"
   ]
  },
  {
   "cell_type": "code",
   "execution_count": 4,
   "metadata": {},
   "outputs": [
    {
     "name": "stdout",
     "output_type": "stream",
     "text": [
      "participant no.: 5\n",
      "\ttest: ADD/D\n",
      "\t\t\"nan\" replace by \"323.25\"\n",
      "participant no.: 41\n",
      "\ttest: IR/G\n",
      "\t\t\"nan\" replace by \"118.95\"\n",
      "participant no.: 90\n",
      "\ttest: IR/G\n",
      "\t\t\"nan\" replace by \"92.25\"\n"
     ]
    }
   ],
   "source": [
    "nan_id = np.argwhere(np.isnan(X.values))\n",
    "for i in nan_id:\n",
    "    print(f'participant no.: {i[0]}')\n",
    "    print(f'\\ttest: {X.columns[i[1]]}')\n",
    "    # if left take right, left otherwise\n",
    "    if X.columns[i[1]][-1] == 'G':\n",
    "        replacer = i[1] + 1\n",
    "    else:\n",
    "        replacer = i[1] - 1\n",
    "    print(f'\\t\\t\"{X.iloc[i[0], i[1]]}\" replace by \"{X.iloc[i[0], replacer]}\"')\n",
    "    X.at[i[0], X.columns[i[1]]] = X.at[i[0], X.columns[replacer]]"
   ]
  },
  {
   "cell_type": "markdown",
   "metadata": {},
   "source": [
    "### X description\n",
    "- `ADD`: adduction test\n",
    "- `ABD`: abduction test\n",
    "- `ER`: external rotation test\n",
    "- `IR`: internal rotation test\n",
    "- `EXT`: extension test\n",
    "- `FLEX`: flexion test\n",
    "\n",
    "\n"
   ]
  },
  {
   "cell_type": "code",
   "execution_count": 5,
   "metadata": {},
   "outputs": [
    {
     "data": {
      "text/html": [
       "<div>\n",
       "<style scoped>\n",
       "    .dataframe tbody tr th:only-of-type {\n",
       "        vertical-align: middle;\n",
       "    }\n",
       "\n",
       "    .dataframe tbody tr th {\n",
       "        vertical-align: top;\n",
       "    }\n",
       "\n",
       "    .dataframe thead th {\n",
       "        text-align: right;\n",
       "    }\n",
       "</style>\n",
       "<table border=\"1\" class=\"dataframe\">\n",
       "  <thead>\n",
       "    <tr style=\"text-align: right;\">\n",
       "      <th></th>\n",
       "      <th>ADD/G</th>\n",
       "      <th>ADD/D</th>\n",
       "      <th>ABD/G</th>\n",
       "      <th>ABD/D</th>\n",
       "      <th>ER/G</th>\n",
       "      <th>ER/D</th>\n",
       "      <th>IR/G</th>\n",
       "      <th>IR/D</th>\n",
       "      <th>EXT/G</th>\n",
       "      <th>EXT/D</th>\n",
       "      <th>FLEX/G</th>\n",
       "      <th>FLEX/D</th>\n",
       "    </tr>\n",
       "  </thead>\n",
       "  <tbody>\n",
       "    <tr>\n",
       "      <th>0</th>\n",
       "      <td>287.05</td>\n",
       "      <td>285.00</td>\n",
       "      <td>206.85</td>\n",
       "      <td>179.90</td>\n",
       "      <td>92.85</td>\n",
       "      <td>94.95</td>\n",
       "      <td>52.3</td>\n",
       "      <td>51.95</td>\n",
       "      <td>166.65</td>\n",
       "      <td>196.70</td>\n",
       "      <td>183.00</td>\n",
       "      <td>146.00</td>\n",
       "    </tr>\n",
       "    <tr>\n",
       "      <th>1</th>\n",
       "      <td>292.75</td>\n",
       "      <td>302.75</td>\n",
       "      <td>239.85</td>\n",
       "      <td>207.85</td>\n",
       "      <td>109.25</td>\n",
       "      <td>103.25</td>\n",
       "      <td>98.4</td>\n",
       "      <td>84.05</td>\n",
       "      <td>308.00</td>\n",
       "      <td>257.45</td>\n",
       "      <td>156.60</td>\n",
       "      <td>123.35</td>\n",
       "    </tr>\n",
       "    <tr>\n",
       "      <th>2</th>\n",
       "      <td>252.40</td>\n",
       "      <td>258.55</td>\n",
       "      <td>233.45</td>\n",
       "      <td>233.65</td>\n",
       "      <td>69.30</td>\n",
       "      <td>68.80</td>\n",
       "      <td>120.0</td>\n",
       "      <td>119.80</td>\n",
       "      <td>141.10</td>\n",
       "      <td>113.20</td>\n",
       "      <td>199.55</td>\n",
       "      <td>204.80</td>\n",
       "    </tr>\n",
       "    <tr>\n",
       "      <th>3</th>\n",
       "      <td>213.45</td>\n",
       "      <td>227.40</td>\n",
       "      <td>174.00</td>\n",
       "      <td>132.10</td>\n",
       "      <td>54.20</td>\n",
       "      <td>56.40</td>\n",
       "      <td>39.9</td>\n",
       "      <td>37.20</td>\n",
       "      <td>138.55</td>\n",
       "      <td>2.00</td>\n",
       "      <td>117.75</td>\n",
       "      <td>112.25</td>\n",
       "    </tr>\n",
       "    <tr>\n",
       "      <th>4</th>\n",
       "      <td>281.75</td>\n",
       "      <td>296.20</td>\n",
       "      <td>258.65</td>\n",
       "      <td>227.25</td>\n",
       "      <td>97.25</td>\n",
       "      <td>99.05</td>\n",
       "      <td>77.2</td>\n",
       "      <td>62.45</td>\n",
       "      <td>207.15</td>\n",
       "      <td>166.95</td>\n",
       "      <td>158.50</td>\n",
       "      <td>152.85</td>\n",
       "    </tr>\n",
       "  </tbody>\n",
       "</table>\n",
       "</div>"
      ],
      "text/plain": [
       "    ADD/G   ADD/D   ABD/G   ABD/D    ER/G    ER/D   IR/G    IR/D   EXT/G  \\\n",
       "0  287.05  285.00  206.85  179.90   92.85   94.95   52.3   51.95  166.65   \n",
       "1  292.75  302.75  239.85  207.85  109.25  103.25   98.4   84.05  308.00   \n",
       "2  252.40  258.55  233.45  233.65   69.30   68.80  120.0  119.80  141.10   \n",
       "3  213.45  227.40  174.00  132.10   54.20   56.40   39.9   37.20  138.55   \n",
       "4  281.75  296.20  258.65  227.25   97.25   99.05   77.2   62.45  207.15   \n",
       "\n",
       "    EXT/D  FLEX/G  FLEX/D  \n",
       "0  196.70  183.00  146.00  \n",
       "1  257.45  156.60  123.35  \n",
       "2  113.20  199.55  204.80  \n",
       "3    2.00  117.75  112.25  \n",
       "4  166.95  158.50  152.85  "
      ]
     },
     "execution_count": 5,
     "metadata": {},
     "output_type": "execute_result"
    }
   ],
   "source": [
    "X.head()"
   ]
  },
  {
   "cell_type": "code",
   "execution_count": 6,
   "metadata": {},
   "outputs": [
    {
     "data": {
      "image/png": "[encoded data removed]",
      "text/plain": [
       "<Figure size 432x288 with 1 Axes>"
      ]
     },
     "metadata": {},
     "output_type": "display_data"
    }
   ],
   "source": [
    "sns.boxplot(data=X, orient='h');"
   ]
  },
  {
   "cell_type": "markdown",
   "metadata": {},
   "source": [
    "### y description\n",
    "- `EGG MEAN`: mean eggbeater score\n",
    "- `EGG MAX`: max. eggbeater score\n",
    "- `BODYBOOST`: bodyboost score\n",
    "- `DYN MEAN`: mean dynamometer force\n",
    "- `DYN MAX`: max. dynamometer force"
   ]
  },
  {
   "cell_type": "code",
   "execution_count": 7,
   "metadata": {},
   "outputs": [
    {
     "data": {
      "text/html": [
       "<div>\n",
       "<style scoped>\n",
       "    .dataframe tbody tr th:only-of-type {\n",
       "        vertical-align: middle;\n",
       "    }\n",
       "\n",
       "    .dataframe tbody tr th {\n",
       "        vertical-align: top;\n",
       "    }\n",
       "\n",
       "    .dataframe thead th {\n",
       "        text-align: right;\n",
       "    }\n",
       "</style>\n",
       "<table border=\"1\" class=\"dataframe\">\n",
       "  <thead>\n",
       "    <tr style=\"text-align: right;\">\n",
       "      <th></th>\n",
       "      <th>EGG MEAN</th>\n",
       "      <th>EGG MAX</th>\n",
       "      <th>BODYBOOST</th>\n",
       "      <th>DYN MEAN</th>\n",
       "      <th>DYN MAX</th>\n",
       "    </tr>\n",
       "  </thead>\n",
       "  <tbody>\n",
       "    <tr>\n",
       "      <th>0</th>\n",
       "      <td>8.083333</td>\n",
       "      <td>8.5</td>\n",
       "      <td>9.5</td>\n",
       "      <td>6.770000</td>\n",
       "      <td>8.33</td>\n",
       "    </tr>\n",
       "    <tr>\n",
       "      <th>1</th>\n",
       "      <td>7.083333</td>\n",
       "      <td>7.5</td>\n",
       "      <td>8.5</td>\n",
       "      <td>7.762753</td>\n",
       "      <td>9.43</td>\n",
       "    </tr>\n",
       "    <tr>\n",
       "      <th>2</th>\n",
       "      <td>7.833333</td>\n",
       "      <td>8.0</td>\n",
       "      <td>8.5</td>\n",
       "      <td>6.725683</td>\n",
       "      <td>8.76</td>\n",
       "    </tr>\n",
       "    <tr>\n",
       "      <th>3</th>\n",
       "      <td>7.416667</td>\n",
       "      <td>8.0</td>\n",
       "      <td>8.5</td>\n",
       "      <td>7.315823</td>\n",
       "      <td>9.86</td>\n",
       "    </tr>\n",
       "    <tr>\n",
       "      <th>4</th>\n",
       "      <td>7.333333</td>\n",
       "      <td>7.5</td>\n",
       "      <td>9.0</td>\n",
       "      <td>8.995158</td>\n",
       "      <td>10.77</td>\n",
       "    </tr>\n",
       "  </tbody>\n",
       "</table>\n",
       "</div>"
      ],
      "text/plain": [
       "   EGG MEAN  EGG MAX  BODYBOOST  DYN MEAN  DYN MAX\n",
       "0  8.083333      8.5        9.5  6.770000     8.33\n",
       "1  7.083333      7.5        8.5  7.762753     9.43\n",
       "2  7.833333      8.0        8.5  6.725683     8.76\n",
       "3  7.416667      8.0        8.5  7.315823     9.86\n",
       "4  7.333333      7.5        9.0  8.995158    10.77"
      ]
     },
     "execution_count": 7,
     "metadata": {},
     "output_type": "execute_result"
    }
   ],
   "source": [
    "y.head()"
   ]
  },
  {
   "cell_type": "code",
   "execution_count": 8,
   "metadata": {},
   "outputs": [
    {
     "data": {
      "image/png": "[encoded data removed]",
      "text/plain": [
       "<Figure size 432x288 with 1 Axes>"
      ]
     },
     "metadata": {},
     "output_type": "display_data"
    }
   ],
   "source": [
    "sns.boxplot(data=y, orient='h');"
   ]
  },
  {
   "cell_type": "markdown",
   "metadata": {},
   "source": [
    "## Add features"
   ]
  },
  {
   "cell_type": "markdown",
   "metadata": {},
   "source": [
    "### Fscore\n",
    "Let's try to transform each *left* and *right* tests into a single \"Fscore\" such as:\n",
    "$$F_{\\text{score}} = 2 \\times \\frac{\\text{left} \\times \\text{right}}{\\text{left} + \\text{right}}$$\n",
    "\n",
    "This formula favors left & right tests that are similar and therefore penalizes asymmetries."
   ]
  },
  {
   "cell_type": "code",
   "execution_count": 9,
   "metadata": {},
   "outputs": [],
   "source": [
    "def f_score(a, b):\n",
    "    \"\"\"Takes two columns and compute the F score.\"\"\"\n",
    "    return 2 * (a * b) / (a + b)"
   ]
  },
  {
   "cell_type": "markdown",
   "metadata": {},
   "source": [
    "### Imbalance\n",
    "Let's try to compute the imbalance score for each test, such as:\n",
    "$$\\text{imbalance} = |\\frac{\\text{left} - \\text{right}}{\\text{left}}| * 100$$"
   ]
  },
  {
   "cell_type": "code",
   "execution_count": 10,
   "metadata": {},
   "outputs": [],
   "source": [
    "def imbalance(a, b):\n",
    "    \"\"\"compute the imbalance score, in percentage.\"\"\"\n",
    "    return np.abs((a - b) / a) * 100"
   ]
  },
  {
   "cell_type": "code",
   "execution_count": 11,
   "metadata": {},
   "outputs": [],
   "source": [
    "X_f_score = pd.DataFrame()\n",
    "for name, icol in X.iteritems():\n",
    "    b = np.empty(0)\n",
    "    if name[-1] == 'G':\n",
    "        a = icol\n",
    "    else:\n",
    "        b = icol\n",
    "    if b.any():\n",
    "        X_f_score[name[:-2]] = f_score(a, b)\n",
    "        X_f_score[f'imb_{name[:-2]}'] = imbalance(a, b)"
   ]
  },
  {
   "cell_type": "code",
   "execution_count": 12,
   "metadata": {},
   "outputs": [
    {
     "data": {
      "image/png": "[encoded data removed]",
      "text/plain": [
       "<Figure size 432x288 with 1 Axes>"
      ]
     },
     "metadata": {},
     "output_type": "display_data"
    }
   ],
   "source": [
    "sns.boxplot(data=X_f_score[[i for i in X_f_score if i[0] != 'i']], orient='h');"
   ]
  },
  {
   "cell_type": "code",
   "execution_count": 13,
   "metadata": {},
   "outputs": [
    {
     "data": {
      "image/png": "[encoded data removed]",
      "text/plain": [
       "<Figure size 432x288 with 1 Axes>"
      ]
     },
     "metadata": {},
     "output_type": "display_data"
    }
   ],
   "source": [
    "sns.boxplot(data=X_f_score[[i for i in X_f_score if i[0] == 'i']], orient='h');"
   ]
  },
  {
   "cell_type": "markdown",
   "metadata": {},
   "source": [
    "## Fitting an ensemble model"
   ]
  },
  {
   "cell_type": "code",
   "execution_count": 14,
   "metadata": {},
   "outputs": [],
   "source": [
    "from sklearn.model_selection import train_test_split\n",
    "\n",
    "X_train, X_test, y_train, y_test = train_test_split(\n",
    "    X_f_score, y, test_size=0.2, random_state=RANDOM_SEED)"
   ]
  },
  {
   "cell_type": "code",
   "execution_count": 31,
   "metadata": {},
   "outputs": [
    {
     "ename": "TypeError",
     "evalue": "train() missing 1 required positional argument: 'dtrain'",
     "output_type": "error",
     "traceback": [
      "\u001b[0;31m---------------------------------------------------------------------------\u001b[0m",
      "\u001b[0;31mTypeError\u001b[0m                                 Traceback (most recent call last)",
      "\u001b[0;32m<ipython-input-31-347c2e37f2b2>\u001b[0m in \u001b[0;36m<module>\u001b[0;34m()\u001b[0m\n\u001b[1;32m     20\u001b[0m     \u001b[0mevals\u001b[0m\u001b[0;34m=\u001b[0m\u001b[0;34m[\u001b[0m\u001b[0;34m(\u001b[0m\u001b[0mdtest\u001b[0m\u001b[0;34m,\u001b[0m \u001b[0;34m\"Test\"\u001b[0m\u001b[0;34m)\u001b[0m\u001b[0;34m]\u001b[0m\u001b[0;34m,\u001b[0m\u001b[0;34m\u001b[0m\u001b[0m\n\u001b[1;32m     21\u001b[0m     \u001b[0mverbose_eval\u001b[0m\u001b[0;34m=\u001b[0m\u001b[0;36m25\u001b[0m\u001b[0;34m,\u001b[0m\u001b[0;34m\u001b[0m\u001b[0m\n\u001b[0;32m---> 22\u001b[0;31m     \u001b[0mearly_stopping_rounds\u001b[0m\u001b[0;34m=\u001b[0m\u001b[0;36m100\u001b[0m\u001b[0;34m\u001b[0m\u001b[0m\n\u001b[0m\u001b[1;32m     23\u001b[0m )\n",
      "\u001b[0;31mTypeError\u001b[0m: train() missing 1 required positional argument: 'dtrain'"
     ]
    }
   ],
   "source": [
    "import xgboost\n",
    "\n",
    "label = 'BODYBOOST'\n",
    "\n",
    "dtrain = xgboost.DMatrix(X_train, label=y_train[label])\n",
    "dtest = xgboost.DMatrix(X_test, label=y_test[label])\n",
    "\n",
    "params = {\n",
    "    \"eta\": 0.01,\n",
    "    \"objective\": \"reg:linear\",\n",
    "    \"subsample\": 0.5,\n",
    "    \"base_score\": np.mean(y_train[label]),\n",
    "    \"eval_metric\": \"logloss\"\n",
    "}\n",
    "\n",
    "boosted = xgboost.train(\n",
    "#     params,\n",
    "    dtrain,\n",
    "    num_boost_round=5000,\n",
    "    evals=[(dtest, \"Test\")],\n",
    "    verbose_eval=25,\n",
    "    early_stopping_rounds=100\n",
    ")"
   ]
  },
  {
   "cell_type": "code",
   "execution_count": 29,
   "metadata": {},
   "outputs": [],
   "source": [
    "from sklearn.metrics import mean_squared_error\n",
    "\n",
    "threshold = 0.7\n",
    "dpredict = (boosted.predict(dtest, ntree_limit=boosted.best_iteration) > threshold).astype(int)"
   ]
  },
  {
   "cell_type": "code",
   "execution_count": 28,
   "metadata": {},
   "outputs": [],
   "source": [
    "from sklearn.metrics import mean_squared_error\n",
    "import spm1d\n",
    "\n",
    "def mape(y_test, y_pred):\n",
    "    val = (np.abs((y_test - y_pred) / y_test)) * 100\n",
    "    return np.mean(val), np.std(val)\n",
    "\n",
    "def mse(y_test, y_pred):\n",
    "    val = ((y_test - y_pred) ** 2)\n",
    "    return np.mean(val), np.std(val)\n",
    "\n",
    "def rmse(y_test, y_pred):\n",
    "    val = np.sqrt(((y_test - y_pred) ** 2))\n",
    "    return np.mean(val), np.std(val)"
   ]
  },
  {
   "cell_type": "code",
   "execution_count": 30,
   "metadata": {},
   "outputs": [
    {
     "data": {
      "text/plain": [
       "array([1, 1, 1, 1, 1, 1, 1, 1, 1, 1, 1, 1, 1, 1, 1, 1, 1, 1, 1])"
      ]
     },
     "execution_count": 30,
     "metadata": {},
     "output_type": "execute_result"
    }
   ],
   "source": [
    "dpredict"
   ]
  }
 ],
 "metadata": {
  "kernelspec": {
   "display_name": "ml",
   "language": "python",
   "name": "ml"
  },
  "language_info": {
   "codemirror_mode": {
    "name": "ipython",
    "version": 3
   },
   "file_extension": ".py",
   "mimetype": "text/x-python",
   "name": "python",
   "nbconvert_exporter": "python",
   "pygments_lexer": "ipython3",
   "version": "3.6.6"
  },
  "toc": {
   "base_numbering": 1,
   "nav_menu": {},
   "number_sections": true,
   "sideBar": true,
   "skip_h1_title": true,
   "title_cell": "Table of Contents",
   "title_sidebar": "Contents",
   "toc_cell": false,
   "toc_position": {},
   "toc_section_display": true,
   "toc_window_display": true
  }
 },
 "nbformat": 4,
 "nbformat_minor": 2
}
