{
 "cells": [
  {
   "cell_type": "code",
   "execution_count": 9,
   "metadata": {},
   "outputs": [],
   "source": [
    "import pandas as pd\n",
    "import matplotlib.pyplot as plt"
   ]
  },
  {
   "cell_type": "code",
   "execution_count": 10,
   "metadata": {},
   "outputs": [],
   "source": [
    "FILENAME = '../../data/dataframe.hdf5'"
   ]
  },
  {
   "cell_type": "code",
   "execution_count": 11,
   "metadata": {},
   "outputs": [],
   "source": [
    "df = pd.read_hdf(FILENAME)"
   ]
  },
  {
   "cell_type": "code",
   "execution_count": 16,
   "metadata": {},
   "outputs": [
    {
     "data": {
      "text/plain": [
       "[{0: 0},\n",
       " {1: 1},\n",
       " {2: 2},\n",
       " {3: 3},\n",
       " {4: 4},\n",
       " {5: 5},\n",
       " {6: 6},\n",
       " {7: 7},\n",
       " {8: 8},\n",
       " {9: 9},\n",
       " {10: 10},\n",
       " {11: 11},\n",
       " {12: 12},\n",
       " {13: 13},\n",
       " {14: 14},\n",
       " {15: 15},\n",
       " {16: 16},\n",
       " {17: 17},\n",
       " {18: 18},\n",
       " {19: 19},\n",
       " {20: 20},\n",
       " {21: 21},\n",
       " {22: 22},\n",
       " {23: 23},\n",
       " {24: 24},\n",
       " {25: 25},\n",
       " {26: 26},\n",
       " {27: 27},\n",
       " {28: 28},\n",
       " {29: 29},\n",
       " {30: 30},\n",
       " {31: 31},\n",
       " {32: 32},\n",
       " {33: 33},\n",
       " {34: 34},\n",
       " {35: 35},\n",
       " {36: 36},\n",
       " {37: 37},\n",
       " {38: 38},\n",
       " {39: 39},\n",
       " {40: 40},\n",
       " {41: 41},\n",
       " {42: 42},\n",
       " {43: 43},\n",
       " {44: 44},\n",
       " {45: 45},\n",
       " {46: 46},\n",
       " {47: 47},\n",
       " {48: 48},\n",
       " {49: 49},\n",
       " {50: 50},\n",
       " {51: 51},\n",
       " {52: 52}]"
      ]
     },
     "execution_count": 16,
     "metadata": {},
     "output_type": "execute_result"
    }
   ],
   "source": [
    "app.layout = html.Div([\n",
    "    html.Div([\n",
    "        html.H2(\"Wind Speed Streaming\"),\n",
    "        html.Img(src=\"https://s3-us-west-1.amazonaws.com/plotly-tutorials/logo/new-branding/dash-logo-by-plotly-stripe-inverted.png\"),\n",
    "    ], className='banner'),\n",
    "    html.Div([\n",
    "        html.Div([\n",
    "            html.H3(\"WIND SPEED (mph)\")\n",
    "        ], className='Title'),\n",
    "        html.Div([\n",
    "            dcc.Graph(id='wind-speed'),\n",
    "        ], className='twelve columns wind-speed'),\n",
    "        dcc.Interval(id='wind-speed-update', interval=1000),\n",
    "    ], className='row wind-speed-row'),\n",
    "    html.Div([\n",
    "        html.Div([\n",
    "            html.Div([\n",
    "                html.H3(\"WIND SPEED HISTOGRAM\")\n",
    "            ], className='Title'),\n",
    "            html.Div([\n",
    "                dcc.Slider(\n",
    "                    id='bin-slider',\n",
    "                    min=1,\n",
    "                    max=60,\n",
    "                    step=1,\n",
    "                    value=20,\n",
    "                    updatemode='drag'\n",
    "                ),\n",
    "            ], className='histogram-slider'),\n",
    "            html.P('# of Bins: Auto', id='bin-size', className='bin-size'),\n",
    "            html.Div([\n",
    "                dcc.Checklist(\n",
    "                    id='bin-auto',\n",
    "                    options=[\n",
    "                        {'label': 'Auto', 'value': 'Auto'}\n",
    "                    ],\n",
    "                    values=['Auto']\n",
    "                ),\n",
    "            ], className='bin-auto'),\n",
    "            dcc.Graph(id='wind-histogram'),\n",
    "        ], className='seven columns wind-histogram'),\n",
    "        html.Div([\n",
    "            html.Div([\n",
    "                html.H3(\"WIND DIRECTION\")\n",
    "            ], className='Title'),\n",
    "            dcc.Graph(id='wind-direction'),\n",
    "        ], className='five columns wind-polar')\n",
    "    ], className='row wind-histo-polar')\n",
    "], style={'padding': '0px 10px 15px 10px',\n",
    "          'marginLeft': 'auto', 'marginRight': 'auto', \"width\": \"900px\",\n",
    "          'boxShadow': '0px 0px 5px 5px rgba(204,204,204,0.4)'})"
   ]
  }
 ],
 "metadata": {
  "kernelspec": {
   "display_name": "synchro",
   "language": "python",
   "name": "synchro"
  },
  "language_info": {
   "codemirror_mode": {
    "name": "ipython",
    "version": 3
   },
   "file_extension": ".py",
   "mimetype": "text/x-python",
   "name": "python",
   "nbconvert_exporter": "python",
   "pygments_lexer": "ipython3",
   "version": "3.6.4"
  }
 },
 "nbformat": 4,
 "nbformat_minor": 2
}
