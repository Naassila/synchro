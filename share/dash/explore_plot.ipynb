{
 "cells": [
  {
   "cell_type": "code",
   "execution_count": 4,
   "metadata": {},
   "outputs": [],
   "source": [
    "import pandas as pd\n",
    "import plotly\n",
    "import plotly.figure_factory as ff"
   ]
  },
  {
   "cell_type": "code",
   "execution_count": 2,
   "metadata": {},
   "outputs": [],
   "source": [
    "FILENAME = '../../data/dataframe.hdf5'"
   ]
  },
  {
   "cell_type": "code",
   "execution_count": 3,
   "metadata": {},
   "outputs": [],
   "source": [
    "df = pd.read_hdf(FILENAME)"
   ]
  },
  {
   "cell_type": "code",
   "execution_count": 6,
   "metadata": {},
   "outputs": [
    {
     "data": {
      "text/plain": [
       "Index(['AddL', 'AddR', 'AbdL', 'AbdR', 'ErL', 'ErR', 'IrL', 'IrR', 'ExtL',\n",
       "       'ExtR', 'FlexL', 'FlexR', 'height', 'weight', 'IMC', 'imbalance', 'Dyn',\n",
       "       'BodyBoost', 'MeanEggBeater', 'MaxEggBeater'],\n",
       "      dtype='object')"
      ]
     },
     "execution_count": 6,
     "metadata": {},
     "output_type": "execute_result"
    }
   ],
   "source": [
    "df.columns"
   ]
  },
  {
   "cell_type": "code",
   "execution_count": 17,
   "metadata": {},
   "outputs": [
    {
     "data": {
      "text/plain": [
       "<matplotlib.axes._subplots.AxesSubplot at 0x7f4c5a8bc0f0>"
      ]
     },
     "execution_count": 17,
     "metadata": {},
     "output_type": "execute_result"
    },
    {
     "data": {
      "image/png": "[encoded data removed]",
      "text/plain": [
       "<matplotlib.figure.Figure at 0x7f4c5a370eb8>"
      ]
     },
     "metadata": {},
     "output_type": "display_data"
    }
   ],
   "source": [
    "df.iloc[:, :6].plot(kind='kde')"
   ]
  },
  {
   "cell_type": "code",
   "execution_count": 29,
   "metadata": {},
   "outputs": [
    {
     "data": {
      "text/html": [
       "<div>\n",
       "<style scoped>\n",
       "    .dataframe tbody tr th:only-of-type {\n",
       "        vertical-align: middle;\n",
       "    }\n",
       "\n",
       "    .dataframe tbody tr th {\n",
       "        vertical-align: top;\n",
       "    }\n",
       "\n",
       "    .dataframe thead th {\n",
       "        text-align: right;\n",
       "    }\n",
       "</style>\n",
       "<table border=\"1\" class=\"dataframe\">\n",
       "  <thead>\n",
       "    <tr style=\"text-align: right;\">\n",
       "      <th></th>\n",
       "      <th>AddL</th>\n",
       "      <th>AddR</th>\n",
       "      <th>AbdL</th>\n",
       "      <th>AbdR</th>\n",
       "      <th>ErL</th>\n",
       "      <th>ErR</th>\n",
       "      <th>IrL</th>\n",
       "      <th>IrR</th>\n",
       "      <th>ExtL</th>\n",
       "      <th>ExtR</th>\n",
       "      <th>FlexL</th>\n",
       "      <th>FlexR</th>\n",
       "    </tr>\n",
       "  </thead>\n",
       "  <tbody>\n",
       "    <tr>\n",
       "      <th>0</th>\n",
       "      <td>211.25</td>\n",
       "      <td>215.30</td>\n",
       "      <td>192.60</td>\n",
       "      <td>183.90</td>\n",
       "      <td>76.90</td>\n",
       "      <td>83.45</td>\n",
       "      <td>54.75</td>\n",
       "      <td>67.80</td>\n",
       "      <td>132.20</td>\n",
       "      <td>183.70</td>\n",
       "      <td>172.80</td>\n",
       "      <td>199.25</td>\n",
       "    </tr>\n",
       "    <tr>\n",
       "      <th>1</th>\n",
       "      <td>301.25</td>\n",
       "      <td>298.05</td>\n",
       "      <td>272.55</td>\n",
       "      <td>292.15</td>\n",
       "      <td>96.80</td>\n",
       "      <td>100.40</td>\n",
       "      <td>118.95</td>\n",
       "      <td>118.95</td>\n",
       "      <td>165.05</td>\n",
       "      <td>159.30</td>\n",
       "      <td>222.25</td>\n",
       "      <td>213.80</td>\n",
       "    </tr>\n",
       "    <tr>\n",
       "      <th>2</th>\n",
       "      <td>202.05</td>\n",
       "      <td>219.00</td>\n",
       "      <td>160.60</td>\n",
       "      <td>163.00</td>\n",
       "      <td>62.50</td>\n",
       "      <td>78.60</td>\n",
       "      <td>94.60</td>\n",
       "      <td>90.80</td>\n",
       "      <td>196.85</td>\n",
       "      <td>171.25</td>\n",
       "      <td>127.10</td>\n",
       "      <td>117.35</td>\n",
       "    </tr>\n",
       "    <tr>\n",
       "      <th>3</th>\n",
       "      <td>265.80</td>\n",
       "      <td>270.50</td>\n",
       "      <td>245.85</td>\n",
       "      <td>234.20</td>\n",
       "      <td>103.45</td>\n",
       "      <td>113.10</td>\n",
       "      <td>122.60</td>\n",
       "      <td>103.90</td>\n",
       "      <td>211.20</td>\n",
       "      <td>238.15</td>\n",
       "      <td>211.50</td>\n",
       "      <td>190.05</td>\n",
       "    </tr>\n",
       "    <tr>\n",
       "      <th>4</th>\n",
       "      <td>193.20</td>\n",
       "      <td>208.70</td>\n",
       "      <td>190.50</td>\n",
       "      <td>162.30</td>\n",
       "      <td>81.65</td>\n",
       "      <td>84.40</td>\n",
       "      <td>93.25</td>\n",
       "      <td>79.00</td>\n",
       "      <td>119.95</td>\n",
       "      <td>107.55</td>\n",
       "      <td>108.45</td>\n",
       "      <td>126.30</td>\n",
       "    </tr>\n",
       "  </tbody>\n",
       "</table>\n",
       "</div>"
      ],
      "text/plain": [
       "     AddL    AddR    AbdL    AbdR     ErL     ErR     IrL     IrR    ExtL  \\\n",
       "0  211.25  215.30  192.60  183.90   76.90   83.45   54.75   67.80  132.20   \n",
       "1  301.25  298.05  272.55  292.15   96.80  100.40  118.95  118.95  165.05   \n",
       "2  202.05  219.00  160.60  163.00   62.50   78.60   94.60   90.80  196.85   \n",
       "3  265.80  270.50  245.85  234.20  103.45  113.10  122.60  103.90  211.20   \n",
       "4  193.20  208.70  190.50  162.30   81.65   84.40   93.25   79.00  119.95   \n",
       "\n",
       "     ExtR   FlexL   FlexR  \n",
       "0  183.70  172.80  199.25  \n",
       "1  159.30  222.25  213.80  \n",
       "2  171.25  127.10  117.35  \n",
       "3  238.15  211.50  190.05  \n",
       "4  107.55  108.45  126.30  "
      ]
     },
     "execution_count": 29,
     "metadata": {},
     "output_type": "execute_result"
    }
   ],
   "source": [
    "df_groinbar = df.iloc[:, :12]\n",
    "df_groinbar.head()"
   ]
  },
  {
   "cell_type": "code",
   "execution_count": 32,
   "metadata": {},
   "outputs": [
    {
     "data": {
      "text/plain": [
       "'file:///home/romain/Documents/codes/synchro/share/dash/temp-plot.html'"
      ]
     },
     "execution_count": 32,
     "metadata": {},
     "output_type": "execute_result"
    }
   ],
   "source": [
    "plotly.offline.plot(\n",
    "    ff.create_distplot([df_groinbar[c] for c in df_groinbar.columns], df_groinbar.columns, bin_size=.25, show_hist=False)\n",
    ")"
   ]
  }
 ],
 "metadata": {
  "kernelspec": {
   "display_name": "synchro",
   "language": "python",
   "name": "synchro"
  },
  "language_info": {
   "codemirror_mode": {
    "name": "ipython",
    "version": 3
   },
   "file_extension": ".py",
   "mimetype": "text/x-python",
   "name": "python",
   "nbconvert_exporter": "python",
   "pygments_lexer": "ipython3",
   "version": "3.6.4"
  }
 },
 "nbformat": 4,
 "nbformat_minor": 2
}
