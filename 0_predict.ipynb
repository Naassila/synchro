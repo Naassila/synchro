{
 "cells": [
  {
   "cell_type": "markdown",
   "metadata": {},
   "source": [
    "# Synchro Project\n",
    "- [github link](https://github.com/romainmartinez/envergo)"
   ]
  },
  {
   "cell_type": "markdown",
   "metadata": {},
   "source": [
    "## 0. Setup"
   ]
  },
  {
   "cell_type": "code",
   "execution_count": 1,
   "metadata": {},
   "outputs": [],
   "source": [
    "# Common imports\n",
    "import scipy.io as sio\n",
    "import pandas as pd\n",
    "import numpy as np\n",
    "import os\n",
    "\n",
    "# Figures\n",
    "import matplotlib.pyplot as plt\n",
    "import seaborn as sns\n",
    "plt.rcParams['axes.labelsize'] = 14\n",
    "plt.rcParams['xtick.labelsize'] = 12\n",
    "plt.rcParams['ytick.labelsize'] = 12\n",
    "sns.set_context(\"notebook\", font_scale=1.1)\n",
    "sns.set_style(\"ticks\")\n",
    "plt.rcParams['pdf.fonttype'] = 42\n",
    "plt.rcParams['ps.fonttype'] = 42\n",
    "\n",
    "# to make this notebook's output stable across runs\n",
    "RANDOM_SEED = 42\n",
    "np.random.seed(RANDOM_SEED)"
   ]
  },
  {
   "cell_type": "markdown",
   "metadata": {},
   "source": [
    "## 1. Load data"
   ]
  },
  {
   "cell_type": "code",
   "execution_count": 2,
   "metadata": {},
   "outputs": [],
   "source": [
    "# load from mat\n",
    "DATA_PATH = './data/'\n",
    "X = sio.loadmat(os.path.join(DATA_PATH, 'X.mat'))['TableauForces']\n",
    "y = sio.loadmat(os.path.join(DATA_PATH, 'y.mat'))['TestData']\n",
    "\n",
    "X_description = np.array(['AddL', 'AddR', 'AbdL', 'AbdR', 'ErL', 'ErR', 'IrL', 'IrR', 'ExtL', 'ExtR', 'FlexL', 'FlexR'])\n",
    "y_description = np.array(['Dyn', 'BodyBoost', 'MeanEggBeater', 'MaxEggBeater'])"
   ]
  },
  {
   "cell_type": "code",
   "execution_count": 3,
   "metadata": {},
   "outputs": [
    {
     "data": {
      "text/plain": [
       "(53, 12)"
      ]
     },
     "execution_count": 3,
     "metadata": {},
     "output_type": "execute_result"
    }
   ],
   "source": [
    "X.shape"
   ]
  },
  {
   "cell_type": "code",
   "execution_count": 4,
   "metadata": {},
   "outputs": [
    {
     "data": {
      "text/plain": [
       "(53, 4)"
      ]
     },
     "execution_count": 4,
     "metadata": {},
     "output_type": "execute_result"
    }
   ],
   "source": [
    "y.shape"
   ]
  },
  {
   "cell_type": "markdown",
   "metadata": {},
   "source": [
    "### nan remover"
   ]
  },
  {
   "cell_type": "code",
   "execution_count": 5,
   "metadata": {},
   "outputs": [
    {
     "name": "stdout",
     "output_type": "stream",
     "text": [
      "\tparticipant n: 1\n",
      "\ttest: IrL\n",
      "\t\t\"nan\" replace by \"118.95\"\n",
      "\t -----\n",
      "\tparticipant n: 51\n",
      "\ttest: IrL\n",
      "\t\t\"nan\" replace by \"92.25\"\n",
      "\t -----\n"
     ]
    }
   ],
   "source": [
    "nan_id = np.argwhere(np.isnan(X))\n",
    "n_nans = np.sum(np.isnan(X).sum(axis=1))\n",
    "for i in nan_id:\n",
    "    print(f'\\tparticipant n: {i[0]}')\n",
    "    print(f'\\ttest: {X_description[i[1]]}')\n",
    "    # if left take right, left otherwise\n",
    "    if X_description[i[1]][-1] == 'L':\n",
    "        replacer = i[1] + 1\n",
    "    elif X_description[i[1]][-1] == 'R':\n",
    "        replacer = i[1] - 1\n",
    "    print(f'\\t\\t\"{X[i[0], i[1]]}\" replace by \"{X[i[0], replacer]}\"')\n",
    "    X[i[0], i[1]] = X[i[0], replacer]\n",
    "    print('\\t', '-' * 5)"
   ]
  },
  {
   "cell_type": "markdown",
   "metadata": {},
   "source": [
    "### add features"
   ]
  },
  {
   "cell_type": "code",
   "execution_count": 6,
   "metadata": {},
   "outputs": [],
   "source": [
    "# load height + weight\n",
    "anthropo = sio.loadmat(os.path.join(DATA_PATH, 'heightweight.mat'))['HeightWeight']\n",
    "# replace nan\n",
    "from sklearn.preprocessing import Imputer\n",
    "anthropo = Imputer(strategy='median').fit_transform(anthropo)\n",
    "# add IMC\n",
    "anthropo = np.c_[anthropo, anthropo[:, 1] / (anthropo[:, 0])**2]"
   ]
  },
  {
   "cell_type": "code",
   "execution_count": 7,
   "metadata": {},
   "outputs": [],
   "source": [
    "# compute imbalance\n",
    "imbalance = None\n",
    "for i in range(0, X.shape[1], 2):\n",
    "    if imbalance is None:\n",
    "        imbalance = np.abs((X[:, i] - X[:, i + 1]) / X[:, i]) * 100\n",
    "    else:\n",
    "        imbalance = np.c_[imbalance, np.abs((X[:, i] - X[:, i + 1]) / X[:, i]) * 100]\n",
    "imbalance = np.mean(imbalance, axis=1)"
   ]
  },
  {
   "cell_type": "code",
   "execution_count": 8,
   "metadata": {},
   "outputs": [],
   "source": [
    "X = np.c_[X, anthropo, imbalance]\n",
    "X_description = np.append(X_description, ['height', 'weight', 'IMC', 'imbalance'])"
   ]
  },
  {
   "cell_type": "code",
   "execution_count": 9,
   "metadata": {},
   "outputs": [],
   "source": [
    "X_cols = {\n",
    "    'test': np.arange(12),\n",
    "    'height': np.array([12]),\n",
    "    'weight': np.array([13]),\n",
    "    'IMC': np.array([14]),\n",
    "    'imbalance': np.array([15])\n",
    "}"
   ]
  },
  {
   "cell_type": "markdown",
   "metadata": {},
   "source": [
    "### split data"
   ]
  },
  {
   "cell_type": "code",
   "execution_count": 10,
   "metadata": {},
   "outputs": [],
   "source": [
    "# split data\n",
    "from sklearn.model_selection import train_test_split\n",
    "\n",
    "X_train, X_test, y_train, y_test = train_test_split(X, y, test_size=0.2, random_state=RANDOM_SEED)"
   ]
  },
  {
   "cell_type": "markdown",
   "metadata": {},
   "source": [
    "## 3. Pipeline"
   ]
  },
  {
   "cell_type": "code",
   "execution_count": 49,
   "metadata": {},
   "outputs": [],
   "source": [
    "# custom class\n",
    "from sklearn.base import BaseEstimator, TransformerMixin\n",
    "\n",
    "class Normalize(BaseEstimator, TransformerMixin):\n",
    "    \"\"\"Normalize a given array with weight, height or IMC\"\"\"\n",
    "    def __init__(self, X_cols=X_cols, strategy='IMC'):\n",
    "        self.strategy = strategy\n",
    "        self.X_cols = X_cols\n",
    "        \n",
    "    def fit(self, X, y=None):\n",
    "        X_copy = X.copy()\n",
    "        if self.strategy is 'height':\n",
    "            normalizer = X_copy[:, X_cols['height']].reshape(-1, 1)\n",
    "        elif self.strategy is 'weight':\n",
    "            normalizer = X_copy[:, X_cols['weight']].reshape(-1, 1)\n",
    "        elif self.strategy is 'IMC':\n",
    "            normalizer = X_copy[:, X_cols['IMC']].reshape(-1, 1)\n",
    "        else:\n",
    "            normalizer = 1\n",
    "        X_copy[:, X_cols['test']] = X_copy[:, X_cols['test']] / normalizer\n",
    "        self.output = X_copy\n",
    "        return self\n",
    "    \n",
    "    def transform(self, X):\n",
    "        return self.output\n",
    "    \n",
    "class TestSide(BaseEstimator, TransformerMixin):\n",
    "    \"\"\"Return the mean between left & right or both\"\"\"\n",
    "    def __init__(self, X_cols=X_cols, strategy='mean'):\n",
    "        self.strategy = strategy\n",
    "        self.X_cols = X_cols\n",
    "        \n",
    "    def fit(self, X, y=None):\n",
    "        if self.strategy is 'mean' or 'Fscore':\n",
    "            output = X.copy()\n",
    "            for i in range(X_cols['test'][-1] + 1):\n",
    "                if i % 2 == 0:\n",
    "                    if self.strategy is 'mean':\n",
    "                        output[:, i] = np.mean([X[:, i], X[:, i + 1]], axis=0)\n",
    "                    else:\n",
    "                        output[:, i] = 2 * (X[:, i] * X[:, i + 1]) / (X[:, i] + X[:, i + 1])\n",
    "                else:\n",
    "                    output[:, i] = np.nan\n",
    "        else:\n",
    "            output = X\n",
    "        self.output = output\n",
    "        return self\n",
    "    \n",
    "    def transform(self, X):\n",
    "        return self.output\n",
    "    \n",
    "class FeaturesAdder(BaseEstimator, TransformerMixin):\n",
    "    \"\"\"Add features based on the list `new_features`\n",
    "    Possible `new_features` are: IMC, imbalance\n",
    "    \"\"\"\n",
    "    def __init__(self, X_cols=X_cols, new_features='None'):\n",
    "        self.new_features = new_features\n",
    "        self.X_cols = X_cols\n",
    "        \n",
    "    def fit(self, X, y=None):\n",
    "        X_copy = X.copy()\n",
    "        for key, cols in X_cols.items():\n",
    "            if not key in self.new_features:\n",
    "                X_copy[:, cols] = np.nan\n",
    "        # remove nan columns\n",
    "        self.output = X_copy[:, ~np.all(np.isnan(X_copy), axis=0)]\n",
    "        return self\n",
    "    \n",
    "    def transform(self, X):\n",
    "        return self.output"
   ]
  },
  {
   "cell_type": "code",
   "execution_count": 27,
   "metadata": {},
   "outputs": [],
   "source": [
    "from sklearn.pipeline import make_pipeline\n",
    "preprocessing = make_pipeline(\n",
    "    Normalize(strategy='IMC'),\n",
    "    TestSide(strategy='mean'),\n",
    "    FeaturesAdder(new_features=['IMC', 'imbalance'])\n",
    ")"
   ]
  },
  {
   "cell_type": "code",
   "execution_count": 28,
   "metadata": {},
   "outputs": [],
   "source": [
    "from sklearn.multioutput import MultiOutputRegressor\n",
    "from xgboost import XGBRegressor\n",
    "\n",
    "full_pipeline = make_pipeline(\n",
    "    preprocessing,\n",
    "    MultiOutputRegressor(XGBRegressor())\n",
    ")"
   ]
  },
  {
   "cell_type": "markdown",
   "metadata": {},
   "source": [
    "## 4. Optimization"
   ]
  },
  {
   "cell_type": "code",
   "execution_count": 29,
   "metadata": {},
   "outputs": [
    {
     "data": {
      "text/plain": [
       "Pipeline(memory=None,\n",
       "     steps=[('pipeline', Pipeline(memory=None,\n",
       "     steps=[('normalize', Normalize(X_cols={'test': array([ 0,  1,  2,  3,  4,  5,  6,  7,  8,  9, 10, 11]), 'height': array([12]), 'weight': array([13]), 'IMC': array([14]), 'imbalance': array([15])},\n",
       "     strategy='IMC')), ('testside', TestSide(X_cols={'te..., reg_lambda=1,\n",
       "       scale_pos_weight=1, seed=0, silent=True, subsample=1),\n",
       "           n_jobs=1))])"
      ]
     },
     "execution_count": 29,
     "metadata": {},
     "output_type": "execute_result"
    }
   ],
   "source": [
    "full_pipeline.fit(X_train, y_train)"
   ]
  },
  {
   "cell_type": "code",
   "execution_count": 30,
   "metadata": {},
   "outputs": [
    {
     "data": {
      "text/plain": [
       "(42, 4)"
      ]
     },
     "execution_count": 30,
     "metadata": {},
     "output_type": "execute_result"
    }
   ],
   "source": [
    "full_pipeline.predict(X_test).shape"
   ]
  },
  {
   "cell_type": "code",
   "execution_count": 23,
   "metadata": {},
   "outputs": [
    {
     "data": {
      "text/plain": [
       "(11, 16)"
      ]
     },
     "execution_count": 23,
     "metadata": {},
     "output_type": "execute_result"
    }
   ],
   "source": [
    "X_test.shape"
   ]
  },
  {
   "cell_type": "code",
   "execution_count": null,
   "metadata": {},
   "outputs": [],
   "source": [
    "# Normalize: m, weight, height, IMC\n",
    "# TestSide: m, mean, Fscore\n",
    "# FeatureAdder: ['test', 'height', 'weight', 'IMC', 'imbalance']"
   ]
  },
  {
   "cell_type": "markdown",
   "metadata": {},
   "source": [
    "## 5. Evaluation"
   ]
  },
  {
   "cell_type": "markdown",
   "metadata": {},
   "source": [
    "---"
   ]
  },
  {
   "cell_type": "code",
   "execution_count": 9,
   "metadata": {},
   "outputs": [],
   "source": [
    "# predict\n",
    "y_pred_reg = xgboost_multi.predict(X_test)"
   ]
  },
  {
   "cell_type": "code",
   "execution_count": 13,
   "metadata": {},
   "outputs": [
    {
     "name": "stdout",
     "output_type": "stream",
     "text": [
      "Dyn\n",
      "rmse = 1.969\n",
      "mape = 12.985\n",
      "----------\n",
      "BodyBoost\n",
      "rmse = 0.834\n",
      "mape = 8.167\n",
      "----------\n",
      "MeanEggBeater\n",
      "rmse = 0.778\n",
      "mape = 8.669\n",
      "----------\n",
      "MaxEggBeater\n",
      "rmse = 1.110\n",
      "mape = 10.755\n",
      "----------\n"
     ]
    }
   ],
   "source": [
    "# evaluate\n",
    "from sklearn.metrics import mean_squared_error\n",
    "\n",
    "def mean_absolute_percentage_error(y_true, y_pred):\n",
    "    return np.mean(np.abs((y_true - y_pred) / y_true)) * 100\n",
    "\n",
    "for i, output in enumerate(range(y_pred_reg.shape[1])):\n",
    "    print(y_description[i])\n",
    "    mse = mean_squared_error(y_test[:, i], y_pred_reg[:, i])\n",
    "    rmse = np.sqrt(mse)\n",
    "    print(f'rmse = {rmse:.3f}')\n",
    "    mape = mean_absolute_percentage_error(y_test[:, i], y_pred_reg[:, i])\n",
    "    print(f'mape = {mape:.3f}')\n",
    "    print('-' * 10)"
   ]
  }
 ],
 "metadata": {
  "kernelspec": {
   "display_name": "Python [conda env:mvc]",
   "language": "python",
   "name": "conda-env-mvc-py"
  },
  "language_info": {
   "codemirror_mode": {
    "name": "ipython",
    "version": 3
   },
   "file_extension": ".py",
   "mimetype": "text/x-python",
   "name": "python",
   "nbconvert_exporter": "python",
   "pygments_lexer": "ipython3",
   "version": "3.6.3"
  }
 },
 "nbformat": 4,
 "nbformat_minor": 2
}
