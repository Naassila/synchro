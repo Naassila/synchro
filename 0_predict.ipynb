{
 "cells": [
  {
   "cell_type": "markdown",
   "metadata": {
    "toc": true
   },
   "source": [
    "<h1>Table of Contents<span class=\"tocSkip\"></span></h1>\n",
    "<div class=\"toc\"><ul class=\"toc-item\"><li><span><a href=\"#Synchro-Project\" data-toc-modified-id=\"Synchro-Project-1\">Synchro Project</a></span><ul class=\"toc-item\"><li><span><a href=\"#TOC\" data-toc-modified-id=\"TOC-1.1\">TOC</a></span></li><li><span><a href=\"#1.-setup\" data-toc-modified-id=\"1.-setup-1.2\">1. setup</a></span></li><li><span><a href=\"#2.-get-data\" data-toc-modified-id=\"2.-get-data-1.3\">2. get data</a></span><ul class=\"toc-item\"><li><span><a href=\"#2.A.-nan-remover\" data-toc-modified-id=\"2.A.-nan-remover-1.3.1\">2.A. nan remover</a></span></li><li><span><a href=\"#2.B.-add-features\" data-toc-modified-id=\"2.B.-add-features-1.3.2\">2.B. add features</a></span></li><li><span><a href=\"#2.C.-pandas-report\" data-toc-modified-id=\"2.C.-pandas-report-1.3.3\">2.C. pandas report</a></span></li><li><span><a href=\"#2.D.-save-data\" data-toc-modified-id=\"2.D.-save-data-1.3.4\">2.D. save data</a></span></li><li><span><a href=\"#2.E.-split-data\" data-toc-modified-id=\"2.E.-split-data-1.3.5\">2.E. split data</a></span></li></ul></li><li><span><a href=\"#3.-Pipeline\" data-toc-modified-id=\"3.-Pipeline-1.4\">3. Pipeline</a></span></li><li><span><a href=\"#4.-optimization\" data-toc-modified-id=\"4.-optimization-1.5\">4. optimization</a></span></li><li><span><a href=\"#5.-feature-importance\" data-toc-modified-id=\"5.-feature-importance-1.6\">5. feature importance</a></span></li><li><span><a href=\"#6.-diagnostic\" data-toc-modified-id=\"6.-diagnostic-1.7\">6. diagnostic</a></span></li><li><span><a href=\"#7.-evaluation\" data-toc-modified-id=\"7.-evaluation-1.8\">7. evaluation</a></span><ul class=\"toc-item\"><li><ul class=\"toc-item\"><li><span><a href=\"#Hotelling\" data-toc-modified-id=\"Hotelling-1.8.0.1\">Hotelling</a></span></li></ul></li></ul></li></ul></li></ul></div>"
   ]
  },
  {
   "cell_type": "markdown",
   "metadata": {},
   "source": [
    "# Synchro Project\n",
    "- [github link](https://github.com/romainmartinez/envergo)"
   ]
  },
  {
   "cell_type": "markdown",
   "metadata": {},
   "source": [
    "## TOC\n",
    "1. setup\n",
    "2. get data\n",
    "    1. nan remover\n",
    "    2. add features\n",
    "    3. pandas report\n",
    "    4. save data\n",
    "    5. split data\n",
    "3. pipeline\n",
    "4. optimization\n",
    "5. features importance\n",
    "6. diagnostic\n",
    "7. evaluation"
   ]
  },
  {
   "cell_type": "markdown",
   "metadata": {},
   "source": [
    "## 1. setup"
   ]
  },
  {
   "cell_type": "code",
   "execution_count": 1,
   "metadata": {},
   "outputs": [],
   "source": [
    "# Common imports\n",
    "import scipy.io as sio\n",
    "import pandas as pd\n",
    "import numpy as np\n",
    "import os\n",
    "\n",
    "# Figures\n",
    "import matplotlib.pyplot as plt\n",
    "import seaborn as sns\n",
    "plt.rcParams['axes.labelsize'] = 14\n",
    "plt.rcParams['xtick.labelsize'] = 12\n",
    "plt.rcParams['ytick.labelsize'] = 12\n",
    "sns.set_context(\"notebook\", font_scale=1.1)\n",
    "sns.set_style(\"ticks\")\n",
    "plt.rcParams['pdf.fonttype'] = 42\n",
    "plt.rcParams['ps.fonttype'] = 42\n",
    "\n",
    "# to make this notebook's output stable across runs\n",
    "RANDOM_SEED = 42\n",
    "np.random.seed(RANDOM_SEED)"
   ]
  },
  {
   "cell_type": "markdown",
   "metadata": {},
   "source": [
    "## 2. get data"
   ]
  },
  {
   "cell_type": "code",
   "execution_count": 2,
   "metadata": {},
   "outputs": [],
   "source": [
    "# load from mat\n",
    "DATA_PATH = './data/'\n",
    "X_import = sio.loadmat(os.path.join(DATA_PATH, 'X.mat'))['TableauForces']\n",
    "y_import = sio.loadmat(os.path.join(DATA_PATH, 'y.mat'))['TestData']\n",
    "\n",
    "X_description = np.array(['AddL', 'AddR', 'AbdL', 'AbdR', 'ErL', 'ErR', 'IrL', 'IrR', 'ExtL', 'ExtR', 'FlexL', 'FlexR'])\n",
    "y_description = np.array(['Dyn', 'BodyBoost', 'MeanEggBeater', 'MaxEggBeater'])"
   ]
  },
  {
   "cell_type": "markdown",
   "metadata": {},
   "source": [
    "### 2.A. nan remover"
   ]
  },
  {
   "cell_type": "code",
   "execution_count": 3,
   "metadata": {},
   "outputs": [
    {
     "name": "stdout",
     "output_type": "stream",
     "text": [
      "\tparticipant n: 1\n",
      "\ttest: IrL\n",
      "\t\t\"nan\" replace by \"118.95\"\n",
      "\t -----\n",
      "\tparticipant n: 51\n",
      "\ttest: IrL\n",
      "\t\t\"nan\" replace by \"92.25\"\n",
      "\t -----\n"
     ]
    }
   ],
   "source": [
    "nan_id = np.argwhere(np.isnan(X_import))\n",
    "n_nans = np.sum(np.isnan(X_import).sum(axis=1))\n",
    "for i in nan_id:\n",
    "    print(f'\\tparticipant n: {i[0]}')\n",
    "    print(f'\\ttest: {X_description[i[1]]}')\n",
    "    # if left take right, left otherwise\n",
    "    if X_description[i[1]][-1] == 'L':\n",
    "        replacer = i[1] + 1\n",
    "    elif X_description[i[1]][-1] == 'R':\n",
    "        replacer = i[1] - 1\n",
    "    print(f'\\t\\t\"{X_import[i[0], i[1]]}\" replace by \"{X_import[i[0], replacer]}\"')\n",
    "    X_import[i[0], i[1]] = X_import[i[0], replacer]\n",
    "    print('\\t', '-' * 5)"
   ]
  },
  {
   "cell_type": "markdown",
   "metadata": {},
   "source": [
    "### 2.B. add features"
   ]
  },
  {
   "cell_type": "code",
   "execution_count": 4,
   "metadata": {},
   "outputs": [],
   "source": [
    "# load height + weight\n",
    "anthropo = sio.loadmat(os.path.join(DATA_PATH, 'heightweight.mat'))['HeightWeight']\n",
    "# replace nan\n",
    "from sklearn.preprocessing import Imputer\n",
    "anthropo = Imputer(strategy='median').fit_transform(anthropo)\n",
    "# add IMC\n",
    "anthropo = np.c_[anthropo, anthropo[:, 1] / (anthropo[:, 0])**2]"
   ]
  },
  {
   "cell_type": "code",
   "execution_count": 5,
   "metadata": {},
   "outputs": [],
   "source": [
    "# compute imbalance\n",
    "imbalance = None\n",
    "for i in range(0, X_import.shape[1], 2):\n",
    "    if imbalance is None:\n",
    "        imbalance = np.abs((X_import[:, i] - X_import[:, i + 1]) / X_import[:, i]) * 100\n",
    "    else:\n",
    "        imbalance = np.c_[imbalance, np.abs((X_import[:, i] - X_import[:, i + 1]) / X_import[:, i]) * 100]\n",
    "imbalance = np.mean(imbalance, axis=1)"
   ]
  },
  {
   "cell_type": "code",
   "execution_count": 6,
   "metadata": {},
   "outputs": [],
   "source": [
    "X_mat = np.c_[X_import, anthropo, imbalance]\n",
    "X_description = np.append(X_description, ['height', 'weight', 'IMC', 'imbalance'])"
   ]
  },
  {
   "cell_type": "code",
   "execution_count": 7,
   "metadata": {},
   "outputs": [],
   "source": [
    "df = pd.DataFrame(\n",
    "    data=np.c_[X_mat, y_import],\n",
    "    columns=np.append(X_description, y_description)\n",
    ")"
   ]
  },
  {
   "cell_type": "code",
   "execution_count": 8,
   "metadata": {},
   "outputs": [],
   "source": [
    "X_cols = {\n",
    "    'test': np.arange(12),\n",
    "    'height': np.array([12]),\n",
    "    'weight': np.array([13]),\n",
    "    'IMC': np.array([14]),\n",
    "    'imbalance': np.array([15])\n",
    "}"
   ]
  },
  {
   "cell_type": "markdown",
   "metadata": {},
   "source": [
    "### 2.C. pandas report"
   ]
  },
  {
   "cell_type": "code",
   "execution_count": 9,
   "metadata": {},
   "outputs": [],
   "source": [
    "REPORT_FILENAME = './pandas_report.html'\n",
    "if not os.path.isfile(REPORT_FILENAME):\n",
    "    import pandas_profiling\n",
    "    report = pandas_profiling.ProfileReport(df)\n",
    "    report.to_file('./pandas_report.html')"
   ]
  },
  {
   "cell_type": "markdown",
   "metadata": {},
   "source": [
    "### 2.D. save data"
   ]
  },
  {
   "cell_type": "code",
   "execution_count": 10,
   "metadata": {},
   "outputs": [],
   "source": [
    "FILENAME = './data/dataframe.hdf5'\n",
    "df.to_hdf(FILENAME, 'SYNCHRO', format='table')"
   ]
  },
  {
   "cell_type": "markdown",
   "metadata": {},
   "source": [
    "### 2.E. split data"
   ]
  },
  {
   "cell_type": "code",
   "execution_count": 11,
   "metadata": {},
   "outputs": [],
   "source": [
    "# split data\n",
    "from sklearn.model_selection import train_test_split\n",
    "\n",
    "X_train, X_test, y_train, y_test = train_test_split(X_mat, y_import, test_size=0.2, random_state=RANDOM_SEED)"
   ]
  },
  {
   "cell_type": "markdown",
   "metadata": {},
   "source": [
    "## 3. Pipeline"
   ]
  },
  {
   "cell_type": "code",
   "execution_count": 12,
   "metadata": {},
   "outputs": [],
   "source": [
    "# custom class\n",
    "from sklearn.base import BaseEstimator, TransformerMixin\n",
    "\n",
    "class Normalize(BaseEstimator, TransformerMixin):\n",
    "    \"\"\"Normalize a given array with weight, height or IMC\"\"\"\n",
    "    def __init__(self, X_cols=X_cols, strategy='IMC'):\n",
    "        self.strategy = strategy\n",
    "        self.X_cols = X_cols\n",
    "        \n",
    "    def fit(self, X, y=None):\n",
    "        return self\n",
    "    \n",
    "    def transform(self, X):\n",
    "        X_copy = X.copy()\n",
    "        if self.strategy == 'height':\n",
    "            normalizer = X_copy[:, X_cols['height']].reshape(-1, 1)\n",
    "        elif self.strategy == 'weight':\n",
    "            normalizer = X_copy[:, X_cols['weight']].reshape(-1, 1)\n",
    "        elif self.strategy == 'IMC':\n",
    "            normalizer = X_copy[:, X_cols['IMC']].reshape(-1, 1)\n",
    "        else:\n",
    "            raise ValueError(f'please choose one of the following: height, weight, IMC. You have chosen {self.strategy}')\n",
    "        X_copy[:, X_cols['test']] = X_copy[:, X_cols['test']] / normalizer\n",
    "        return X_copy\n",
    "    \n",
    "class TestSide(BaseEstimator, TransformerMixin):\n",
    "    \"\"\"Return the mean between left & right or both\"\"\"\n",
    "    def __init__(self, X_cols=X_cols, strategy='mean'):\n",
    "        self.strategy = strategy\n",
    "        self.X_cols = X_cols\n",
    "        \n",
    "    def fit(self, X, y=None):\n",
    "        return self\n",
    "    \n",
    "    def transform(self, X):\n",
    "        if self.strategy is 'mean' or 'Fscore':\n",
    "            output = X.copy()\n",
    "            for i in range(X_cols['test'][-1] + 1):\n",
    "                if i % 2 == 0:\n",
    "                    if self.strategy is 'mean':\n",
    "                        output[:, i] = np.mean([X[:, i], X[:, i + 1]], axis=0)\n",
    "                    else:\n",
    "                        output[:, i] = 2 * (X[:, i] * X[:, i + 1]) / (X[:, i] + X[:, i + 1])\n",
    "                else:\n",
    "                    output[:, i] = np.nan\n",
    "        else:\n",
    "            raise ValueError('please choose one of the following: mean, Fscore')\n",
    "        return output\n",
    "    \n",
    "class FeaturesAdder(BaseEstimator, TransformerMixin):\n",
    "    \"\"\"Add features based on the list `new_features`\n",
    "    Possible `new_features` are: IMC, imbalance\n",
    "    \"\"\"\n",
    "    def __init__(self, X_cols=X_cols, new_features='None'):\n",
    "        self.new_features = new_features\n",
    "        self.X_cols = X_cols\n",
    "        \n",
    "    def fit(self, X, y=None):\n",
    "        return self\n",
    "    \n",
    "    def transform(self, X):\n",
    "        X_copy = X.copy()\n",
    "        for key, cols in X_cols.items():\n",
    "            if not key in self.new_features:\n",
    "                X_copy[:, cols] = np.nan\n",
    "        return X_copy[:, ~np.all(np.isnan(X_copy), axis=0)]  # remove nan columns"
   ]
  },
  {
   "cell_type": "code",
   "execution_count": 13,
   "metadata": {},
   "outputs": [],
   "source": [
    "from sklearn.pipeline import make_pipeline\n",
    "from sklearn.preprocessing import PolynomialFeatures\n",
    "\n",
    "preprocessing = make_pipeline(\n",
    "    Normalize(strategy='IMC'),\n",
    "    TestSide(strategy='Fscore'),\n",
    "    FeaturesAdder(new_features=['test', 'height', 'weight', 'IMC', 'imbalance']),\n",
    "    PolynomialFeatures(degree=1)\n",
    ")"
   ]
  },
  {
   "cell_type": "code",
   "execution_count": 14,
   "metadata": {},
   "outputs": [],
   "source": [
    "from sklearn.multioutput import MultiOutputRegressor\n",
    "from xgboost import XGBRegressor\n",
    "\n",
    "full_pipeline = make_pipeline(\n",
    "    preprocessing,\n",
    "    MultiOutputRegressor(XGBRegressor())\n",
    ")"
   ]
  },
  {
   "cell_type": "markdown",
   "metadata": {},
   "source": [
    "## 4. optimization"
   ]
  },
  {
   "cell_type": "code",
   "execution_count": 15,
   "metadata": {},
   "outputs": [],
   "source": [
    "stuff = ['test', 'height', 'weight', 'IMC', 'imbalance']"
   ]
  },
  {
   "cell_type": "code",
   "execution_count": 16,
   "metadata": {},
   "outputs": [
    {
     "data": {
      "text/plain": [
       "[['test'],\n",
       " ['height'],\n",
       " ['weight'],\n",
       " ['IMC'],\n",
       " ['imbalance'],\n",
       " ['test', 'height'],\n",
       " ['test', 'weight'],\n",
       " ['test', 'IMC'],\n",
       " ['test', 'imbalance'],\n",
       " ['height', 'weight'],\n",
       " ['height', 'IMC'],\n",
       " ['height', 'imbalance'],\n",
       " ['weight', 'IMC'],\n",
       " ['weight', 'imbalance'],\n",
       " ['IMC', 'imbalance'],\n",
       " ['test', 'height', 'weight'],\n",
       " ['test', 'height', 'IMC'],\n",
       " ['test', 'height', 'imbalance'],\n",
       " ['test', 'weight', 'IMC'],\n",
       " ['test', 'weight', 'imbalance'],\n",
       " ['test', 'IMC', 'imbalance'],\n",
       " ['height', 'weight', 'IMC'],\n",
       " ['height', 'weight', 'imbalance'],\n",
       " ['height', 'IMC', 'imbalance'],\n",
       " ['weight', 'IMC', 'imbalance'],\n",
       " ['test', 'height', 'weight', 'IMC'],\n",
       " ['test', 'height', 'weight', 'imbalance'],\n",
       " ['test', 'height', 'IMC', 'imbalance'],\n",
       " ['test', 'weight', 'IMC', 'imbalance'],\n",
       " ['height', 'weight', 'IMC', 'imbalance'],\n",
       " ['test', 'height', 'weight', 'IMC', 'imbalance']]"
      ]
     },
     "execution_count": 16,
     "metadata": {},
     "output_type": "execute_result"
    }
   ],
   "source": [
    "import itertools\n",
    "\n",
    "all_possible_features = ['test', 'height', 'weight', 'IMC', 'imbalance']\n",
    "all_features_combinations = []\n",
    "for L in range(1, len(all_possible_features)+1):\n",
    "    for subset in itertools.combinations(all_possible_features, L):\n",
    "        all_features_combinations.append(list(subset))\n",
    "all_features_combinations"
   ]
  },
  {
   "cell_type": "code",
   "execution_count": 17,
   "metadata": {},
   "outputs": [],
   "source": [
    "xgb_param = {\n",
    "    'multioutputregressor__estimator__max_depth': [3, 5, 7, 9, 12, 15, 17, 25],\n",
    "    'multioutputregressor__estimator__learning_rate': [0.01, 0.015, 0.025, 0.05, 0.1],\n",
    "    'multioutputregressor__estimator__n_estimators': [10, 25, 50, 150, 200],\n",
    "    'multioutputregressor__estimator__gamma': [0.05, 0.1, 0.3, 0.5, 0.7, 0.9, 0.10],\n",
    "    'multioutputregressor__estimator__min_child_weight': [1, 3, 5, 7],\n",
    "    'multioutputregressor__estimator__subsample': [0.6, 0.7, 0.8, 0.9, 1.0],\n",
    "    'multioutputregressor__estimator__colsample_bytree': [0.6, 0.7, 0.8, 0.9, 1.0],\n",
    "    'multioutputregressor__estimator__reg_lambda': [0.01, 0.1, 1.0],\n",
    "    'multioutputregressor__estimator__reg_alpha': [0, 0.1, 0.5, 1.0]\n",
    "}"
   ]
  },
  {
   "cell_type": "code",
   "execution_count": 21,
   "metadata": {},
   "outputs": [
    {
     "name": "stdout",
     "output_type": "stream",
     "text": [
      "Fitting 5 folds for each of 372 candidates, totalling 1860 fits\n"
     ]
    },
    {
     "name": "stderr",
     "output_type": "stream",
     "text": [
      "[Parallel(n_jobs=1)]: Done 1860 out of 1860 | elapsed:   58.4s finished\n"
     ]
    }
   ],
   "source": [
    "from sklearn.model_selection import GridSearchCV\n",
    "from sklearn.externals import joblib\n",
    "\n",
    "optimize = True\n",
    "MODEL_FILENAME = 'xgboost_model.pkl'\n",
    "\n",
    "if optimize:\n",
    "    param_grid = [{\n",
    "        'pipeline__normalize': [None, Normalize(strategy='height'), Normalize('weight'), Normalize('IMC')],\n",
    "        'pipeline__testside': [None, TestSide(strategy='mean'), TestSide(strategy='Fscore')],\n",
    "        'pipeline__featuresadder__new_features': all_features_combinations,\n",
    "        'pipeline__polynomialfeatures': [None],\n",
    "        }]\n",
    "\n",
    "    grid_search_prep = GridSearchCV(full_pipeline, param_grid, cv=5, scoring='neg_mean_squared_error',\n",
    "                                    verbose=1)\n",
    "\n",
    "    grid_search_prep.fit(X_train, y_train)\n",
    "    model = grid_search_prep\n",
    "    joblib.dump(model, MODEL_FILENAME)\n",
    "else:\n",
    "    model = joblib.load(MODEL_FILENAME) "
   ]
  },
  {
   "cell_type": "code",
   "execution_count": 22,
   "metadata": {},
   "outputs": [
    {
     "data": {
      "text/plain": [
       "-0.9747966161620677"
      ]
     },
     "execution_count": 22,
     "metadata": {},
     "output_type": "execute_result"
    }
   ],
   "source": [
    "model.best_score_"
   ]
  },
  {
   "cell_type": "code",
   "execution_count": 20,
   "metadata": {},
   "outputs": [
    {
     "data": {
      "text/plain": [
       "{'pipeline__featuresadder__new_features': ['test', 'IMC'],\n",
       " 'pipeline__normalize': Normalize(X_cols={'test': array([ 0,  1,  2,  3,  4,  5,  6,  7,  8,  9, 10, 11]), 'height': array([12]), 'weight': array([13]), 'IMC': array([14]), 'imbalance': array([15])},\n",
       "      strategy='height'),\n",
       " 'pipeline__polynomialfeatures': PolynomialFeatures(degree=2, include_bias=True, interaction_only=False),\n",
       " 'pipeline__testside': TestSide(X_cols={'test': array([ 0,  1,  2,  3,  4,  5,  6,  7,  8,  9, 10, 11]), 'height': array([12]), 'weight': array([13]), 'IMC': array([14]), 'imbalance': array([15])},\n",
       "      strategy='Fscore')}"
      ]
     },
     "execution_count": 20,
     "metadata": {},
     "output_type": "execute_result"
    }
   ],
   "source": [
    "model.best_params_"
   ]
  },
  {
   "cell_type": "code",
   "execution_count": 21,
   "metadata": {},
   "outputs": [
    {
     "name": "stdout",
     "output_type": "stream",
     "text": [
      "Normalize_transform: shape = (42, 16)\n",
      "FeatureAdder_transform: shape = (42, 14)\n"
     ]
    },
    {
     "ename": "ValueError",
     "evalue": "Found input variables with inconsistent numbers of samples: [42, 168]",
     "output_type": "error",
     "traceback": [
      "\u001b[0;31m---------------------------------------------------------------------------\u001b[0m",
      "\u001b[0;31mValueError\u001b[0m                                Traceback (most recent call last)",
      "\u001b[0;32m<ipython-input-21-889c80b15ed9>\u001b[0m in \u001b[0;36m<module>\u001b[0;34m()\u001b[0m\n\u001b[1;32m      2\u001b[0m \u001b[0mxi\u001b[0m \u001b[0;34m=\u001b[0m \u001b[0mclone\u001b[0m\u001b[0;34m(\u001b[0m\u001b[0mfull_pipeline\u001b[0m\u001b[0;34m)\u001b[0m\u001b[0;34m\u001b[0m\u001b[0m\n\u001b[1;32m      3\u001b[0m \u001b[0mxi\u001b[0m\u001b[0;34m.\u001b[0m\u001b[0mset_params\u001b[0m\u001b[0;34m(\u001b[0m\u001b[0;34m**\u001b[0m\u001b[0mmodel\u001b[0m\u001b[0;34m.\u001b[0m\u001b[0mbest_params_\u001b[0m\u001b[0;34m)\u001b[0m\u001b[0;34m\u001b[0m\u001b[0m\n\u001b[0;32m----> 4\u001b[0;31m \u001b[0mxi\u001b[0m\u001b[0;34m.\u001b[0m\u001b[0mfit\u001b[0m\u001b[0;34m(\u001b[0m\u001b[0mX_train\u001b[0m\u001b[0;34m,\u001b[0m \u001b[0my_train\u001b[0m\u001b[0;34m.\u001b[0m\u001b[0mravel\u001b[0m\u001b[0;34m(\u001b[0m\u001b[0;34m)\u001b[0m\u001b[0;34m)\u001b[0m\u001b[0;34m\u001b[0m\u001b[0m\n\u001b[0m",
      "\u001b[0;32m~/.local/share/virtualenvs/synchro-SeFd1JCt/lib/python3.6/site-packages/sklearn/pipeline.py\u001b[0m in \u001b[0;36mfit\u001b[0;34m(self, X, y, **fit_params)\u001b[0m\n\u001b[1;32m    248\u001b[0m         \u001b[0mXt\u001b[0m\u001b[0;34m,\u001b[0m \u001b[0mfit_params\u001b[0m \u001b[0;34m=\u001b[0m \u001b[0mself\u001b[0m\u001b[0;34m.\u001b[0m\u001b[0m_fit\u001b[0m\u001b[0;34m(\u001b[0m\u001b[0mX\u001b[0m\u001b[0;34m,\u001b[0m \u001b[0my\u001b[0m\u001b[0;34m,\u001b[0m \u001b[0;34m**\u001b[0m\u001b[0mfit_params\u001b[0m\u001b[0;34m)\u001b[0m\u001b[0;34m\u001b[0m\u001b[0m\n\u001b[1;32m    249\u001b[0m         \u001b[0;32mif\u001b[0m \u001b[0mself\u001b[0m\u001b[0;34m.\u001b[0m\u001b[0m_final_estimator\u001b[0m \u001b[0;32mis\u001b[0m \u001b[0;32mnot\u001b[0m \u001b[0;32mNone\u001b[0m\u001b[0;34m:\u001b[0m\u001b[0;34m\u001b[0m\u001b[0m\n\u001b[0;32m--> 250\u001b[0;31m             \u001b[0mself\u001b[0m\u001b[0;34m.\u001b[0m\u001b[0m_final_estimator\u001b[0m\u001b[0;34m.\u001b[0m\u001b[0mfit\u001b[0m\u001b[0;34m(\u001b[0m\u001b[0mXt\u001b[0m\u001b[0;34m,\u001b[0m \u001b[0my\u001b[0m\u001b[0;34m,\u001b[0m \u001b[0;34m**\u001b[0m\u001b[0mfit_params\u001b[0m\u001b[0;34m)\u001b[0m\u001b[0;34m\u001b[0m\u001b[0m\n\u001b[0m\u001b[1;32m    251\u001b[0m         \u001b[0;32mreturn\u001b[0m \u001b[0mself\u001b[0m\u001b[0;34m\u001b[0m\u001b[0m\n\u001b[1;32m    252\u001b[0m \u001b[0;34m\u001b[0m\u001b[0m\n",
      "\u001b[0;32m~/.local/share/virtualenvs/synchro-SeFd1JCt/lib/python3.6/site-packages/sklearn/multioutput.py\u001b[0m in \u001b[0;36mfit\u001b[0;34m(self, X, y, sample_weight)\u001b[0m\n\u001b[1;32m    151\u001b[0m         X, y = check_X_y(X, y,\n\u001b[1;32m    152\u001b[0m                          \u001b[0mmulti_output\u001b[0m\u001b[0;34m=\u001b[0m\u001b[0;32mTrue\u001b[0m\u001b[0;34m,\u001b[0m\u001b[0;34m\u001b[0m\u001b[0m\n\u001b[0;32m--> 153\u001b[0;31m                          accept_sparse=True)\n\u001b[0m\u001b[1;32m    154\u001b[0m \u001b[0;34m\u001b[0m\u001b[0m\n\u001b[1;32m    155\u001b[0m         \u001b[0;32mif\u001b[0m \u001b[0mis_classifier\u001b[0m\u001b[0;34m(\u001b[0m\u001b[0mself\u001b[0m\u001b[0;34m)\u001b[0m\u001b[0;34m:\u001b[0m\u001b[0;34m\u001b[0m\u001b[0m\n",
      "\u001b[0;32m~/.local/share/virtualenvs/synchro-SeFd1JCt/lib/python3.6/site-packages/sklearn/utils/validation.py\u001b[0m in \u001b[0;36mcheck_X_y\u001b[0;34m(X, y, accept_sparse, dtype, order, copy, force_all_finite, ensure_2d, allow_nd, multi_output, ensure_min_samples, ensure_min_features, y_numeric, warn_on_dtype, estimator)\u001b[0m\n\u001b[1;32m    581\u001b[0m         \u001b[0my\u001b[0m \u001b[0;34m=\u001b[0m \u001b[0my\u001b[0m\u001b[0;34m.\u001b[0m\u001b[0mastype\u001b[0m\u001b[0;34m(\u001b[0m\u001b[0mnp\u001b[0m\u001b[0;34m.\u001b[0m\u001b[0mfloat64\u001b[0m\u001b[0;34m)\u001b[0m\u001b[0;34m\u001b[0m\u001b[0m\n\u001b[1;32m    582\u001b[0m \u001b[0;34m\u001b[0m\u001b[0m\n\u001b[0;32m--> 583\u001b[0;31m     \u001b[0mcheck_consistent_length\u001b[0m\u001b[0;34m(\u001b[0m\u001b[0mX\u001b[0m\u001b[0;34m,\u001b[0m \u001b[0my\u001b[0m\u001b[0;34m)\u001b[0m\u001b[0;34m\u001b[0m\u001b[0m\n\u001b[0m\u001b[1;32m    584\u001b[0m \u001b[0;34m\u001b[0m\u001b[0m\n\u001b[1;32m    585\u001b[0m     \u001b[0;32mreturn\u001b[0m \u001b[0mX\u001b[0m\u001b[0;34m,\u001b[0m \u001b[0my\u001b[0m\u001b[0;34m\u001b[0m\u001b[0m\n",
      "\u001b[0;32m~/.local/share/virtualenvs/synchro-SeFd1JCt/lib/python3.6/site-packages/sklearn/utils/validation.py\u001b[0m in \u001b[0;36mcheck_consistent_length\u001b[0;34m(*arrays)\u001b[0m\n\u001b[1;32m    202\u001b[0m     \u001b[0;32mif\u001b[0m \u001b[0mlen\u001b[0m\u001b[0;34m(\u001b[0m\u001b[0muniques\u001b[0m\u001b[0;34m)\u001b[0m \u001b[0;34m>\u001b[0m \u001b[0;36m1\u001b[0m\u001b[0;34m:\u001b[0m\u001b[0;34m\u001b[0m\u001b[0m\n\u001b[1;32m    203\u001b[0m         raise ValueError(\"Found input variables with inconsistent numbers of\"\n\u001b[0;32m--> 204\u001b[0;31m                          \" samples: %r\" % [int(l) for l in lengths])\n\u001b[0m\u001b[1;32m    205\u001b[0m \u001b[0;34m\u001b[0m\u001b[0m\n\u001b[1;32m    206\u001b[0m \u001b[0;34m\u001b[0m\u001b[0m\n",
      "\u001b[0;31mValueError\u001b[0m: Found input variables with inconsistent numbers of samples: [42, 168]"
     ]
    }
   ],
   "source": [
    "from sklearn.base import clone\n",
    "xi = clone(full_pipeline)\n",
    "xi.set_params(**model.best_params_)\n",
    "xi.fit(X_train, y_train.ravel())"
   ]
  },
  {
   "cell_type": "markdown",
   "metadata": {},
   "source": [
    "---"
   ]
  },
  {
   "cell_type": "code",
   "execution_count": 18,
   "metadata": {},
   "outputs": [
    {
     "data": {
      "text/plain": [
       "{'pipeline__featuresadder__new_features': ['test', 'weight'],\n",
       " 'pipeline__normalize__strategy': 'weight',\n",
       " 'pipeline__testside__strategy': 'mean'}"
      ]
     },
     "execution_count": 18,
     "metadata": {},
     "output_type": "execute_result"
    }
   ],
   "source": [
    "grid_search_prep.best_params_"
   ]
  },
  {
   "cell_type": "code",
   "execution_count": 19,
   "metadata": {},
   "outputs": [
    {
     "data": {
      "text/plain": [
       "-0.97362502907769455"
      ]
     },
     "execution_count": 19,
     "metadata": {},
     "output_type": "execute_result"
    }
   ],
   "source": [
    "grid_search_prep.best_score_"
   ]
  },
  {
   "cell_type": "markdown",
   "metadata": {},
   "source": [
    "without optimization: -0.97362502907769455"
   ]
  },
  {
   "cell_type": "markdown",
   "metadata": {},
   "source": [
    "## 5. feature importance"
   ]
  },
  {
   "cell_type": "code",
   "execution_count": 23,
   "metadata": {},
   "outputs": [
    {
     "ename": "TypeError",
     "evalue": "'str' object is not callable",
     "output_type": "error",
     "traceback": [
      "\u001b[0;31m---------------------------------------------------------------------------\u001b[0m",
      "\u001b[0;31mTypeError\u001b[0m                                 Traceback (most recent call last)",
      "\u001b[0;32m<ipython-input-23-297312f346e6>\u001b[0m in \u001b[0;36m<module>\u001b[0;34m()\u001b[0m\n\u001b[1;32m      1\u001b[0m \u001b[0mregressors\u001b[0m \u001b[0;34m=\u001b[0m \u001b[0mmodel\u001b[0m\u001b[0;34m.\u001b[0m\u001b[0mbest_estimator_\u001b[0m\u001b[0;34m.\u001b[0m\u001b[0mnamed_steps\u001b[0m\u001b[0;34m[\u001b[0m\u001b[0;34m\"multioutputregressor\"\u001b[0m\u001b[0;34m]\u001b[0m\u001b[0;34m\u001b[0m\u001b[0m\n\u001b[1;32m      2\u001b[0m \u001b[0;32mfor\u001b[0m \u001b[0milabel\u001b[0m \u001b[0;32min\u001b[0m \u001b[0mrange\u001b[0m\u001b[0;34m(\u001b[0m\u001b[0my_test\u001b[0m\u001b[0;34m.\u001b[0m\u001b[0mshape\u001b[0m\u001b[0;34m[\u001b[0m\u001b[0;36m1\u001b[0m\u001b[0;34m]\u001b[0m\u001b[0;34m)\u001b[0m\u001b[0;34m:\u001b[0m\u001b[0;34m\u001b[0m\u001b[0m\n\u001b[0;32m----> 3\u001b[0;31m     \u001b[0mfscore\u001b[0m \u001b[0;34m=\u001b[0m \u001b[0mregressors\u001b[0m\u001b[0;34m.\u001b[0m\u001b[0mestimators_\u001b[0m\u001b[0;34m[\u001b[0m\u001b[0milabel\u001b[0m\u001b[0;34m]\u001b[0m\u001b[0;34m.\u001b[0m\u001b[0mbooster\u001b[0m\u001b[0;34m(\u001b[0m\u001b[0;34m)\u001b[0m\u001b[0;34m.\u001b[0m\u001b[0mget_fscore\u001b[0m\u001b[0;34m(\u001b[0m\u001b[0;34m)\u001b[0m\u001b[0;34m\u001b[0m\u001b[0m\n\u001b[0m\u001b[1;32m      4\u001b[0m     \u001b[0;32mif\u001b[0m \u001b[0milabel\u001b[0m \u001b[0;32mis\u001b[0m \u001b[0;36m0\u001b[0m\u001b[0;34m:\u001b[0m\u001b[0;34m\u001b[0m\u001b[0m\n\u001b[1;32m      5\u001b[0m         importance = pd.DataFrame(data={y_description[ilabel]: list(fscore.values())},\n",
      "\u001b[0;31mTypeError\u001b[0m: 'str' object is not callable"
     ]
    }
   ],
   "source": [
    "regressors = model.best_estimator_.named_steps[\"multioutputregressor\"]\n",
    "for ilabel in range(y_test.shape[1]):\n",
    "    fscore = regressors.estimators_[ilabel].booster().get_fscore()\n",
    "    if ilabel is 0:\n",
    "        importance = pd.DataFrame(data={y_description[ilabel]: list(fscore.values())},\n",
    "                                  index=list(fscore.keys()))\n",
    "    else:\n",
    "        temp = pd.DataFrame(data={y_description[ilabel]: list(fscore.values())},\n",
    "                                  index=list(fscore.keys()))\n",
    "        importance = importance.join(temp)\n",
    "importance.sort_index(inplace=True)"
   ]
  },
  {
   "cell_type": "code",
   "execution_count": 21,
   "metadata": {},
   "outputs": [],
   "source": [
    "relative_importance = (importance.div(importance.sum(axis=1), axis=0)) * 100\n",
    "relative_importance['features'] = relative_importance.index\n",
    "# to tidy\n",
    "relative_importance = pd.melt(relative_importance, id_vars='features',\n",
    "                              var_name='label', value_name='importance')"
   ]
  },
  {
   "cell_type": "code",
   "execution_count": 22,
   "metadata": {},
   "outputs": [],
   "source": [
    "selected_features = ['Add', 'Abd', 'Er', 'Ir', 'Ext', 'Flex', 'weight']"
   ]
  },
  {
   "cell_type": "code",
   "execution_count": 23,
   "metadata": {},
   "outputs": [
    {
     "data": {
      "image/png": "[encoded data removed]",
      "text/plain": [
       "<matplotlib.figure.Figure at 0x7fc52f009fd0>"
      ]
     },
     "metadata": {},
     "output_type": "display_data"
    }
   ],
   "source": [
    "g = sns.factorplot(data=relative_importance, x='features', y='importance', col='label', kind='bar',\n",
    "                   saturation=.5)\n",
    "g.set_xticklabels(selected_features)\n",
    "sns.despine(offset=10, trim=True)\n",
    "plt.show()"
   ]
  },
  {
   "cell_type": "markdown",
   "metadata": {},
   "source": [
    "## 6. diagnostic"
   ]
  },
  {
   "cell_type": "code",
   "execution_count": 24,
   "metadata": {},
   "outputs": [],
   "source": [
    "from sklearn.model_selection import learning_curve\n",
    "\n",
    "def plot_learning_curve(estimator, X, y, scoring, cv=None, title=None, ylim=None,\n",
    "                        n_jobs=1, train_sizes=np.linspace(.1, 1.0, 5)):\n",
    "    plt.figure()\n",
    "    plt.title(title)\n",
    "    if ylim is not None:\n",
    "        plt.ylim(*ylim)\n",
    "    plt.xlabel(\"Training examples\")\n",
    "    plt.ylabel(\"Score\")\n",
    "    train_sizes, train_scores, test_scores = learning_curve(estimator, X, y, cv=cv, scoring=scoring,\n",
    "                                                            n_jobs=n_jobs, train_sizes=train_sizes)\n",
    "    train_scores_mean = np.mean(train_scores, axis=1)\n",
    "    train_scores_std = np.std(train_scores, axis=1)\n",
    "    test_scores_mean = np.mean(test_scores, axis=1)\n",
    "    test_scores_std = np.std(test_scores, axis=1)\n",
    "    plt.grid()\n",
    "\n",
    "    plt.fill_between(train_sizes, train_scores_mean - train_scores_std,\n",
    "                     train_scores_mean + train_scores_std, alpha=0.1,\n",
    "                     color=\"r\")\n",
    "    plt.fill_between(train_sizes, test_scores_mean - test_scores_std,\n",
    "                     test_scores_mean + test_scores_std, alpha=0.1, color=\"g\")\n",
    "    plt.plot(train_sizes, train_scores_mean, 'o-', color=\"r\",\n",
    "             label=\"Training score\")\n",
    "    plt.plot(train_sizes, test_scores_mean, 'o-', color=\"g\",\n",
    "             label=\"Cross-validation score\")\n",
    "\n",
    "    plt.legend(loc=\"best\")\n",
    "    return train_scores\n"
   ]
  },
  {
   "cell_type": "code",
   "execution_count": 25,
   "metadata": {},
   "outputs": [
    {
     "data": {
      "text/plain": [
       "Pipeline(memory=None,\n",
       "     steps=[('pipeline', Pipeline(memory=None,\n",
       "     steps=[('normalize', Normalize(X_cols={'test': array([ 0,  1,  2,  3,  4,  5,  6,  7,  8,  9, 10, 11]), 'height': array([12]), 'weight': array([13]), 'IMC': array([14]), 'imbalance': array([15])},\n",
       "     strategy='weight')), ('testside', TestSide(X_cols={..., reg_lambda=1,\n",
       "       scale_pos_weight=1, seed=0, silent=True, subsample=1),\n",
       "           n_jobs=1))])"
      ]
     },
     "execution_count": 25,
     "metadata": {},
     "output_type": "execute_result"
    }
   ],
   "source": [
    "a = full_pipeline\n",
    "a.set_params(**grid_search_prep.best_params_)\n"
   ]
  },
  {
   "cell_type": "code",
   "execution_count": 26,
   "metadata": {},
   "outputs": [
    {
     "data": {
      "image/png": "[encoded data removed]",
      "text/plain": [
       "<matplotlib.figure.Figure at 0x7fc524d24898>"
      ]
     },
     "metadata": {},
     "output_type": "display_data"
    }
   ],
   "source": [
    "from sklearn.model_selection import learning_curve\n",
    "\n",
    "title = 'coucou'\n",
    "scoring = 'neg_mean_squared_error'\n",
    "t = plot_learning_curve(a, X_train, y_train, scoring, cv=5)\n",
    "plt.show()"
   ]
  },
  {
   "cell_type": "code",
   "execution_count": 27,
   "metadata": {},
   "outputs": [],
   "source": [
    "train_sizes, train_scores, test_scores = learning_curve(grid_search_prep.best_estimator_, X_train, y_train, cv=5,\n",
    "                                                        scoring='neg_mean_squared_error')"
   ]
  },
  {
   "cell_type": "markdown",
   "metadata": {},
   "source": [
    "The complex pipeline is certainly not suffering from high bias, as that would imply a higher error on the training set. From the gap between training and test error it rather seems like the model may exhibit too much variance, i.e. overfitting on the training folds. This makes sense both because our model is rather complex, and also because the size of the whole training data is relatively small (less than 8000 documents, compare that to the number of features produced by the tf-df, which can run into several tens of thousands without dimensionality reduction). Collection of more data would thus be one way to try and improve performance here (and it might also be useful to investigate different forms of regularization to avoid overfitting. Interestingly though, grid-search of the logistic regression led to best results without regularization). On the other hand, test error does not seem to be decreasing much with increasing size of the training set, indicating perhaps some inherent unpredictability in the data (some comments in the forum e.g. indicate that the class labels seem to have been assigned somewhat inconsistently)."
   ]
  },
  {
   "cell_type": "markdown",
   "metadata": {},
   "source": [
    "## 7. evaluation"
   ]
  },
  {
   "cell_type": "code",
   "execution_count": 28,
   "metadata": {},
   "outputs": [],
   "source": [
    "y_pred = grid_search_prep.best_estimator_.predict(X_test)"
   ]
  },
  {
   "cell_type": "code",
   "execution_count": 29,
   "metadata": {},
   "outputs": [],
   "source": [
    "from sklearn.metrics import mean_squared_error\n",
    "import spm1d\n",
    "\n",
    "def mape(y_test, y_pred):\n",
    "    val = (np.abs((y_test - y_pred) / y_test)) * 100\n",
    "    return np.mean(val), np.std(val)\n",
    "\n",
    "def mse(y_test, y_pred):\n",
    "    val = ((y_test - y_pred) ** 2)\n",
    "    return np.mean(val), np.std(val)\n",
    "\n",
    "def rmse(y_test, y_pred):\n",
    "    val = np.sqrt(((y_test - y_pred) ** 2))\n",
    "    return np.mean(val), np.std(val)\n",
    "\n",
    "def t_test(y_test, y_pred, alpha=0.05, iterations=10000):\n",
    "    spm = spm1d.stats.nonparam.ttest2(y_test, y_pred)\n",
    "    spmi = spm.inference(alpha, two_tailed=True,\n",
    "                           iterations=iterations, force_iterations=True)\n",
    "    if spmi.h0reject:\n",
    "        output = f'null hypothesis rejected, T2={spmi.z:.3f}, p={spmi.p:.5f}'\n",
    "    else:\n",
    "        output = f'null hypothesis not rejected (p={spmi.p:.5f})'\n",
    "    print(f'\\tt-test = {output}')\n",
    "\n",
    "def evaluate(y_test, y_pred, y_description):\n",
    "    for i in range(y_pred.shape[1]):\n",
    "        print(y_description[i])\n",
    "        mse_mu, mse_std = mse(y_test[:, i], y_pred[:, i])\n",
    "        rmse_mu, rmse_std = rmse(y_test[:, i], y_pred[:, i])\n",
    "        mape_mu, mape_std = mape(y_test[:, i], y_pred[:, i])\n",
    "        \n",
    "        print(f'\\tmse = {mse_mu:.3f} ({mse_std:.3f})')\n",
    "        print(f'\\trmse = {rmse_mu:.3f} ({rmse_std:.3f})')\n",
    "        print(f'\\tmape = {mape_mu:.3f}% ({mape_std:.3f})')\n",
    "        \n",
    "        t_test(y_test[:, i], y_pred[:, i])\n",
    "    \n",
    "        print('-' * 10)"
   ]
  },
  {
   "cell_type": "code",
   "execution_count": 30,
   "metadata": {},
   "outputs": [
    {
     "name": "stdout",
     "output_type": "stream",
     "text": [
      "Dyn\n",
      "\tmse = 4.476 (6.250)\n",
      "\trmse = 1.646 (1.329)\n",
      "\tmape = 15.300% (10.019)\n",
      "\tt-test = null hypothesis not rejected (p=0.02880)\n",
      "----------\n",
      "BodyBoost\n",
      "\tmse = 0.540 (0.617)\n",
      "\trmse = 0.565 (0.470)\n",
      "\tmape = 6.190% (5.005)\n",
      "\tt-test = null hypothesis not rejected (p=0.03800)\n",
      "----------\n",
      "MeanEggBeater\n",
      "\tmse = 0.446 (0.394)\n",
      "\trmse = 0.582 (0.327)\n",
      "\tmape = 7.660% (4.348)\n",
      "\tt-test = null hypothesis not rejected (p=0.83140)\n",
      "----------\n",
      "MaxEggBeater\n",
      "\tmse = 1.061 (0.599)\n",
      "\trmse = 0.937 (0.428)\n",
      "\tmape = 11.496% (5.257)\n",
      "\tt-test = null hypothesis not rejected (p=0.85420)\n",
      "----------\n"
     ]
    }
   ],
   "source": [
    "evaluate(y_test, y_pred, y_description)"
   ]
  },
  {
   "cell_type": "markdown",
   "metadata": {},
   "source": [
    "#### Hotelling"
   ]
  },
  {
   "cell_type": "code",
   "execution_count": 32,
   "metadata": {},
   "outputs": [
    {
     "name": "stdout",
     "output_type": "stream",
     "text": [
      "SnPM{T2} inference (0D)\n",
      "   SPM.z              :  13.780\n",
      "   SnPM.nPermUnique   :  705432 permutations possible\n",
      "Inference:\n",
      "   SnPM.nPermActual   :  10000 actual permutations\n",
      "   SPM.alpha          :  0.050\n",
      "   SPM.zstar          :  13.63274\n",
      "   SPM.h0reject       :  True\n",
      "   SPM.p              :  0.048\n",
      "\n"
     ]
    }
   ],
   "source": [
    "t_spm = spm1d.stats.nonparam.hotellings2(y_test, y_pred)\n",
    "t_spmi = t_spm.inference(alpha=0.05, iterations=10000)\n",
    "\n",
    "print(t_spmi)"
   ]
  }
 ],
 "metadata": {
  "kernelspec": {
   "display_name": "synchro",
   "language": "python",
   "name": "synchro"
  },
  "language_info": {
   "codemirror_mode": {
    "name": "ipython",
    "version": 3
   },
   "file_extension": ".py",
   "mimetype": "text/x-python",
   "name": "python",
   "nbconvert_exporter": "python",
   "pygments_lexer": "ipython3",
   "version": "3.6.4"
  },
  "toc": {
   "base_numbering": 1,
   "nav_menu": {},
   "number_sections": false,
   "sideBar": true,
   "skip_h1_title": false,
   "title_cell": "Table of Contents",
   "title_sidebar": "Contents",
   "toc_cell": true,
   "toc_position": {},
   "toc_section_display": true,
   "toc_window_display": true
  }
 },
 "nbformat": 4,
 "nbformat_minor": 2
}
