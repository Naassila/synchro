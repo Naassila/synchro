{
 "cells": [
  {
   "cell_type": "markdown",
   "metadata": {},
   "source": [
    "# Synchro Project\n",
    "- [github link](https://github.com/romainmartinez/envergo)"
   ]
  },
  {
   "cell_type": "markdown",
   "metadata": {},
   "source": [
    "Todos\n",
    "- tester Dyn en features ET label"
   ]
  },
  {
   "cell_type": "markdown",
   "metadata": {},
   "source": [
    "## 0. Setup"
   ]
  },
  {
   "cell_type": "code",
   "execution_count": 1,
   "metadata": {},
   "outputs": [],
   "source": [
    "# Common imports\n",
    "import scipy.io as sio\n",
    "import pandas as pd\n",
    "import numpy as np\n",
    "import os\n",
    "\n",
    "# Figures\n",
    "import matplotlib.pyplot as plt\n",
    "import seaborn as sns\n",
    "plt.rcParams['axes.labelsize'] = 14\n",
    "plt.rcParams['xtick.labelsize'] = 12\n",
    "plt.rcParams['ytick.labelsize'] = 12\n",
    "sns.set_context(\"notebook\", font_scale=1.1)\n",
    "sns.set_style(\"ticks\")\n",
    "plt.rcParams['pdf.fonttype'] = 42\n",
    "plt.rcParams['ps.fonttype'] = 42\n",
    "\n",
    "# to make this notebook's output stable across runs\n",
    "RANDOM_SEED = 42\n",
    "np.random.seed(RANDOM_SEED)"
   ]
  },
  {
   "cell_type": "markdown",
   "metadata": {},
   "source": [
    "## 1. Load data"
   ]
  },
  {
   "cell_type": "code",
   "execution_count": 2,
   "metadata": {},
   "outputs": [],
   "source": [
    "# load from mat\n",
    "# NOTES: nan previously removed\n",
    "DATA_PATH = './data/'\n",
    "X_mat = sio.loadmat(os.path.join(DATA_PATH, 'X.mat'))['TableauNorm']\n",
    "y_mat = sio.loadmat(os.path.join(DATA_PATH, 'y.mat'))['TestDataN']\n",
    "\n",
    "X_description = ['AddL', 'AddR', 'AbdL', 'AbdR', 'ErL', 'ErR', 'IrL', 'IrR', 'ExtL', 'ExtR', 'FlexL', 'FlexR', 'Dyn']\n",
    "y_description = ['BodyBoost', 'MeanEggBeater', 'MaxEggBeater']"
   ]
  },
  {
   "cell_type": "code",
   "execution_count": 3,
   "metadata": {},
   "outputs": [],
   "source": [
    "# dataframe\n",
    "X = pd.DataFrame(X_mat, columns=X_description)\n",
    "y = pd.DataFrame(y_mat, columns=y_description)"
   ]
  },
  {
   "cell_type": "code",
   "execution_count": 4,
   "metadata": {},
   "outputs": [
    {
     "data": {
      "text/html": [
       "<div>\n",
       "<style scoped>\n",
       "    .dataframe tbody tr th:only-of-type {\n",
       "        vertical-align: middle;\n",
       "    }\n",
       "\n",
       "    .dataframe tbody tr th {\n",
       "        vertical-align: top;\n",
       "    }\n",
       "\n",
       "    .dataframe thead th {\n",
       "        text-align: right;\n",
       "    }\n",
       "</style>\n",
       "<table border=\"1\" class=\"dataframe\">\n",
       "  <thead>\n",
       "    <tr style=\"text-align: right;\">\n",
       "      <th></th>\n",
       "      <th>AddL</th>\n",
       "      <th>AddR</th>\n",
       "      <th>AbdL</th>\n",
       "      <th>AbdR</th>\n",
       "      <th>ErL</th>\n",
       "      <th>ErR</th>\n",
       "      <th>IrL</th>\n",
       "      <th>IrR</th>\n",
       "      <th>ExtL</th>\n",
       "      <th>ExtR</th>\n",
       "      <th>FlexL</th>\n",
       "      <th>FlexR</th>\n",
       "      <th>Dyn</th>\n",
       "    </tr>\n",
       "  </thead>\n",
       "  <tbody>\n",
       "    <tr>\n",
       "      <th>0</th>\n",
       "      <td>3.342563</td>\n",
       "      <td>3.406646</td>\n",
       "      <td>3.047468</td>\n",
       "      <td>2.90981</td>\n",
       "      <td>1.216772</td>\n",
       "      <td>1.320411</td>\n",
       "      <td>0.866297</td>\n",
       "      <td>1.072785</td>\n",
       "      <td>2.091772</td>\n",
       "      <td>2.906646</td>\n",
       "      <td>2.734177</td>\n",
       "      <td>3.15269</td>\n",
       "      <td>0.134644</td>\n",
       "    </tr>\n",
       "  </tbody>\n",
       "</table>\n",
       "</div>"
      ],
      "text/plain": [
       "       AddL      AddR      AbdL     AbdR       ErL       ErR       IrL  \\\n",
       "0  3.342563  3.406646  3.047468  2.90981  1.216772  1.320411  0.866297   \n",
       "\n",
       "        IrR      ExtL      ExtR     FlexL    FlexR       Dyn  \n",
       "0  1.072785  2.091772  2.906646  2.734177  3.15269  0.134644  "
      ]
     },
     "execution_count": 4,
     "metadata": {},
     "output_type": "execute_result"
    }
   ],
   "source": [
    "X.head(1)"
   ]
  },
  {
   "cell_type": "code",
   "execution_count": 5,
   "metadata": {},
   "outputs": [
    {
     "data": {
      "text/html": [
       "<div>\n",
       "<style scoped>\n",
       "    .dataframe tbody tr th:only-of-type {\n",
       "        vertical-align: middle;\n",
       "    }\n",
       "\n",
       "    .dataframe tbody tr th {\n",
       "        vertical-align: top;\n",
       "    }\n",
       "\n",
       "    .dataframe thead th {\n",
       "        text-align: right;\n",
       "    }\n",
       "</style>\n",
       "<table border=\"1\" class=\"dataframe\">\n",
       "  <thead>\n",
       "    <tr style=\"text-align: right;\">\n",
       "      <th></th>\n",
       "      <th>BodyBoost</th>\n",
       "      <th>MeanEggBeater</th>\n",
       "      <th>MaxEggBeater</th>\n",
       "    </tr>\n",
       "  </thead>\n",
       "  <tbody>\n",
       "    <tr>\n",
       "      <th>0</th>\n",
       "      <td>8.75</td>\n",
       "      <td>7.333333</td>\n",
       "      <td>8.0</td>\n",
       "    </tr>\n",
       "  </tbody>\n",
       "</table>\n",
       "</div>"
      ],
      "text/plain": [
       "   BodyBoost  MeanEggBeater  MaxEggBeater\n",
       "0       8.75       7.333333           8.0"
      ]
     },
     "execution_count": 5,
     "metadata": {},
     "output_type": "execute_result"
    }
   ],
   "source": [
    "y.head(1)"
   ]
  },
  {
   "cell_type": "markdown",
   "metadata": {},
   "source": [
    "## 2. Classification"
   ]
  },
  {
   "cell_type": "code",
   "execution_count": 6,
   "metadata": {},
   "outputs": [],
   "source": [
    "# Label Encoder\n",
    "from sklearn.preprocessing import LabelEncoder\n",
    "\n",
    "encoder = LabelEncoder\n",
    "y_cat = y.apply(LabelEncoder().fit_transform)"
   ]
  },
  {
   "cell_type": "code",
   "execution_count": 7,
   "metadata": {},
   "outputs": [],
   "source": [
    "# split data\n",
    "from sklearn.model_selection import train_test_split\n",
    "\n",
    "X_train, X_test, y_train, y_test = train_test_split(X, y_cat, test_size=0.2, random_state=RANDOM_SEED)"
   ]
  },
  {
   "cell_type": "code",
   "execution_count": 8,
   "metadata": {},
   "outputs": [
    {
     "name": "stderr",
     "output_type": "stream",
     "text": [
      "/home/romain/miniconda3/envs/mvc/lib/python3.6/site-packages/sklearn/cross_validation.py:41: DeprecationWarning: This module was deprecated in version 0.18 in favor of the model_selection module into which all the refactored classes and functions are moved. Also note that the interface of the new CV iterators are different from that of this module. This module will be removed in 0.20.\n",
      "  \"This module will be removed in 0.20.\", DeprecationWarning)\n"
     ]
    },
    {
     "data": {
      "text/plain": [
       "MultiOutputClassifier(estimator=XGBClassifier(base_score=0.5, colsample_bylevel=1, colsample_bytree=1,\n",
       "       gamma=0, learning_rate=0.1, max_delta_step=0, max_depth=3,\n",
       "       min_child_weight=1, missing=None, n_estimators=100, nthread=-1,\n",
       "       objective='binary:logistic', reg_alpha=0, reg_lambda=1,\n",
       "       scale_pos_weight=1, seed=0, silent=True, subsample=1),\n",
       "           n_jobs=1)"
      ]
     },
     "execution_count": 8,
     "metadata": {},
     "output_type": "execute_result"
    }
   ],
   "source": [
    "from sklearn.multioutput import MultiOutputClassifier\n",
    "from xgboost import XGBClassifier\n",
    "\n",
    "xgboost_multi_clf = MultiOutputClassifier(XGBClassifier())\n",
    "\n",
    "xgboost_multi_clf.fit(X_train, y_train)"
   ]
  },
  {
   "cell_type": "code",
   "execution_count": 9,
   "metadata": {},
   "outputs": [],
   "source": [
    "y_pred_clf = xgboost_multi_clf.predict(X_test)"
   ]
  },
  {
   "cell_type": "code",
   "execution_count": 10,
   "metadata": {},
   "outputs": [
    {
     "name": "stdout",
     "output_type": "stream",
     "text": [
      "BodyBoost\n",
      "             precision    recall  f1-score   support\n",
      "\n",
      "          0       0.00      0.00      0.00         0\n",
      "          1       0.00      0.00      0.00         1\n",
      "          2       0.00      0.00      0.00         0\n",
      "          3       0.00      0.00      0.00         1\n",
      "          4       0.00      0.00      0.00         1\n",
      "          5       0.00      0.00      0.00         2\n",
      "          6       0.00      0.00      0.00         4\n",
      "          7       0.00      0.00      0.00         2\n",
      "\n",
      "avg / total       0.00      0.00      0.00        11\n",
      "\n",
      "----------\n",
      "MeanEggBeater\n",
      "             precision    recall  f1-score   support\n",
      "\n",
      "          2       0.00      0.00      0.00         2\n",
      "          4       0.00      0.00      0.00         0\n",
      "          5       0.00      0.00      0.00         1\n",
      "          7       0.00      0.00      0.00         1\n",
      "         10       0.00      0.00      0.00         0\n",
      "         12       0.00      0.00      0.00         1\n",
      "         13       0.00      0.00      0.00         0\n",
      "         15       0.33      0.50      0.40         2\n",
      "         18       0.00      0.00      0.00         1\n",
      "         19       0.00      0.00      0.00         1\n",
      "         21       0.00      0.00      0.00         1\n",
      "         22       0.00      0.00      0.00         1\n",
      "\n",
      "avg / total       0.06      0.09      0.07        11\n",
      "\n",
      "----------\n",
      "MaxEggBeater\n",
      "             precision    recall  f1-score   support\n",
      "\n",
      "          2       0.00      0.00      0.00         2\n",
      "          3       0.00      0.00      0.00         2\n",
      "          4       0.00      0.00      0.00         1\n",
      "          5       0.00      0.00      0.00         2\n",
      "          6       0.00      0.00      0.00         2\n",
      "          7       0.00      0.00      0.00         2\n",
      "\n",
      "avg / total       0.00      0.00      0.00        11\n",
      "\n",
      "----------\n"
     ]
    },
    {
     "name": "stderr",
     "output_type": "stream",
     "text": [
      "/home/romain/miniconda3/envs/mvc/lib/python3.6/site-packages/sklearn/metrics/classification.py:1135: UndefinedMetricWarning: Precision and F-score are ill-defined and being set to 0.0 in labels with no predicted samples.\n",
      "  'precision', 'predicted', average, warn_for)\n",
      "/home/romain/miniconda3/envs/mvc/lib/python3.6/site-packages/sklearn/metrics/classification.py:1137: UndefinedMetricWarning: Recall and F-score are ill-defined and being set to 0.0 in labels with no true samples.\n",
      "  'recall', 'true', average, warn_for)\n"
     ]
    }
   ],
   "source": [
    "# evaluate\n",
    "from sklearn.metrics import classification_report\n",
    "\n",
    "for i, output in enumerate(range(y_pred_clf.shape[1])):classification_report(y_test.iloc[:, i], y_pred_clf[:, i])\n",
    "    print(y_description[i])\n",
    "    print(classification_report(y_test.iloc[:, i], y_pred_clf[:, i]))\n",
    "    print('-' * 10)"
   ]
  },
  {
   "cell_type": "code",
   "execution_count": 11,
   "metadata": {},
   "outputs": [
    {
     "data": {
      "text/plain": [
       "array([[ 5,  4,  2],\n",
       "       [ 2, 13,  4],\n",
       "       [ 5, 19,  5],\n",
       "       [ 1, 15,  7],\n",
       "       [ 7, 15,  4],\n",
       "       [ 5, 19,  5],\n",
       "       [ 1, 10,  3],\n",
       "       [ 0,  4,  4],\n",
       "       [ 3, 19,  5],\n",
       "       [ 7, 15,  4],\n",
       "       [ 5,  4,  5]])"
      ]
     },
     "execution_count": 11,
     "metadata": {},
     "output_type": "execute_result"
    }
   ],
   "source": [
    "y_pred_clf"
   ]
  },
  {
   "cell_type": "markdown",
   "metadata": {},
   "source": [
    "## 3. Regressor"
   ]
  },
  {
   "cell_type": "code",
   "execution_count": 13,
   "metadata": {},
   "outputs": [],
   "source": [
    "# split data\n",
    "from sklearn.model_selection import train_test_split\n",
    "\n",
    "X_train, X_test, y_train, y_test = train_test_split(X, y, test_size=0.2, random_state=RANDOM_SEED)"
   ]
  },
  {
   "cell_type": "code",
   "execution_count": 14,
   "metadata": {},
   "outputs": [
    {
     "data": {
      "text/plain": [
       "MultiOutputRegressor(estimator=XGBRegressor(base_score=0.5, colsample_bylevel=1, colsample_bytree=1, gamma=0,\n",
       "       learning_rate=0.1, max_delta_step=0, max_depth=3,\n",
       "       min_child_weight=1, missing=None, n_estimators=100, nthread=-1,\n",
       "       objective='reg:linear', reg_alpha=0, reg_lambda=1,\n",
       "       scale_pos_weight=1, seed=0, silent=True, subsample=1),\n",
       "           n_jobs=1)"
      ]
     },
     "execution_count": 14,
     "metadata": {},
     "output_type": "execute_result"
    }
   ],
   "source": [
    "# train model\n",
    "from sklearn.multioutput import MultiOutputRegressor\n",
    "from xgboost import XGBRegressor\n",
    "\n",
    "xgboost_multi_reg = MultiOutputRegressor(XGBRegressor())\n",
    "\n",
    "xgboost_multi_reg.fit(X_train, y_train)"
   ]
  },
  {
   "cell_type": "code",
   "execution_count": 15,
   "metadata": {},
   "outputs": [],
   "source": [
    "# predict\n",
    "y_pred_reg = xgboost_multi_reg.predict(X_test)"
   ]
  },
  {
   "cell_type": "code",
   "execution_count": 17,
   "metadata": {},
   "outputs": [
    {
     "name": "stdout",
     "output_type": "stream",
     "text": [
      "BodyBoost\n",
      "rmse = 0.564\n",
      "mape = 5.626\n",
      "----------\n",
      "MeanEggBeater\n",
      "rmse = 0.818\n",
      "mape = 8.808\n",
      "----------\n",
      "MaxEggBeater\n",
      "rmse = 1.091\n",
      "mape = 11.606\n",
      "----------\n"
     ]
    }
   ],
   "source": [
    "# evaluate\n",
    "from sklearn.metrics import mean_squared_error\n",
    "\n",
    "def mean_absolute_percentage_error(y_true, y_pred): \n",
    "    y_true, y_pred = np.array(y_true), np.array(y_pred)\n",
    "    return np.mean(np.abs((y_true - y_pred) / y_true)) * 100\n",
    "\n",
    "for i, output in enumerate(range(y_pred_reg.shape[1])):\n",
    "    print(y_description[i])\n",
    "    mse = mean_squared_error(y_test.iloc[:, i], y_pred_reg[:, i])\n",
    "    rmse = np.sqrt(mse)\n",
    "    print(f'rmse = {rmse:.3f}')\n",
    "    mape = mean_absolute_percentage_error(y_test.iloc[:, i], y_pred_reg[:, i])\n",
    "    print(f'mape = {mape:.3f}')\n",
    "    print('-' * 10)"
   ]
  }
 ],
 "metadata": {
  "kernelspec": {
   "display_name": "Python [conda env:mvc]",
   "language": "python",
   "name": "conda-env-mvc-py"
  },
  "language_info": {
   "codemirror_mode": {
    "name": "ipython",
    "version": 3
   },
   "file_extension": ".py",
   "mimetype": "text/x-python",
   "name": "python",
   "nbconvert_exporter": "python",
   "pygments_lexer": "ipython3",
   "version": "3.6.3"
  }
 },
 "nbformat": 4,
 "nbformat_minor": 2
}
