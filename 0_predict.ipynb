{
 "cells": [
  {
   "cell_type": "markdown",
   "metadata": {},
   "source": [
    "# Synchro Project\n",
    "- [github link](https://github.com/romainmartinez/envergo)"
   ]
  },
  {
   "cell_type": "markdown",
   "metadata": {},
   "source": [
    "## 0. Setup"
   ]
  },
  {
   "cell_type": "code",
   "execution_count": 1,
   "metadata": {},
   "outputs": [],
   "source": [
    "# Common imports\n",
    "import scipy.io as sio\n",
    "import pandas as pd\n",
    "import numpy as np\n",
    "import os\n",
    "\n",
    "# Figures\n",
    "import matplotlib.pyplot as plt\n",
    "import seaborn as sns\n",
    "plt.rcParams['axes.labelsize'] = 14\n",
    "plt.rcParams['xtick.labelsize'] = 12\n",
    "plt.rcParams['ytick.labelsize'] = 12\n",
    "sns.set_context(\"notebook\", font_scale=1.1)\n",
    "sns.set_style(\"ticks\")\n",
    "plt.rcParams['pdf.fonttype'] = 42\n",
    "plt.rcParams['ps.fonttype'] = 42\n",
    "\n",
    "# to make this notebook's output stable across runs\n",
    "RANDOM_SEED = 42\n",
    "np.random.seed(RANDOM_SEED)"
   ]
  },
  {
   "cell_type": "markdown",
   "metadata": {},
   "source": [
    "## 1. Load data"
   ]
  },
  {
   "cell_type": "code",
   "execution_count": 2,
   "metadata": {},
   "outputs": [],
   "source": [
    "# load from mat\n",
    "DATA_PATH = './data/'\n",
    "X_import = sio.loadmat(os.path.join(DATA_PATH, 'X.mat'))['TableauForces']\n",
    "y_import = sio.loadmat(os.path.join(DATA_PATH, 'y.mat'))['TestData']\n",
    "\n",
    "X_description = np.array(['AddL', 'AddR', 'AbdL', 'AbdR', 'ErL', 'ErR', 'IrL', 'IrR', 'ExtL', 'ExtR', 'FlexL', 'FlexR'])\n",
    "y_description = np.array(['Dyn', 'BodyBoost', 'MeanEggBeater', 'MaxEggBeater'])"
   ]
  },
  {
   "cell_type": "code",
   "execution_count": 3,
   "metadata": {},
   "outputs": [
    {
     "data": {
      "text/plain": [
       "(53, 12)"
      ]
     },
     "execution_count": 3,
     "metadata": {},
     "output_type": "execute_result"
    }
   ],
   "source": [
    "X_import.shape"
   ]
  },
  {
   "cell_type": "code",
   "execution_count": 4,
   "metadata": {},
   "outputs": [
    {
     "data": {
      "text/plain": [
       "(53, 4)"
      ]
     },
     "execution_count": 4,
     "metadata": {},
     "output_type": "execute_result"
    }
   ],
   "source": [
    "y_import.shape"
   ]
  },
  {
   "cell_type": "markdown",
   "metadata": {},
   "source": [
    "### nan remover"
   ]
  },
  {
   "cell_type": "code",
   "execution_count": 5,
   "metadata": {},
   "outputs": [
    {
     "name": "stdout",
     "output_type": "stream",
     "text": [
      "\tparticipant n: 1\n",
      "\ttest: IrL\n",
      "\t\t\"nan\" replace by \"118.95\"\n",
      "\t -----\n",
      "\tparticipant n: 51\n",
      "\ttest: IrL\n",
      "\t\t\"nan\" replace by \"92.25\"\n",
      "\t -----\n"
     ]
    }
   ],
   "source": [
    "nan_id = np.argwhere(np.isnan(X_import))\n",
    "n_nans = np.sum(np.isnan(X_import).sum(axis=1))\n",
    "for i in nan_id:\n",
    "    print(f'\\tparticipant n: {i[0]}')\n",
    "    print(f'\\ttest: {X_description[i[1]]}')\n",
    "    # if left take right, left otherwise\n",
    "    if X_description[i[1]][-1] == 'L':\n",
    "        replacer = i[1] + 1\n",
    "    elif X_description[i[1]][-1] == 'R':\n",
    "        replacer = i[1] - 1\n",
    "    print(f'\\t\\t\"{X_import[i[0], i[1]]}\" replace by \"{X_import[i[0], replacer]}\"')\n",
    "    X_import[i[0], i[1]] = X_import[i[0], replacer]\n",
    "    print('\\t', '-' * 5)"
   ]
  },
  {
   "cell_type": "markdown",
   "metadata": {},
   "source": [
    "### add features"
   ]
  },
  {
   "cell_type": "code",
   "execution_count": 6,
   "metadata": {},
   "outputs": [],
   "source": [
    "# load height + weight\n",
    "anthropo = sio.loadmat(os.path.join(DATA_PATH, 'heightweight.mat'))['HeightWeight']\n",
    "# replace nan\n",
    "from sklearn.preprocessing import Imputer\n",
    "anthropo = Imputer(strategy='median').fit_transform(anthropo)\n",
    "# add IMC\n",
    "anthropo = np.c_[anthropo, anthropo[:, 1] / (anthropo[:, 0])**2]"
   ]
  },
  {
   "cell_type": "code",
   "execution_count": 7,
   "metadata": {},
   "outputs": [],
   "source": [
    "# compute imbalance\n",
    "imbalance = None\n",
    "for i in range(0, X_import.shape[1], 2):\n",
    "    if imbalance is None:\n",
    "        imbalance = np.abs((X_import[:, i] - X_import[:, i + 1]) / X_import[:, i]) * 100\n",
    "    else:\n",
    "        imbalance = np.c_[imbalance, np.abs((X_import[:, i] - X_import[:, i + 1]) / X_import[:, i]) * 100]\n",
    "imbalance = np.mean(imbalance, axis=1)"
   ]
  },
  {
   "cell_type": "code",
   "execution_count": 8,
   "metadata": {},
   "outputs": [],
   "source": [
    "X_mat = np.c_[X_import, anthropo, imbalance]\n",
    "X_description = np.append(X_description, ['height', 'weight', 'IMC', 'imbalance'])"
   ]
  },
  {
   "cell_type": "code",
   "execution_count": 9,
   "metadata": {},
   "outputs": [],
   "source": [
    "X_cols = {\n",
    "    'test': np.arange(12),\n",
    "    'height': np.array([12]),\n",
    "    'weight': np.array([13]),\n",
    "    'IMC': np.array([14]),\n",
    "    'imbalance': np.array([15])\n",
    "}"
   ]
  },
  {
   "cell_type": "markdown",
   "metadata": {},
   "source": [
    "### split data"
   ]
  },
  {
   "cell_type": "code",
   "execution_count": 10,
   "metadata": {},
   "outputs": [],
   "source": [
    "# split data\n",
    "from sklearn.model_selection import train_test_split\n",
    "\n",
    "X_train, X_test, y_train, y_test = train_test_split(X_mat, y_import, test_size=0.2, random_state=RANDOM_SEED)"
   ]
  },
  {
   "cell_type": "markdown",
   "metadata": {},
   "source": [
    "## 3. Pipeline"
   ]
  },
  {
   "cell_type": "code",
   "execution_count": 17,
   "metadata": {},
   "outputs": [],
   "source": [
    "# custom class\n",
    "from sklearn.base import BaseEstimator, TransformerMixin\n",
    "\n",
    "class Normalize(BaseEstimator, TransformerMixin):\n",
    "    \"\"\"Normalize a given array with weight, height or IMC\"\"\"\n",
    "    def __init__(self, X_cols=X_cols, strategy='IMC'):\n",
    "        self.strategy = strategy\n",
    "        self.X_cols = X_cols\n",
    "        \n",
    "    def fit(self, X, y=None):\n",
    "        X_copy = X.copy()\n",
    "        if self.strategy is 'height':\n",
    "            normalizer = X_copy[:, X_cols['height']].reshape(-1, 1)\n",
    "        elif self.strategy is 'weight':\n",
    "            normalizer = X_copy[:, X_cols['weight']].reshape(-1, 1)\n",
    "        elif self.strategy is 'IMC':\n",
    "            normalizer = X_copy[:, X_cols['IMC']].reshape(-1, 1)\n",
    "        else:\n",
    "            normalizer = 1\n",
    "        X_copy[:, X_cols['test']] = X_copy[:, X_cols['test']] / normalizer\n",
    "        self.output = X_copy\n",
    "        return self\n",
    "    \n",
    "    def transform(self, X):\n",
    "        return self.output\n",
    "    \n",
    "class TestSide(BaseEstimator, TransformerMixin):\n",
    "    \"\"\"Return the mean between left & right or both\"\"\"\n",
    "    def __init__(self, X_cols=X_cols, strategy='mean'):\n",
    "        self.strategy = strategy\n",
    "        self.X_cols = X_cols\n",
    "        \n",
    "    def fit(self, X, y=None):\n",
    "        if self.strategy is 'mean' or 'Fscore':\n",
    "            output = X.copy()\n",
    "            for i in range(X_cols['test'][-1] + 1):\n",
    "                if i % 2 == 0:\n",
    "                    if self.strategy is 'mean':\n",
    "                        output[:, i] = np.mean([X[:, i], X[:, i + 1]], axis=0)\n",
    "                    else:\n",
    "                        output[:, i] = 2 * (X[:, i] * X[:, i + 1]) / (X[:, i] + X[:, i + 1])\n",
    "                else:\n",
    "                    output[:, i] = np.nan\n",
    "        else:\n",
    "            output = X\n",
    "        self.output = output\n",
    "        return self\n",
    "    \n",
    "    def transform(self, X):\n",
    "        return self.output\n",
    "    \n",
    "class FeaturesAdder(BaseEstimator, TransformerMixin):\n",
    "    \"\"\"Add features based on the list `new_features`\n",
    "    Possible `new_features` are: IMC, imbalance\n",
    "    \"\"\"\n",
    "    def __init__(self, X_cols=X_cols, new_features='None'):\n",
    "        self.new_features = new_features\n",
    "        self.X_cols = X_cols\n",
    "        \n",
    "    def fit(self, X, y=None):\n",
    "        X_copy = X.copy()\n",
    "        for key, cols in X_cols.items():\n",
    "            if not key in self.new_features:\n",
    "                X_copy[:, cols] = np.nan\n",
    "        # remove nan columns\n",
    "        self.output = X_copy[:, ~np.all(np.isnan(X_copy), axis=0)]\n",
    "        return self\n",
    "    \n",
    "    def transform(self, X):\n",
    "        return self.output"
   ]
  },
  {
   "cell_type": "code",
   "execution_count": 18,
   "metadata": {},
   "outputs": [],
   "source": [
    "from sklearn.pipeline import make_pipeline\n",
    "preprocessing = make_pipeline(\n",
    "    Normalize(strategy='IMC'),\n",
    "    TestSide(strategy='mean'),\n",
    "    FeaturesAdder(new_features=['IMC', 'imbalance'])\n",
    ")"
   ]
  },
  {
   "cell_type": "code",
   "execution_count": 19,
   "metadata": {},
   "outputs": [],
   "source": [
    "from sklearn.multioutput import MultiOutputRegressor\n",
    "from xgboost import XGBRegressor\n",
    "\n",
    "full_pipeline = make_pipeline(\n",
    "    preprocessing,\n",
    "    MultiOutputRegressor(XGBRegressor())\n",
    ")"
   ]
  },
  {
   "cell_type": "markdown",
   "metadata": {},
   "source": [
    "## 4. Optimization"
   ]
  },
  {
   "cell_type": "code",
   "execution_count": 20,
   "metadata": {},
   "outputs": [
    {
     "name": "stderr",
     "output_type": "stream",
     "text": [
      "/home/romain/miniconda3/envs/mvc/lib/python3.6/site-packages/ipykernel/__main__.py:67: DeprecationWarning: `Tracer` is deprecated since version 5.1, directly use `IPython.core.debugger.Pdb.set_trace()`\n"
     ]
    },
    {
     "name": "stdout",
     "output_type": "stream",
     "text": [
      "> \u001b[0;32m<ipython-input-17-0bc61bfc2e51>\u001b[0m(68)\u001b[0;36mfit\u001b[0;34m()\u001b[0m\n",
      "\u001b[0;32m     66 \u001b[0;31m        \u001b[0mself\u001b[0m\u001b[0;34m.\u001b[0m\u001b[0moutput\u001b[0m \u001b[0;34m=\u001b[0m \u001b[0mX_copy\u001b[0m\u001b[0;34m[\u001b[0m\u001b[0;34m:\u001b[0m\u001b[0;34m,\u001b[0m \u001b[0;34m~\u001b[0m\u001b[0mnp\u001b[0m\u001b[0;34m.\u001b[0m\u001b[0mall\u001b[0m\u001b[0;34m(\u001b[0m\u001b[0mnp\u001b[0m\u001b[0;34m.\u001b[0m\u001b[0misnan\u001b[0m\u001b[0;34m(\u001b[0m\u001b[0mX_copy\u001b[0m\u001b[0;34m)\u001b[0m\u001b[0;34m,\u001b[0m \u001b[0maxis\u001b[0m\u001b[0;34m=\u001b[0m\u001b[0;36m0\u001b[0m\u001b[0;34m)\u001b[0m\u001b[0;34m]\u001b[0m\u001b[0;34m\u001b[0m\u001b[0m\n",
      "\u001b[0m\u001b[0;32m     67 \u001b[0;31m        \u001b[0;32mfrom\u001b[0m \u001b[0mIPython\u001b[0m\u001b[0;34m.\u001b[0m\u001b[0mcore\u001b[0m\u001b[0;34m.\u001b[0m\u001b[0mdebugger\u001b[0m \u001b[0;32mimport\u001b[0m \u001b[0mTracer\u001b[0m\u001b[0;34m;\u001b[0m \u001b[0mTracer\u001b[0m\u001b[0;34m(\u001b[0m\u001b[0;34m)\u001b[0m\u001b[0;34m(\u001b[0m\u001b[0;34m)\u001b[0m\u001b[0;34m\u001b[0m\u001b[0m\n",
      "\u001b[0m\u001b[0;32m---> 68 \u001b[0;31m        \u001b[0;32mreturn\u001b[0m \u001b[0mself\u001b[0m\u001b[0;34m\u001b[0m\u001b[0m\n",
      "\u001b[0m\u001b[0;32m     69 \u001b[0;31m\u001b[0;34m\u001b[0m\u001b[0m\n",
      "\u001b[0m\u001b[0;32m     70 \u001b[0;31m    \u001b[0;32mdef\u001b[0m \u001b[0mtransform\u001b[0m\u001b[0;34m(\u001b[0m\u001b[0mself\u001b[0m\u001b[0;34m,\u001b[0m \u001b[0mX\u001b[0m\u001b[0;34m)\u001b[0m\u001b[0;34m:\u001b[0m\u001b[0;34m\u001b[0m\u001b[0m\n",
      "\u001b[0m\n"
     ]
    },
    {
     "data": {
      "text/plain": [
       "Pipeline(memory=None,\n",
       "     steps=[('pipeline', Pipeline(memory=None,\n",
       "     steps=[('normalize', Normalize(X_cols={'test': array([ 0,  1,  2,  3,  4,  5,  6,  7,  8,  9, 10, 11]), 'height': array([12]), 'weight': array([13]), 'IMC': array([14]), 'imbalance': array([15])},\n",
       "     strategy='IMC')), ('testside', TestSide(X_cols={'te..., reg_lambda=1,\n",
       "       scale_pos_weight=1, seed=0, silent=True, subsample=1),\n",
       "           n_jobs=1))])"
      ]
     },
     "execution_count": 20,
     "metadata": {},
     "output_type": "execute_result"
    }
   ],
   "source": [
    "full_pipeline.fit(X_train[0:20, :], y_train[0:20, :])"
   ]
  },
  {
   "cell_type": "code",
   "execution_count": 21,
   "metadata": {},
   "outputs": [],
   "source": [
    "y_pred = full_pipeline.predict(X_test)"
   ]
  },
  {
   "cell_type": "code",
   "execution_count": 22,
   "metadata": {},
   "outputs": [
    {
     "data": {
      "text/plain": [
       "(20, 4)"
      ]
     },
     "execution_count": 22,
     "metadata": {},
     "output_type": "execute_result"
    }
   ],
   "source": [
    "y_pred.shape"
   ]
  },
  {
   "cell_type": "code",
   "execution_count": 45,
   "metadata": {},
   "outputs": [
    {
     "data": {
      "text/html": [
       "<div>\n",
       "<style scoped>\n",
       "    .dataframe tbody tr th:only-of-type {\n",
       "        vertical-align: middle;\n",
       "    }\n",
       "\n",
       "    .dataframe tbody tr th {\n",
       "        vertical-align: top;\n",
       "    }\n",
       "\n",
       "    .dataframe thead th {\n",
       "        text-align: right;\n",
       "    }\n",
       "</style>\n",
       "<table border=\"1\" class=\"dataframe\">\n",
       "  <thead>\n",
       "    <tr style=\"text-align: right;\">\n",
       "      <th></th>\n",
       "      <th>0</th>\n",
       "      <th>1</th>\n",
       "      <th>2</th>\n",
       "      <th>3</th>\n",
       "    </tr>\n",
       "  </thead>\n",
       "  <tbody>\n",
       "    <tr>\n",
       "      <th>0</th>\n",
       "      <td>8.140076</td>\n",
       "      <td>8.499250</td>\n",
       "      <td>7.870894</td>\n",
       "      <td>7.977165</td>\n",
       "    </tr>\n",
       "    <tr>\n",
       "      <th>1</th>\n",
       "      <td>8.763251</td>\n",
       "      <td>8.981225</td>\n",
       "      <td>6.990903</td>\n",
       "      <td>7.016715</td>\n",
       "    </tr>\n",
       "    <tr>\n",
       "      <th>2</th>\n",
       "      <td>8.854383</td>\n",
       "      <td>9.426169</td>\n",
       "      <td>7.008636</td>\n",
       "      <td>6.980362</td>\n",
       "    </tr>\n",
       "    <tr>\n",
       "      <th>3</th>\n",
       "      <td>7.770964</td>\n",
       "      <td>8.322161</td>\n",
       "      <td>6.479364</td>\n",
       "      <td>6.576780</td>\n",
       "    </tr>\n",
       "    <tr>\n",
       "      <th>4</th>\n",
       "      <td>9.475232</td>\n",
       "      <td>9.479385</td>\n",
       "      <td>7.243678</td>\n",
       "      <td>7.563380</td>\n",
       "    </tr>\n",
       "    <tr>\n",
       "      <th>5</th>\n",
       "      <td>8.329639</td>\n",
       "      <td>8.737689</td>\n",
       "      <td>7.750330</td>\n",
       "      <td>7.983349</td>\n",
       "    </tr>\n",
       "    <tr>\n",
       "      <th>6</th>\n",
       "      <td>7.183036</td>\n",
       "      <td>9.711098</td>\n",
       "      <td>7.739953</td>\n",
       "      <td>7.954637</td>\n",
       "    </tr>\n",
       "    <tr>\n",
       "      <th>7</th>\n",
       "      <td>10.147043</td>\n",
       "      <td>9.178121</td>\n",
       "      <td>6.569934</td>\n",
       "      <td>6.991956</td>\n",
       "    </tr>\n",
       "    <tr>\n",
       "      <th>8</th>\n",
       "      <td>7.118963</td>\n",
       "      <td>9.061635</td>\n",
       "      <td>7.989175</td>\n",
       "      <td>8.910803</td>\n",
       "    </tr>\n",
       "    <tr>\n",
       "      <th>9</th>\n",
       "      <td>10.360196</td>\n",
       "      <td>8.983489</td>\n",
       "      <td>8.057585</td>\n",
       "      <td>8.366880</td>\n",
       "    </tr>\n",
       "    <tr>\n",
       "      <th>10</th>\n",
       "      <td>9.273520</td>\n",
       "      <td>8.737689</td>\n",
       "      <td>7.654298</td>\n",
       "      <td>7.983349</td>\n",
       "    </tr>\n",
       "    <tr>\n",
       "      <th>11</th>\n",
       "      <td>7.290787</td>\n",
       "      <td>9.430123</td>\n",
       "      <td>8.102606</td>\n",
       "      <td>8.511864</td>\n",
       "    </tr>\n",
       "    <tr>\n",
       "      <th>12</th>\n",
       "      <td>6.757957</td>\n",
       "      <td>8.744372</td>\n",
       "      <td>6.900243</td>\n",
       "      <td>7.640700</td>\n",
       "    </tr>\n",
       "    <tr>\n",
       "      <th>13</th>\n",
       "      <td>11.022357</td>\n",
       "      <td>7.844730</td>\n",
       "      <td>7.550584</td>\n",
       "      <td>7.995456</td>\n",
       "    </tr>\n",
       "    <tr>\n",
       "      <th>14</th>\n",
       "      <td>8.772753</td>\n",
       "      <td>8.510609</td>\n",
       "      <td>7.157527</td>\n",
       "      <td>7.534924</td>\n",
       "    </tr>\n",
       "    <tr>\n",
       "      <th>15</th>\n",
       "      <td>9.887383</td>\n",
       "      <td>9.388903</td>\n",
       "      <td>8.076727</td>\n",
       "      <td>8.366088</td>\n",
       "    </tr>\n",
       "    <tr>\n",
       "      <th>16</th>\n",
       "      <td>9.592549</td>\n",
       "      <td>8.171507</td>\n",
       "      <td>7.087181</td>\n",
       "      <td>7.132324</td>\n",
       "    </tr>\n",
       "    <tr>\n",
       "      <th>17</th>\n",
       "      <td>8.656137</td>\n",
       "      <td>8.834529</td>\n",
       "      <td>7.314427</td>\n",
       "      <td>7.971869</td>\n",
       "    </tr>\n",
       "    <tr>\n",
       "      <th>18</th>\n",
       "      <td>9.592549</td>\n",
       "      <td>9.218768</td>\n",
       "      <td>7.919600</td>\n",
       "      <td>7.968306</td>\n",
       "    </tr>\n",
       "    <tr>\n",
       "      <th>19</th>\n",
       "      <td>11.338472</td>\n",
       "      <td>8.713170</td>\n",
       "      <td>5.822324</td>\n",
       "      <td>6.062256</td>\n",
       "    </tr>\n",
       "  </tbody>\n",
       "</table>\n",
       "</div>"
      ],
      "text/plain": [
       "            0         1         2         3\n",
       "0    8.140076  8.499250  7.870894  7.977165\n",
       "1    8.763251  8.981225  6.990903  7.016715\n",
       "2    8.854383  9.426169  7.008636  6.980362\n",
       "3    7.770964  8.322161  6.479364  6.576780\n",
       "4    9.475232  9.479385  7.243678  7.563380\n",
       "5    8.329639  8.737689  7.750330  7.983349\n",
       "6    7.183036  9.711098  7.739953  7.954637\n",
       "7   10.147043  9.178121  6.569934  6.991956\n",
       "8    7.118963  9.061635  7.989175  8.910803\n",
       "9   10.360196  8.983489  8.057585  8.366880\n",
       "10   9.273520  8.737689  7.654298  7.983349\n",
       "11   7.290787  9.430123  8.102606  8.511864\n",
       "12   6.757957  8.744372  6.900243  7.640700\n",
       "13  11.022357  7.844730  7.550584  7.995456\n",
       "14   8.772753  8.510609  7.157527  7.534924\n",
       "15   9.887383  9.388903  8.076727  8.366088\n",
       "16   9.592549  8.171507  7.087181  7.132324\n",
       "17   8.656137  8.834529  7.314427  7.971869\n",
       "18   9.592549  9.218768  7.919600  7.968306\n",
       "19  11.338472  8.713170  5.822324  6.062256"
      ]
     },
     "execution_count": 45,
     "metadata": {},
     "output_type": "execute_result"
    }
   ],
   "source": [
    "pd.DataFrame(y_pred)"
   ]
  },
  {
   "cell_type": "code",
   "execution_count": null,
   "metadata": {},
   "outputs": [],
   "source": [
    "# Normalize: m, weight, height, IMC\n",
    "# TestSide: m, mean, Fscore\n",
    "# FeatureAdder: ['test', 'height', 'weight', 'IMC', 'imbalance']"
   ]
  },
  {
   "cell_type": "markdown",
   "metadata": {},
   "source": [
    "## 5. Evaluation"
   ]
  },
  {
   "cell_type": "markdown",
   "metadata": {},
   "source": [
    "---"
   ]
  },
  {
   "cell_type": "code",
   "execution_count": 9,
   "metadata": {},
   "outputs": [],
   "source": [
    "# predict\n",
    "y_pred_reg = xgboost_multi.predict(X_test)"
   ]
  },
  {
   "cell_type": "code",
   "execution_count": 13,
   "metadata": {},
   "outputs": [
    {
     "name": "stdout",
     "output_type": "stream",
     "text": [
      "Dyn\n",
      "rmse = 1.969\n",
      "mape = 12.985\n",
      "----------\n",
      "BodyBoost\n",
      "rmse = 0.834\n",
      "mape = 8.167\n",
      "----------\n",
      "MeanEggBeater\n",
      "rmse = 0.778\n",
      "mape = 8.669\n",
      "----------\n",
      "MaxEggBeater\n",
      "rmse = 1.110\n",
      "mape = 10.755\n",
      "----------\n"
     ]
    }
   ],
   "source": [
    "# evaluate\n",
    "from sklearn.metrics import mean_squared_error\n",
    "\n",
    "def mean_absolute_percentage_error(y_true, y_pred):\n",
    "    return np.mean(np.abs((y_true - y_pred) / y_true)) * 100\n",
    "\n",
    "for i, output in enumerate(range(y_pred_reg.shape[1])):\n",
    "    print(y_description[i])\n",
    "    mse = mean_squared_error(y_test[:, i], y_pred_reg[:, i])\n",
    "    rmse = np.sqrt(mse)\n",
    "    print(f'rmse = {rmse:.3f}')\n",
    "    mape = mean_absolute_percentage_error(y_test[:, i], y_pred_reg[:, i])\n",
    "    print(f'mape = {mape:.3f}')\n",
    "    print('-' * 10)"
   ]
  }
 ],
 "metadata": {
  "kernelspec": {
   "display_name": "Python [conda env:mvc]",
   "language": "python",
   "name": "conda-env-mvc-py"
  },
  "language_info": {
   "codemirror_mode": {
    "name": "ipython",
    "version": 3
   },
   "file_extension": ".py",
   "mimetype": "text/x-python",
   "name": "python",
   "nbconvert_exporter": "python",
   "pygments_lexer": "ipython3",
   "version": "3.6.3"
  }
 },
 "nbformat": 4,
 "nbformat_minor": 2
}
