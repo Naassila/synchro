{
 "cells": [
  {
   "cell_type": "markdown",
   "metadata": {},
   "source": [
    "# Synchro Project\n",
    "- [github link](https://github.com/romainmartinez/envergo)"
   ]
  },
  {
   "cell_type": "markdown",
   "metadata": {},
   "source": [
    "## 0. Setup"
   ]
  },
  {
   "cell_type": "code",
   "execution_count": 1,
   "metadata": {},
   "outputs": [],
   "source": [
    "# Common imports\n",
    "import scipy.io as sio\n",
    "import pandas as pd\n",
    "import numpy as np\n",
    "import os\n",
    "\n",
    "# Figures\n",
    "import matplotlib.pyplot as plt\n",
    "import seaborn as sns\n",
    "plt.rcParams['axes.labelsize'] = 14\n",
    "plt.rcParams['xtick.labelsize'] = 12\n",
    "plt.rcParams['ytick.labelsize'] = 12\n",
    "sns.set_context(\"notebook\", font_scale=1.1)\n",
    "sns.set_style(\"ticks\")\n",
    "plt.rcParams['pdf.fonttype'] = 42\n",
    "plt.rcParams['ps.fonttype'] = 42\n",
    "\n",
    "# to make this notebook's output stable across runs\n",
    "RANDOM_SEED = 42\n",
    "np.random.seed(RANDOM_SEED)"
   ]
  },
  {
   "cell_type": "markdown",
   "metadata": {},
   "source": [
    "## 1. Load data"
   ]
  },
  {
   "cell_type": "code",
   "execution_count": 2,
   "metadata": {},
   "outputs": [],
   "source": [
    "# load from mat\n",
    "DATA_PATH = './data/'\n",
    "X_import = sio.loadmat(os.path.join(DATA_PATH, 'X.mat'))['TableauForces']\n",
    "y_import = sio.loadmat(os.path.join(DATA_PATH, 'y.mat'))['TestData']\n",
    "\n",
    "X_description = np.array(['AddL', 'AddR', 'AbdL', 'AbdR', 'ErL', 'ErR', 'IrL', 'IrR', 'ExtL', 'ExtR', 'FlexL', 'FlexR'])\n",
    "y_description = np.array(['Dyn', 'BodyBoost', 'MeanEggBeater', 'MaxEggBeater'])"
   ]
  },
  {
   "cell_type": "code",
   "execution_count": 3,
   "metadata": {},
   "outputs": [
    {
     "data": {
      "text/plain": [
       "(53, 12)"
      ]
     },
     "execution_count": 3,
     "metadata": {},
     "output_type": "execute_result"
    }
   ],
   "source": [
    "X_import.shape"
   ]
  },
  {
   "cell_type": "code",
   "execution_count": 4,
   "metadata": {},
   "outputs": [
    {
     "data": {
      "text/plain": [
       "(53, 4)"
      ]
     },
     "execution_count": 4,
     "metadata": {},
     "output_type": "execute_result"
    }
   ],
   "source": [
    "y_import.shape"
   ]
  },
  {
   "cell_type": "markdown",
   "metadata": {},
   "source": [
    "### nan remover"
   ]
  },
  {
   "cell_type": "code",
   "execution_count": 5,
   "metadata": {},
   "outputs": [
    {
     "name": "stdout",
     "output_type": "stream",
     "text": [
      "\tparticipant n: 1\n",
      "\ttest: IrL\n",
      "\t\t\"nan\" replace by \"118.95\"\n",
      "\t -----\n",
      "\tparticipant n: 51\n",
      "\ttest: IrL\n",
      "\t\t\"nan\" replace by \"92.25\"\n",
      "\t -----\n"
     ]
    }
   ],
   "source": [
    "nan_id = np.argwhere(np.isnan(X_import))\n",
    "n_nans = np.sum(np.isnan(X_import).sum(axis=1))\n",
    "for i in nan_id:\n",
    "    print(f'\\tparticipant n: {i[0]}')\n",
    "    print(f'\\ttest: {X_description[i[1]]}')\n",
    "    # if left take right, left otherwise\n",
    "    if X_description[i[1]][-1] == 'L':\n",
    "        replacer = i[1] + 1\n",
    "    elif X_description[i[1]][-1] == 'R':\n",
    "        replacer = i[1] - 1\n",
    "    print(f'\\t\\t\"{X_import[i[0], i[1]]}\" replace by \"{X_import[i[0], replacer]}\"')\n",
    "    X_import[i[0], i[1]] = X_import[i[0], replacer]\n",
    "    print('\\t', '-' * 5)"
   ]
  },
  {
   "cell_type": "markdown",
   "metadata": {},
   "source": [
    "### add features"
   ]
  },
  {
   "cell_type": "code",
   "execution_count": 6,
   "metadata": {},
   "outputs": [],
   "source": [
    "# load height + weight\n",
    "anthropo = sio.loadmat(os.path.join(DATA_PATH, 'heightweight.mat'))['HeightWeight']\n",
    "# replace nan\n",
    "from sklearn.preprocessing import Imputer\n",
    "anthropo = Imputer(strategy='median').fit_transform(anthropo)\n",
    "# add IMC\n",
    "anthropo = np.c_[anthropo, anthropo[:, 1] / (anthropo[:, 0])**2]"
   ]
  },
  {
   "cell_type": "code",
   "execution_count": 7,
   "metadata": {},
   "outputs": [],
   "source": [
    "# compute imbalance\n",
    "imbalance = None\n",
    "for i in range(0, X_import.shape[1], 2):\n",
    "    if imbalance is None:\n",
    "        imbalance = np.abs((X_import[:, i] - X_import[:, i + 1]) / X_import[:, i]) * 100\n",
    "    else:\n",
    "        imbalance = np.c_[imbalance, np.abs((X_import[:, i] - X_import[:, i + 1]) / X_import[:, i]) * 100]\n",
    "imbalance = np.mean(imbalance, axis=1)"
   ]
  },
  {
   "cell_type": "code",
   "execution_count": 8,
   "metadata": {},
   "outputs": [],
   "source": [
    "X_mat = np.c_[X_import, anthropo, imbalance]\n",
    "X_description = np.append(X_description, ['height', 'weight', 'IMC', 'imbalance'])"
   ]
  },
  {
   "cell_type": "code",
   "execution_count": 9,
   "metadata": {},
   "outputs": [],
   "source": [
    "X_cols = {\n",
    "    'test': np.arange(12),\n",
    "    'height': np.array([12]),\n",
    "    'weight': np.array([13]),\n",
    "    'IMC': np.array([14]),\n",
    "    'imbalance': np.array([15])\n",
    "}"
   ]
  },
  {
   "cell_type": "markdown",
   "metadata": {},
   "source": [
    "### split data"
   ]
  },
  {
   "cell_type": "code",
   "execution_count": 10,
   "metadata": {},
   "outputs": [],
   "source": [
    "# split data\n",
    "from sklearn.model_selection import train_test_split\n",
    "\n",
    "X_train, X_test, y_train, y_test = train_test_split(X_mat, y_import, test_size=0.2, random_state=RANDOM_SEED)"
   ]
  },
  {
   "cell_type": "markdown",
   "metadata": {},
   "source": [
    "## 3. Pipeline"
   ]
  },
  {
   "cell_type": "code",
   "execution_count": 11,
   "metadata": {},
   "outputs": [],
   "source": [
    "# custom class\n",
    "from sklearn.base import BaseEstimator, TransformerMixin\n",
    "\n",
    "class Normalize(BaseEstimator, TransformerMixin):\n",
    "    \"\"\"Normalize a given array with weight, height or IMC\"\"\"\n",
    "    def __init__(self, X_cols=X_cols, strategy='IMC'):\n",
    "        self.strategy = strategy\n",
    "        self.X_cols = X_cols\n",
    "        \n",
    "    def fit(self, X, y=None):\n",
    "        return self\n",
    "    \n",
    "    def transform(self, X):\n",
    "        X_copy = X.copy()\n",
    "        if self.strategy is 'height':\n",
    "            normalizer = X_copy[:, X_cols['height']].reshape(-1, 1)\n",
    "        elif self.strategy is 'weight':\n",
    "            normalizer = X_copy[:, X_cols['weight']].reshape(-1, 1)\n",
    "        elif self.strategy is 'IMC':\n",
    "            normalizer = X_copy[:, X_cols['IMC']].reshape(-1, 1)\n",
    "        else:\n",
    "            normalizer = 1\n",
    "        X_copy[:, X_cols['test']] = X_copy[:, X_cols['test']] / normalizer\n",
    "        return X_copy\n",
    "    \n",
    "class TestSide(BaseEstimator, TransformerMixin):\n",
    "    \"\"\"Return the mean between left & right or both\"\"\"\n",
    "    def __init__(self, X_cols=X_cols, strategy='mean'):\n",
    "        self.strategy = strategy\n",
    "        self.X_cols = X_cols\n",
    "        \n",
    "    def fit(self, X, y=None):\n",
    "        return self\n",
    "    \n",
    "    def transform(self, X):\n",
    "        if self.strategy is 'mean' or 'Fscore':\n",
    "            output = X.copy()\n",
    "            for i in range(X_cols['test'][-1] + 1):\n",
    "                if i % 2 == 0:\n",
    "                    if self.strategy is 'mean':\n",
    "                        output[:, i] = np.mean([X[:, i], X[:, i + 1]], axis=0)\n",
    "                    else:\n",
    "                        output[:, i] = 2 * (X[:, i] * X[:, i + 1]) / (X[:, i] + X[:, i + 1])\n",
    "                else:\n",
    "                    output[:, i] = np.nan\n",
    "        else:\n",
    "            output = X\n",
    "        return output\n",
    "    \n",
    "class FeaturesAdder(BaseEstimator, TransformerMixin):\n",
    "    \"\"\"Add features based on the list `new_features`\n",
    "    Possible `new_features` are: IMC, imbalance\n",
    "    \"\"\"\n",
    "    def __init__(self, X_cols=X_cols, new_features='None'):\n",
    "        self.new_features = new_features\n",
    "        self.X_cols = X_cols\n",
    "        \n",
    "    def fit(self, X, y=None):\n",
    "        return self\n",
    "    \n",
    "    def transform(self, X):\n",
    "        X_copy = X.copy()\n",
    "        for key, cols in X_cols.items():\n",
    "            if not key in self.new_features:\n",
    "                X_copy[:, cols] = np.nan\n",
    "        return X_copy[:, ~np.all(np.isnan(X_copy), axis=0)]  # remove nan columns"
   ]
  },
  {
   "cell_type": "code",
   "execution_count": 12,
   "metadata": {},
   "outputs": [],
   "source": [
    "from sklearn.pipeline import make_pipeline\n",
    "preprocessing = make_pipeline(\n",
    "    Normalize(strategy='IMC'),\n",
    "    TestSide(strategy='Fscore'),\n",
    "    FeaturesAdder(new_features=['test', 'height', 'weight', 'IMC', 'imbalance'])\n",
    ")"
   ]
  },
  {
   "cell_type": "code",
   "execution_count": 14,
   "metadata": {},
   "outputs": [],
   "source": [
    "from sklearn.multioutput import MultiOutputRegressor\n",
    "from xgboost import XGBRegressor\n",
    "\n",
    "full_pipeline = make_pipeline(\n",
    "    preprocessing,\n",
    "    MultiOutputRegressor(XGBRegressor()),\n",
    "#     XGBRegressor()\n",
    ")"
   ]
  },
  {
   "cell_type": "markdown",
   "metadata": {},
   "source": [
    "## 4. Optimization"
   ]
  },
  {
   "cell_type": "code",
   "execution_count": 15,
   "metadata": {},
   "outputs": [],
   "source": [
    "stuff = ['test', 'height', 'weight', 'IMC', 'imbalance']"
   ]
  },
  {
   "cell_type": "code",
   "execution_count": 16,
   "metadata": {},
   "outputs": [
    {
     "data": {
      "text/plain": [
       "[['test'],\n",
       " ['height'],\n",
       " ['weight'],\n",
       " ['IMC'],\n",
       " ['imbalance'],\n",
       " ['test', 'height'],\n",
       " ['test', 'weight'],\n",
       " ['test', 'IMC'],\n",
       " ['test', 'imbalance'],\n",
       " ['height', 'weight'],\n",
       " ['height', 'IMC'],\n",
       " ['height', 'imbalance'],\n",
       " ['weight', 'IMC'],\n",
       " ['weight', 'imbalance'],\n",
       " ['IMC', 'imbalance'],\n",
       " ['test', 'height', 'weight'],\n",
       " ['test', 'height', 'IMC'],\n",
       " ['test', 'height', 'imbalance'],\n",
       " ['test', 'weight', 'IMC'],\n",
       " ['test', 'weight', 'imbalance'],\n",
       " ['test', 'IMC', 'imbalance'],\n",
       " ['height', 'weight', 'IMC'],\n",
       " ['height', 'weight', 'imbalance'],\n",
       " ['height', 'IMC', 'imbalance'],\n",
       " ['weight', 'IMC', 'imbalance'],\n",
       " ['test', 'height', 'weight', 'IMC'],\n",
       " ['test', 'height', 'weight', 'imbalance'],\n",
       " ['test', 'height', 'IMC', 'imbalance'],\n",
       " ['test', 'weight', 'IMC', 'imbalance'],\n",
       " ['height', 'weight', 'IMC', 'imbalance'],\n",
       " ['test', 'height', 'weight', 'IMC', 'imbalance']]"
      ]
     },
     "execution_count": 16,
     "metadata": {},
     "output_type": "execute_result"
    }
   ],
   "source": [
    "import itertools\n",
    "\n",
    "all_possible_features = ['test', 'height', 'weight', 'IMC', 'imbalance']\n",
    "all_features_combinations = []\n",
    "for L in range(1, len(all_possible_features)+1):\n",
    "    for subset in itertools.combinations(all_possible_features, L):\n",
    "        all_features_combinations.append(list(subset))\n",
    "all_features_combinations"
   ]
  },
  {
   "cell_type": "code",
   "execution_count": 17,
   "metadata": {},
   "outputs": [
    {
     "name": "stdout",
     "output_type": "stream",
     "text": [
      "Fitting 5 folds for each of 372 candidates, totalling 1860 fits\n"
     ]
    },
    {
     "name": "stderr",
     "output_type": "stream",
     "text": [
      "[Parallel(n_jobs=1)]: Done 1860 out of 1860 | elapsed:  1.2min finished\n"
     ]
    },
    {
     "data": {
      "text/plain": [
       "GridSearchCV(cv=5, error_score='raise',\n",
       "       estimator=Pipeline(memory=None,\n",
       "     steps=[('pipeline', Pipeline(memory=None,\n",
       "     steps=[('normalize', Normalize(X_cols={'test': array([ 0,  1,  2,  3,  4,  5,  6,  7,  8,  9, 10, 11]), 'height': array([12]), 'weight': array([13]), 'IMC': array([14]), 'imbalance': array([15])},\n",
       "     strategy='IMC')), ('testside', TestSide(X_cols={'te..., reg_lambda=1,\n",
       "       scale_pos_weight=1, seed=0, silent=True, subsample=1),\n",
       "           n_jobs=1))]),\n",
       "       fit_params=None, iid=True, n_jobs=1,\n",
       "       param_grid=[{'pipeline__normalize__strategy': ['m', 'weight', 'height', 'IMC'], 'pipeline__testside__strategy': ['m', 'mean', 'Fscore'], 'pipeline__featuresadder__new_features': [['test'], ['height'], ['weight'], ['IMC'], ['imbalance'], ['test', 'height'], ['test', 'weight'], ['test', 'IMC'], ['test...nce'], ['height', 'weight', 'IMC', 'imbalance'], ['test', 'height', 'weight', 'IMC', 'imbalance']]}],\n",
       "       pre_dispatch='2*n_jobs', refit=True, return_train_score='warn',\n",
       "       scoring='neg_mean_squared_error', verbose=1)"
      ]
     },
     "execution_count": 17,
     "metadata": {},
     "output_type": "execute_result"
    }
   ],
   "source": [
    "from sklearn.model_selection import GridSearchCV\n",
    "\n",
    "param_grid = [{\n",
    "    'pipeline__normalize__strategy': ['m', 'weight', 'height', 'IMC'],\n",
    "    'pipeline__testside__strategy': ['m', 'mean', 'Fscore'],\n",
    "    'pipeline__featuresadder__new_features': all_features_combinations\n",
    "    }]\n",
    "\n",
    "grid_search_prep = GridSearchCV(full_pipeline, param_grid, cv=5, scoring='neg_mean_squared_error',\n",
    "                                verbose=1)\n",
    "\n",
    "grid_search_prep.fit(X_train, y_train)"
   ]
  },
  {
   "cell_type": "code",
   "execution_count": 18,
   "metadata": {},
   "outputs": [
    {
     "data": {
      "text/plain": [
       "{'pipeline__featuresadder__new_features': ['test', 'weight'],\n",
       " 'pipeline__normalize__strategy': 'weight',\n",
       " 'pipeline__testside__strategy': 'mean'}"
      ]
     },
     "execution_count": 18,
     "metadata": {},
     "output_type": "execute_result"
    }
   ],
   "source": [
    "grid_search_prep.best_params_"
   ]
  },
  {
   "cell_type": "code",
   "execution_count": 20,
   "metadata": {},
   "outputs": [
    {
     "data": {
      "text/plain": [
       "-0.97362502907769455"
      ]
     },
     "execution_count": 20,
     "metadata": {},
     "output_type": "execute_result"
    }
   ],
   "source": [
    "grid_search_prep.best_score_"
   ]
  },
  {
   "cell_type": "markdown",
   "metadata": {},
   "source": [
    "## 5. Feature Importance"
   ]
  },
  {
   "cell_type": "code",
   "execution_count": 289,
   "metadata": {},
   "outputs": [],
   "source": [
    "regressors = grid_search_prep.best_estimator_.named_steps[\"multioutputregressor\"]\n",
    "for ilabel in range(y_test.shape[1]):\n",
    "    fscore = regressors.estimators_[ilabel].booster().get_fscore()\n",
    "    if ilabel is 0:\n",
    "        importance = pd.DataFrame(data={y_description[ilabel]: list(fscore.values())},\n",
    "                                  index=list(fscore.keys()))\n",
    "    else:\n",
    "        temp = pd.DataFrame(data={y_description[ilabel]: list(fscore.values())},\n",
    "                                  index=list(fscore.keys()))\n",
    "        importance = importance.join(temp)\n",
    "importance.sort_index(inplace=True)"
   ]
  },
  {
   "cell_type": "code",
   "execution_count": 328,
   "metadata": {},
   "outputs": [],
   "source": [
    "relative_importance = (importance.div(importance.sum(axis=1), axis=0)) * 100\n",
    "relative_importance['features'] = relative_importance.index\n",
    "# to tidy\n",
    "relative_importance = pd.melt(relative_importance, id_vars='features',\n",
    "                              var_name='label', value_name='importance')"
   ]
  },
  {
   "cell_type": "code",
   "execution_count": 336,
   "metadata": {},
   "outputs": [
    {
     "data": {
      "text/plain": [
       "array(['AddL', 'AddR', 'AbdL', 'AbdR', 'ErL', 'ErR', 'IrL', 'IrR', 'ExtL',\n",
       "       'ExtR', 'FlexL', 'FlexR', 'height', 'weight', 'IMC', 'imbalance'],\n",
       "      dtype='<U9')"
      ]
     },
     "execution_count": 336,
     "metadata": {},
     "output_type": "execute_result"
    }
   ],
   "source": [
    "X_description"
   ]
  },
  {
   "cell_type": "code",
   "execution_count": 337,
   "metadata": {},
   "outputs": [],
   "source": [
    "selected_features = ['Add', 'Abd', 'Er', 'Ir', 'Ext', 'Flex', 'weight']"
   ]
  },
  {
   "cell_type": "code",
   "execution_count": 345,
   "metadata": {},
   "outputs": [],
   "source": [
    "plt.figure(figsize=(15, 10))\n",
    "g = sns.factorplot(data=relative_importance, x='features', y='importance', col='label', kind='bar',\n",
    "                   saturation=.5)\n",
    "\n",
    "g.set_xticklabels(selected_features)\n",
    "sns.despine(offset=10, trim=True)\n",
    "plt.show()"
   ]
  },
  {
   "cell_type": "markdown",
   "metadata": {},
   "source": [
    "## 6. Learning Curves"
   ]
  },
  {
   "cell_type": "markdown",
   "metadata": {},
   "source": [
    "## 7. Evaluation"
   ]
  },
  {
   "cell_type": "code",
   "execution_count": 22,
   "metadata": {},
   "outputs": [],
   "source": [
    "y_pred = grid_search_prep.best_estimator_.predict(X_test)"
   ]
  },
  {
   "cell_type": "code",
   "execution_count": 25,
   "metadata": {},
   "outputs": [],
   "source": [
    "from sklearn.metrics import mean_squared_error\n",
    "\n",
    "def mape(y_test, y_pred):\n",
    "    val = (np.abs((y_test - y_pred) / y_test)) * 100\n",
    "    return np.mean(val), np.std(val)\n",
    "\n",
    "def mse(y_test, y_pred):\n",
    "    val = ((y_test - y_pred) ** 2)\n",
    "    return np.mean(val), np.std(val)\n",
    "\n",
    "def rmse(y_test, y_pred):\n",
    "    val = np.sqrt(((y_test - y_pred) ** 2))\n",
    "    return np.mean(val), np.std(val)\n",
    "\n",
    "def evaluate(y_test, y_pred, y_description):\n",
    "    for i in range(y_pred.shape[1]):\n",
    "        print(y_description[i])\n",
    "        mse_mu, mse_std = mse(y_test[:, i], y_pred[:, i])\n",
    "        rmse_mu, rmse_std = rmse(y_test[:, i], y_pred[:, i])\n",
    "        mape_mu, mape_std = mape(y_test[:, i], y_pred[:, i])\n",
    "        \n",
    "        print(f'\\tmse = {mse_mu:.3f} ({mse_std:.3f})')\n",
    "        print(f'\\trmse = {rmse_mu:.3f} ({rmse_std:.3f})')\n",
    "        print(f'\\tmape = {mape_mu:.3f}% ({mape_std:.3f})')\n",
    "    \n",
    "        print('-' * 10)"
   ]
  },
  {
   "cell_type": "code",
   "execution_count": 26,
   "metadata": {},
   "outputs": [
    {
     "name": "stdout",
     "output_type": "stream",
     "text": [
      "Dyn\n",
      "\tmse = 4.476 (6.250)\n",
      "\trmse = 1.646 (1.329)\n",
      "\tmape = 15.300% (10.019)\n",
      "----------\n",
      "BodyBoost\n",
      "\tmse = 0.540 (0.617)\n",
      "\trmse = 0.565 (0.470)\n",
      "\tmape = 6.190% (5.005)\n",
      "----------\n",
      "MeanEggBeater\n",
      "\tmse = 0.446 (0.394)\n",
      "\trmse = 0.582 (0.327)\n",
      "\tmape = 7.660% (4.348)\n",
      "----------\n",
      "MaxEggBeater\n",
      "\tmse = 1.061 (0.599)\n",
      "\trmse = 0.937 (0.428)\n",
      "\tmape = 11.496% (5.257)\n",
      "----------\n"
     ]
    }
   ],
   "source": [
    "evaluate(y_test, y_pred, y_description)"
   ]
  }
 ],
 "metadata": {
  "kernelspec": {
   "display_name": "Python [conda env:mvc]",
   "language": "python",
   "name": "conda-env-mvc-py"
  },
  "language_info": {
   "codemirror_mode": {
    "name": "ipython",
    "version": 3
   },
   "file_extension": ".py",
   "mimetype": "text/x-python",
   "name": "python",
   "nbconvert_exporter": "python",
   "pygments_lexer": "ipython3",
   "version": "3.6.3"
  }
 },
 "nbformat": 4,
 "nbformat_minor": 2
}
